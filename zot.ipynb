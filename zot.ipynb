{
 "cells": [
  {
   "cell_type": "code",
   "execution_count": 2,
   "id": "45823291",
   "metadata": {},
   "outputs": [],
   "source": [
    "import pandas as pd\n",
    "import numpy as np\n",
    "import subprocess\n",
    "import json\n",
    "import seaborn as sns\n",
    "import os"
   ]
  },
  {
   "cell_type": "code",
   "execution_count": 3,
   "id": "06718160",
   "metadata": {
    "scrolled": true
   },
   "outputs": [],
   "source": [
    "links_to_process = pd.read_json('google_organic_citations_short_name_ges_disc.json', \n",
    "                                orient='records')[\"link\"].tolist()"
   ]
  },
  {
   "cell_type": "code",
   "execution_count": 119,
   "id": "6e33608a",
   "metadata": {},
   "outputs": [
    {
     "data": {
      "text/plain": [
       "'https://iopscience.iop.org/article/10.1088/1742-6596/869/1/012070/meta'"
      ]
     },
     "execution_count": 119,
     "metadata": {},
     "output_type": "execute_result"
    }
   ],
   "source": [
    "links_to_process[0]"
   ]
  },
  {
   "cell_type": "markdown",
   "id": "9532b74c",
   "metadata": {},
   "source": [
    "Make sure bash script has executable permissions"
   ]
  },
  {
   "cell_type": "code",
   "execution_count": 120,
   "id": "cb443a93",
   "metadata": {
    "scrolled": true
   },
   "outputs": [
    {
     "name": "stderr",
     "output_type": "stream",
     "text": [
      "  % Total    % Received % Xferd  Average Speed   Time    Time     Time  Current\n",
      "                                 Dload  Upload   Total   Spent    Left  Speed\n",
      "100   848  100   778  100    70    579     52  0:00:01  0:00:01 --:--:--   634\n",
      "  % Total    % Received % Xferd  Average Speed   Time    Time     Time  Current\n",
      "                                 Dload  Upload   Total   Spent    Left  Speed\n",
      "100  1539  100   761  100   778  22498  23001 --:--:-- --:--:-- --:--:-- 69954\n"
     ]
    },
    {
     "name": "stdout",
     "output_type": "stream",
     "text": [
      "Perfdrive: 0\n"
     ]
    },
    {
     "name": "stderr",
     "output_type": "stream",
     "text": [
      "  % Total    % Received % Xferd  Average Speed   Time    Time     Time  Current\n",
      "                                 Dload  Upload   Total   Spent    Left  Speed\n",
      "100  2877  100  2850  100    27   1610     15  0:00:01  0:00:01 --:--:--  1631\n",
      "  % Total    % Received % Xferd  Average Speed   Time    Time     Time  Current\n",
      "                                 Dload  Upload   Total   Spent    Left  Speed\n",
      "100  5376  100  2526  100  2850   128k   145k --:--:-- --:--:-- --:--:--  656k\n",
      "  % Total    % Received % Xferd  Average Speed   Time    Time     Time  Current\n",
      "                                 Dload  Upload   Total   Spent    Left  Speed\n",
      "  0     0    0     0    0     0      0      0 --:--:-- --:--:-- --:--:--     0"
     ]
    },
    {
     "name": "stdout",
     "output_type": "stream",
     "text": [
      "1\n"
     ]
    },
    {
     "name": "stderr",
     "output_type": "stream",
     "text": [
      "100  1071  100  1034  100    37    554     19  0:00:01  0:00:01 --:--:--   575\n",
      "  % Total    % Received % Xferd  Average Speed   Time    Time     Time  Current\n",
      "                                 Dload  Upload   Total   Spent    Left  Speed\n",
      "100  1666  100   632  100  1034  26534  43412 --:--:-- --:--:-- --:--:--  147k\n",
      "  % Total    % Received % Xferd  Average Speed   Time    Time     Time  Current\n",
      "                                 Dload  Upload   Total   Spent    Left  Speed\n",
      "  0     0    0     0    0     0      0      0 --:--:-- --:--:-- --:--:--     0"
     ]
    },
    {
     "name": "stdout",
     "output_type": "stream",
     "text": [
      "2\n"
     ]
    },
    {
     "name": "stderr",
     "output_type": "stream",
     "text": [
      "\r",
      "100  3431  100  3364  100    67   3614     71 --:--:-- --:--:-- --:--:--  3705\r",
      "100  3431  100  3364  100    67   3613     71 --:--:-- --:--:-- --:--:--  3705\n",
      "  % Total    % Received % Xferd  Average Speed   Time    Time     Time  Current\n",
      "                                 Dload  Upload   Total   Spent    Left  Speed\n",
      "\r",
      "  0     0    0     0    0     0      0      0 --:--:-- --:--:-- --:--:--     0\r",
      "100  6303  100  2939  100  3364   191k   219k --:--:-- --:--:-- --:--:-- 1538k\n",
      "  % Total    % Received % Xferd  Average Speed   Time    Time     Time  Current\n",
      "                                 Dload  Upload   Total   Spent    Left  Speed\n",
      "\r",
      "  0     0    0     0    0     0      0      0 --:--:-- --:--:-- --:--:--     0"
     ]
    },
    {
     "name": "stdout",
     "output_type": "stream",
     "text": [
      "3\n"
     ]
    },
    {
     "name": "stderr",
     "output_type": "stream",
     "text": [
      "100  2088  100  1988  100   100    720     36  0:00:02  0:00:02 --:--:--   758\n",
      "  % Total    % Received % Xferd  Average Speed   Time    Time     Time  Current\n",
      "                                 Dload  Upload   Total   Spent    Left  Speed\n",
      "100  3837  100  1849  100  1988   110k   118k --:--:-- --:--:-- --:--:--  749k\n",
      "  % Total    % Received % Xferd  Average Speed   Time    Time     Time  Current\n",
      "                                 Dload  Upload   Total   Spent    Left  Speed\n",
      "  0     0    0     0    0     0      0      0 --:--:-- --:--:-- --:--:--     0"
     ]
    },
    {
     "name": "stdout",
     "output_type": "stream",
     "text": [
      "4\n"
     ]
    },
    {
     "name": "stderr",
     "output_type": "stream",
     "text": [
      "\r",
      "100  2912  100  2863  100    49   2479     42  0:00:01  0:00:01 --:--:--  2536\r",
      "100  2912  100  2863  100    49   2478     42  0:00:01  0:00:01 --:--:--  2536\n",
      "  % Total    % Received % Xferd  Average Speed   Time    Time     Time  Current\n",
      "                                 Dload  Upload   Total   Spent    Left  Speed\n",
      "\r",
      "  0     0    0     0    0     0      0      0 --:--:-- --:--:-- --:--:--     0\r",
      "100  5621  100  2758  100  2863   194k   201k --:--:-- --:--:-- --:--:-- 1097k\n",
      "  % Total    % Received % Xferd  Average Speed   Time    Time     Time  Current\n",
      "                                 Dload  Upload   Total   Spent    Left  Speed\n",
      "\r",
      "  0     0    0     0    0     0      0      0 --:--:-- --:--:-- --:--:--     0"
     ]
    },
    {
     "name": "stdout",
     "output_type": "stream",
     "text": [
      "5\n"
     ]
    },
    {
     "name": "stderr",
     "output_type": "stream",
     "text": [
      "\r",
      "100  1532  100  1330  100   202   1454    220 --:--:-- --:--:-- --:--:--  1681\r",
      "100  1532  100  1330  100   202   1453    220 --:--:-- --:--:-- --:--:--  1681\n",
      "  % Total    % Received % Xferd  Average Speed   Time    Time     Time  Current\n",
      "                                 Dload  Upload   Total   Spent    Left  Speed\n",
      "\r",
      "  0     0    0     0    0     0      0      0 --:--:-- --:--:-- --:--:--     0\r",
      "100  2538  100  1208  100  1330  44219  48685 --:--:-- --:--:-- --:--:--  165k\n",
      "  % Total    % Received % Xferd  Average Speed   Time    Time     Time  Current\n",
      "                                 Dload  Upload   Total   Spent    Left  Speed\n",
      "\r",
      "  0     0    0     0    0     0      0      0 --:--:-- --:--:-- --:--:--     0"
     ]
    },
    {
     "name": "stdout",
     "output_type": "stream",
     "text": [
      "6\n"
     ]
    },
    {
     "name": "stderr",
     "output_type": "stream",
     "text": [
      "100  4382  100  4319  100    63   1229     17  0:00:03  0:00:03 --:--:--  1249\n",
      "  % Total    % Received % Xferd  Average Speed   Time    Time     Time  Current\n",
      "                                 Dload  Upload   Total   Spent    Left  Speed\n",
      "100  4324  100    11  100  4313    752   288k --:--:-- --:--:-- --:--:-- 1407k\n",
      "  % Total    % Received % Xferd  Average Speed   Time    Time     Time  Current\n",
      "                                 Dload  Upload   Total   Spent    Left  Speed\n",
      "  0     0    0     0    0     0      0      0 --:--:-- --:--:-- --:--:--     0"
     ]
    },
    {
     "name": "stdout",
     "output_type": "stream",
     "text": [
      "Failed: 7\n"
     ]
    },
    {
     "name": "stderr",
     "output_type": "stream",
     "text": [
      "\r",
      "100    48    0     0  100    48      0     39  0:00:01  0:00:01 --:--:--    39\r",
      "100  2810  100  2762  100    48   2106     36  0:00:01  0:00:01 --:--:--  2151\n",
      "  % Total    % Received % Xferd  Average Speed   Time    Time     Time  Current\n",
      "                                 Dload  Upload   Total   Spent    Left  Speed\n",
      "\r",
      "  0     0    0     0    0     0      0      0 --:--:-- --:--:-- --:--:--     0\r",
      "100  5388  100  2626  100  2762   177k   186k --:--:-- --:--:-- --:--:-- 1052k\n",
      "  % Total    % Received % Xferd  Average Speed   Time    Time     Time  Current\n",
      "                                 Dload  Upload   Total   Spent    Left  Speed\n",
      "\r",
      "  0     0    0     0    0     0      0      0 --:--:-- --:--:-- --:--:--     0"
     ]
    },
    {
     "name": "stdout",
     "output_type": "stream",
     "text": [
      "8\n"
     ]
    },
    {
     "name": "stderr",
     "output_type": "stream",
     "text": [
      "\r",
      "100  2848  100  2780  100    68   2854     69 --:--:-- --:--:-- --:--:--  2936\r",
      "100  2848  100  2780  100    68   2854     69 --:--:-- --:--:-- --:--:--  2936\n",
      "  % Total    % Received % Xferd  Average Speed   Time    Time     Time  Current\n",
      "                                 Dload  Upload   Total   Spent    Left  Speed\n",
      "\r",
      "  0     0    0     0    0     0      0      0 --:--:-- --:--:-- --:--:--     0\r",
      "100  4072  100  1292  100  2780  79532   167k --:--:-- --:--:-- --:--:--  795k\n",
      "  % Total    % Received % Xferd  Average Speed   Time    Time     Time  Current\n",
      "                                 Dload  Upload   Total   Spent    Left  Speed\n",
      "\r",
      "  0     0    0     0    0     0      0      0 --:--:-- --:--:-- --:--:--     0"
     ]
    },
    {
     "name": "stdout",
     "output_type": "stream",
     "text": [
      "9\n"
     ]
    },
    {
     "name": "stderr",
     "output_type": "stream",
     "text": [
      "100  2823  100  2749  100    74   1021     27  0:00:02  0:00:02 --:--:--  1051\n",
      "  % Total    % Received % Xferd  Average Speed   Time    Time     Time  Current\n",
      "                                 Dload  Upload   Total   Spent    Left  Speed\n",
      "100  5071  100  2322  100  2749   113k   133k --:--:-- --:--:-- --:--:--  990k\n",
      "  % Total    % Received % Xferd  Average Speed   Time    Time     Time  Current\n",
      "                                 Dload  Upload   Total   Spent    Left  Speed\n",
      "  0     0    0     0    0     0      0      0 --:--:-- --:--:-- --:--:--     0"
     ]
    },
    {
     "name": "stdout",
     "output_type": "stream",
     "text": [
      "10\n"
     ]
    },
    {
     "name": "stderr",
     "output_type": "stream",
     "text": [
      "100  2602  100  2541  100    61   1317     31  0:00:01  0:00:01 --:--:--  1351\n",
      "  % Total    % Received % Xferd  Average Speed   Time    Time     Time  Current\n",
      "                                 Dload  Upload   Total   Spent    Left  Speed\n",
      "100  4854  100  2315  100  2539   174k   191k --:--:-- --:--:-- --:--:-- 1185k\n",
      "  % Total    % Received % Xferd  Average Speed   Time    Time     Time  Current\n",
      "                                 Dload  Upload   Total   Spent    Left  Speed\n",
      "  0     0    0     0    0     0      0      0 --:--:-- --:--:-- --:--:--     0"
     ]
    },
    {
     "name": "stdout",
     "output_type": "stream",
     "text": [
      "11\n"
     ]
    },
    {
     "name": "stderr",
     "output_type": "stream",
     "text": [
      "\r",
      "100    65    0     0  100    65      0     53  0:00:01  0:00:01 --:--:--    53\r",
      "100  2538  100  2473  100    65   1950     51  0:00:01  0:00:01 --:--:--  2012\n",
      "  % Total    % Received % Xferd  Average Speed   Time    Time     Time  Current\n",
      "                                 Dload  Upload   Total   Spent    Left  Speed\n",
      "\r",
      "  0     0    0     0    0     0      0      0 --:--:-- --:--:-- --:--:--     0\r",
      "100  4597  100  2124  100  2473   129k   151k --:--:-- --:--:-- --:--:--  748k\n",
      "  % Total    % Received % Xferd  Average Speed   Time    Time     Time  Current\n",
      "                                 Dload  Upload   Total   Spent    Left  Speed\n",
      "\r",
      "  0     0    0     0    0     0      0      0 --:--:-- --:--:-- --:--:--     0"
     ]
    },
    {
     "name": "stdout",
     "output_type": "stream",
     "text": [
      "12\n"
     ]
    },
    {
     "name": "stderr",
     "output_type": "stream",
     "text": [
      "100  3132  100  3031  100   101    955     31  0:00:03  0:00:03 --:--:--   989\n",
      "  % Total    % Received % Xferd  Average Speed   Time    Time     Time  Current\n",
      "                                 Dload  Upload   Total   Spent    Left  Speed\n",
      "100  5648  100  2617  100  3031   148k   172k --:--:-- --:--:-- --:--:-- 1103k\n",
      "  % Total    % Received % Xferd  Average Speed   Time    Time     Time  Current\n",
      "                                 Dload  Upload   Total   Spent    Left  Speed\n",
      "  0     0    0     0    0     0      0      0 --:--:-- --:--:-- --:--:--     0"
     ]
    },
    {
     "name": "stdout",
     "output_type": "stream",
     "text": [
      "13\n"
     ]
    },
    {
     "name": "stderr",
     "output_type": "stream",
     "text": [
      "100  7490  100  7438  100    52   4362     30  0:00:01  0:00:01 --:--:--  4403\n",
      "  % Total    % Received % Xferd  Average Speed   Time    Time     Time  Current\n",
      "                                 Dload  Upload   Total   Spent    Left  Speed\n",
      "100 14681  100  7243  100  7438   544k   559k --:--:-- --:--:-- --:--:-- 3584k\n",
      "  % Total    % Received % Xferd  Average Speed   Time    Time     Time  Current\n",
      "                                 Dload  Upload   Total   Spent    Left  Speed\n",
      "  0     0    0     0    0     0      0      0 --:--:-- --:--:-- --:--:--     0"
     ]
    },
    {
     "name": "stdout",
     "output_type": "stream",
     "text": [
      "14\n"
     ]
    },
    {
     "name": "stderr",
     "output_type": "stream",
     "text": [
      "100  1869  100  1815  100    54   1291     38  0:00:01  0:00:01 --:--:--  1334\n",
      "  % Total    % Received % Xferd  Average Speed   Time    Time     Time  Current\n",
      "                                 Dload  Upload   Total   Spent    Left  Speed\n",
      "100  3207  100  1392  100  1815  62646  81683 --:--:-- --:--:-- --:--:--  313k\n",
      "  % Total    % Received % Xferd  Average Speed   Time    Time     Time  Current\n",
      "                                 Dload  Upload   Total   Spent    Left  Speed\n",
      "  0     0    0     0    0     0      0      0 --:--:-- --:--:-- --:--:--     0"
     ]
    },
    {
     "name": "stdout",
     "output_type": "stream",
     "text": [
      "15\n"
     ]
    },
    {
     "name": "stderr",
     "output_type": "stream",
     "text": [
      "100  2829  100  2775  100    54   1527     29  0:00:01  0:00:01 --:--:--  1562\n",
      "  % Total    % Received % Xferd  Average Speed   Time    Time     Time  Current\n",
      "                                 Dload  Upload   Total   Spent    Left  Speed\n",
      "100  5131  100  2356  100  2775  91409   105k --:--:-- --:--:-- --:--:--  385k\n",
      "  % Total    % Received % Xferd  Average Speed   Time    Time     Time  Current\n",
      "                                 Dload  Upload   Total   Spent    Left  Speed\n",
      "  0     0    0     0    0     0      0      0 --:--:-- --:--:-- --:--:--     0"
     ]
    },
    {
     "name": "stdout",
     "output_type": "stream",
     "text": [
      "16\n"
     ]
    },
    {
     "name": "stderr",
     "output_type": "stream",
     "text": [
      "100   822  100   754  100    68    764     68  0:00:01 --:--:--  0:00:01   836\n",
      "  % Total    % Received % Xferd  Average Speed   Time    Time     Time  Current\n",
      "                                 Dload  Upload   Total   Spent    Left  Speed\n",
      "100  1330  100   576  100   754  40880  53513 --:--:-- --:--:-- --:--:--  259k\n",
      "  % Total    % Received % Xferd  Average Speed   Time    Time     Time  Current\n",
      "                                 Dload  Upload   Total   Spent    Left  Speed\n",
      "  0     0    0     0    0     0      0      0 --:--:-- --:--:-- --:--:--     0"
     ]
    },
    {
     "name": "stdout",
     "output_type": "stream",
     "text": [
      "17\n"
     ]
    },
    {
     "name": "stderr",
     "output_type": "stream",
     "text": [
      "\r",
      "100    27    0     0  100    27      0     22  0:00:01  0:00:01 --:--:--    22\r",
      "100  1575  100  1548  100    27   1141     19  0:00:01  0:00:01 --:--:--  1166\n",
      "  % Total    % Received % Xferd  Average Speed   Time    Time     Time  Current\n",
      "                                 Dload  Upload   Total   Spent    Left  Speed\n",
      "\r",
      "  0     0    0     0    0     0      0      0 --:--:-- --:--:-- --:--:--     0\r",
      "100  2931  100  1383  100  1548  78374  87725 --:--:-- --:--:-- --:--:--  357k\n"
     ]
    },
    {
     "name": "stdout",
     "output_type": "stream",
     "text": [
      "18\n"
     ]
    },
    {
     "name": "stderr",
     "output_type": "stream",
     "text": [
      "  % Total    % Received % Xferd  Average Speed   Time    Time     Time  Current\n",
      "                                 Dload  Upload   Total   Spent    Left  Speed\n",
      "100  3069  100  2969  100   100    648     21  0:00:04  0:00:04 --:--:--   880\n",
      "  % Total    % Received % Xferd  Average Speed   Time    Time     Time  Current\n",
      "                                 Dload  Upload   Total   Spent    Left  Speed\n",
      "100  5351  100  2382  100  2969   130k   162k --:--:-- --:--:-- --:--:--  746k\n",
      "  % Total    % Received % Xferd  Average Speed   Time    Time     Time  Current\n",
      "                                 Dload  Upload   Total   Spent    Left  Speed\n",
      "  0     0    0     0    0     0      0      0 --:--:-- --:--:-- --:--:--     0"
     ]
    },
    {
     "name": "stdout",
     "output_type": "stream",
     "text": [
      "19\n"
     ]
    },
    {
     "name": "stderr",
     "output_type": "stream",
     "text": [
      "\r",
      "100    27    0     0  100    27      0     22  0:00:01  0:00:01 --:--:--    22\r",
      "100  2516  100  2489  100    27   1845     20  0:00:01  0:00:01 --:--:--  1872\n",
      "  % Total    % Received % Xferd  Average Speed   Time    Time     Time  Current\n",
      "                                 Dload  Upload   Total   Spent    Left  Speed\n",
      "\r",
      "  0     0    0     0    0     0      0      0 --:--:-- --:--:-- --:--:--     0\r",
      "100  4799  100  2310  100  2489   141k   152k --:--:-- --:--:-- --:--:-- 1171k\n",
      "  % Total    % Received % Xferd  Average Speed   Time    Time     Time  Current\n",
      "                                 Dload  Upload   Total   Spent    Left  Speed\n",
      "\r",
      "  0     0    0     0    0     0      0      0 --:--:-- --:--:-- --:--:--     0"
     ]
    },
    {
     "name": "stdout",
     "output_type": "stream",
     "text": [
      "20\n"
     ]
    },
    {
     "name": "stderr",
     "output_type": "stream",
     "text": [
      "\r",
      "100  1780  100  1712  100    68   1985     78 --:--:-- --:--:-- --:--:--  2074\r",
      "100  1780  100  1712  100    68   1985     78 --:--:-- --:--:-- --:--:--  2074\n",
      "  % Total    % Received % Xferd  Average Speed   Time    Time     Time  Current\n",
      "                                 Dload  Upload   Total   Spent    Left  Speed\n",
      "\r",
      "  0     0    0     0    0     0      0      0 --:--:-- --:--:-- --:--:--     0\r",
      "100  2636  100   924  100  1712  55878   101k --:--:-- --:--:-- --:--:--  514k\n",
      "  % Total    % Received % Xferd  Average Speed   Time    Time     Time  Current\n",
      "                                 Dload  Upload   Total   Spent    Left  Speed\n",
      "\r",
      "  0     0    0     0    0     0      0      0 --:--:-- --:--:-- --:--:--     0"
     ]
    },
    {
     "name": "stdout",
     "output_type": "stream",
     "text": [
      "21\n"
     ]
    },
    {
     "name": "stderr",
     "output_type": "stream",
     "text": [
      "\r",
      "100    67    0     0  100    67      0     55  0:00:01  0:00:01 --:--:--    55\r",
      "100  3254  100  3187  100    67   2521     53  0:00:01  0:00:01 --:--:--  2586\n",
      "  % Total    % Received % Xferd  Average Speed   Time    Time     Time  Current\n",
      "                                 Dload  Upload   Total   Spent    Left  Speed\n",
      "\r",
      "  0     0    0     0    0     0      0      0 --:--:-- --:--:-- --:--:--     0\r",
      "100  5709  100  2522  100  3187   171k   216k --:--:-- --:--:-- --:--:-- 1115k\n",
      "  % Total    % Received % Xferd  Average Speed   Time    Time     Time  Current\n",
      "                                 Dload  Upload   Total   Spent    Left  Speed\n",
      "\r",
      "  0     0    0     0    0     0      0      0 --:--:-- --:--:-- --:--:--     0"
     ]
    },
    {
     "name": "stdout",
     "output_type": "stream",
     "text": [
      "22\n"
     ]
    },
    {
     "name": "stderr",
     "output_type": "stream",
     "text": [
      "\r",
      "100   911  100   843  100    68   1302    105 --:--:-- --:--:-- --:--:--  1416\r",
      "100   911  100   843  100    68   1302    105 --:--:-- --:--:-- --:--:--  1416\n",
      "  % Total    % Received % Xferd  Average Speed   Time    Time     Time  Current\n",
      "                                 Dload  Upload   Total   Spent    Left  Speed\n",
      "\r",
      "  0     0    0     0    0     0      0      0 --:--:-- --:--:-- --:--:--     0\r",
      "100  1355  100   512  100   843  30378  50017 --:--:-- --:--:-- --:--:--  220k\n",
      "  % Total    % Received % Xferd  Average Speed   Time    Time     Time  Current\n",
      "                                 Dload  Upload   Total   Spent    Left  Speed\n",
      "\r",
      "  0     0    0     0    0     0      0      0 --:--:-- --:--:-- --:--:--     0"
     ]
    },
    {
     "name": "stdout",
     "output_type": "stream",
     "text": [
      "23\n"
     ]
    },
    {
     "name": "stderr",
     "output_type": "stream",
     "text": [
      "100  2139  100  2085  100    54    783     20  0:00:02  0:00:02 --:--:--   805\n",
      "  % Total    % Received % Xferd  Average Speed   Time    Time     Time  Current\n",
      "                                 Dload  Upload   Total   Spent    Left  Speed\n",
      "100  3812  100  1727  100  2085  76243  92048 --:--:-- --:--:-- --:--:--  372k\n",
      "  % Total    % Received % Xferd  Average Speed   Time    Time     Time  Current\n",
      "                                 Dload  Upload   Total   Spent    Left  Speed\n",
      "  0     0    0     0    0     0      0      0 --:--:-- --:--:-- --:--:--     0"
     ]
    },
    {
     "name": "stdout",
     "output_type": "stream",
     "text": [
      "24\n"
     ]
    },
    {
     "name": "stderr",
     "output_type": "stream",
     "text": [
      "100  3468  100  3326  100   142   2314     98  0:00:01  0:00:01 --:--:--  2420\n",
      "  % Total    % Received % Xferd  Average Speed   Time    Time     Time  Current\n",
      "                                 Dload  Upload   Total   Spent    Left  Speed\n",
      "100  6162  100  2836  100  3326   143k   167k --:--:-- --:--:-- --:--:--  752k\n",
      "  % Total    % Received % Xferd  Average Speed   Time    Time     Time  Current\n",
      "                                 Dload  Upload   Total   Spent    Left  Speed\n",
      "  0     0    0     0    0     0      0      0 --:--:-- --:--:-- --:--:--     0"
     ]
    },
    {
     "name": "stdout",
     "output_type": "stream",
     "text": [
      "25\n"
     ]
    },
    {
     "name": "stderr",
     "output_type": "stream",
     "text": [
      "\r",
      "100    27    0     0  100    27      0     22  0:00:01  0:00:01 --:--:--    22\r",
      "100  3162  100  3135  100    27   2554     22  0:00:01  0:00:01 --:--:--  2585\n",
      "  % Total    % Received % Xferd  Average Speed   Time    Time     Time  Current\n",
      "                                 Dload  Upload   Total   Spent    Left  Speed\n",
      "\r",
      "  0     0    0     0    0     0      0      0 --:--:-- --:--:-- --:--:--     0\r",
      "100  5870  100  2735  100  3135   178k   204k --:--:-- --:--:-- --:--:-- 1146k\n",
      "  % Total    % Received % Xferd  Average Speed   Time    Time     Time  Current\n",
      "                                 Dload  Upload   Total   Spent    Left  Speed\n",
      "\r",
      "  0     0    0     0    0     0      0      0 --:--:-- --:--:-- --:--:--     0"
     ]
    },
    {
     "name": "stdout",
     "output_type": "stream",
     "text": [
      "26\n"
     ]
    },
    {
     "name": "stderr",
     "output_type": "stream",
     "text": [
      "100  2673  100  2619  100    54   1483     30  0:00:01  0:00:01 --:--:--  1517\n",
      "  % Total    % Received % Xferd  Average Speed   Time    Time     Time  Current\n",
      "                                 Dload  Upload   Total   Spent    Left  Speed\n",
      "100  4748  100  2129  100  2619  69206  85134 --:--:-- --:--:-- --:--:--  257k\n",
      "  % Total    % Received % Xferd  Average Speed   Time    Time     Time  Current\n",
      "                                 Dload  Upload   Total   Spent    Left  Speed\n",
      "  0     0    0     0    0     0      0      0 --:--:-- --:--:-- --:--:--     0"
     ]
    },
    {
     "name": "stdout",
     "output_type": "stream",
     "text": [
      "27\n"
     ]
    },
    {
     "name": "stderr",
     "output_type": "stream",
     "text": [
      "\r",
      "100  2243  100  2176  100    67   1983     61  0:00:01  0:00:01 --:--:--  2055\r",
      "100  2243  100  2176  100    67   1983     61  0:00:01  0:00:01 --:--:--  2055\n",
      "  % Total    % Received % Xferd  Average Speed   Time    Time     Time  Current\n",
      "                                 Dload  Upload   Total   Spent    Left  Speed\n",
      "\r",
      "  0     0    0     0    0     0      0      0 --:--:-- --:--:-- --:--:--     0\r",
      "100  3956  100  1780  100  2176  87949   104k --:--:-- --:--:-- --:--:--  643k\n",
      "  % Total    % Received % Xferd  Average Speed   Time    Time     Time  Current\n",
      "                                 Dload  Upload   Total   Spent    Left  Speed\n",
      "\r",
      "  0     0    0     0    0     0      0      0 --:--:-- --:--:-- --:--:--     0"
     ]
    },
    {
     "name": "stdout",
     "output_type": "stream",
     "text": [
      "28\n"
     ]
    },
    {
     "name": "stderr",
     "output_type": "stream",
     "text": [
      "100  2089  100  2038  100    51   1880     47  0:00:01  0:00:01 --:--:--  1936\n",
      "  % Total    % Received % Xferd  Average Speed   Time    Time     Time  Current\n",
      "                                 Dload  Upload   Total   Spent    Left  Speed\n",
      "100  3935  100  1897  100  2038   162k   174k --:--:-- --:--:-- --:--:-- 1921k\n",
      "  % Total    % Received % Xferd  Average Speed   Time    Time     Time  Current\n",
      "                                 Dload  Upload   Total   Spent    Left  Speed\n",
      "  0     0    0     0    0     0      0      0 --:--:-- --:--:-- --:--:--     0"
     ]
    },
    {
     "name": "stdout",
     "output_type": "stream",
     "text": [
      "29\n"
     ]
    },
    {
     "name": "stderr",
     "output_type": "stream",
     "text": [
      "100  2830  100  2652  100   178   1506    101  0:00:01  0:00:01 --:--:--  1612\n",
      "  % Total    % Received % Xferd  Average Speed   Time    Time     Time  Current\n",
      "                                 Dload  Upload   Total   Spent    Left  Speed\n",
      "100  4942  100  2290  100  2652   130k   151k --:--:-- --:--:-- --:--:--  965k\n",
      "  % Total    % Received % Xferd  Average Speed   Time    Time     Time  Current\n",
      "                                 Dload  Upload   Total   Spent    Left  Speed\n",
      "  0     0    0     0    0     0      0      0 --:--:-- --:--:-- --:--:--     0"
     ]
    },
    {
     "name": "stdout",
     "output_type": "stream",
     "text": [
      "30\n"
     ]
    },
    {
     "name": "stderr",
     "output_type": "stream",
     "text": [
      "100  3010  100  2956  100    54   1858     33  0:00:01  0:00:01 --:--:--  1897\n",
      "  % Total    % Received % Xferd  Average Speed   Time    Time     Time  Current\n",
      "                                 Dload  Upload   Total   Spent    Left  Speed\n",
      "100  5367  100  2411  100  2956  87064   104k --:--:-- --:--:-- --:--:--  374k\n",
      "  % Total    % Received % Xferd  Average Speed   Time    Time     Time  Current\n",
      "                                 Dload  Upload   Total   Spent    Left  Speed\n",
      "  0     0    0     0    0     0      0      0 --:--:-- --:--:-- --:--:--     0"
     ]
    },
    {
     "name": "stdout",
     "output_type": "stream",
     "text": [
      "31\n"
     ]
    },
    {
     "name": "stderr",
     "output_type": "stream",
     "text": [
      "\r",
      "100  1200  100  1132  100    68   1249     75 --:--:-- --:--:-- --:--:--  1330\r",
      "100  1200  100  1132  100    68   1249     75 --:--:-- --:--:-- --:--:--  1330\n",
      "  % Total    % Received % Xferd  Average Speed   Time    Time     Time  Current\n",
      "                                 Dload  Upload   Total   Spent    Left  Speed\n",
      "\r",
      "  0     0    0     0    0     0      0      0 --:--:-- --:--:-- --:--:--     0\r",
      "100  1792  100   660  100  1132  48856  83795 --:--:-- --:--:-- --:--:--  350k\n",
      "  % Total    % Received % Xferd  Average Speed   Time    Time     Time  Current\n",
      "                                 Dload  Upload   Total   Spent    Left  Speed\n",
      "\r",
      "  0     0    0     0    0     0      0      0 --:--:-- --:--:-- --:--:--     0"
     ]
    },
    {
     "name": "stdout",
     "output_type": "stream",
     "text": [
      "32\n"
     ]
    },
    {
     "name": "stderr",
     "output_type": "stream",
     "text": [
      "100  2847  100  2793  100    54   1697     32  0:00:01  0:00:01 --:--:--  1737\n",
      "  % Total    % Received % Xferd  Average Speed   Time    Time     Time  Current\n",
      "                                 Dload  Upload   Total   Spent    Left  Speed\n",
      "100  5040  100  2247  100  2793    97k   121k --:--:-- --:--:-- --:--:--  492k\n",
      "  % Total    % Received % Xferd  Average Speed   Time    Time     Time  Current\n",
      "                                 Dload  Upload   Total   Spent    Left  Speed\n",
      "  0     0    0     0    0     0      0      0 --:--:-- --:--:-- --:--:--     0"
     ]
    },
    {
     "name": "stdout",
     "output_type": "stream",
     "text": [
      "33\n"
     ]
    },
    {
     "name": "stderr",
     "output_type": "stream",
     "text": [
      "100  2695  100  2636  100    59   1368     30  0:00:01  0:00:01 --:--:--  1402\n",
      "  % Total    % Received % Xferd  Average Speed   Time    Time     Time  Current\n",
      "                                 Dload  Upload   Total   Spent    Left  Speed\n",
      "100  5007  100  2371  100  2636   124k   138k --:--:-- --:--:-- --:--:--  543k\n",
      "  % Total    % Received % Xferd  Average Speed   Time    Time     Time  Current\n",
      "                                 Dload  Upload   Total   Spent    Left  Speed\n",
      "  0     0    0     0    0     0      0      0 --:--:-- --:--:-- --:--:--     0"
     ]
    },
    {
     "name": "stdout",
     "output_type": "stream",
     "text": [
      "34\n"
     ]
    },
    {
     "name": "stderr",
     "output_type": "stream",
     "text": [
      "\r",
      "100    67    0     0  100    67      0     55  0:00:01  0:00:01 --:--:--    55\r",
      "100  3483  100  3416  100    67   2528     49  0:00:01  0:00:01 --:--:--  2587\n",
      "  % Total    % Received % Xferd  Average Speed   Time    Time     Time  Current\n",
      "                                 Dload  Upload   Total   Spent    Left  Speed\n",
      "\r",
      "  0     0    0     0    0     0      0      0 --:--:-- --:--:-- --:--:--     0\r",
      "100  6393  100  2977  100  3416   140k   161k --:--:-- --:--:-- --:--:--  780k\n"
     ]
    },
    {
     "name": "stdout",
     "output_type": "stream",
     "text": [
      "35\n"
     ]
    },
    {
     "name": "stderr",
     "output_type": "stream",
     "text": [
      "  % Total    % Received % Xferd  Average Speed   Time    Time     Time  Current\n",
      "                                 Dload  Upload   Total   Spent    Left  Speed\n",
      "100   931  100   863  100    68   1031     81 --:--:-- --:--:-- --:--:--  1120\n",
      "  % Total    % Received % Xferd  Average Speed   Time    Time     Time  Current\n",
      "                                 Dload  Upload   Total   Spent    Left  Speed\n",
      "100  1483  100   620  100   863  40464  56324 --:--:-- --:--:-- --:--:--  362k\n",
      "  % Total    % Received % Xferd  Average Speed   Time    Time     Time  Current\n",
      "                                 Dload  Upload   Total   Spent    Left  Speed\n",
      "  0     0    0     0    0     0      0      0 --:--:-- --:--:-- --:--:--     0"
     ]
    },
    {
     "name": "stdout",
     "output_type": "stream",
     "text": [
      "36\n"
     ]
    },
    {
     "name": "stderr",
     "output_type": "stream",
     "text": [
      "\r",
      "100   990  100   934  100    56    830     49  0:00:01  0:00:01 --:--:--   884\r",
      "100   990  100   934  100    56    830     49  0:00:01  0:00:01 --:--:--   884\n",
      "  % Total    % Received % Xferd  Average Speed   Time    Time     Time  Current\n",
      "                                 Dload  Upload   Total   Spent    Left  Speed\n",
      "\r",
      "  0     0    0     0    0     0      0      0 --:--:-- --:--:-- --:--:--     0\r",
      "100  1494  100   560  100   934  44381  74021 --:--:-- --:--:-- --:--:--  486k\n",
      "  % Total    % Received % Xferd  Average Speed   Time    Time     Time  Current\n",
      "                                 Dload  Upload   Total   Spent    Left  Speed\n",
      "\r",
      "  0     0    0     0    0     0      0      0 --:--:-- --:--:-- --:--:--     0"
     ]
    },
    {
     "name": "stdout",
     "output_type": "stream",
     "text": [
      "37\n"
     ]
    },
    {
     "name": "stderr",
     "output_type": "stream",
     "text": [
      "\r",
      "100  1857  100  1655  100   202   1663    202  0:00:01 --:--:--  0:00:01  1873\r",
      "100  1857  100  1655  100   202   1662    202  0:00:01 --:--:--  0:00:01  1871\n",
      "  % Total    % Received % Xferd  Average Speed   Time    Time     Time  Current\n",
      "                                 Dload  Upload   Total   Spent    Left  Speed\n",
      "\r",
      "  0     0    0     0    0     0      0      0 --:--:-- --:--:-- --:--:--     0\r",
      "100  3186  100  1531  100  1655  47933  51815 --:--:-- --:--:-- --:--:--  172k\n",
      "  % Total    % Received % Xferd  Average Speed   Time    Time     Time  Current\n",
      "                                 Dload  Upload   Total   Spent    Left  Speed\n",
      "\r",
      "  0     0    0     0    0     0      0      0 --:--:-- --:--:-- --:--:--     0"
     ]
    },
    {
     "name": "stdout",
     "output_type": "stream",
     "text": [
      "38\n"
     ]
    },
    {
     "name": "stderr",
     "output_type": "stream",
     "text": [
      "\r",
      "100  2871  100  2804  100    67   2565     61  0:00:01  0:00:01 --:--:--  2641\r",
      "100  2871  100  2804  100    67   2565     61  0:00:01  0:00:01 --:--:--  2641\n",
      "  % Total    % Received % Xferd  Average Speed   Time    Time     Time  Current\n",
      "                                 Dload  Upload   Total   Spent    Left  Speed\n",
      "\r",
      "  0     0    0     0    0     0      0      0 --:--:-- --:--:-- --:--:--     0\r",
      "100  5294  100  2490  100  2804  97501   107k --:--:-- --:--:-- --:--:--  430k\n",
      "  % Total    % Received % Xferd  Average Speed   Time    Time     Time  Current\n",
      "                                 Dload  Upload   Total   Spent    Left  Speed\n",
      "\r",
      "  0     0    0     0    0     0      0      0 --:--:-- --:--:-- --:--:--     0"
     ]
    },
    {
     "name": "stdout",
     "output_type": "stream",
     "text": [
      "39\n"
     ]
    },
    {
     "name": "stderr",
     "output_type": "stream",
     "text": [
      "100  2370  100  2320  100    50   2209     47  0:00:01  0:00:01 --:--:--  2267\n",
      "  % Total    % Received % Xferd  Average Speed   Time    Time     Time  Current\n",
      "                                 Dload  Upload   Total   Spent    Left  Speed\n",
      "100  4589  100  2269  100  2320   176k   180k --:--:-- --:--:-- --:--:-- 1493k\n",
      "  % Total    % Received % Xferd  Average Speed   Time    Time     Time  Current\n",
      "                                 Dload  Upload   Total   Spent    Left  Speed\n",
      "  0     0    0     0    0     0      0      0 --:--:-- --:--:-- --:--:--     0"
     ]
    },
    {
     "name": "stdout",
     "output_type": "stream",
     "text": [
      "40\n"
     ]
    },
    {
     "name": "stderr",
     "output_type": "stream",
     "text": [
      "100  2950  100  2888  100    62   1596     34  0:00:01  0:00:01 --:--:--  1635\n",
      "  % Total    % Received % Xferd  Average Speed   Time    Time     Time  Current\n",
      "                                 Dload  Upload   Total   Spent    Left  Speed\n",
      "100  5235  100  2347  100  2888   123k   152k --:--:-- --:--:-- --:--:--  639k\n",
      "  % Total    % Received % Xferd  Average Speed   Time    Time     Time  Current\n",
      "                                 Dload  Upload   Total   Spent    Left  Speed\n",
      "  0     0    0     0    0     0      0      0 --:--:-- --:--:-- --:--:--     0"
     ]
    },
    {
     "name": "stdout",
     "output_type": "stream",
     "text": [
      "41\n"
     ]
    },
    {
     "name": "stderr",
     "output_type": "stream",
     "text": [
      "100  2509  100  2465  100    44   1499     26  0:00:01  0:00:01 --:--:--  1531\n",
      "  % Total    % Received % Xferd  Average Speed   Time    Time     Time  Current\n",
      "                                 Dload  Upload   Total   Spent    Left  Speed\n",
      "100  4706  100  2241  100  2465   155k   171k --:--:-- --:--:-- --:--:-- 1148k\n",
      "  % Total    % Received % Xferd  Average Speed   Time    Time     Time  Current\n",
      "                                 Dload  Upload   Total   Spent    Left  Speed\n",
      "  0     0    0     0    0     0      0      0 --:--:-- --:--:-- --:--:--     0"
     ]
    },
    {
     "name": "stdout",
     "output_type": "stream",
     "text": [
      "42\n"
     ]
    },
    {
     "name": "stderr",
     "output_type": "stream",
     "text": [
      "\r",
      "100  2845  100  2778  100    67   2981     71 --:--:-- --:--:-- --:--:--  3072\r",
      "100  2845  100  2778  100    67   2980     71 --:--:-- --:--:-- --:--:--  3072\n",
      "  % Total    % Received % Xferd  Average Speed   Time    Time     Time  Current\n",
      "                                 Dload  Upload   Total   Spent    Left  Speed\n",
      "\r",
      "  0     0    0     0    0     0      0      0 --:--:-- --:--:-- --:--:--     0\r",
      "100  5092  100  2314  100  2778   102k   123k --:--:-- --:--:-- --:--:--  621k\n",
      "  % Total    % Received % Xferd  Average Speed   Time    Time     Time  Current\n",
      "                                 Dload  Upload   Total   Spent    Left  Speed\n",
      "\r",
      "  0     0    0     0    0     0      0      0 --:--:-- --:--:-- --:--:--     0"
     ]
    },
    {
     "name": "stdout",
     "output_type": "stream",
     "text": [
      "43\n"
     ]
    },
    {
     "name": "stderr",
     "output_type": "stream",
     "text": [
      "\r",
      "100  2206  100  2150  100    56   2159     56  0:00:01 --:--:--  0:00:01  2228\r",
      "100  2206  100  2150  100    56   2159     56  0:00:01 --:--:--  0:00:01  2228\n",
      "  % Total    % Received % Xferd  Average Speed   Time    Time     Time  Current\n",
      "                                 Dload  Upload   Total   Spent    Left  Speed\n",
      "\r",
      "  0     0    0     0    0     0      0      0 --:--:-- --:--:-- --:--:--     0\r",
      "100  3962  100  1812  100  2150   111k   132k --:--:-- --:--:-- --:--:--  644k\n",
      "  % Total    % Received % Xferd  Average Speed   Time    Time     Time  Current\n",
      "                                 Dload  Upload   Total   Spent    Left  Speed\n",
      "\r",
      "  0     0    0     0    0     0      0      0 --:--:-- --:--:-- --:--:--     0"
     ]
    },
    {
     "name": "stdout",
     "output_type": "stream",
     "text": [
      "44\n"
     ]
    },
    {
     "name": "stderr",
     "output_type": "stream",
     "text": [
      "\r",
      "100  2514  100  2447  100    67   2732     74 --:--:-- --:--:-- --:--:--  2818\r",
      "100  2514  100  2447  100    67   2732     74 --:--:-- --:--:-- --:--:--  2818\n",
      "  % Total    % Received % Xferd  Average Speed   Time    Time     Time  Current\n",
      "                                 Dload  Upload   Total   Spent    Left  Speed\n",
      "\r",
      "  0     0    0     0    0     0      0      0 --:--:-- --:--:-- --:--:--     0\r",
      "100  4628  100  2181  100  2447  99753   109k --:--:-- --:--:-- --:--:--  564k\n",
      "  % Total    % Received % Xferd  Average Speed   Time    Time     Time  Current\n",
      "                                 Dload  Upload   Total   Spent    Left  Speed\n",
      "\r",
      "  0     0    0     0    0     0      0      0 --:--:-- --:--:-- --:--:--     0"
     ]
    },
    {
     "name": "stdout",
     "output_type": "stream",
     "text": [
      "45\n"
     ]
    },
    {
     "name": "stderr",
     "output_type": "stream",
     "text": [
      "\r",
      "100  1110  100  1042  100    68   1227     80 --:--:-- --:--:-- --:--:--  1316\r",
      "100  1110  100  1042  100    68   1227     80 --:--:-- --:--:-- --:--:--  1316\n",
      "  % Total    % Received % Xferd  Average Speed   Time    Time     Time  Current\n",
      "                                 Dload  Upload   Total   Spent    Left  Speed\n",
      "\r",
      "  0     0    0     0    0     0      0      0 --:--:-- --:--:-- --:--:--     0\r",
      "100  1820  100   778  100  1042  60016  80382 --:--:-- --:--:-- --:--:--  444k\n",
      "  % Total    % Received % Xferd  Average Speed   Time    Time     Time  Current\n",
      "                                 Dload  Upload   Total   Spent    Left  Speed\n",
      "\r",
      "  0     0    0     0    0     0      0      0 --:--:-- --:--:-- --:--:--     0"
     ]
    },
    {
     "name": "stdout",
     "output_type": "stream",
     "text": [
      "46\n"
     ]
    },
    {
     "name": "stderr",
     "output_type": "stream",
     "text": [
      "100  3139  100  3085  100    54   1686     29  0:00:01  0:00:01 --:--:--  1720\n",
      "  % Total    % Received % Xferd  Average Speed   Time    Time     Time  Current\n",
      "                                 Dload  Upload   Total   Spent    Left  Speed\n",
      "100  5620  100  2535  100  3085   107k   130k --:--:-- --:--:-- --:--:--  609k\n",
      "  % Total    % Received % Xferd  Average Speed   Time    Time     Time  Current\n",
      "                                 Dload  Upload   Total   Spent    Left  Speed\n",
      "  0     0    0     0    0     0      0      0 --:--:-- --:--:-- --:--:--     0"
     ]
    },
    {
     "name": "stdout",
     "output_type": "stream",
     "text": [
      "47\n"
     ]
    },
    {
     "name": "stderr",
     "output_type": "stream",
     "text": [
      "\r",
      "100   902  100   834  100    68   1044     85 --:--:-- --:--:-- --:--:--  1136\r",
      "100   902  100   834  100    68   1044     85 --:--:-- --:--:-- --:--:--  1136\n",
      "  % Total    % Received % Xferd  Average Speed   Time    Time     Time  Current\n",
      "                                 Dload  Upload   Total   Spent    Left  Speed\n",
      "\r",
      "  0     0    0     0    0     0      0      0 --:--:-- --:--:-- --:--:--     0\r",
      "100  1478  100   644  100   834  35162  45536 --:--:-- --:--:-- --:--:--  206k\n",
      "  % Total    % Received % Xferd  Average Speed   Time    Time     Time  Current\n",
      "                                 Dload  Upload   Total   Spent    Left  Speed\n",
      "\r",
      "  0     0    0     0    0     0      0      0 --:--:-- --:--:-- --:--:--     0"
     ]
    },
    {
     "name": "stdout",
     "output_type": "stream",
     "text": [
      "48\n"
     ]
    },
    {
     "name": "stderr",
     "output_type": "stream",
     "text": [
      "100  3134  100  3080  100    54   1506     26  0:00:02  0:00:02 --:--:--  1539\n",
      "  % Total    % Received % Xferd  Average Speed   Time    Time     Time  Current\n",
      "                                 Dload  Upload   Total   Spent    Left  Speed\n",
      "100  5644  100  2564  100  3080   102k   123k --:--:-- --:--:-- --:--:--  551k\n",
      "  % Total    % Received % Xferd  Average Speed   Time    Time     Time  Current\n",
      "                                 Dload  Upload   Total   Spent    Left  Speed\n",
      "  0     0    0     0    0     0      0      0 --:--:-- --:--:-- --:--:--     0"
     ]
    },
    {
     "name": "stdout",
     "output_type": "stream",
     "text": [
      "49\n"
     ]
    },
    {
     "name": "stderr",
     "output_type": "stream",
     "text": [
      "\r",
      "100  1184  100  1118  100    66   1317     77 --:--:-- --:--:-- --:--:--  1401\r",
      "100  1184  100  1118  100    66   1317     77 --:--:-- --:--:-- --:--:--  1401\n",
      "  % Total    % Received % Xferd  Average Speed   Time    Time     Time  Current\n",
      "                                 Dload  Upload   Total   Spent    Left  Speed\n",
      "\r",
      "  0     0    0     0    0     0      0      0 --:--:-- --:--:-- --:--:--     0\r",
      "100  1869  100   751  100  1118  45570  67839 --:--:-- --:--:-- --:--:--  365k\n",
      "  % Total    % Received % Xferd  Average Speed   Time    Time     Time  Current\n",
      "                                 Dload  Upload   Total   Spent    Left  Speed\n",
      "\r",
      "  0     0    0     0    0     0      0      0 --:--:-- --:--:-- --:--:--     0"
     ]
    },
    {
     "name": "stdout",
     "output_type": "stream",
     "text": [
      "50\n"
     ]
    },
    {
     "name": "stderr",
     "output_type": "stream",
     "text": [
      "\r",
      "100   640  100   538  100   102    531    100  0:00:01  0:00:01 --:--:--   636\r",
      "100   640  100   538  100   102    531    100  0:00:01  0:00:01 --:--:--   636\n",
      "  % Total    % Received % Xferd  Average Speed   Time    Time     Time  Current\n",
      "                                 Dload  Upload   Total   Spent    Left  Speed\n",
      "\r",
      "  0     0    0     0    0     0      0      0 --:--:-- --:--:-- --:--:--     0\r",
      "100  1062  100   524  100   538  31887  32739 --:--:-- --:--:-- --:--:--  259k\n",
      "  % Total    % Received % Xferd  Average Speed   Time    Time     Time  Current\n",
      "                                 Dload  Upload   Total   Spent    Left  Speed\n",
      "\r",
      "  0     0    0     0    0     0      0      0 --:--:-- --:--:-- --:--:--     0"
     ]
    },
    {
     "name": "stdout",
     "output_type": "stream",
     "text": [
      "Failed: 51\n"
     ]
    },
    {
     "name": "stderr",
     "output_type": "stream",
     "text": [
      "100   630  100   528  100   102    291     56  0:00:01  0:00:01 --:--:--   348\n",
      "  % Total    % Received % Xferd  Average Speed   Time    Time     Time  Current\n",
      "                                 Dload  Upload   Total   Spent    Left  Speed\n",
      "100  1006  100   478  100   528  28099  31038 --:--:-- --:--:-- --:--:--  245k\n",
      "  % Total    % Received % Xferd  Average Speed   Time    Time     Time  Current\n",
      "                                 Dload  Upload   Total   Spent    Left  Speed\n",
      "  0     0    0     0    0     0      0      0 --:--:-- --:--:-- --:--:--     0"
     ]
    },
    {
     "name": "stdout",
     "output_type": "stream",
     "text": [
      "Failed: 52\n"
     ]
    },
    {
     "name": "stderr",
     "output_type": "stream",
     "text": [
      "\r",
      "100  3325  100  3275  100    50   3731     56 --:--:-- --:--:-- --:--:--  3804\r",
      "100  3325  100  3275  100    50   3731     56 --:--:-- --:--:-- --:--:--  3804\n",
      "  % Total    % Received % Xferd  Average Speed   Time    Time     Time  Current\n",
      "                                 Dload  Upload   Total   Spent    Left  Speed\n",
      "\r",
      "  0     0    0     0    0     0      0      0 --:--:-- --:--:-- --:--:--     0\r",
      "100  6156  100  2881  100  3275   211k   240k --:--:-- --:--:-- --:--:-- 2003k\n",
      "  % Total    % Received % Xferd  Average Speed   Time    Time     Time  Current\n",
      "                                 Dload  Upload   Total   Spent    Left  Speed\n",
      "\r",
      "  0     0    0     0    0     0      0      0 --:--:-- --:--:-- --:--:--     0"
     ]
    },
    {
     "name": "stdout",
     "output_type": "stream",
     "text": [
      "53\n"
     ]
    },
    {
     "name": "stderr",
     "output_type": "stream",
     "text": [
      "\r",
      "100    65    0     0  100    65      0     53  0:00:01  0:00:01 --:--:--    53\r",
      "100  2818  100  2753  100    65   2216     52  0:00:01  0:00:01 --:--:--  2276\n",
      "  % Total    % Received % Xferd  Average Speed   Time    Time     Time  Current\n",
      "                                 Dload  Upload   Total   Spent    Left  Speed\n",
      "\r",
      "  0     0    0     0    0     0      0      0 --:--:-- --:--:-- --:--:--     0\r",
      "100  5126  100  2373  100  2753   109k   127k --:--:-- --:--:-- --:--:--  625k\n",
      "  % Total    % Received % Xferd  Average Speed   Time    Time     Time  Current\n",
      "                                 Dload  Upload   Total   Spent    Left  Speed\n",
      "\r",
      "  0     0    0     0    0     0      0      0 --:--:-- --:--:-- --:--:--     0"
     ]
    },
    {
     "name": "stdout",
     "output_type": "stream",
     "text": [
      "54\n"
     ]
    },
    {
     "name": "stderr",
     "output_type": "stream",
     "text": [
      "\r",
      "100   993  100   925  100    68   1056     77 --:--:-- --:--:-- --:--:--  1138\r",
      "100   993  100   925  100    68   1055     77 --:--:-- --:--:-- --:--:--  1138\n",
      "  % Total    % Received % Xferd  Average Speed   Time    Time     Time  Current\n",
      "                                 Dload  Upload   Total   Spent    Left  Speed\n",
      "\r",
      "  0     0    0     0    0     0      0      0 --:--:-- --:--:-- --:--:--     0\r",
      "100  1617  100   692  100   925  33438  44696 --:--:-- --:--:-- --:--:--  225k\n",
      "  % Total    % Received % Xferd  Average Speed   Time    Time     Time  Current\n",
      "                                 Dload  Upload   Total   Spent    Left  Speed\n",
      "\r",
      "  0     0    0     0    0     0      0      0 --:--:-- --:--:-- --:--:--     0"
     ]
    },
    {
     "name": "stdout",
     "output_type": "stream",
     "text": [
      "55\n"
     ]
    },
    {
     "name": "stderr",
     "output_type": "stream",
     "text": [
      "\r",
      "100  4554  100  4504  100    50   5253     58 --:--:-- --:--:-- --:--:--  5357\r",
      "100  4554  100  4504  100    50   5252     58 --:--:-- --:--:-- --:--:--  5357\n",
      "  % Total    % Received % Xferd  Average Speed   Time    Time     Time  Current\n",
      "                                 Dload  Upload   Total   Spent    Left  Speed\n",
      "\r",
      "  0     0    0     0    0     0      0      0 --:--:-- --:--:-- --:--:--     0\r",
      "100  8571  100  4067  100  4504   325k   361k --:--:-- --:--:-- --:--:-- 2790k\n",
      "  % Total    % Received % Xferd  Average Speed   Time    Time     Time  Current\n",
      "                                 Dload  Upload   Total   Spent    Left  Speed\n",
      "\r",
      "  0     0    0     0    0     0      0      0 --:--:-- --:--:-- --:--:--     0"
     ]
    },
    {
     "name": "stdout",
     "output_type": "stream",
     "text": [
      "56\n"
     ]
    },
    {
     "name": "stderr",
     "output_type": "stream",
     "text": [
      "\r",
      "100  2587  100  2520  100    67   2234     59  0:00:01  0:00:01 --:--:--  2307\r",
      "100  2587  100  2520  100    67   2234     59  0:00:01  0:00:01 --:--:--  2307\n",
      "  % Total    % Received % Xferd  Average Speed   Time    Time     Time  Current\n",
      "                                 Dload  Upload   Total   Spent    Left  Speed\n",
      "\r",
      "  0     0    0     0    0     0      0      0 --:--:-- --:--:-- --:--:--     0\r",
      "100  4694  100  2174  100  2520   131k   152k --:--:-- --:--:-- --:--:--  916k\n",
      "  % Total    % Received % Xferd  Average Speed   Time    Time     Time  Current\n",
      "                                 Dload  Upload   Total   Spent    Left  Speed\n",
      "\r",
      "  0     0    0     0    0     0      0      0 --:--:-- --:--:-- --:--:--     0"
     ]
    },
    {
     "name": "stdout",
     "output_type": "stream",
     "text": [
      "57\n"
     ]
    },
    {
     "name": "stderr",
     "output_type": "stream",
     "text": [
      "\r",
      "100    50    0     0  100    50      0     41  0:00:01  0:00:01 --:--:--    41\r",
      "100  2393  100  2343  100    50   1890     40  0:00:01  0:00:01 --:--:--  1940\n",
      "  % Total    % Received % Xferd  Average Speed   Time    Time     Time  Current\n",
      "                                 Dload  Upload   Total   Spent    Left  Speed\n",
      "\r",
      "  0     0    0     0    0     0      0      0 --:--:-- --:--:-- --:--:--     0\r",
      "100  4567  100  2224  100  2343   161k   169k --:--:-- --:--:-- --:--:--  891k\n",
      "  % Total    % Received % Xferd  Average Speed   Time    Time     Time  Current\n",
      "                                 Dload  Upload   Total   Spent    Left  Speed\n",
      "\r",
      "  0     0    0     0    0     0      0      0 --:--:-- --:--:-- --:--:--     0"
     ]
    },
    {
     "name": "stdout",
     "output_type": "stream",
     "text": [
      "58\n"
     ]
    },
    {
     "name": "stderr",
     "output_type": "stream",
     "text": [
      "100  2396  100  2331  100    65   1502     41  0:00:01  0:00:01 --:--:--  1548\n",
      "  % Total    % Received % Xferd  Average Speed   Time    Time     Time  Current\n",
      "                                 Dload  Upload   Total   Spent    Left  Speed\n",
      "100  4451  100  2120  100  2331  99783   107k --:--:-- --:--:-- --:--:--  620k\n",
      "  % Total    % Received % Xferd  Average Speed   Time    Time     Time  Current\n",
      "                                 Dload  Upload   Total   Spent    Left  Speed\n",
      "  0     0    0     0    0     0      0      0 --:--:-- --:--:-- --:--:--     0"
     ]
    },
    {
     "name": "stdout",
     "output_type": "stream",
     "text": [
      "59\n"
     ]
    },
    {
     "name": "stderr",
     "output_type": "stream",
     "text": [
      "\r",
      "100   869  100   801  100    68    950     80 --:--:-- --:--:-- --:--:--  1039\r",
      "100   869  100   801  100    68    950     80 --:--:-- --:--:-- --:--:--  1039\n",
      "  % Total    % Received % Xferd  Average Speed   Time    Time     Time  Current\n",
      "                                 Dload  Upload   Total   Spent    Left  Speed\n",
      "\r",
      "  0     0    0     0    0     0      0      0 --:--:-- --:--:-- --:--:--     0\r",
      "100  1379  100   578  100   801  27442  38030 --:--:-- --:--:-- --:--:--  192k\n",
      "  % Total    % Received % Xferd  Average Speed   Time    Time     Time  Current\n",
      "                                 Dload  Upload   Total   Spent    Left  Speed\n",
      "\r",
      "  0     0    0     0    0     0      0      0 --:--:-- --:--:-- --:--:--     0"
     ]
    },
    {
     "name": "stdout",
     "output_type": "stream",
     "text": [
      "60\n"
     ]
    },
    {
     "name": "stderr",
     "output_type": "stream",
     "text": [
      "100  2901  100  2851  100    50   1042     18  0:00:02  0:00:02 --:--:--  1063\n",
      "  % Total    % Received % Xferd  Average Speed   Time    Time     Time  Current\n",
      "                                 Dload  Upload   Total   Spent    Left  Speed\n",
      "100  5398  100  2547  100  2851   174k   195k --:--:-- --:--:-- --:--:-- 1317k\n",
      "  % Total    % Received % Xferd  Average Speed   Time    Time     Time  Current\n",
      "                                 Dload  Upload   Total   Spent    Left  Speed\n",
      "  0     0    0     0    0     0      0      0 --:--:-- --:--:-- --:--:--     0"
     ]
    },
    {
     "name": "stdout",
     "output_type": "stream",
     "text": [
      "61\n"
     ]
    },
    {
     "name": "stderr",
     "output_type": "stream",
     "text": [
      "\r",
      "100  1335  100  1267  100    68   1583     84 --:--:-- --:--:-- --:--:--  1677\n",
      "  % Total    % Received % Xferd  Average Speed   Time    Time     Time  Current\n",
      "                                 Dload  Upload   Total   Spent    Left  Speed\n",
      "\r",
      "  0     0    0     0    0     0      0      0 --:--:-- --:--:-- --:--:--     0\r",
      "100  1910  100   643  100  1267  31353  61780 --:--:-- --:--:-- --:--:--  310k\n",
      "  % Total    % Received % Xferd  Average Speed   Time    Time     Time  Current\n",
      "                                 Dload  Upload   Total   Spent    Left  Speed\n",
      "\r",
      "  0     0    0     0    0     0      0      0 --:--:-- --:--:-- --:--:--     0"
     ]
    },
    {
     "name": "stdout",
     "output_type": "stream",
     "text": [
      "62\n"
     ]
    },
    {
     "name": "stderr",
     "output_type": "stream",
     "text": [
      "100  2082  100  2032  100    50    943     23  0:00:02  0:00:02 --:--:--   968\n",
      "  % Total    % Received % Xferd  Average Speed   Time    Time     Time  Current\n",
      "                                 Dload  Upload   Total   Spent    Left  Speed\n",
      "100  3828  100  1796  100  2032  72085  81557 --:--:-- --:--:-- --:--:--  373k\n",
      "  % Total    % Received % Xferd  Average Speed   Time    Time     Time  Current\n",
      "                                 Dload  Upload   Total   Spent    Left  Speed\n",
      "  0     0    0     0    0     0      0      0 --:--:-- --:--:-- --:--:--     0"
     ]
    },
    {
     "name": "stdout",
     "output_type": "stream",
     "text": [
      "63\n"
     ]
    },
    {
     "name": "stderr",
     "output_type": "stream",
     "text": [
      "100  1054  100  1010  100    44    334     14  0:00:03  0:00:03 --:--:--   349\n",
      "  % Total    % Received % Xferd  Average Speed   Time    Time     Time  Current\n",
      "                                 Dload  Upload   Total   Spent    Left  Speed\n",
      "100  1683  100   673  100  1010  45356  68068 --:--:-- --:--:-- --:--:--  410k\n",
      "  % Total    % Received % Xferd  Average Speed   Time    Time     Time  Current\n",
      "                                 Dload  Upload   Total   Spent    Left  Speed\n",
      "  0     0    0     0    0     0      0      0 --:--:-- --:--:-- --:--:--     0"
     ]
    },
    {
     "name": "stdout",
     "output_type": "stream",
     "text": [
      "64\n"
     ]
    },
    {
     "name": "stderr",
     "output_type": "stream",
     "text": [
      "100  2618  100  2577  100    41   1365     21  0:00:01  0:00:01 --:--:--  1391\n",
      "  % Total    % Received % Xferd  Average Speed   Time    Time     Time  Current\n",
      "                                 Dload  Upload   Total   Spent    Left  Speed\n",
      "100  4648  100  2071  100  2577  90039   109k --:--:-- --:--:-- --:--:--  378k\n",
      "  % Total    % Received % Xferd  Average Speed   Time    Time     Time  Current\n",
      "                                 Dload  Upload   Total   Spent    Left  Speed\n",
      "  0     0    0     0    0     0      0      0 --:--:-- --:--:-- --:--:--     0"
     ]
    },
    {
     "name": "stdout",
     "output_type": "stream",
     "text": [
      "65\n"
     ]
    },
    {
     "name": "stderr",
     "output_type": "stream",
     "text": [
      "100  2092  100  2043  100    49   1040     24  0:00:02  0:00:01  0:00:01  1067\n",
      "  % Total    % Received % Xferd  Average Speed   Time    Time     Time  Current\n",
      "                                 Dload  Upload   Total   Spent    Left  Speed\n",
      "100  3875  100  1832  100  2043   118k   131k --:--:-- --:--:-- --:--:--  756k\n",
      "  % Total    % Received % Xferd  Average Speed   Time    Time     Time  Current\n",
      "                                 Dload  Upload   Total   Spent    Left  Speed\n",
      "  0     0    0     0    0     0      0      0 --:--:-- --:--:-- --:--:--     0"
     ]
    },
    {
     "name": "stdout",
     "output_type": "stream",
     "text": [
      "66\n"
     ]
    },
    {
     "name": "stderr",
     "output_type": "stream",
     "text": [
      "\r",
      "100   178    0     0  100   178      0    147  0:00:01  0:00:01 --:--:--   147\r",
      "100  3353  100  3175  100   178   2318    129  0:00:01  0:00:01 --:--:--  2456\n",
      "  % Total    % Received % Xferd  Average Speed   Time    Time     Time  Current\n",
      "                                 Dload  Upload   Total   Spent    Left  Speed\n",
      "\r",
      "  0     0    0     0    0     0      0      0 --:--:-- --:--:-- --:--:--     0\r",
      "100  6240  100  3065  100  3175   192k   199k --:--:-- --:--:-- --:--:-- 1523k\n"
     ]
    },
    {
     "name": "stdout",
     "output_type": "stream",
     "text": [
      "67\n"
     ]
    },
    {
     "name": "stderr",
     "output_type": "stream",
     "text": [
      "  % Total    % Received % Xferd  Average Speed   Time    Time     Time  Current\n",
      "                                 Dload  Upload   Total   Spent    Left  Speed\n",
      "100  3002  100  2943  100    59   2181     43  0:00:01  0:00:01 --:--:--  2235\n",
      "  % Total    % Received % Xferd  Average Speed   Time    Time     Time  Current\n",
      "                                 Dload  Upload   Total   Spent    Left  Speed\n",
      "100  5293  100  2350  100  2943   145k   182k --:--:-- --:--:-- --:--:-- 1292k\n",
      "  % Total    % Received % Xferd  Average Speed   Time    Time     Time  Current\n",
      "                                 Dload  Upload   Total   Spent    Left  Speed\n",
      "  0     0    0     0    0     0      0      0 --:--:-- --:--:-- --:--:--     0"
     ]
    },
    {
     "name": "stdout",
     "output_type": "stream",
     "text": [
      "68\n"
     ]
    },
    {
     "name": "stderr",
     "output_type": "stream",
     "text": [
      "\r",
      "100   995  100   927  100    68   1129     82 --:--:-- --:--:-- --:--:--  1220\n",
      "  % Total    % Received % Xferd  Average Speed   Time    Time     Time  Current\n",
      "                                 Dload  Upload   Total   Spent    Left  Speed\n",
      "\r",
      "  0     0    0     0    0     0      0      0 --:--:-- --:--:-- --:--:--     0\r",
      "100  1707  100   780  100   927  31986  38015 --:--:-- --:--:-- --:--:--  138k\r",
      "100  1707  100   780  100   927  31891  37901 --:--:-- --:--:-- --:--:--  138k\n",
      "  % Total    % Received % Xferd  Average Speed   Time    Time     Time  Current\n",
      "                                 Dload  Upload   Total   Spent    Left  Speed\n",
      "\r",
      "  0     0    0     0    0     0      0      0 --:--:-- --:--:-- --:--:--     0"
     ]
    },
    {
     "name": "stdout",
     "output_type": "stream",
     "text": [
      "69\n"
     ]
    },
    {
     "name": "stderr",
     "output_type": "stream",
     "text": [
      "\r",
      "100   841  100   780  100    61    995     77 --:--:-- --:--:-- --:--:--  1082\n",
      "  % Total    % Received % Xferd  Average Speed   Time    Time     Time  Current\n",
      "                                 Dload  Upload   Total   Spent    Left  Speed\n",
      "\r",
      "  0     0    0     0    0     0      0      0 --:--:-- --:--:-- --:--:--     0\r",
      "100  1312  100   532  100   780  27465  40268 --:--:-- --:--:-- --:--:--  183k\n",
      "  % Total    % Received % Xferd  Average Speed   Time    Time     Time  Current\n",
      "                                 Dload  Upload   Total   Spent    Left  Speed\n",
      "\r",
      "  0     0    0     0    0     0      0      0 --:--:-- --:--:-- --:--:--     0"
     ]
    },
    {
     "name": "stdout",
     "output_type": "stream",
     "text": [
      "70\n"
     ]
    },
    {
     "name": "stderr",
     "output_type": "stream",
     "text": [
      "100  2535  100  2468  100    67   2713     73 --:--:-- --:--:-- --:--:--  2801\n",
      "  % Total    % Received % Xferd  Average Speed   Time    Time     Time  Current\n",
      "                                 Dload  Upload   Total   Spent    Left  Speed\n",
      "100  4696  100  2228  100  2468   101k   112k --:--:-- --:--:-- --:--:--  655k\n",
      "  % Total    % Received % Xferd  Average Speed   Time    Time     Time  Current\n",
      "                                 Dload  Upload   Total   Spent    Left  Speed\n",
      "  0     0    0     0    0     0      0      0 --:--:-- --:--:-- --:--:--     0"
     ]
    },
    {
     "name": "stdout",
     "output_type": "stream",
     "text": [
      "71\n"
     ]
    },
    {
     "name": "stderr",
     "output_type": "stream",
     "text": [
      "100  1246  100  1178  100    68   1513     87 --:--:-- --:--:-- --:--:--  1611\n",
      "  % Total    % Received % Xferd  Average Speed   Time    Time     Time  Current\n",
      "                                 Dload  Upload   Total   Spent    Left  Speed\n",
      "100  1965  100   787  100  1178  39016  58400 --:--:-- --:--:-- --:--:--  274k\n",
      "  % Total    % Received % Xferd  Average Speed   Time    Time     Time  Current\n",
      "                                 Dload  Upload   Total   Spent    Left  Speed\n",
      "  0     0    0     0    0     0      0      0 --:--:-- --:--:-- --:--:--     0"
     ]
    },
    {
     "name": "stdout",
     "output_type": "stream",
     "text": [
      "72\n"
     ]
    },
    {
     "name": "stderr",
     "output_type": "stream",
     "text": [
      "100   972  100   904  100    68   1040     78 --:--:-- --:--:-- --:--:--  1126\n",
      "  % Total    % Received % Xferd  Average Speed   Time    Time     Time  Current\n",
      "                                 Dload  Upload   Total   Spent    Left  Speed\n",
      "100  1590  100   686  100   904  29261  38559 --:--:-- --:--:-- --:--:--  155k\n",
      "  % Total    % Received % Xferd  Average Speed   Time    Time     Time  Current\n",
      "                                 Dload  Upload   Total   Spent    Left  Speed\n",
      "  0     0    0     0    0     0      0      0 --:--:-- --:--:-- --:--:--     0"
     ]
    },
    {
     "name": "stdout",
     "output_type": "stream",
     "text": [
      "73\n"
     ]
    },
    {
     "name": "stderr",
     "output_type": "stream",
     "text": [
      "100  2354  100  2267  100    87    746     28  0:00:03  0:00:03 --:--:--   777\n",
      "  % Total    % Received % Xferd  Average Speed   Time    Time     Time  Current\n",
      "                                 Dload  Upload   Total   Spent    Left  Speed\n",
      "100  4386  100  2119  100  2267   143k   153k --:--:-- --:--:-- --:--:-- 1427k\n",
      "  % Total    % Received % Xferd  Average Speed   Time    Time     Time  Current\n",
      "                                 Dload  Upload   Total   Spent    Left  Speed\n",
      "  0     0    0     0    0     0      0      0 --:--:-- --:--:-- --:--:--     0"
     ]
    },
    {
     "name": "stdout",
     "output_type": "stream",
     "text": [
      "74\n"
     ]
    },
    {
     "name": "stderr",
     "output_type": "stream",
     "text": [
      "100  4029  100  3962  100    67   3602     60  0:00:01  0:00:01 --:--:--  3686\n",
      "  % Total    % Received % Xferd  Average Speed   Time    Time     Time  Current\n",
      "                                 Dload  Upload   Total   Spent    Left  Speed\n",
      "100  7377  100  3415  100  3962   168k   195k --:--:-- --:--:-- --:--:--  900k\n",
      "  % Total    % Received % Xferd  Average Speed   Time    Time     Time  Current\n",
      "                                 Dload  Upload   Total   Spent    Left  Speed\n",
      "  0     0    0     0    0     0      0      0 --:--:-- --:--:-- --:--:--     0"
     ]
    },
    {
     "name": "stdout",
     "output_type": "stream",
     "text": [
      "75\n"
     ]
    },
    {
     "name": "stderr",
     "output_type": "stream",
     "text": [
      "\r",
      "100    67    0     0  100    67      0     55  0:00:01  0:00:01 --:--:--    55\r",
      "100  3000  100  2933  100    67   2299     52  0:00:01  0:00:01 --:--:--  2364\n",
      "  % Total    % Received % Xferd  Average Speed   Time    Time     Time  Current\n",
      "                                 Dload  Upload   Total   Spent    Left  Speed\n",
      "\r",
      "  0     0    0     0    0     0      0      0 --:--:-- --:--:-- --:--:--     0\r",
      "100  5575  100  2642  100  2933   142k   158k --:--:-- --:--:-- --:--:--  777k\n",
      "  % Total    % Received % Xferd  Average Speed   Time    Time     Time  Current\n",
      "                                 Dload  Upload   Total   Spent    Left  Speed\n",
      "\r",
      "  0     0    0     0    0     0      0      0 --:--:-- --:--:-- --:--:--     0"
     ]
    },
    {
     "name": "stdout",
     "output_type": "stream",
     "text": [
      "76\n"
     ]
    },
    {
     "name": "stderr",
     "output_type": "stream",
     "text": [
      "\r",
      "100   630  100   528  100   102    579    112 --:--:-- --:--:-- --:--:--   695\r",
      "100   630  100   528  100   102    579    111 --:--:-- --:--:-- --:--:--   695\n",
      "  % Total    % Received % Xferd  Average Speed   Time    Time     Time  Current\n",
      "                                 Dload  Upload   Total   Spent    Left  Speed\n",
      "\r",
      "  0     0    0     0    0     0      0      0 --:--:-- --:--:-- --:--:--     0\r",
      "100  1013  100   485  100   528  24466  26635 --:--:-- --:--:-- --:--:--  141k\n",
      "  % Total    % Received % Xferd  Average Speed   Time    Time     Time  Current\n",
      "                                 Dload  Upload   Total   Spent    Left  Speed\n",
      "\r",
      "  0     0    0     0    0     0      0      0 --:--:-- --:--:-- --:--:--     0"
     ]
    },
    {
     "name": "stdout",
     "output_type": "stream",
     "text": [
      "Failed: 77\n"
     ]
    },
    {
     "name": "stderr",
     "output_type": "stream",
     "text": [
      "\r",
      "100  3783  100  3716  100    67   3223     58  0:00:01  0:00:01 --:--:--  3295\r",
      "100  3783  100  3716  100    67   3223     58  0:00:01  0:00:01 --:--:--  3295\n",
      "  % Total    % Received % Xferd  Average Speed   Time    Time     Time  Current\n",
      "                                 Dload  Upload   Total   Spent    Left  Speed\n",
      "\r",
      "  0     0    0     0    0     0      0      0 --:--:-- --:--:-- --:--:--     0\r",
      "100  6780  100  3064  100  3716   192k   233k --:--:-- --:--:-- --:--:-- 1103k\n",
      "  % Total    % Received % Xferd  Average Speed   Time    Time     Time  Current\n",
      "                                 Dload  Upload   Total   Spent    Left  Speed\n",
      "\r",
      "  0     0    0     0    0     0      0      0 --:--:-- --:--:-- --:--:--     0"
     ]
    },
    {
     "name": "stdout",
     "output_type": "stream",
     "text": [
      "78\n"
     ]
    },
    {
     "name": "stderr",
     "output_type": "stream",
     "text": [
      "100  4732  100  4686  100    46   2823     27  0:00:01  0:00:01 --:--:--  2857\n",
      "  % Total    % Received % Xferd  Average Speed   Time    Time     Time  Current\n",
      "                                 Dload  Upload   Total   Spent    Left  Speed\n",
      "100  9256  100  4570  100  4686   319k   327k --:--:-- --:--:-- --:--:-- 2259k\n",
      "  % Total    % Received % Xferd  Average Speed   Time    Time     Time  Current\n",
      "                                 Dload  Upload   Total   Spent    Left  Speed\n",
      "  0     0    0     0    0     0      0      0 --:--:-- --:--:-- --:--:--     0"
     ]
    },
    {
     "name": "stdout",
     "output_type": "stream",
     "text": [
      "79\n"
     ]
    },
    {
     "name": "stderr",
     "output_type": "stream",
     "text": [
      "100  2829  100  2801  100    28   1413     14  0:00:02  0:00:01  0:00:01  1430\n",
      "  % Total    % Received % Xferd  Average Speed   Time    Time     Time  Current\n",
      "                                 Dload  Upload   Total   Spent    Left  Speed\n",
      "100  5340  100  2539  100  2801   166k   183k --:--:-- --:--:-- --:--:-- 1303k\n",
      "  % Total    % Received % Xferd  Average Speed   Time    Time     Time  Current\n",
      "                                 Dload  Upload   Total   Spent    Left  Speed\n",
      "  0     0    0     0    0     0      0      0 --:--:-- --:--:-- --:--:--     0"
     ]
    },
    {
     "name": "stdout",
     "output_type": "stream",
     "text": [
      "80\n"
     ]
    },
    {
     "name": "stderr",
     "output_type": "stream",
     "text": [
      "100  2177  100  2118  100    59   1385     38  0:00:01  0:00:01 --:--:--  1429\n",
      "  % Total    % Received % Xferd  Average Speed   Time    Time     Time  Current\n",
      "                                 Dload  Upload   Total   Spent    Left  Speed\n",
      "100  3875  100  1757  100  2118  70545  85039 --:--:-- --:--:-- --:--:--  473k\n",
      "  % Total    % Received % Xferd  Average Speed   Time    Time     Time  Current\n",
      "                                 Dload  Upload   Total   Spent    Left  Speed\n",
      "  0     0    0     0    0     0      0      0 --:--:-- --:--:-- --:--:--     0"
     ]
    },
    {
     "name": "stdout",
     "output_type": "stream",
     "text": [
      "81\n"
     ]
    },
    {
     "name": "stderr",
     "output_type": "stream",
     "text": [
      "100  3018  100  2953  100    65   2660     58  0:00:01  0:00:01 --:--:--  2736\n",
      "  % Total    % Received % Xferd  Average Speed   Time    Time     Time  Current\n",
      "                                 Dload  Upload   Total   Spent    Left  Speed\n",
      "100  5459  100  2506  100  2953   163k   192k --:--:-- --:--:-- --:--:-- 1066k\n",
      "  % Total    % Received % Xferd  Average Speed   Time    Time     Time  Current\n",
      "                                 Dload  Upload   Total   Spent    Left  Speed\n",
      "  0     0    0     0    0     0      0      0 --:--:-- --:--:-- --:--:--     0"
     ]
    },
    {
     "name": "stdout",
     "output_type": "stream",
     "text": [
      "82\n"
     ]
    },
    {
     "name": "stderr",
     "output_type": "stream",
     "text": [
      "100  2675  100  2632  100    43   1585     25  0:00:01  0:00:01 --:--:--  1617\n",
      "  % Total    % Received % Xferd  Average Speed   Time    Time     Time  Current\n",
      "                                 Dload  Upload   Total   Spent    Left  Speed\n",
      "100  5193  100  2561  100  2632   123k   127k --:--:-- --:--:-- --:--:--  633k\n",
      "  % Total    % Received % Xferd  Average Speed   Time    Time     Time  Current\n",
      "                                 Dload  Upload   Total   Spent    Left  Speed\n",
      "  0     0    0     0    0     0      0      0 --:--:-- --:--:-- --:--:--     0"
     ]
    },
    {
     "name": "stdout",
     "output_type": "stream",
     "text": [
      "doi from extra: False 10.6092/unibo/amsdottorato/8012\n",
      "83\n"
     ]
    },
    {
     "name": "stderr",
     "output_type": "stream",
     "text": [
      "\r",
      "100  1023  100   958  100    65   1030     69 --:--:-- --:--:-- --:--:--  1104\r",
      "100  1023  100   958  100    65   1030     69 --:--:-- --:--:-- --:--:--  1104\n",
      "  % Total    % Received % Xferd  Average Speed   Time    Time     Time  Current\n",
      "                                 Dload  Upload   Total   Spent    Left  Speed\n",
      "\r",
      "  0     0    0     0    0     0      0      0 --:--:-- --:--:-- --:--:--     0\r",
      "100  1551  100   593  100   958  23777  38412 --:--:-- --:--:-- --:--:--  137k\n",
      "  % Total    % Received % Xferd  Average Speed   Time    Time     Time  Current\n",
      "                                 Dload  Upload   Total   Spent    Left  Speed\n",
      "\r",
      "  0     0    0     0    0     0      0      0 --:--:-- --:--:-- --:--:--     0"
     ]
    },
    {
     "name": "stdout",
     "output_type": "stream",
     "text": [
      "doi from extra: False 10.1002/9781119720553.ch4\n",
      "84\n"
     ]
    },
    {
     "name": "stderr",
     "output_type": "stream",
     "text": [
      "100  2603  100  2536  100    67    791     20  0:00:03  0:00:03 --:--:--   814\n",
      "  % Total    % Received % Xferd  Average Speed   Time    Time     Time  Current\n",
      "                                 Dload  Upload   Total   Spent    Left  Speed\n",
      "100  4853  100  2317  100  2536   158k   173k --:--:-- --:--:-- --:--:--  947k\n",
      "  % Total    % Received % Xferd  Average Speed   Time    Time     Time  Current\n",
      "                                 Dload  Upload   Total   Spent    Left  Speed\n",
      "  0     0    0     0    0     0      0      0 --:--:-- --:--:-- --:--:--     0"
     ]
    },
    {
     "name": "stdout",
     "output_type": "stream",
     "text": [
      "85\n"
     ]
    },
    {
     "name": "stderr",
     "output_type": "stream",
     "text": [
      "100  3323  100  3251  100    72   1743     38  0:00:01  0:00:01 --:--:--  1787\n",
      "  % Total    % Received % Xferd  Average Speed   Time    Time     Time  Current\n",
      "                                 Dload  Upload   Total   Spent    Left  Speed\n",
      "100  5776  100  2525  100  3251   148k   191k --:--:-- --:--:-- --:--:-- 1128k\n",
      "/Library/Frameworks/Python.framework/Versions/3.10/lib/python3.10/site-packages/dateutil/parser/_parser.py:1207: UnknownTimezoneWarning: tzname CST identified but not understood.  Pass `tzinfos` argument in order to correctly return a timezone-aware datetime.  In a future version, this will raise an exception.\n",
      "  warnings.warn(\"tzname {tzname} identified but not understood.  \"\n",
      "  % Total    % Received % Xferd  Average Speed   Time    Time     Time  Current\n",
      "                                 Dload  Upload   Total   Spent    Left  Speed\n",
      "  0     0    0     0    0     0      0      0 --:--:-- --:--:-- --:--:--     0"
     ]
    },
    {
     "name": "stdout",
     "output_type": "stream",
     "text": [
      "86\n"
     ]
    },
    {
     "name": "stderr",
     "output_type": "stream",
     "text": [
      "100  2350  100  2283  100    67   2742     80 --:--:-- --:--:-- --:--:--  2834\n",
      "  % Total    % Received % Xferd  Average Speed   Time    Time     Time  Current\n",
      "                                 Dload  Upload   Total   Spent    Left  Speed\n",
      "100  4206  100  1923  100  2283  83438  99058 --:--:-- --:--:-- --:--:--  456k\n",
      "  % Total    % Received % Xferd  Average Speed   Time    Time     Time  Current\n",
      "                                 Dload  Upload   Total   Spent    Left  Speed\n",
      "  0     0    0     0    0     0      0      0 --:--:-- --:--:-- --:--:--     0"
     ]
    },
    {
     "name": "stdout",
     "output_type": "stream",
     "text": [
      "87\n"
     ]
    },
    {
     "name": "stderr",
     "output_type": "stream",
     "text": [
      "100   337  100   283  100    54    480     91 --:--:-- --:--:-- --:--:--   579\n",
      "  % Total    % Received % Xferd  Average Speed   Time    Time     Time  Current\n",
      "                                 Dload  Upload   Total   Spent    Left  Speed\n",
      "100   504  100   221  100   283  16001  20490 --:--:-- --:--:-- --:--:--  164k\n",
      "  % Total    % Received % Xferd  Average Speed   Time    Time     Time  Current\n",
      "                                 Dload  Upload   Total   Spent    Left  Speed\n",
      "  0     0    0     0    0     0      0      0 --:--:-- --:--:-- --:--:--     0"
     ]
    },
    {
     "name": "stdout",
     "output_type": "stream",
     "text": [
      "88\n"
     ]
    },
    {
     "name": "stderr",
     "output_type": "stream",
     "text": [
      "100  3040  100  2986  100    54   1700     30  0:00:01  0:00:01 --:--:--  1737\n",
      "  % Total    % Received % Xferd  Average Speed   Time    Time     Time  Current\n",
      "                                 Dload  Upload   Total   Spent    Left  Speed\n",
      "100  5506  100  2520  100  2986   103k   122k --:--:-- --:--:-- --:--:--  537k\n",
      "  % Total    % Received % Xferd  Average Speed   Time    Time     Time  Current\n",
      "                                 Dload  Upload   Total   Spent    Left  Speed\n",
      "  0     0    0     0    0     0      0      0 --:--:-- --:--:-- --:--:--     0"
     ]
    },
    {
     "name": "stdout",
     "output_type": "stream",
     "text": [
      "89\n"
     ]
    },
    {
     "name": "stderr",
     "output_type": "stream",
     "text": [
      "100  2563  100  2462  100   101    853     35  0:00:02  0:00:02 --:--:--   889\n",
      "  % Total    % Received % Xferd  Average Speed   Time    Time     Time  Current\n",
      "                                 Dload  Upload   Total   Spent    Left  Speed\n",
      "100  4645  100  2183  100  2462    99k   112k --:--:-- --:--:-- --:--:--  648k\n",
      "  % Total    % Received % Xferd  Average Speed   Time    Time     Time  Current\n",
      "                                 Dload  Upload   Total   Spent    Left  Speed\n",
      "  0     0    0     0    0     0      0      0 --:--:-- --:--:-- --:--:--     0"
     ]
    },
    {
     "name": "stdout",
     "output_type": "stream",
     "text": [
      "90\n"
     ]
    },
    {
     "name": "stderr",
     "output_type": "stream",
     "text": [
      "100  2573  100  2488  100    85    972     33  0:00:02  0:00:02 --:--:--  1007\n",
      "  % Total    % Received % Xferd  Average Speed   Time    Time     Time  Current\n",
      "                                 Dload  Upload   Total   Spent    Left  Speed\n",
      "100  4528  100  2040  100  2488   111k   135k --:--:-- --:--:-- --:--:--  491k\n",
      "  % Total    % Received % Xferd  Average Speed   Time    Time     Time  Current\n",
      "                                 Dload  Upload   Total   Spent    Left  Speed\n",
      "  0     0    0     0    0     0      0      0 --:--:-- --:--:-- --:--:--     0"
     ]
    },
    {
     "name": "stdout",
     "output_type": "stream",
     "text": [
      "91\n"
     ]
    },
    {
     "name": "stderr",
     "output_type": "stream",
     "text": [
      "100  2463  100  2413  100    50   2355     48  0:00:01  0:00:01 --:--:--  2419\n",
      "  % Total    % Received % Xferd  Average Speed   Time    Time     Time  Current\n",
      "                                 Dload  Upload   Total   Spent    Left  Speed\n",
      "100  4707  100  2294  100  2413   149k   157k --:--:-- --:--:-- --:--:-- 1532k\n",
      "  % Total    % Received % Xferd  Average Speed   Time    Time     Time  Current\n",
      "                                 Dload  Upload   Total   Spent    Left  Speed\n",
      "  0     0    0     0    0     0      0      0 --:--:-- --:--:-- --:--:--     0"
     ]
    },
    {
     "name": "stdout",
     "output_type": "stream",
     "text": [
      "92\n"
     ]
    },
    {
     "name": "stderr",
     "output_type": "stream",
     "text": [
      "\r",
      "100    68    0     0  100    68      0     56  0:00:01  0:00:01 --:--:--    56\r",
      "100  1277  100  1209  100    68    933     52  0:00:01  0:00:01 --:--:--   990\n",
      "  % Total    % Received % Xferd  Average Speed   Time    Time     Time  Current\n",
      "                                 Dload  Upload   Total   Spent    Left  Speed\n",
      "\r",
      "  0     0    0     0    0     0      0      0 --:--:-- --:--:-- --:--:--     0\r",
      "100  1798  100   589  100  1209  31068  63772 --:--:-- --:--:-- --:--:--  250k\n",
      "  % Total    % Received % Xferd  Average Speed   Time    Time     Time  Current\n",
      "                                 Dload  Upload   Total   Spent    Left  Speed\n",
      "\r",
      "  0     0    0     0    0     0      0      0 --:--:-- --:--:-- --:--:--     0"
     ]
    },
    {
     "name": "stdout",
     "output_type": "stream",
     "text": [
      "93\n"
     ]
    },
    {
     "name": "stderr",
     "output_type": "stream",
     "text": [
      "\r",
      "100  3236  100  3188  100    48   3857     58 --:--:-- --:--:-- --:--:--  3946\r",
      "100  3236  100  3188  100    48   3857     58 --:--:-- --:--:-- --:--:--  3946\n",
      "  % Total    % Received % Xferd  Average Speed   Time    Time     Time  Current\n",
      "                                 Dload  Upload   Total   Spent    Left  Speed\n",
      "\r",
      "  0     0    0     0    0     0      0      0 --:--:-- --:--:-- --:--:--     0\r",
      "100  6259  100  3071  100  3188   217k   225k --:--:-- --:--:-- --:--:-- 1222k\n",
      "  % Total    % Received % Xferd  Average Speed   Time    Time     Time  Current\n",
      "                                 Dload  Upload   Total   Spent    Left  Speed\n",
      "\r",
      "  0     0    0     0    0     0      0      0 --:--:-- --:--:-- --:--:--     0"
     ]
    },
    {
     "name": "stdout",
     "output_type": "stream",
     "text": [
      "94\n"
     ]
    },
    {
     "name": "stderr",
     "output_type": "stream",
     "text": [
      "\r",
      "100   940  100   872  100    68    950     74 --:--:-- --:--:-- --:--:--  1028\r",
      "100   940  100   872  100    68    950     74 --:--:-- --:--:-- --:--:--  1028\n",
      "  % Total    % Received % Xferd  Average Speed   Time    Time     Time  Current\n",
      "                                 Dload  Upload   Total   Spent    Left  Speed\n",
      "\r",
      "  0     0    0     0    0     0      0      0 --:--:-- --:--:-- --:--:--     0\r",
      "100  1408  100   536  100   872  25707  41822 --:--:-- --:--:-- --:--:--  196k\n",
      "  % Total    % Received % Xferd  Average Speed   Time    Time     Time  Current\n",
      "                                 Dload  Upload   Total   Spent    Left  Speed\n",
      "\r",
      "  0     0    0     0    0     0      0      0 --:--:-- --:--:-- --:--:--     0"
     ]
    },
    {
     "name": "stdout",
     "output_type": "stream",
     "text": [
      "95\n"
     ]
    },
    {
     "name": "stderr",
     "output_type": "stream",
     "text": [
      "\r",
      "100  3931  100  3883  100    48   3652     45  0:00:01  0:00:01 --:--:--  3719\r",
      "100  3931  100  3883  100    48   3652     45  0:00:01  0:00:01 --:--:--  3719\n",
      "  % Total    % Received % Xferd  Average Speed   Time    Time     Time  Current\n",
      "                                 Dload  Upload   Total   Spent    Left  Speed\n",
      "\r",
      "  0     0    0     0    0     0      0      0 --:--:-- --:--:-- --:--:--     0\r",
      "100  7503  100  3620  100  3883   210k   225k --:--:-- --:--:-- --:--:-- 1465k\n",
      "  % Total    % Received % Xferd  Average Speed   Time    Time     Time  Current\n",
      "                                 Dload  Upload   Total   Spent    Left  Speed\n",
      "\r",
      "  0     0    0     0    0     0      0      0 --:--:-- --:--:-- --:--:--     0"
     ]
    },
    {
     "name": "stdout",
     "output_type": "stream",
     "text": [
      "96\n"
     ]
    },
    {
     "name": "stderr",
     "output_type": "stream",
     "text": [
      "\r",
      "100   952  100   884  100    68    870     66  0:00:01  0:00:01 --:--:--   943\r",
      "100   952  100   884  100    68    870     66  0:00:01  0:00:01 --:--:--   943\n",
      "  % Total    % Received % Xferd  Average Speed   Time    Time     Time  Current\n",
      "                                 Dload  Upload   Total   Spent    Left  Speed\n",
      "\r",
      "  0     0    0     0    0     0      0      0 --:--:-- --:--:-- --:--:--     0\r",
      "100  1384  100   500  100   884  26208  46336 --:--:-- --:--:-- --:--:--  193k\n",
      "  % Total    % Received % Xferd  Average Speed   Time    Time     Time  Current\n",
      "                                 Dload  Upload   Total   Spent    Left  Speed\n",
      "\r",
      "  0     0    0     0    0     0      0      0 --:--:-- --:--:-- --:--:--     0"
     ]
    },
    {
     "name": "stdout",
     "output_type": "stream",
     "text": [
      "97\n"
     ]
    },
    {
     "name": "stderr",
     "output_type": "stream",
     "text": [
      "100  1484  100  1430  100    54    989     37  0:00:01  0:00:01 --:--:--  1031\n",
      "  % Total    % Received % Xferd  Average Speed   Time    Time     Time  Current\n",
      "                                 Dload  Upload   Total   Spent    Left  Speed\n",
      "100  2513  100  1083  100  1430  31690  41844 --:--:-- --:--:-- --:--:--  129k\n",
      "  % Total    % Received % Xferd  Average Speed   Time    Time     Time  Current\n",
      "                                 Dload  Upload   Total   Spent    Left  Speed\n",
      "  0     0    0     0    0     0      0      0 --:--:-- --:--:-- --:--:--     0"
     ]
    },
    {
     "name": "stdout",
     "output_type": "stream",
     "text": [
      "98\n"
     ]
    },
    {
     "name": "stderr",
     "output_type": "stream",
     "text": [
      "100  2163  100  2118  100    45    714     15  0:00:03  0:00:02  0:00:01   731\n",
      "  % Total    % Received % Xferd  Average Speed   Time    Time     Time  Current\n",
      "                                 Dload  Upload   Total   Spent    Left  Speed\n",
      "100  3759  100  1641  100  2118   105k   136k --:--:-- --:--:-- --:--:--  734k\n",
      "  % Total    % Received % Xferd  Average Speed   Time    Time     Time  Current\n",
      "                                 Dload  Upload   Total   Spent    Left  Speed\n",
      "  0     0    0     0    0     0      0      0 --:--:-- --:--:-- --:--:--     0"
     ]
    },
    {
     "name": "stdout",
     "output_type": "stream",
     "text": [
      "99\n"
     ]
    },
    {
     "name": "stderr",
     "output_type": "stream",
     "text": [
      "\r",
      "100  3136  100  3088  100    48   2942     45  0:00:01  0:00:01 --:--:--  3000\r",
      "100  3136  100  3088  100    48   2942     45  0:00:01  0:00:01 --:--:--  3000\n",
      "  % Total    % Received % Xferd  Average Speed   Time    Time     Time  Current\n",
      "                                 Dload  Upload   Total   Spent    Left  Speed\n",
      "\r",
      "  0     0    0     0    0     0      0      0 --:--:-- --:--:-- --:--:--     0\r",
      "100  6005  100  2917  100  3088   214k   226k --:--:-- --:--:-- --:--:-- 1954k\n",
      "  % Total    % Received % Xferd  Average Speed   Time    Time     Time  Current\n",
      "                                 Dload  Upload   Total   Spent    Left  Speed\n",
      "\r",
      "  0     0    0     0    0     0      0      0 --:--:-- --:--:-- --:--:--     0"
     ]
    },
    {
     "name": "stdout",
     "output_type": "stream",
     "text": [
      "100\n"
     ]
    },
    {
     "name": "stderr",
     "output_type": "stream",
     "text": [
      "100  2554  100  2494  100    60   1052     25  0:00:02  0:00:02 --:--:--  1080\n",
      "  % Total    % Received % Xferd  Average Speed   Time    Time     Time  Current\n",
      "                                 Dload  Upload   Total   Spent    Left  Speed\n",
      "100  4583  100  2089  100  2494   143k   171k --:--:-- --:--:-- --:--:-- 1491k\n"
     ]
    },
    {
     "name": "stdout",
     "output_type": "stream",
     "text": [
      "101\n"
     ]
    },
    {
     "name": "stderr",
     "output_type": "stream",
     "text": [
      "  % Total    % Received % Xferd  Average Speed   Time    Time     Time  Current\n",
      "                                 Dload  Upload   Total   Spent    Left  Speed\n",
      "100  2676  100  2628  100    48   2469     45  0:00:01  0:00:01 --:--:--  2531\n",
      "  % Total    % Received % Xferd  Average Speed   Time    Time     Time  Current\n",
      "                                 Dload  Upload   Total   Spent    Left  Speed\n",
      "100  5059  100  2431  100  2628   168k   182k --:--:-- --:--:-- --:--:-- 1646k\n",
      "  % Total    % Received % Xferd  Average Speed   Time    Time     Time  Current\n",
      "                                 Dload  Upload   Total   Spent    Left  Speed\n",
      "  0     0    0     0    0     0      0      0 --:--:-- --:--:-- --:--:--     0"
     ]
    },
    {
     "name": "stdout",
     "output_type": "stream",
     "text": [
      "102\n"
     ]
    },
    {
     "name": "stderr",
     "output_type": "stream",
     "text": [
      "100  2178  100  2017  100   161   1176     93  0:00:01  0:00:01 --:--:--  1273\n",
      "  % Total    % Received % Xferd  Average Speed   Time    Time     Time  Current\n",
      "                                 Dload  Upload   Total   Spent    Left  Speed\n",
      "100  3644  100  1627  100  2017    99k   123k --:--:-- --:--:-- --:--:--  711k\n",
      "  % Total    % Received % Xferd  Average Speed   Time    Time     Time  Current\n",
      "                                 Dload  Upload   Total   Spent    Left  Speed\n",
      "  0     0    0     0    0     0      0      0 --:--:-- --:--:-- --:--:--     0"
     ]
    },
    {
     "name": "stdout",
     "output_type": "stream",
     "text": [
      "103\n"
     ]
    },
    {
     "name": "stderr",
     "output_type": "stream",
     "text": [
      "\r",
      "100    67    0     0  100    67      0     55  0:00:01  0:00:01 --:--:--    55\r",
      "100  4316  100  4249  100    67   3193     50  0:00:01  0:00:01 --:--:--  3259\n",
      "  % Total    % Received % Xferd  Average Speed   Time    Time     Time  Current\n",
      "                                 Dload  Upload   Total   Spent    Left  Speed\n",
      "\r",
      "  0     0    0     0    0     0      0      0 --:--:-- --:--:-- --:--:--     0\r",
      "100  8100  100  3851  100  4249   179k   198k --:--:-- --:--:-- --:--:-- 1130k\n",
      "  % Total    % Received % Xferd  Average Speed   Time    Time     Time  Current\n",
      "                                 Dload  Upload   Total   Spent    Left  Speed\n",
      "\r",
      "  0     0    0     0    0     0      0      0 --:--:-- --:--:-- --:--:--     0"
     ]
    },
    {
     "name": "stdout",
     "output_type": "stream",
     "text": [
      "104\n"
     ]
    },
    {
     "name": "stderr",
     "output_type": "stream",
     "text": [
      "100  4175  100  4126  100    49   3192     37  0:00:01  0:00:01 --:--:--  3241\n",
      "  % Total    % Received % Xferd  Average Speed   Time    Time     Time  Current\n",
      "                                 Dload  Upload   Total   Spent    Left  Speed\n",
      "100  7615  100  3489  100  4126   196k   232k --:--:-- --:--:-- --:--:-- 1062k\n",
      "  % Total    % Received % Xferd  Average Speed   Time    Time     Time  Current\n",
      "                                 Dload  Upload   Total   Spent    Left  Speed\n",
      "  0     0    0     0    0     0      0      0 --:--:-- --:--:-- --:--:--     0"
     ]
    },
    {
     "name": "stdout",
     "output_type": "stream",
     "text": [
      "105\n"
     ]
    },
    {
     "name": "stderr",
     "output_type": "stream",
     "text": [
      "\r",
      "100   591  100   488  100   103    646    136 --:--:-- --:--:-- --:--:--   786\n",
      "  % Total    % Received % Xferd  Average Speed   Time    Time     Time  Current\n",
      "                                 Dload  Upload   Total   Spent    Left  Speed\n",
      "\r",
      "  0     0    0     0    0     0      0      0 --:--:-- --:--:-- --:--:--     0\r",
      "100   934  100   446  100   488  27520  30112 --:--:-- --:--:-- --:--:--  228k\n",
      "  % Total    % Received % Xferd  Average Speed   Time    Time     Time  Current\n",
      "                                 Dload  Upload   Total   Spent    Left  Speed\n",
      "\r",
      "  0     0    0     0    0     0      0      0 --:--:-- --:--:-- --:--:--     0"
     ]
    },
    {
     "name": "stdout",
     "output_type": "stream",
     "text": [
      "Failed: 106\n"
     ]
    },
    {
     "name": "stderr",
     "output_type": "stream",
     "text": [
      "100  2786  100  2719  100    67   1345     33  0:00:02  0:00:02 --:--:--  1382\n",
      "  % Total    % Received % Xferd  Average Speed   Time    Time     Time  Current\n",
      "                                 Dload  Upload   Total   Spent    Left  Speed\n",
      "100  5095  100  2376  100  2719   110k   126k --:--:-- --:--:-- --:--:--  710k\n",
      "  % Total    % Received % Xferd  Average Speed   Time    Time     Time  Current\n",
      "                                 Dload  Upload   Total   Spent    Left  Speed\n",
      "  0     0    0     0    0     0      0      0 --:--:-- --:--:-- --:--:--     0"
     ]
    },
    {
     "name": "stdout",
     "output_type": "stream",
     "text": [
      "107\n"
     ]
    },
    {
     "name": "stderr",
     "output_type": "stream",
     "text": [
      "\r",
      "100   988  100   920  100    68   1076     79 --:--:-- --:--:-- --:--:--  1165\n",
      "  % Total    % Received % Xferd  Average Speed   Time    Time     Time  Current\n",
      "                                 Dload  Upload   Total   Spent    Left  Speed\n",
      "\r",
      "  0     0    0     0    0     0      0      0 --:--:-- --:--:-- --:--:--     0\r",
      "100  1547  100   627  100   920  35838  52586 --:--:-- --:--:-- --:--:--  302k\n",
      "  % Total    % Received % Xferd  Average Speed   Time    Time     Time  Current\n",
      "                                 Dload  Upload   Total   Spent    Left  Speed\n",
      "\r",
      "  0     0    0     0    0     0      0      0 --:--:-- --:--:-- --:--:--     0"
     ]
    },
    {
     "name": "stdout",
     "output_type": "stream",
     "text": [
      "108\n"
     ]
    },
    {
     "name": "stderr",
     "output_type": "stream",
     "text": [
      "100  4346  100  4296  100    50   2834     32  0:00:01  0:00:01 --:--:--  2876\n",
      "  % Total    % Received % Xferd  Average Speed   Time    Time     Time  Current\n",
      "                                 Dload  Upload   Total   Spent    Left  Speed\n",
      "100  8575  100  4279  100  4296   280k   281k --:--:-- --:--:-- --:--:-- 2791k\n",
      "  % Total    % Received % Xferd  Average Speed   Time    Time     Time  Current\n",
      "                                 Dload  Upload   Total   Spent    Left  Speed\n",
      "  0     0    0     0    0     0      0      0 --:--:-- --:--:-- --:--:--     0"
     ]
    },
    {
     "name": "stdout",
     "output_type": "stream",
     "text": [
      "109\n"
     ]
    },
    {
     "name": "stderr",
     "output_type": "stream",
     "text": [
      "\r",
      "100  1877  100  1810  100    67   1756     65  0:00:01  0:00:01 --:--:--  1829\r",
      "100  1877  100  1810  100    67   1756     65  0:00:01  0:00:01 --:--:--  1829\n",
      "  % Total    % Received % Xferd  Average Speed   Time    Time     Time  Current\n",
      "                                 Dload  Upload   Total   Spent    Left  Speed\n",
      "\r",
      "  0     0    0     0    0     0      0      0 --:--:-- --:--:-- --:--:--     0\r",
      "100  3264  100  1454  100  1810  66983  83383 --:--:-- --:--:-- --:--:--  398k\n",
      "  % Total    % Received % Xferd  Average Speed   Time    Time     Time  Current\n",
      "                                 Dload  Upload   Total   Spent    Left  Speed\n",
      "\r",
      "  0     0    0     0    0     0      0      0 --:--:-- --:--:-- --:--:--     0"
     ]
    },
    {
     "name": "stdout",
     "output_type": "stream",
     "text": [
      "110\n"
     ]
    },
    {
     "name": "stderr",
     "output_type": "stream",
     "text": [
      "\r",
      "100  4317  100  4269  100    48   5290     59 --:--:-- --:--:-- --:--:--  5382\r",
      "100  4317  100  4269  100    48   5289     59 --:--:-- --:--:-- --:--:--  5382\n",
      "  % Total    % Received % Xferd  Average Speed   Time    Time     Time  Current\n",
      "                                 Dload  Upload   Total   Spent    Left  Speed\n",
      "\r",
      "  0     0    0     0    0     0      0      0 --:--:-- --:--:-- --:--:--     0\r",
      "100  7813  100  3544  100  4269   225k   271k --:--:-- --:--:-- --:--:-- 1907k\n",
      "  % Total    % Received % Xferd  Average Speed   Time    Time     Time  Current\n",
      "                                 Dload  Upload   Total   Spent    Left  Speed\n",
      "\r",
      "  0     0    0     0    0     0      0      0 --:--:-- --:--:-- --:--:--     0"
     ]
    },
    {
     "name": "stdout",
     "output_type": "stream",
     "text": [
      "111\n"
     ]
    },
    {
     "name": "stderr",
     "output_type": "stream",
     "text": [
      "\r",
      "100    27    0     0  100    27      0     22  0:00:01  0:00:01 --:--:--    22\r",
      "100  3490  100  3463  100    27   2667     20  0:00:01  0:00:01 --:--:--  2703\n",
      "  % Total    % Received % Xferd  Average Speed   Time    Time     Time  Current\n",
      "                                 Dload  Upload   Total   Spent    Left  Speed\n",
      "\r",
      "  0     0    0     0    0     0      0      0 --:--:-- --:--:-- --:--:--     0\r",
      "100  6781  100  3318  100  3463   212k   222k --:--:-- --:--:-- --:--:-- 1324k\n",
      "  % Total    % Received % Xferd  Average Speed   Time    Time     Time  Current\n",
      "                                 Dload  Upload   Total   Spent    Left  Speed\n",
      "\r",
      "  0     0    0     0    0     0      0      0 --:--:-- --:--:-- --:--:--     0"
     ]
    },
    {
     "name": "stdout",
     "output_type": "stream",
     "text": [
      "112\n"
     ]
    },
    {
     "name": "stderr",
     "output_type": "stream",
     "text": [
      "100  3274  100  3226  100    48   3702     55 --:--:-- --:--:-- --:--:--  3780\n",
      "  % Total    % Received % Xferd  Average Speed   Time    Time     Time  Current\n",
      "                                 Dload  Upload   Total   Spent    Left  Speed\n",
      "100  6031  100  2805  100  3226   137k   158k --:--:-- --:--:-- --:--:-- 1472k\n",
      "  % Total    % Received % Xferd  Average Speed   Time    Time     Time  Current\n",
      "                                 Dload  Upload   Total   Spent    Left  Speed\n",
      "  0     0    0     0    0     0      0      0 --:--:-- --:--:-- --:--:--     0"
     ]
    },
    {
     "name": "stdout",
     "output_type": "stream",
     "text": [
      "113\n"
     ]
    },
    {
     "name": "stderr",
     "output_type": "stream",
     "text": [
      "100  4362  100  4312  100    50   4295     49  0:00:01  0:00:01 --:--:--  4362\n",
      "  % Total    % Received % Xferd  Average Speed   Time    Time     Time  Current\n",
      "                                 Dload  Upload   Total   Spent    Left  Speed\n",
      "100  8101  100  3789  100  4312   184k   210k --:--:-- --:--:-- --:--:-- 1977k\n",
      "  % Total    % Received % Xferd  Average Speed   Time    Time     Time  Current\n",
      "                                 Dload  Upload   Total   Spent    Left  Speed\n",
      "  0     0    0     0    0     0      0      0 --:--:-- --:--:-- --:--:--     0"
     ]
    },
    {
     "name": "stdout",
     "output_type": "stream",
     "text": [
      "114\n"
     ]
    },
    {
     "name": "stderr",
     "output_type": "stream",
     "text": [
      "100  2252  100  2185  100    67   1601     49  0:00:01  0:00:01 --:--:--  1655\n",
      "  % Total    % Received % Xferd  Average Speed   Time    Time     Time  Current\n",
      "                                 Dload  Upload   Total   Spent    Left  Speed\n",
      "100  3825  100  1640  100  2185   108k   144k --:--:-- --:--:-- --:--:--  933k\n"
     ]
    },
    {
     "name": "stdout",
     "output_type": "stream",
     "text": [
      "115\n"
     ]
    },
    {
     "name": "stderr",
     "output_type": "stream",
     "text": [
      "  % Total    % Received % Xferd  Average Speed   Time    Time     Time  Current\n",
      "                                 Dload  Upload   Total   Spent    Left  Speed\n",
      "100  2725  100  2658  100    67   3329     83 --:--:-- --:--:-- --:--:--  3431\n",
      "  % Total    % Received % Xferd  Average Speed   Time    Time     Time  Current\n",
      "                                 Dload  Upload   Total   Spent    Left  Speed\n",
      "100  5065  100  2407  100  2658   143k   158k --:--:-- --:--:-- --:--:--  989k\n",
      "  % Total    % Received % Xferd  Average Speed   Time    Time     Time  Current\n",
      "                                 Dload  Upload   Total   Spent    Left  Speed\n",
      "  0     0    0     0    0     0      0      0 --:--:-- --:--:-- --:--:--     0"
     ]
    },
    {
     "name": "stdout",
     "output_type": "stream",
     "text": [
      "116\n"
     ]
    },
    {
     "name": "stderr",
     "output_type": "stream",
     "text": [
      "100  2730  100  2679  100    51   1196     22  0:00:02  0:00:02 --:--:--  1222\n",
      "  % Total    % Received % Xferd  Average Speed   Time    Time     Time  Current\n",
      "                                 Dload  Upload   Total   Spent    Left  Speed\n",
      "100  5146  100  2467  100  2679   156k   170k --:--:-- --:--:-- --:--:-- 1005k\n",
      "  % Total    % Received % Xferd  Average Speed   Time    Time     Time  Current\n",
      "                                 Dload  Upload   Total   Spent    Left  Speed\n",
      "  0     0    0     0    0     0      0      0 --:--:-- --:--:-- --:--:--     0"
     ]
    },
    {
     "name": "stdout",
     "output_type": "stream",
     "text": [
      "117\n"
     ]
    },
    {
     "name": "stderr",
     "output_type": "stream",
     "text": [
      "\r",
      "100  3445  100  3396  100    49   3355     48  0:00:01  0:00:01 --:--:--  3421\r",
      "100  3445  100  3396  100    49   3355     48  0:00:01  0:00:01 --:--:--  3421\n",
      "  % Total    % Received % Xferd  Average Speed   Time    Time     Time  Current\n",
      "                                 Dload  Upload   Total   Spent    Left  Speed\n",
      "\r",
      "  0     0    0     0    0     0      0      0 --:--:-- --:--:-- --:--:--     0\r",
      "100  6347  100  2951  100  3396   187k   216k --:--:-- --:--:-- --:--:-- 1549k\n",
      "  % Total    % Received % Xferd  Average Speed   Time    Time     Time  Current\n",
      "                                 Dload  Upload   Total   Spent    Left  Speed\n",
      "\r",
      "  0     0    0     0    0     0      0      0 --:--:-- --:--:-- --:--:--     0"
     ]
    },
    {
     "name": "stdout",
     "output_type": "stream",
     "text": [
      "118\n"
     ]
    },
    {
     "name": "stderr",
     "output_type": "stream",
     "text": [
      "\r",
      "100    50    0     0  100    50      0     41  0:00:01  0:00:01 --:--:--    41\r",
      "100  5890  100  5840  100    50   4731     40  0:00:01  0:00:01 --:--:--  4800\n",
      "  % Total    % Received % Xferd  Average Speed   Time    Time     Time  Current\n",
      "                                 Dload  Upload   Total   Spent    Left  Speed\n",
      "\r",
      "  0     0    0     0    0     0      0      0 --:--:-- --:--:-- --:--:--     0\r",
      "100 12833  100  6993  100  5840   460k   384k --:--:-- --:--:-- --:--:-- 3133k\n",
      "  % Total    % Received % Xferd  Average Speed   Time    Time     Time  Current\n",
      "                                 Dload  Upload   Total   Spent    Left  Speed\n",
      "\r",
      "  0     0    0     0    0     0      0      0 --:--:-- --:--:-- --:--:--     0"
     ]
    },
    {
     "name": "stdout",
     "output_type": "stream",
     "text": [
      "119\n"
     ]
    },
    {
     "name": "stderr",
     "output_type": "stream",
     "text": [
      "100  2300  100  2233  100    67   1947     58  0:00:01  0:00:01 --:--:--  2014\n",
      "  % Total    % Received % Xferd  Average Speed   Time    Time     Time  Current\n",
      "                                 Dload  Upload   Total   Spent    Left  Speed\n",
      "100  4270  100  2037  100  2233   118k   129k --:--:-- --:--:-- --:--:-- 1042k\n",
      "  % Total    % Received % Xferd  Average Speed   Time    Time     Time  Current\n",
      "                                 Dload  Upload   Total   Spent    Left  Speed\n",
      "  0     0    0     0    0     0      0      0 --:--:-- --:--:-- --:--:--     0"
     ]
    },
    {
     "name": "stdout",
     "output_type": "stream",
     "text": [
      "120\n"
     ]
    },
    {
     "name": "stderr",
     "output_type": "stream",
     "text": [
      "100  3084  100  3057  100    27   1460     12  0:00:02  0:00:02 --:--:--  1477\n",
      "  % Total    % Received % Xferd  Average Speed   Time    Time     Time  Current\n",
      "                                 Dload  Upload   Total   Spent    Left  Speed\n",
      "100  5809  100  2752  100  3057   146k   163k --:--:-- --:--:-- --:--:--  945k\n",
      "  % Total    % Received % Xferd  Average Speed   Time    Time     Time  Current\n",
      "                                 Dload  Upload   Total   Spent    Left  Speed\n",
      "  0     0    0     0    0     0      0      0 --:--:-- --:--:-- --:--:--     0"
     ]
    },
    {
     "name": "stdout",
     "output_type": "stream",
     "text": [
      "121\n"
     ]
    },
    {
     "name": "stderr",
     "output_type": "stream",
     "text": [
      "\r",
      "100    27    0     0  100    27      0     22  0:00:01  0:00:01 --:--:--    22\r",
      "100  2683  100  2656  100    27   1972     20  0:00:01  0:00:01 --:--:--  2002\n",
      "  % Total    % Received % Xferd  Average Speed   Time    Time     Time  Current\n",
      "                                 Dload  Upload   Total   Spent    Left  Speed\n",
      "\r",
      "  0     0    0     0    0     0      0      0 --:--:-- --:--:-- --:--:--     0\r",
      "100  5036  100  2380  100  2656   154k   172k --:--:-- --:--:-- --:--:--  819k\n",
      "  % Total    % Received % Xferd  Average Speed   Time    Time     Time  Current\n",
      "                                 Dload  Upload   Total   Spent    Left  Speed\n",
      "\r",
      "  0     0    0     0    0     0      0      0 --:--:-- --:--:-- --:--:--     0"
     ]
    },
    {
     "name": "stdout",
     "output_type": "stream",
     "text": [
      "122\n"
     ]
    },
    {
     "name": "stderr",
     "output_type": "stream",
     "text": [
      "100  2816  100  2662  100   154   1219     70  0:00:02  0:00:02 --:--:--  1294\n",
      "  % Total    % Received % Xferd  Average Speed   Time    Time     Time  Current\n",
      "                                 Dload  Upload   Total   Spent    Left  Speed\n",
      "100  4991  100  2329  100  2662   159k   182k --:--:-- --:--:-- --:--:-- 1218k\n",
      "  % Total    % Received % Xferd  Average Speed   Time    Time     Time  Current\n",
      "                                 Dload  Upload   Total   Spent    Left  Speed\n",
      "  0     0    0     0    0     0      0      0 --:--:-- --:--:-- --:--:--     0"
     ]
    },
    {
     "name": "stdout",
     "output_type": "stream",
     "text": [
      "123\n"
     ]
    },
    {
     "name": "stderr",
     "output_type": "stream",
     "text": [
      "100  2129  100  2068  100    61   1148     33  0:00:01  0:00:01 --:--:--  1185\n",
      "  % Total    % Received % Xferd  Average Speed   Time    Time     Time  Current\n",
      "                                 Dload  Upload   Total   Spent    Left  Speed\n",
      "100  3930  100  1862  100  2068   118k   131k --:--:-- --:--:-- --:--:--  959k\n",
      "  % Total    % Received % Xferd  Average Speed   Time    Time     Time  Current\n",
      "                                 Dload  Upload   Total   Spent    Left  Speed\n",
      "  0     0    0     0    0     0      0      0 --:--:-- --:--:-- --:--:--     0"
     ]
    },
    {
     "name": "stdout",
     "output_type": "stream",
     "text": [
      "doi from extra: False 10.1007/978-3-319-67047-8_4\n",
      "124\n"
     ]
    },
    {
     "name": "stderr",
     "output_type": "stream",
     "text": [
      "100  1962  100  1901  100    61    960     30  0:00:02  0:00:01  0:00:01   993\n",
      "  % Total    % Received % Xferd  Average Speed   Time    Time     Time  Current\n",
      "                                 Dload  Upload   Total   Spent    Left  Speed\n",
      "100  3653  100  1752  100  1901  97327   103k --:--:-- --:--:-- --:--:--  594k\n",
      "  % Total    % Received % Xferd  Average Speed   Time    Time     Time  Current\n",
      "                                 Dload  Upload   Total   Spent    Left  Speed\n",
      "  0     0    0     0    0     0      0      0 --:--:-- --:--:-- --:--:--     0"
     ]
    },
    {
     "name": "stdout",
     "output_type": "stream",
     "text": [
      "125\n"
     ]
    },
    {
     "name": "stderr",
     "output_type": "stream",
     "text": [
      "100  2698  100  2639  100    59   1577     35  0:00:01  0:00:01 --:--:--  1620\n",
      "  % Total    % Received % Xferd  Average Speed   Time    Time     Time  Current\n",
      "                                 Dload  Upload   Total   Spent    Left  Speed\n",
      "100  5008  100  2369  100  2639   110k   123k --:--:-- --:--:-- --:--:--  543k\n",
      "  % Total    % Received % Xferd  Average Speed   Time    Time     Time  Current\n",
      "                                 Dload  Upload   Total   Spent    Left  Speed\n",
      "  0     0    0     0    0     0      0      0 --:--:-- --:--:-- --:--:--     0"
     ]
    },
    {
     "name": "stdout",
     "output_type": "stream",
     "text": [
      "126\n"
     ]
    },
    {
     "name": "stderr",
     "output_type": "stream",
     "text": [
      "\r",
      "100    67    0     0  100    67      0     55  0:00:01  0:00:01 --:--:--    55\r",
      "100  2236  100  2169  100    67   1734     53  0:00:01  0:00:01 --:--:--  1798\n",
      "  % Total    % Received % Xferd  Average Speed   Time    Time     Time  Current\n",
      "                                 Dload  Upload   Total   Spent    Left  Speed\n",
      "\r",
      "  0     0    0     0    0     0      0      0 --:--:-- --:--:-- --:--:--     0\r",
      "100  3980  100  1811  100  2169  84677    99k --:--:-- --:--:-- --:--:--  777k\n",
      "  % Total    % Received % Xferd  Average Speed   Time    Time     Time  Current\n",
      "                                 Dload  Upload   Total   Spent    Left  Speed\n",
      "\r",
      "  0     0    0     0    0     0      0      0 --:--:-- --:--:-- --:--:--     0"
     ]
    },
    {
     "name": "stdout",
     "output_type": "stream",
     "text": [
      "127\n"
     ]
    },
    {
     "name": "stderr",
     "output_type": "stream",
     "text": [
      "100  1081  100  1013  100    68   1216     81 --:--:-- --:--:-- --:--:--  1308\n",
      "  % Total    % Received % Xferd  Average Speed   Time    Time     Time  Current\n",
      "                                 Dload  Upload   Total   Spent    Left  Speed\n",
      "100  1733  100   720  100  1013  33550  47204 --:--:-- --:--:-- --:--:--  241k\n",
      "  % Total    % Received % Xferd  Average Speed   Time    Time     Time  Current\n",
      "                                 Dload  Upload   Total   Spent    Left  Speed\n",
      "  0     0    0     0    0     0      0      0 --:--:-- --:--:-- --:--:--     0"
     ]
    },
    {
     "name": "stdout",
     "output_type": "stream",
     "text": [
      "128\n"
     ]
    },
    {
     "name": "stderr",
     "output_type": "stream",
     "text": [
      "\r",
      "100  3890  100  3827  100    63   5239     86 --:--:-- --:--:-- --:--:--  5372\r",
      "100  3890  100  3827  100    63   5239     86 --:--:-- --:--:-- --:--:--  5372\n",
      "  % Total    % Received % Xferd  Average Speed   Time    Time     Time  Current\n",
      "                                 Dload  Upload   Total   Spent    Left  Speed\n",
      "\r",
      "  0     0    0     0    0     0      0      0 --:--:-- --:--:-- --:--:--     0\r",
      "100  7438  100  3611  100  3827   168k   178k --:--:-- --:--:-- --:--:-- 1452k\n",
      "  % Total    % Received % Xferd  Average Speed   Time    Time     Time  Current\n",
      "                                 Dload  Upload   Total   Spent    Left  Speed\n",
      "\r",
      "  0     0    0     0    0     0      0      0 --:--:-- --:--:-- --:--:--     0"
     ]
    },
    {
     "name": "stdout",
     "output_type": "stream",
     "text": [
      "129\n"
     ]
    },
    {
     "name": "stderr",
     "output_type": "stream",
     "text": [
      "\r",
      "100  3283  100  3216  100    67   3176     66  0:00:01  0:00:01 --:--:--  3263\r",
      "100  3283  100  3216  100    67   3176     66  0:00:01  0:00:01 --:--:--  3263\n",
      "  % Total    % Received % Xferd  Average Speed   Time    Time     Time  Current\n",
      "                                 Dload  Upload   Total   Spent    Left  Speed\n",
      "\r",
      "  0     0    0     0    0     0      0      0 --:--:-- --:--:-- --:--:--     0\r",
      "100  6067  100  2851  100  3216   155k   174k --:--:-- --:--:-- --:--:-- 1184k\n",
      "  % Total    % Received % Xferd  Average Speed   Time    Time     Time  Current\n",
      "                                 Dload  Upload   Total   Spent    Left  Speed\n",
      "\r",
      "  0     0    0     0    0     0      0      0 --:--:-- --:--:-- --:--:--     0"
     ]
    },
    {
     "name": "stdout",
     "output_type": "stream",
     "text": [
      "130\n"
     ]
    },
    {
     "name": "stderr",
     "output_type": "stream",
     "text": [
      "100  2081  100  2022  100    59   1113     32  0:00:01  0:00:01 --:--:--  1149\n",
      "  % Total    % Received % Xferd  Average Speed   Time    Time     Time  Current\n",
      "                                 Dload  Upload   Total   Spent    Left  Speed\n",
      "100  3749  100  1727  100  2022  96664   110k --:--:-- --:--:-- --:--:--  523k\n",
      "  % Total    % Received % Xferd  Average Speed   Time    Time     Time  Current\n",
      "                                 Dload  Upload   Total   Spent    Left  Speed\n",
      "  0     0    0     0    0     0      0      0 --:--:-- --:--:-- --:--:--     0"
     ]
    },
    {
     "name": "stdout",
     "output_type": "stream",
     "text": [
      "131\n"
     ]
    },
    {
     "name": "stderr",
     "output_type": "stream",
     "text": [
      "100  2163  100  2119  100    44   1068     22  0:00:02  0:00:01  0:00:01  1094\n",
      "  % Total    % Received % Xferd  Average Speed   Time    Time     Time  Current\n",
      "                                 Dload  Upload   Total   Spent    Left  Speed\n",
      "100  3995  100  1876  100  2119   115k   130k --:--:-- --:--:-- --:--:--  975k\n",
      "  % Total    % Received % Xferd  Average Speed   Time    Time     Time  Current\n",
      "                                 Dload  Upload   Total   Spent    Left  Speed\n",
      "  0     0    0     0    0     0      0      0 --:--:-- --:--:-- --:--:--     0"
     ]
    },
    {
     "name": "stdout",
     "output_type": "stream",
     "text": [
      "132\n"
     ]
    },
    {
     "name": "stderr",
     "output_type": "stream",
     "text": [
      "\r",
      "100  2270  100  2203  100    67   2726     82 --:--:-- --:--:-- --:--:--  2830\r",
      "100  2270  100  2203  100    67   2726     82 --:--:-- --:--:-- --:--:--  2830\n",
      "  % Total    % Received % Xferd  Average Speed   Time    Time     Time  Current\n",
      "                                 Dload  Upload   Total   Spent    Left  Speed\n",
      "\r",
      "  0     0    0     0    0     0      0      0 --:--:-- --:--:-- --:--:--     0\r",
      "100  4132  100  1929  100  2203   117k   133k --:--:-- --:--:-- --:--:--  672k\n",
      "  % Total    % Received % Xferd  Average Speed   Time    Time     Time  Current\n",
      "                                 Dload  Upload   Total   Spent    Left  Speed\n",
      "\r",
      "  0     0    0     0    0     0      0      0 --:--:-- --:--:-- --:--:--     0"
     ]
    },
    {
     "name": "stdout",
     "output_type": "stream",
     "text": [
      "133\n"
     ]
    },
    {
     "name": "stderr",
     "output_type": "stream",
     "text": [
      "\r",
      "100  2318  100  2262  100    56   4512    111 --:--:-- --:--:-- --:--:--  4673\n",
      "  % Total    % Received % Xferd  Average Speed   Time    Time     Time  Current\n",
      "                                 Dload  Upload   Total   Spent    Left  Speed\n",
      "\r",
      "  0     0    0     0    0     0      0      0 --:--:-- --:--:-- --:--:--     0\r",
      "100  4235  100  1973  100  2262   134k   154k --:--:-- --:--:-- --:--:-- 1378k\n",
      "  % Total    % Received % Xferd  Average Speed   Time    Time     Time  Current\n",
      "                                 Dload  Upload   Total   Spent    Left  Speed\n",
      "\r",
      "  0     0    0     0    0     0      0      0 --:--:-- --:--:-- --:--:--     0"
     ]
    },
    {
     "name": "stdout",
     "output_type": "stream",
     "text": [
      "134\n"
     ]
    },
    {
     "name": "stderr",
     "output_type": "stream",
     "text": [
      "100  2744  100  2685  100    59   1660     36  0:00:01  0:00:01 --:--:--  1702\n",
      "  % Total    % Received % Xferd  Average Speed   Time    Time     Time  Current\n",
      "                                 Dload  Upload   Total   Spent    Left  Speed\n",
      "100  5072  100  2387  100  2685   112k   126k --:--:-- --:--:-- --:--:--  550k\n",
      "  % Total    % Received % Xferd  Average Speed   Time    Time     Time  Current\n",
      "                                 Dload  Upload   Total   Spent    Left  Speed\n",
      "  0     0    0     0    0     0      0      0 --:--:-- --:--:-- --:--:--     0"
     ]
    },
    {
     "name": "stdout",
     "output_type": "stream",
     "text": [
      "135\n"
     ]
    },
    {
     "name": "stderr",
     "output_type": "stream",
     "text": [
      "\r",
      "100    27    0     0  100    27      0     22  0:00:01  0:00:01 --:--:--    22\r",
      "100  2807  100  2780  100    27   2244     21  0:00:01  0:00:01 --:--:--  2276\n",
      "  % Total    % Received % Xferd  Average Speed   Time    Time     Time  Current\n",
      "                                 Dload  Upload   Total   Spent    Left  Speed\n",
      "\r",
      "  0     0    0     0    0     0      0      0 --:--:-- --:--:-- --:--:--     0\r",
      "100  5274  100  2494  100  2780   137k   152k --:--:-- --:--:-- --:--:--  858k\n",
      "  % Total    % Received % Xferd  Average Speed   Time    Time     Time  Current\n",
      "                                 Dload  Upload   Total   Spent    Left  Speed\n",
      "\r",
      "  0     0    0     0    0     0      0      0 --:--:-- --:--:-- --:--:--     0"
     ]
    },
    {
     "name": "stdout",
     "output_type": "stream",
     "text": [
      "136\n"
     ]
    },
    {
     "name": "stderr",
     "output_type": "stream",
     "text": [
      "100  4429  100  4381  100    48   2962     32  0:00:01  0:00:01 --:--:--  3004\n",
      "  % Total    % Received % Xferd  Average Speed   Time    Time     Time  Current\n",
      "                                 Dload  Upload   Total   Spent    Left  Speed\n",
      "100  9591  100  5210  100  4381   291k   245k --:--:-- --:--:-- --:--:-- 2341k\n",
      "  % Total    % Received % Xferd  Average Speed   Time    Time     Time  Current\n",
      "                                 Dload  Upload   Total   Spent    Left  Speed\n",
      "  0     0    0     0    0     0      0      0 --:--:-- --:--:-- --:--:--     0"
     ]
    },
    {
     "name": "stdout",
     "output_type": "stream",
     "text": [
      "137\n"
     ]
    },
    {
     "name": "stderr",
     "output_type": "stream",
     "text": [
      "100  2508  100  2449  100    59   1568     37  0:00:01  0:00:01 --:--:--  1609\n",
      "  % Total    % Received % Xferd  Average Speed   Time    Time     Time  Current\n",
      "                                 Dload  Upload   Total   Spent    Left  Speed\n",
      "100  4507  100  2058  100  2449  92761   107k --:--:-- --:--:-- --:--:--  440k\n",
      "  % Total    % Received % Xferd  Average Speed   Time    Time     Time  Current\n",
      "                                 Dload  Upload   Total   Spent    Left  Speed\n",
      "  0     0    0     0    0     0      0      0 --:--:-- --:--:-- --:--:--     0"
     ]
    },
    {
     "name": "stdout",
     "output_type": "stream",
     "text": [
      "138\n"
     ]
    },
    {
     "name": "stderr",
     "output_type": "stream",
     "text": [
      "100   111  100    37  100    74      1      3  0:00:37  0:00:20  0:00:17     9\n",
      "  % Total    % Received % Xferd  Average Speed   Time    Time     Time  Current\n",
      "                                 Dload  Upload   Total   Spent    Left  Speed\n",
      "100    48  100    11  100    37    761   2563 --:--:-- --:--:-- --:--:-- 24000\n",
      "  % Total    % Received % Xferd  Average Speed   Time    Time     Time  Current\n",
      "                                 Dload  Upload   Total   Spent    Left  Speed\n",
      "  0     0    0     0    0     0      0      0 --:--:-- --:--:-- --:--:--     0"
     ]
    },
    {
     "name": "stdout",
     "output_type": "stream",
     "text": [
      "Failed: 139\n"
     ]
    },
    {
     "name": "stderr",
     "output_type": "stream",
     "text": [
      "100  2074  100  2020  100    54   1185     31  0:00:01  0:00:01 --:--:--  1220\n",
      "  % Total    % Received % Xferd  Average Speed   Time    Time     Time  Current\n",
      "                                 Dload  Upload   Total   Spent    Left  Speed\n",
      "100  3618  100  1598  100  2020  52033  65774 --:--:-- --:--:-- --:--:--  207k\n",
      "  % Total    % Received % Xferd  Average Speed   Time    Time     Time  Current\n",
      "                                 Dload  Upload   Total   Spent    Left  Speed\n",
      "  0     0    0     0    0     0      0      0 --:--:-- --:--:-- --:--:--     0"
     ]
    },
    {
     "name": "stdout",
     "output_type": "stream",
     "text": [
      "140\n"
     ]
    },
    {
     "name": "stderr",
     "output_type": "stream",
     "text": [
      "100  3409  100  3349  100    60   1791     32  0:00:01  0:00:01 --:--:--  1830\n",
      "  % Total    % Received % Xferd  Average Speed   Time    Time     Time  Current\n",
      "                                 Dload  Upload   Total   Spent    Left  Speed\n",
      "100  6135  100  2786  100  3349   123k   148k --:--:-- --:--:-- --:--:--  544k\n",
      "  % Total    % Received % Xferd  Average Speed   Time    Time     Time  Current\n",
      "                                 Dload  Upload   Total   Spent    Left  Speed\n",
      "  0     0    0     0    0     0      0      0 --:--:-- --:--:-- --:--:--     0"
     ]
    },
    {
     "name": "stdout",
     "output_type": "stream",
     "text": [
      "141\n"
     ]
    },
    {
     "name": "stderr",
     "output_type": "stream",
     "text": [
      "\r",
      "100  3177  100  3110  100    67   2998     64  0:00:01  0:00:01 --:--:--  3078\r",
      "100  3177  100  3110  100    67   2998     64  0:00:01  0:00:01 --:--:--  3078\n",
      "  % Total    % Received % Xferd  Average Speed   Time    Time     Time  Current\n",
      "                                 Dload  Upload   Total   Spent    Left  Speed\n",
      "\r",
      "  0     0    0     0    0     0      0      0 --:--:-- --:--:-- --:--:--     0\r",
      "100  5813  100  2703  100  3110   162k   186k --:--:-- --:--:-- --:--:--  810k\n",
      "  % Total    % Received % Xferd  Average Speed   Time    Time     Time  Current\n",
      "                                 Dload  Upload   Total   Spent    Left  Speed\n",
      "\r",
      "  0     0    0     0    0     0      0      0 --:--:-- --:--:-- --:--:--     0"
     ]
    },
    {
     "name": "stdout",
     "output_type": "stream",
     "text": [
      "142\n"
     ]
    },
    {
     "name": "stderr",
     "output_type": "stream",
     "text": [
      "\r",
      "100    68    0     0  100    68      0     56  0:00:01  0:00:01 --:--:--    56\r",
      "100   849  100   781  100    68    633     55  0:00:01  0:00:01 --:--:--   692\n",
      "  % Total    % Received % Xferd  Average Speed   Time    Time     Time  Current\n",
      "                                 Dload  Upload   Total   Spent    Left  Speed\n",
      "\r",
      "  0     0    0     0    0     0      0      0 --:--:-- --:--:-- --:--:--     0\r",
      "100  1290  100   509  100   781  31828  48836 --:--:-- --:--:-- --:--:--  251k\n",
      "  % Total    % Received % Xferd  Average Speed   Time    Time     Time  Current\n",
      "                                 Dload  Upload   Total   Spent    Left  Speed\n",
      "\r",
      "  0     0    0     0    0     0      0      0 --:--:-- --:--:-- --:--:--     0"
     ]
    },
    {
     "name": "stdout",
     "output_type": "stream",
     "text": [
      "143\n"
     ]
    },
    {
     "name": "stderr",
     "output_type": "stream",
     "text": [
      "\r",
      "100  2686  100  2636  100    50   3967     75 --:--:-- --:--:-- --:--:--  4082\r",
      "100  2686  100  2636  100    50   3967     75 --:--:-- --:--:-- --:--:--  4082\n",
      "  % Total    % Received % Xferd  Average Speed   Time    Time     Time  Current\n",
      "                                 Dload  Upload   Total   Spent    Left  Speed\n",
      "\r",
      "  0     0    0     0    0     0      0      0 --:--:-- --:--:-- --:--:--     0\r",
      "100  5028  100  2392  100  2636   128k   141k --:--:-- --:--:-- --:--:--  613k\n",
      "  % Total    % Received % Xferd  Average Speed   Time    Time     Time  Current\n",
      "                                 Dload  Upload   Total   Spent    Left  Speed\n",
      "\r",
      "  0     0    0     0    0     0      0      0 --:--:-- --:--:-- --:--:--     0"
     ]
    },
    {
     "name": "stdout",
     "output_type": "stream",
     "text": [
      "144\n"
     ]
    },
    {
     "name": "stderr",
     "output_type": "stream",
     "text": [
      "\r",
      "100  2433  100  2366  100    67   2378     67  0:00:01 --:--:--  0:00:01  2460\r",
      "100  2433  100  2366  100    67   2378     67  0:00:01 --:--:--  0:00:01  2460\n",
      "  % Total    % Received % Xferd  Average Speed   Time    Time     Time  Current\n",
      "                                 Dload  Upload   Total   Spent    Left  Speed\n",
      "\r",
      "  0     0    0     0    0     0      0      0 --:--:-- --:--:-- --:--:--     0\r",
      "100  4509  100  2143  100  2366   144k   159k --:--:-- --:--:-- --:--:--  880k\n",
      "  % Total    % Received % Xferd  Average Speed   Time    Time     Time  Current\n",
      "                                 Dload  Upload   Total   Spent    Left  Speed\n",
      "\r",
      "  0     0    0     0    0     0      0      0 --:--:-- --:--:-- --:--:--     0"
     ]
    },
    {
     "name": "stdout",
     "output_type": "stream",
     "text": [
      "145\n"
     ]
    },
    {
     "name": "stderr",
     "output_type": "stream",
     "text": [
      "100  3221  100  3156  100    65   2118     43  0:00:01  0:00:01 --:--:--  2171\n",
      "  % Total    % Received % Xferd  Average Speed   Time    Time     Time  Current\n",
      "                                 Dload  Upload   Total   Spent    Left  Speed\n",
      "100  5957  100  2801  100  3156   169k   191k --:--:-- --:--:-- --:--:-- 1163k\n",
      "  % Total    % Received % Xferd  Average Speed   Time    Time     Time  Current\n",
      "                                 Dload  Upload   Total   Spent    Left  Speed\n",
      "  0     0    0     0    0     0      0      0 --:--:-- --:--:-- --:--:--     0"
     ]
    },
    {
     "name": "stdout",
     "output_type": "stream",
     "text": [
      "146\n"
     ]
    },
    {
     "name": "stderr",
     "output_type": "stream",
     "text": [
      "\r",
      "100    65    0     0  100    65      0     53  0:00:01  0:00:01 --:--:--    53\r",
      "100  2199  100  2134  100    65   1760     53  0:00:01  0:00:01 --:--:--  1821\n",
      "  % Total    % Received % Xferd  Average Speed   Time    Time     Time  Current\n",
      "                                 Dload  Upload   Total   Spent    Left  Speed\n",
      "\r",
      "  0     0    0     0    0     0      0      0 --:--:-- --:--:-- --:--:--     0\r",
      "100  3890  100  1756  100  2134    99k   120k --:--:-- --:--:-- --:--:--  759k\n",
      "  % Total    % Received % Xferd  Average Speed   Time    Time     Time  Current\n",
      "                                 Dload  Upload   Total   Spent    Left  Speed\n",
      "\r",
      "  0     0    0     0    0     0      0      0 --:--:-- --:--:-- --:--:--     0"
     ]
    },
    {
     "name": "stdout",
     "output_type": "stream",
     "text": [
      "147\n"
     ]
    },
    {
     "name": "stderr",
     "output_type": "stream",
     "text": [
      "\r",
      "100   982  100   914  100    68    842     62  0:00:01  0:00:01 --:--:--   910\r",
      "100   982  100   914  100    68    842     62  0:00:01  0:00:01 --:--:--   910\n",
      "  % Total    % Received % Xferd  Average Speed   Time    Time     Time  Current\n",
      "                                 Dload  Upload   Total   Spent    Left  Speed\n",
      "\r",
      "  0     0    0     0    0     0      0      0 --:--:-- --:--:-- --:--:--     0\r",
      "100  1495  100   581  100   914  25013  39350 --:--:-- --:--:-- --:--:--  121k\n",
      "  % Total    % Received % Xferd  Average Speed   Time    Time     Time  Current\n",
      "                                 Dload  Upload   Total   Spent    Left  Speed\n",
      "\r",
      "  0     0    0     0    0     0      0      0 --:--:-- --:--:-- --:--:--     0"
     ]
    },
    {
     "name": "stdout",
     "output_type": "stream",
     "text": [
      "148\n"
     ]
    },
    {
     "name": "stderr",
     "output_type": "stream",
     "text": [
      "\r",
      "100  2722  100  2655  100    67   2433     61  0:00:01  0:00:01 --:--:--  2506\r",
      "100  2722  100  2655  100    67   2433     61  0:00:01  0:00:01 --:--:--  2506\n",
      "  % Total    % Received % Xferd  Average Speed   Time    Time     Time  Current\n",
      "                                 Dload  Upload   Total   Spent    Left  Speed\n",
      "\r",
      "  0     0    0     0    0     0      0      0 --:--:-- --:--:-- --:--:--     0\r",
      "100  4731  100  2076  100  2655   121k   155k --:--:-- --:--:-- --:--:--  770k\n",
      "  % Total    % Received % Xferd  Average Speed   Time    Time     Time  Current\n",
      "                                 Dload  Upload   Total   Spent    Left  Speed\n",
      "\r",
      "  0     0    0     0    0     0      0      0 --:--:-- --:--:-- --:--:--     0"
     ]
    },
    {
     "name": "stdout",
     "output_type": "stream",
     "text": [
      "149\n"
     ]
    },
    {
     "name": "stderr",
     "output_type": "stream",
     "text": [
      "\r",
      "100  3320  100  3253  100    67   3671     75 --:--:-- --:--:-- --:--:--  3772\r",
      "100  3320  100  3253  100    67   3671     75 --:--:-- --:--:-- --:--:--  3772\n",
      "  % Total    % Received % Xferd  Average Speed   Time    Time     Time  Current\n",
      "                                 Dload  Upload   Total   Spent    Left  Speed\n",
      "\r",
      "  0     0    0     0    0     0      0      0 --:--:-- --:--:-- --:--:--     0\r",
      "100  6182  100  2929  100  3253   126k   140k --:--:-- --:--:-- --:--:--  862k\n",
      "  % Total    % Received % Xferd  Average Speed   Time    Time     Time  Current\n",
      "                                 Dload  Upload   Total   Spent    Left  Speed\n",
      "\r",
      "  0     0    0     0    0     0      0      0 --:--:-- --:--:-- --:--:--     0"
     ]
    },
    {
     "name": "stdout",
     "output_type": "stream",
     "text": [
      "150\n"
     ]
    },
    {
     "name": "stderr",
     "output_type": "stream",
     "text": [
      "\r",
      "100   985  100   917  100    68    928     68  0:00:01 --:--:--  0:00:01  1002\r",
      "100   985  100   917  100    68    928     68  0:00:01 --:--:--  0:00:01  1002\n",
      "  % Total    % Received % Xferd  Average Speed   Time    Time     Time  Current\n",
      "                                 Dload  Upload   Total   Spent    Left  Speed\n",
      "\r",
      "  0     0    0     0    0     0      0      0 --:--:-- --:--:-- --:--:--     0\r",
      "100  1447  100   530  100   917  26663  46133 --:--:-- --:--:-- --:--:--  201k\n",
      "  % Total    % Received % Xferd  Average Speed   Time    Time     Time  Current\n",
      "                                 Dload  Upload   Total   Spent    Left  Speed\n",
      "\r",
      "  0     0    0     0    0     0      0      0 --:--:-- --:--:-- --:--:--     0"
     ]
    },
    {
     "name": "stdout",
     "output_type": "stream",
     "text": [
      "151\n"
     ]
    },
    {
     "name": "stderr",
     "output_type": "stream",
     "text": [
      "100  2596  100  2537  100    59   1300     30  0:00:01  0:00:01 --:--:--  1333\n",
      "  % Total    % Received % Xferd  Average Speed   Time    Time     Time  Current\n",
      "                                 Dload  Upload   Total   Spent    Left  Speed\n",
      "100  4832  100  2295  100  2537   145k   160k --:--:-- --:--:-- --:--:--  786k\n",
      "  % Total    % Received % Xferd  Average Speed   Time    Time     Time  Current\n",
      "                                 Dload  Upload   Total   Spent    Left  Speed\n",
      "  0     0    0     0    0     0      0      0 --:--:-- --:--:-- --:--:--     0"
     ]
    },
    {
     "name": "stdout",
     "output_type": "stream",
     "text": [
      "152\n"
     ]
    },
    {
     "name": "stderr",
     "output_type": "stream",
     "text": [
      "100  2937  100  2874  100    63    439      9  0:00:07  0:00:06  0:00:01   865\n",
      "  % Total    % Received % Xferd  Average Speed   Time    Time     Time  Current\n",
      "                                 Dload  Upload   Total   Spent    Left  Speed\n",
      "100  5506  100  2632  100  2874   152k   166k --:--:-- --:--:-- --:--:--  896k\n",
      "  % Total    % Received % Xferd  Average Speed   Time    Time     Time  Current\n",
      "                                 Dload  Upload   Total   Spent    Left  Speed\n",
      "  0     0    0     0    0     0      0      0 --:--:-- --:--:-- --:--:--     0"
     ]
    },
    {
     "name": "stdout",
     "output_type": "stream",
     "text": [
      "153\n"
     ]
    },
    {
     "name": "stderr",
     "output_type": "stream",
     "text": [
      "100  3150  100  3083  100    67   1144     24  0:00:02  0:00:02 --:--:--  1171\n",
      "  % Total    % Received % Xferd  Average Speed   Time    Time     Time  Current\n",
      "                                 Dload  Upload   Total   Spent    Left  Speed\n",
      "100  5832  100  2749  100  3083   187k   210k --:--:-- --:--:-- --:--:--  949k\n",
      "  % Total    % Received % Xferd  Average Speed   Time    Time     Time  Current\n",
      "                                 Dload  Upload   Total   Spent    Left  Speed\n",
      "  0     0    0     0    0     0      0      0 --:--:-- --:--:-- --:--:--     0"
     ]
    },
    {
     "name": "stdout",
     "output_type": "stream",
     "text": [
      "154\n"
     ]
    },
    {
     "name": "stderr",
     "output_type": "stream",
     "text": [
      "\r",
      "100    69    0     0  100    69      0     57  0:00:01  0:00:01 --:--:--    57\r",
      "100  2213  100  2144  100    69   1578     50  0:00:01  0:00:01 --:--:--  1638\n",
      "  % Total    % Received % Xferd  Average Speed   Time    Time     Time  Current\n",
      "                                 Dload  Upload   Total   Spent    Left  Speed\n",
      "\r",
      "  0     0    0     0    0     0      0      0 --:--:-- --:--:-- --:--:--     0\r",
      "100  4013  100  1869  100  2144   139k   159k --:--:-- --:--:-- --:--:--  979k\n"
     ]
    },
    {
     "name": "stdout",
     "output_type": "stream",
     "text": [
      "155\n"
     ]
    },
    {
     "name": "stderr",
     "output_type": "stream",
     "text": [
      "  % Total    % Received % Xferd  Average Speed   Time    Time     Time  Current\n",
      "                                 Dload  Upload   Total   Spent    Left  Speed\n",
      "100  3676  100  3626  100    50   2219     30  0:00:01  0:00:01 --:--:--  2253\n",
      "  % Total    % Received % Xferd  Average Speed   Time    Time     Time  Current\n",
      "                                 Dload  Upload   Total   Spent    Left  Speed\n",
      "100  7611  100  3985  100  3626   268k   244k --:--:-- --:--:-- --:--:-- 2477k\n",
      "  % Total    % Received % Xferd  Average Speed   Time    Time     Time  Current\n",
      "                                 Dload  Upload   Total   Spent    Left  Speed\n",
      "  0     0    0     0    0     0      0      0 --:--:-- --:--:-- --:--:--     0"
     ]
    },
    {
     "name": "stdout",
     "output_type": "stream",
     "text": [
      "156\n"
     ]
    },
    {
     "name": "stderr",
     "output_type": "stream",
     "text": [
      "100  2714  100  2650  100    64    488     11  0:00:05  0:00:05 --:--:--   629\n",
      "  % Total    % Received % Xferd  Average Speed   Time    Time     Time  Current\n",
      "                                 Dload  Upload   Total   Spent    Left  Speed\n",
      "100  4856  100  2206  100  2650   161k   193k --:--:-- --:--:-- --:--:--  790k\n",
      "  % Total    % Received % Xferd  Average Speed   Time    Time     Time  Current\n",
      "                                 Dload  Upload   Total   Spent    Left  Speed\n",
      "  0     0    0     0    0     0      0      0 --:--:-- --:--:-- --:--:--     0"
     ]
    },
    {
     "name": "stdout",
     "output_type": "stream",
     "text": [
      "157\n"
     ]
    },
    {
     "name": "stderr",
     "output_type": "stream",
     "text": [
      "\r",
      "100    27    0     0  100    27      0     22  0:00:01  0:00:01 --:--:--    22\r",
      "100  2805  100  2778  100    27   2036     19  0:00:01  0:00:01 --:--:--  2065\n",
      "  % Total    % Received % Xferd  Average Speed   Time    Time     Time  Current\n",
      "                                 Dload  Upload   Total   Spent    Left  Speed\n",
      "\r",
      "  0     0    0     0    0     0      0      0 --:--:-- --:--:-- --:--:--     0\r",
      "100  5237  100  2459  100  2778   141k   160k --:--:-- --:--:-- --:--:--  730k\r",
      "100  5237  100  2459  100  2778   141k   159k --:--:-- --:--:-- --:--:--  730k\n"
     ]
    },
    {
     "name": "stdout",
     "output_type": "stream",
     "text": [
      "158\n"
     ]
    },
    {
     "name": "stderr",
     "output_type": "stream",
     "text": [
      "  % Total    % Received % Xferd  Average Speed   Time    Time     Time  Current\n",
      "                                 Dload  Upload   Total   Spent    Left  Speed\n",
      "100  1261  100  1217  100    44    483     17  0:00:02  0:00:02 --:--:--   502\n",
      "  % Total    % Received % Xferd  Average Speed   Time    Time     Time  Current\n",
      "                                 Dload  Upload   Total   Spent    Left  Speed\n",
      "100  2060  100   843  100  1217  49077  70850 --:--:-- --:--:-- --:--:--  335k\n",
      "  % Total    % Received % Xferd  Average Speed   Time    Time     Time  Current\n",
      "                                 Dload  Upload   Total   Spent    Left  Speed\n",
      "  0     0    0     0    0     0      0      0 --:--:-- --:--:-- --:--:--     0"
     ]
    },
    {
     "name": "stdout",
     "output_type": "stream",
     "text": [
      "159\n"
     ]
    },
    {
     "name": "stderr",
     "output_type": "stream",
     "text": [
      "100   599  100   490  100   109    263     58  0:00:01  0:00:01 --:--:--   322\n",
      "  % Total    % Received % Xferd  Average Speed   Time    Time     Time  Current\n",
      "                                 Dload  Upload   Total   Spent    Left  Speed\n",
      "100   958  100   468  100   490  31538  33021 --:--:-- --:--:-- --:--:--  311k\n",
      "  % Total    % Received % Xferd  Average Speed   Time    Time     Time  Current\n",
      "                                 Dload  Upload   Total   Spent    Left  Speed\n",
      "  0     0    0     0    0     0      0      0 --:--:-- --:--:-- --:--:--     0"
     ]
    },
    {
     "name": "stdout",
     "output_type": "stream",
     "text": [
      "Failed: 160\n"
     ]
    },
    {
     "name": "stderr",
     "output_type": "stream",
     "text": [
      "\r",
      "100  1274  100  1206  100    68   1606     90 --:--:-- --:--:-- --:--:--  1705\r",
      "100  1274  100  1206  100    68   1606     90 --:--:-- --:--:-- --:--:--  1705\n",
      "  % Total    % Received % Xferd  Average Speed   Time    Time     Time  Current\n",
      "                                 Dload  Upload   Total   Spent    Left  Speed\n",
      "\r",
      "  0     0    0     0    0     0      0      0 --:--:-- --:--:-- --:--:--     0\r",
      "100  1834  100   628  100  1206  37553  72116 --:--:-- --:--:-- --:--:--  447k\n",
      "  % Total    % Received % Xferd  Average Speed   Time    Time     Time  Current\n",
      "                                 Dload  Upload   Total   Spent    Left  Speed\n",
      "\r",
      "  0     0    0     0    0     0      0      0 --:--:-- --:--:-- --:--:--     0"
     ]
    },
    {
     "name": "stdout",
     "output_type": "stream",
     "text": [
      "161\n"
     ]
    },
    {
     "name": "stderr",
     "output_type": "stream",
     "text": [
      "\r",
      "100  1158  100  1090  100    68   1219     76 --:--:-- --:--:-- --:--:--  1302\r",
      "100  1158  100  1090  100    68   1219     76 --:--:-- --:--:-- --:--:--  1302\n",
      "  % Total    % Received % Xferd  Average Speed   Time    Time     Time  Current\n",
      "                                 Dload  Upload   Total   Spent    Left  Speed\n",
      "\r",
      "  0     0    0     0    0     0      0      0 --:--:-- --:--:-- --:--:--     0\r",
      "100  1655  100   565  100  1090  43298  83531 --:--:-- --:--:-- --:--:--  323k\n",
      "  % Total    % Received % Xferd  Average Speed   Time    Time     Time  Current\n",
      "                                 Dload  Upload   Total   Spent    Left  Speed\n",
      "\r",
      "  0     0    0     0    0     0      0      0 --:--:-- --:--:-- --:--:--     0"
     ]
    },
    {
     "name": "stdout",
     "output_type": "stream",
     "text": [
      "162\n"
     ]
    },
    {
     "name": "stderr",
     "output_type": "stream",
     "text": [
      "\r",
      "100  1010  100   942  100    68   1032     74 --:--:-- --:--:-- --:--:--  1111\r",
      "100  1010  100   942  100    68   1032     74 --:--:-- --:--:-- --:--:--  1111\n",
      "  % Total    % Received % Xferd  Average Speed   Time    Time     Time  Current\n",
      "                                 Dload  Upload   Total   Spent    Left  Speed\n",
      "\r",
      "  0     0    0     0    0     0      0      0 --:--:-- --:--:-- --:--:--     0\r",
      "100  1643  100   701  100   942  38019  51090 --:--:-- --:--:-- --:--:--  267k\n",
      "  % Total    % Received % Xferd  Average Speed   Time    Time     Time  Current\n",
      "                                 Dload  Upload   Total   Spent    Left  Speed\n",
      "\r",
      "  0     0    0     0    0     0      0      0 --:--:-- --:--:-- --:--:--     0"
     ]
    },
    {
     "name": "stdout",
     "output_type": "stream",
     "text": [
      "163\n"
     ]
    },
    {
     "name": "stderr",
     "output_type": "stream",
     "text": [
      "100  2907  100  2834  100    73    787     20  0:00:03  0:00:03 --:--:--   809\n",
      "  % Total    % Received % Xferd  Average Speed   Time    Time     Time  Current\n",
      "                                 Dload  Upload   Total   Spent    Left  Speed\n",
      "100  5501  100  2667  100  2834   175k   185k --:--:-- --:--:-- --:--:--  895k\n",
      "  % Total    % Received % Xferd  Average Speed   Time    Time     Time  Current\n",
      "                                 Dload  Upload   Total   Spent    Left  Speed\n",
      "  0     0    0     0    0     0      0      0 --:--:-- --:--:-- --:--:--     0"
     ]
    },
    {
     "name": "stdout",
     "output_type": "stream",
     "text": [
      "164\n"
     ]
    },
    {
     "name": "stderr",
     "output_type": "stream",
     "text": [
      "100   588  100   486  100   102    596    125 --:--:-- --:--:-- --:--:--   726\n",
      "  % Total    % Received % Xferd  Average Speed   Time    Time     Time  Current\n",
      "                                 Dload  Upload   Total   Spent    Left  Speed\n",
      "100   946  100   460  100   486  33920  35838 --:--:-- --:--:-- --:--:--  230k\n",
      "  % Total    % Received % Xferd  Average Speed   Time    Time     Time  Current\n",
      "                                 Dload  Upload   Total   Spent    Left  Speed\n",
      "  0     0    0     0    0     0      0      0 --:--:-- --:--:-- --:--:--     0"
     ]
    },
    {
     "name": "stdout",
     "output_type": "stream",
     "text": [
      "Failed: 165\n"
     ]
    },
    {
     "name": "stderr",
     "output_type": "stream",
     "text": [
      "\r",
      "100   982  100   921  100    61   1102     73 --:--:-- --:--:-- --:--:--  1181\r",
      "100   982  100   921  100    61   1102     72 --:--:-- --:--:-- --:--:--  1181\n",
      "  % Total    % Received % Xferd  Average Speed   Time    Time     Time  Current\n",
      "                                 Dload  Upload   Total   Spent    Left  Speed\n",
      "\r",
      "  0     0    0     0    0     0      0      0 --:--:-- --:--:-- --:--:--     0\r",
      "100  1496  100   575  100   921  25187  40343 --:--:-- --:--:-- --:--:--  146k\n",
      "  % Total    % Received % Xferd  Average Speed   Time    Time     Time  Current\n",
      "                                 Dload  Upload   Total   Spent    Left  Speed\n",
      "\r",
      "  0     0    0     0    0     0      0      0 --:--:-- --:--:-- --:--:--     0"
     ]
    },
    {
     "name": "stdout",
     "output_type": "stream",
     "text": [
      "166\n"
     ]
    },
    {
     "name": "stderr",
     "output_type": "stream",
     "text": [
      "\r",
      "100  2870  100  2821  100    49   2723     47  0:00:01  0:00:01 --:--:--  2786\r",
      "100  2870  100  2821  100    49   2723     47  0:00:01  0:00:01 --:--:--  2786\n",
      "  % Total    % Received % Xferd  Average Speed   Time    Time     Time  Current\n",
      "                                 Dload  Upload   Total   Spent    Left  Speed\n",
      "\r",
      "  0     0    0     0    0     0      0      0 --:--:-- --:--:-- --:--:--     0\r",
      "100  5285  100  2464  100  2821   170k   195k --:--:-- --:--:-- --:--:-- 1720k\n",
      "  % Total    % Received % Xferd  Average Speed   Time    Time     Time  Current\n",
      "                                 Dload  Upload   Total   Spent    Left  Speed\n",
      "\r",
      "  0     0    0     0    0     0      0      0 --:--:-- --:--:-- --:--:--     0"
     ]
    },
    {
     "name": "stdout",
     "output_type": "stream",
     "text": [
      "167\n"
     ]
    },
    {
     "name": "stderr",
     "output_type": "stream",
     "text": [
      "100   723  100   655  100    68    901     93 --:--:-- --:--:-- --:--:--  1002\n",
      "  % Total    % Received % Xferd  Average Speed   Time    Time     Time  Current\n",
      "                                 Dload  Upload   Total   Spent    Left  Speed\n",
      "100  1169  100   514  100   655  30555  38937 --:--:-- --:--:-- --:--:--  228k\n",
      "  % Total    % Received % Xferd  Average Speed   Time    Time     Time  Current\n",
      "                                 Dload  Upload   Total   Spent    Left  Speed\n",
      "  0     0    0     0    0     0      0      0 --:--:-- --:--:-- --:--:--     0"
     ]
    },
    {
     "name": "stdout",
     "output_type": "stream",
     "text": [
      "168\n"
     ]
    },
    {
     "name": "stderr",
     "output_type": "stream",
     "text": [
      "100  3477  100  3427  100    50   2202     32  0:00:01  0:00:01 --:--:--  2243\n",
      "  % Total    % Received % Xferd  Average Speed   Time    Time     Time  Current\n",
      "                                 Dload  Upload   Total   Spent    Left  Speed\n",
      "100  7541  100  4114  100  3427   266k   221k --:--:-- --:--:-- --:--:-- 1841k\n",
      "  % Total    % Received % Xferd  Average Speed   Time    Time     Time  Current\n",
      "                                 Dload  Upload   Total   Spent    Left  Speed\n",
      "  0     0    0     0    0     0      0      0 --:--:-- --:--:-- --:--:--     0"
     ]
    },
    {
     "name": "stdout",
     "output_type": "stream",
     "text": [
      "169\n"
     ]
    },
    {
     "name": "stderr",
     "output_type": "stream",
     "text": [
      "\r",
      "100   942  100   874  100    68    911     70 --:--:-- --:--:-- --:--:--   987\r",
      "100   942  100   874  100    68    911     70 --:--:-- --:--:-- --:--:--   986\n",
      "  % Total    % Received % Xferd  Average Speed   Time    Time     Time  Current\n",
      "                                 Dload  Upload   Total   Spent    Left  Speed\n",
      "\r",
      "  0     0    0     0    0     0      0      0 --:--:-- --:--:-- --:--:--     0\r",
      "100  1475  100   601  100   874  26746  38896 --:--:-- --:--:-- --:--:--  180k\n",
      "  % Total    % Received % Xferd  Average Speed   Time    Time     Time  Current\n",
      "                                 Dload  Upload   Total   Spent    Left  Speed\n",
      "\r",
      "  0     0    0     0    0     0      0      0 --:--:-- --:--:-- --:--:--     0"
     ]
    },
    {
     "name": "stdout",
     "output_type": "stream",
     "text": [
      "170\n"
     ]
    },
    {
     "name": "stderr",
     "output_type": "stream",
     "text": [
      "\r",
      "100  3045  100  2978  100    67   3730     83 --:--:-- --:--:-- --:--:--  3835\r",
      "100  3045  100  2978  100    67   3730     83 --:--:-- --:--:-- --:--:--  3835\n",
      "  % Total    % Received % Xferd  Average Speed   Time    Time     Time  Current\n",
      "                                 Dload  Upload   Total   Spent    Left  Speed\n",
      "\r",
      "  0     0    0     0    0     0      0      0 --:--:-- --:--:-- --:--:--     0\r",
      "100  5652  100  2674  100  2978   127k   142k --:--:-- --:--:-- --:--:--  788k\n",
      "  % Total    % Received % Xferd  Average Speed   Time    Time     Time  Current\n",
      "                                 Dload  Upload   Total   Spent    Left  Speed\n",
      "\r",
      "  0     0    0     0    0     0      0      0 --:--:-- --:--:-- --:--:--     0"
     ]
    },
    {
     "name": "stdout",
     "output_type": "stream",
     "text": [
      "171\n"
     ]
    },
    {
     "name": "stderr",
     "output_type": "stream",
     "text": [
      "100  2458  100  2408  100    50    893     18  0:00:02  0:00:02 --:--:--   913\n",
      "  % Total    % Received % Xferd  Average Speed   Time    Time     Time  Current\n",
      "                                 Dload  Upload   Total   Spent    Left  Speed\n",
      "100  4578  100  2170  100  2408   158k   176k --:--:-- --:--:-- --:--:-- 1117k\n",
      "  % Total    % Received % Xferd  Average Speed   Time    Time     Time  Current\n",
      "                                 Dload  Upload   Total   Spent    Left  Speed\n",
      "  0     0    0     0    0     0      0      0 --:--:-- --:--:-- --:--:--     0"
     ]
    },
    {
     "name": "stdout",
     "output_type": "stream",
     "text": [
      "172\n"
     ]
    },
    {
     "name": "stderr",
     "output_type": "stream",
     "text": [
      "100  2622  100  2555  100    67   3345     87 --:--:-- --:--:-- --:--:--  3454\n",
      "  % Total    % Received % Xferd  Average Speed   Time    Time     Time  Current\n",
      "                                 Dload  Upload   Total   Spent    Left  Speed\n",
      "100  4614  100  2059  100  2555  96345   116k --:--:-- --:--:-- --:--:--  500k\n",
      "  % Total    % Received % Xferd  Average Speed   Time    Time     Time  Current\n",
      "                                 Dload  Upload   Total   Spent    Left  Speed\n",
      "  0     0    0     0    0     0      0      0 --:--:-- --:--:-- --:--:--     0"
     ]
    },
    {
     "name": "stdout",
     "output_type": "stream",
     "text": [
      "173\n"
     ]
    },
    {
     "name": "stderr",
     "output_type": "stream",
     "text": [
      "100  2346  100  2292  100    54   1520     35  0:00:01  0:00:01 --:--:--  1560\n",
      "  % Total    % Received % Xferd  Average Speed   Time    Time     Time  Current\n",
      "                                 Dload  Upload   Total   Spent    Left  Speed\n",
      "100  4126  100  1834  100  2292   110k   138k --:--:-- --:--:-- --:--:--  447k\n",
      "  % Total    % Received % Xferd  Average Speed   Time    Time     Time  Current\n",
      "                                 Dload  Upload   Total   Spent    Left  Speed\n",
      "  0     0    0     0    0     0      0      0 --:--:-- --:--:-- --:--:--     0"
     ]
    },
    {
     "name": "stdout",
     "output_type": "stream",
     "text": [
      "174\n"
     ]
    },
    {
     "name": "stderr",
     "output_type": "stream",
     "text": [
      "\r",
      "100   879  100   811  100    68   1119     93 --:--:-- --:--:-- --:--:--  1220\r",
      "100   879  100   811  100    68   1119     93 --:--:-- --:--:-- --:--:--  1220\n",
      "  % Total    % Received % Xferd  Average Speed   Time    Time     Time  Current\n",
      "                                 Dload  Upload   Total   Spent    Left  Speed\n",
      "\r",
      "  0     0    0     0    0     0      0      0 --:--:-- --:--:-- --:--:--     0\r",
      "100  1387  100   576  100   811  38115  53665 --:--:-- --:--:-- --:--:--  225k\n",
      "  % Total    % Received % Xferd  Average Speed   Time    Time     Time  Current\n",
      "                                 Dload  Upload   Total   Spent    Left  Speed\n",
      "\r",
      "  0     0    0     0    0     0      0      0 --:--:-- --:--:-- --:--:--     0"
     ]
    },
    {
     "name": "stdout",
     "output_type": "stream",
     "text": [
      "175\n"
     ]
    },
    {
     "name": "stderr",
     "output_type": "stream",
     "text": [
      "100  3116  100  3049  100    67   2016     44  0:00:01  0:00:01 --:--:--  2067\n",
      "  % Total    % Received % Xferd  Average Speed   Time    Time     Time  Current\n",
      "                                 Dload  Upload   Total   Spent    Left  Speed\n",
      "100  5531  100  2482  100  3049   134k   165k --:--:-- --:--:-- --:--:--  900k\n",
      "  % Total    % Received % Xferd  Average Speed   Time    Time     Time  Current\n",
      "                                 Dload  Upload   Total   Spent    Left  Speed\n",
      "  0     0    0     0    0     0      0      0 --:--:-- --:--:-- --:--:--     0"
     ]
    },
    {
     "name": "stdout",
     "output_type": "stream",
     "text": [
      "176\n"
     ]
    },
    {
     "name": "stderr",
     "output_type": "stream",
     "text": [
      "100  2753  100  2726  100    27   1463     14  0:00:01  0:00:01 --:--:--  1482\n",
      "  % Total    % Received % Xferd  Average Speed   Time    Time     Time  Current\n",
      "                                 Dload  Upload   Total   Spent    Left  Speed\n",
      "100  5203  100  2477  100  2726   108k   119k --:--:-- --:--:-- --:--:--  362k\n",
      "  % Total    % Received % Xferd  Average Speed   Time    Time     Time  Current\n",
      "                                 Dload  Upload   Total   Spent    Left  Speed\n",
      "  0     0    0     0    0     0      0      0 --:--:-- --:--:-- --:--:--     0"
     ]
    },
    {
     "name": "stdout",
     "output_type": "stream",
     "text": [
      "177\n"
     ]
    },
    {
     "name": "stderr",
     "output_type": "stream",
     "text": [
      "100  3125  100  3058  100    67   2138     46  0:00:01  0:00:01 --:--:--  2191\n",
      "  % Total    % Received % Xferd  Average Speed   Time    Time     Time  Current\n",
      "                                 Dload  Upload   Total   Spent    Left  Speed\n",
      "100  5548  100  2490  100  3058  97478   116k --:--:-- --:--:-- --:--:--  492k\n",
      "  % Total    % Received % Xferd  Average Speed   Time    Time     Time  Current\n",
      "                                 Dload  Upload   Total   Spent    Left  Speed\n",
      "  0     0    0     0    0     0      0      0 --:--:-- --:--:-- --:--:--     0"
     ]
    },
    {
     "name": "stdout",
     "output_type": "stream",
     "text": [
      "178\n"
     ]
    },
    {
     "name": "stderr",
     "output_type": "stream",
     "text": [
      "100  2118  100  2086  100    32    865     13  0:00:02  0:00:02 --:--:--   881\n",
      "  % Total    % Received % Xferd  Average Speed   Time    Time     Time  Current\n",
      "                                 Dload  Upload   Total   Spent    Left  Speed\n",
      "100  3661  100  1577  100  2084  62098  82063 --:--:-- --:--:-- --:--:--  325k\n",
      "  % Total    % Received % Xferd  Average Speed   Time    Time     Time  Current\n",
      "                                 Dload  Upload   Total   Spent    Left  Speed\n",
      "  0     0    0     0    0     0      0      0 --:--:-- --:--:-- --:--:--     0"
     ]
    },
    {
     "name": "stdout",
     "output_type": "stream",
     "text": [
      "Failed: 179\n"
     ]
    },
    {
     "name": "stderr",
     "output_type": "stream",
     "text": [
      "\r",
      "100    50    0     0  100    50      0     41  0:00:01  0:00:01 --:--:--    41\r",
      "100  3535  100  3485  100    50   2727     39  0:00:01  0:00:01 --:--:--  2781\n",
      "  % Total    % Received % Xferd  Average Speed   Time    Time     Time  Current\n",
      "                                 Dload  Upload   Total   Spent    Left  Speed\n",
      "\r",
      "  0     0    0     0    0     0      0      0 --:--:-- --:--:-- --:--:--     0\r",
      "100  7102  100  3617  100  3485   210k   202k --:--:-- --:--:-- --:--:-- 1733k\n",
      "  % Total    % Received % Xferd  Average Speed   Time    Time     Time  Current\n",
      "                                 Dload  Upload   Total   Spent    Left  Speed\n",
      "\r",
      "  0     0    0     0    0     0      0      0 --:--:-- --:--:-- --:--:--     0"
     ]
    },
    {
     "name": "stdout",
     "output_type": "stream",
     "text": [
      "180\n"
     ]
    },
    {
     "name": "stderr",
     "output_type": "stream",
     "text": [
      "100  2894  100  2840  100    54   1617     30  0:00:01  0:00:01 --:--:--  1651\n",
      "  % Total    % Received % Xferd  Average Speed   Time    Time     Time  Current\n",
      "                                 Dload  Upload   Total   Spent    Left  Speed\n",
      "100  5140  100  2300  100  2840   118k   146k --:--:-- --:--:-- --:--:--  557k\n",
      "  % Total    % Received % Xferd  Average Speed   Time    Time     Time  Current\n",
      "                                 Dload  Upload   Total   Spent    Left  Speed\n",
      "  0     0    0     0    0     0      0      0 --:--:-- --:--:-- --:--:--     0"
     ]
    },
    {
     "name": "stdout",
     "output_type": "stream",
     "text": [
      "181\n"
     ]
    },
    {
     "name": "stderr",
     "output_type": "stream",
     "text": [
      "100    87  100    21  100    66     11     35  0:00:01  0:00:01 --:--:--    47\n",
      "  % Total    % Received % Xferd  Average Speed   Time    Time     Time  Current\n",
      "                                 Dload  Upload   Total   Spent    Left  Speed\n",
      "100    32  100    11  100    21    449    858 --:--:-- --:--:-- --:--:--  2909\n",
      "  % Total    % Received % Xferd  Average Speed   Time    Time     Time  Current\n",
      "                                 Dload  Upload   Total   Spent    Left  Speed\n",
      "  0     0    0     0    0     0      0      0 --:--:-- --:--:-- --:--:--     0"
     ]
    },
    {
     "name": "stdout",
     "output_type": "stream",
     "text": [
      "Failed: 182\n"
     ]
    },
    {
     "name": "stderr",
     "output_type": "stream",
     "text": [
      "100  1735  100  1681  100    54   1131     36  0:00:01  0:00:01 --:--:--  1171\n",
      "  % Total    % Received % Xferd  Average Speed   Time    Time     Time  Current\n",
      "                                 Dload  Upload   Total   Spent    Left  Speed\n",
      "100  2990  100  1309  100  1681  58597  75249 --:--:-- --:--:-- --:--:--  324k\n",
      "  % Total    % Received % Xferd  Average Speed   Time    Time     Time  Current\n",
      "                                 Dload  Upload   Total   Spent    Left  Speed\n",
      "  0     0    0     0    0     0      0      0 --:--:-- --:--:-- --:--:--     0"
     ]
    },
    {
     "name": "stdout",
     "output_type": "stream",
     "text": [
      "183\n"
     ]
    },
    {
     "name": "stderr",
     "output_type": "stream",
     "text": [
      "\r",
      "100  2231  100  2181  100    50   3195     73 --:--:-- --:--:-- --:--:--  3290\n",
      "  % Total    % Received % Xferd  Average Speed   Time    Time     Time  Current\n",
      "                                 Dload  Upload   Total   Spent    Left  Speed\n",
      "\r",
      "  0     0    0     0    0     0      0      0 --:--:-- --:--:-- --:--:--     0\r",
      "100  4135  100  1954  100  2181  95704   104k --:--:-- --:--:-- --:--:--  448k\n",
      "  % Total    % Received % Xferd  Average Speed   Time    Time     Time  Current\n",
      "                                 Dload  Upload   Total   Spent    Left  Speed\n",
      "\r",
      "  0     0    0     0    0     0      0      0 --:--:-- --:--:-- --:--:--     0"
     ]
    },
    {
     "name": "stdout",
     "output_type": "stream",
     "text": [
      "184\n"
     ]
    },
    {
     "name": "stderr",
     "output_type": "stream",
     "text": [
      "100  1843  100  1680  100   163   1096    106  0:00:01  0:00:01 --:--:--  1206\n",
      "  % Total    % Received % Xferd  Average Speed   Time    Time     Time  Current\n",
      "                                 Dload  Upload   Total   Spent    Left  Speed\n",
      "100  3095  100  1415  100  1680   177k   210k --:--:-- --:--:-- --:--:--  755k\n",
      "  % Total    % Received % Xferd  Average Speed   Time    Time     Time  Current\n",
      "                                 Dload  Upload   Total   Spent    Left  Speed\n",
      "  0     0    0     0    0     0      0      0 --:--:-- --:--:-- --:--:--     0"
     ]
    },
    {
     "name": "stdout",
     "output_type": "stream",
     "text": [
      "185\n"
     ]
    },
    {
     "name": "stderr",
     "output_type": "stream",
     "text": [
      "100  2686  100  2639  100    47   1479     26  0:00:01  0:00:01 --:--:--  1508\n",
      "  % Total    % Received % Xferd  Average Speed   Time    Time     Time  Current\n",
      "                                 Dload  Upload   Total   Spent    Left  Speed\n",
      "100  5076  100  2437  100  2639   145k   157k --:--:-- --:--:-- --:--:-- 1652k\n",
      "  % Total    % Received % Xferd  Average Speed   Time    Time     Time  Current\n",
      "                                 Dload  Upload   Total   Spent    Left  Speed\n",
      "  0     0    0     0    0     0      0      0 --:--:-- --:--:-- --:--:--     0"
     ]
    },
    {
     "name": "stdout",
     "output_type": "stream",
     "text": [
      "186\n"
     ]
    },
    {
     "name": "stderr",
     "output_type": "stream",
     "text": [
      "\r",
      "100   577  100   475  100   102    614    131 --:--:-- --:--:-- --:--:--   749\r",
      "100   577  100   475  100   102    614    131 --:--:-- --:--:-- --:--:--   749\n",
      "  % Total    % Received % Xferd  Average Speed   Time    Time     Time  Current\n",
      "                                 Dload  Upload   Total   Spent    Left  Speed\n",
      "\r",
      "  0     0    0     0    0     0      0      0 --:--:-- --:--:-- --:--:--     0\r",
      "100   902  100   427  100   475  26372  29337 --:--:-- --:--:-- --:--:--  220k\n",
      "  % Total    % Received % Xferd  Average Speed   Time    Time     Time  Current\n",
      "                                 Dload  Upload   Total   Spent    Left  Speed\n",
      "\r",
      "  0     0    0     0    0     0      0      0 --:--:-- --:--:-- --:--:--     0"
     ]
    },
    {
     "name": "stdout",
     "output_type": "stream",
     "text": [
      "Failed: 187\n"
     ]
    },
    {
     "name": "stderr",
     "output_type": "stream",
     "text": [
      "100  2879  100  2806  100    73   1112     28  0:00:02  0:00:02 --:--:--  1144\n",
      "  % Total    % Received % Xferd  Average Speed   Time    Time     Time  Current\n",
      "                                 Dload  Upload   Total   Spent    Left  Speed\n",
      "100  5281  100  2475  100  2806   143k   163k --:--:-- --:--:-- --:--:--  736k\n",
      "  % Total    % Received % Xferd  Average Speed   Time    Time     Time  Current\n",
      "                                 Dload  Upload   Total   Spent    Left  Speed\n",
      "  0     0    0     0    0     0      0      0 --:--:-- --:--:-- --:--:--     0"
     ]
    },
    {
     "name": "stdout",
     "output_type": "stream",
     "text": [
      "188\n"
     ]
    },
    {
     "name": "stderr",
     "output_type": "stream",
     "text": [
      "\r",
      "100  3742  100  3675  100    67   3430     62  0:00:01  0:00:01 --:--:--  3507\r",
      "100  3742  100  3675  100    67   3430     62  0:00:01  0:00:01 --:--:--  3507\n",
      "  % Total    % Received % Xferd  Average Speed   Time    Time     Time  Current\n",
      "                                 Dload  Upload   Total   Spent    Left  Speed\n",
      "\r",
      "  0     0    0     0    0     0      0      0 --:--:-- --:--:-- --:--:--     0\r",
      "100  6769  100  3094  100  3675   126k   150k --:--:-- --:--:-- --:--:--  508k\n",
      "  % Total    % Received % Xferd  Average Speed   Time    Time     Time  Current\n",
      "                                 Dload  Upload   Total   Spent    Left  Speed\n",
      "\r",
      "  0     0    0     0    0     0      0      0 --:--:-- --:--:-- --:--:--     0"
     ]
    },
    {
     "name": "stdout",
     "output_type": "stream",
     "text": [
      "189\n"
     ]
    },
    {
     "name": "stderr",
     "output_type": "stream",
     "text": [
      "100   840  100   772  100    68    940     82 --:--:-- --:--:-- --:--:--  1030\n",
      "  % Total    % Received % Xferd  Average Speed   Time    Time     Time  Current\n",
      "                                 Dload  Upload   Total   Spent    Left  Speed\n",
      "100  1391  100   619  100   772  40667  50719 --:--:-- --:--:-- --:--:--  271k\n",
      "  % Total    % Received % Xferd  Average Speed   Time    Time     Time  Current\n",
      "                                 Dload  Upload   Total   Spent    Left  Speed\n",
      "  0     0    0     0    0     0      0      0 --:--:-- --:--:-- --:--:--     0"
     ]
    },
    {
     "name": "stdout",
     "output_type": "stream",
     "text": [
      "190\n"
     ]
    },
    {
     "name": "stderr",
     "output_type": "stream",
     "text": [
      "100  3933  100  3885  100    48   3215     39  0:00:01  0:00:01 --:--:--  3269\n",
      "  % Total    % Received % Xferd  Average Speed   Time    Time     Time  Current\n",
      "                                 Dload  Upload   Total   Spent    Left  Speed\n",
      "100  8160  100  4275  100  3885   289k   262k --:--:-- --:--:-- --:--:-- 1992k\n",
      "  % Total    % Received % Xferd  Average Speed   Time    Time     Time  Current\n",
      "                                 Dload  Upload   Total   Spent    Left  Speed\n",
      "  0     0    0     0    0     0      0      0 --:--:-- --:--:-- --:--:--     0"
     ]
    },
    {
     "name": "stdout",
     "output_type": "stream",
     "text": [
      "191\n"
     ]
    },
    {
     "name": "stderr",
     "output_type": "stream",
     "text": [
      "100  2966  100  2918  100    48   2124     34  0:00:01  0:00:01 --:--:--  2168\n",
      "  % Total    % Received % Xferd  Average Speed   Time    Time     Time  Current\n",
      "                                 Dload  Upload   Total   Spent    Left  Speed\n",
      "100  5468  100  2550  100  2918   132k   151k --:--:-- --:--:-- --:--:-- 1067k\n",
      "  % Total    % Received % Xferd  Average Speed   Time    Time     Time  Current\n",
      "                                 Dload  Upload   Total   Spent    Left  Speed\n",
      "  0     0    0     0    0     0      0      0 --:--:-- --:--:-- --:--:--     0"
     ]
    },
    {
     "name": "stdout",
     "output_type": "stream",
     "text": [
      "192\n"
     ]
    },
    {
     "name": "stderr",
     "output_type": "stream",
     "text": [
      "\r",
      "100  3464  100  3397  100    67   3030     59  0:00:01  0:00:01 --:--:--  3103\r",
      "100  3464  100  3397  100    67   3030     59  0:00:01  0:00:01 --:--:--  3103\n",
      "  % Total    % Received % Xferd  Average Speed   Time    Time     Time  Current\n",
      "                                 Dload  Upload   Total   Spent    Left  Speed\n",
      "\r",
      "  0     0    0     0    0     0      0      0 --:--:-- --:--:-- --:--:--     0\r",
      "100  6139  100  2742  100  3397   146k   180k --:--:-- --:--:-- --:--:--  856k\n",
      "  % Total    % Received % Xferd  Average Speed   Time    Time     Time  Current\n",
      "                                 Dload  Upload   Total   Spent    Left  Speed\n",
      "\r",
      "  0     0    0     0    0     0      0      0 --:--:-- --:--:-- --:--:--     0"
     ]
    },
    {
     "name": "stdout",
     "output_type": "stream",
     "text": [
      "193\n"
     ]
    },
    {
     "name": "stderr",
     "output_type": "stream",
     "text": [
      "\r",
      "100    71    0     0  100    71      0     58  0:00:01  0:00:01 --:--:--    59\r",
      "100   850  100   779  100    71    633     57  0:00:01  0:00:01 --:--:--   696\n",
      "  % Total    % Received % Xferd  Average Speed   Time    Time     Time  Current\n",
      "                                 Dload  Upload   Total   Spent    Left  Speed\n",
      "\r",
      "  0     0    0     0    0     0      0      0 --:--:-- --:--:-- --:--:--     0\r",
      "100  1541  100   762  100   779  39004  39875 --:--:-- --:--:-- --:--:--  214k\n",
      "  % Total    % Received % Xferd  Average Speed   Time    Time     Time  Current\n",
      "                                 Dload  Upload   Total   Spent    Left  Speed\n",
      "\r",
      "  0     0    0     0    0     0      0      0 --:--:-- --:--:-- --:--:--     0"
     ]
    },
    {
     "name": "stdout",
     "output_type": "stream",
     "text": [
      "Perfdrive: 194\n"
     ]
    },
    {
     "name": "stderr",
     "output_type": "stream",
     "text": [
      "\r",
      "100    45    0     0  100    45      0     37  0:00:01  0:00:01 --:--:--    37\r",
      "100  1391  100  1346  100    45   1014     33  0:00:01  0:00:01 --:--:--  1053\n",
      "  % Total    % Received % Xferd  Average Speed   Time    Time     Time  Current\n",
      "                                 Dload  Upload   Total   Spent    Left  Speed\n",
      "\r",
      "  0     0    0     0    0     0      0      0 --:--:-- --:--:-- --:--:--     0\r",
      "100  2606  100  1260  100  1346  81775  87357 --:--:-- --:--:-- --:--:--  636k\n",
      "  % Total    % Received % Xferd  Average Speed   Time    Time     Time  Current\n",
      "                                 Dload  Upload   Total   Spent    Left  Speed\n",
      "\r",
      "  0     0    0     0    0     0      0      0 --:--:-- --:--:-- --:--:--     0"
     ]
    },
    {
     "name": "stdout",
     "output_type": "stream",
     "text": [
      "195\n"
     ]
    },
    {
     "name": "stderr",
     "output_type": "stream",
     "text": [
      "100  3998  100  3931  100    67   2775     47  0:00:01  0:00:01 --:--:--  2835\n",
      "  % Total    % Received % Xferd  Average Speed   Time    Time     Time  Current\n",
      "                                 Dload  Upload   Total   Spent    Left  Speed\n",
      "100  7546  100  3615  100  3931   248k   270k --:--:-- --:--:-- --:--:-- 1473k\n",
      "  % Total    % Received % Xferd  Average Speed   Time    Time     Time  Current\n",
      "                                 Dload  Upload   Total   Spent    Left  Speed\n",
      "  0     0    0     0    0     0      0      0 --:--:-- --:--:-- --:--:--     0"
     ]
    },
    {
     "name": "stdout",
     "output_type": "stream",
     "text": [
      "196\n"
     ]
    },
    {
     "name": "stderr",
     "output_type": "stream",
     "text": [
      "100  3050  100  2991  100    59   1423     28  0:00:02  0:00:02 --:--:--  1456\n",
      "  % Total    % Received % Xferd  Average Speed   Time    Time     Time  Current\n",
      "                                 Dload  Upload   Total   Spent    Left  Speed\n",
      "100  5421  100  2430  100  2991   119k   146k --:--:-- --:--:-- --:--:--  661k\n",
      "  % Total    % Received % Xferd  Average Speed   Time    Time     Time  Current\n",
      "                                 Dload  Upload   Total   Spent    Left  Speed\n",
      "  0     0    0     0    0     0      0      0 --:--:-- --:--:-- --:--:--     0"
     ]
    },
    {
     "name": "stdout",
     "output_type": "stream",
     "text": [
      "197\n"
     ]
    },
    {
     "name": "stderr",
     "output_type": "stream",
     "text": [
      "\r",
      "100  4311  100  4262  100    49   3844     44  0:00:01  0:00:01 --:--:--  3908\r",
      "100  4311  100  4262  100    49   3844     44  0:00:01  0:00:01 --:--:--  3908\n",
      "  % Total    % Received % Xferd  Average Speed   Time    Time     Time  Current\n",
      "                                 Dload  Upload   Total   Spent    Left  Speed\n",
      "\r",
      "  0     0    0     0    0     0      0      0 --:--:-- --:--:-- --:--:--     0\r",
      "100  8552  100  4290  100  4262   223k   222k --:--:-- --:--:-- --:--:-- 1193k\n",
      "  % Total    % Received % Xferd  Average Speed   Time    Time     Time  Current\n",
      "                                 Dload  Upload   Total   Spent    Left  Speed\n",
      "\r",
      "  0     0    0     0    0     0      0      0 --:--:-- --:--:-- --:--:--     0"
     ]
    },
    {
     "name": "stdout",
     "output_type": "stream",
     "text": [
      "198\n"
     ]
    },
    {
     "name": "stderr",
     "output_type": "stream",
     "text": [
      "\r",
      "100  2920  100  2872  100    48   2441     40  0:00:01  0:00:01 --:--:--  2495\r",
      "100  2920  100  2872  100    48   2440     40  0:00:01  0:00:01 --:--:--  2495\n",
      "  % Total    % Received % Xferd  Average Speed   Time    Time     Time  Current\n",
      "                                 Dload  Upload   Total   Spent    Left  Speed\n",
      "\r",
      "  0     0    0     0    0     0      0      0 --:--:-- --:--:-- --:--:--     0\r",
      "100  5533  100  2661  100  2872   158k   170k --:--:-- --:--:-- --:--:-- 1080k\n",
      "  % Total    % Received % Xferd  Average Speed   Time    Time     Time  Current\n",
      "                                 Dload  Upload   Total   Spent    Left  Speed\n",
      "\r",
      "  0     0    0     0    0     0      0      0 --:--:-- --:--:-- --:--:--     0"
     ]
    },
    {
     "name": "stdout",
     "output_type": "stream",
     "text": [
      "199\n"
     ]
    },
    {
     "name": "stderr",
     "output_type": "stream",
     "text": [
      "100  2758  100  2709  100    49   1928     34  0:00:01  0:00:01 --:--:--  1970\n",
      "  % Total    % Received % Xferd  Average Speed   Time    Time     Time  Current\n",
      "                                 Dload  Upload   Total   Spent    Left  Speed\n",
      "100  5184  100  2475  100  2709   137k   150k --:--:-- --:--:-- --:--:-- 1265k\n",
      "  % Total    % Received % Xferd  Average Speed   Time    Time     Time  Current\n",
      "                                 Dload  Upload   Total   Spent    Left  Speed\n",
      "  0     0    0     0    0     0      0      0 --:--:-- --:--:-- --:--:--     0"
     ]
    },
    {
     "name": "stdout",
     "output_type": "stream",
     "text": [
      "200\n"
     ]
    },
    {
     "name": "stderr",
     "output_type": "stream",
     "text": [
      "100  2462  100  2392  100    70    273      8  0:00:08  0:00:08 --:--:--   530\n",
      "  % Total    % Received % Xferd  Average Speed   Time    Time     Time  Current\n",
      "                                 Dload  Upload   Total   Spent    Left  Speed\n",
      "100  4630  100  2238  100  2392   126k   135k --:--:-- --:--:-- --:--:--  904k\n",
      "  % Total    % Received % Xferd  Average Speed   Time    Time     Time  Current\n",
      "                                 Dload  Upload   Total   Spent    Left  Speed\n",
      "  0     0    0     0    0     0      0      0 --:--:-- --:--:-- --:--:--     0"
     ]
    },
    {
     "name": "stdout",
     "output_type": "stream",
     "text": [
      "201\n"
     ]
    },
    {
     "name": "stderr",
     "output_type": "stream",
     "text": [
      "\r",
      "100    70    0     0  100    70      0     57  0:00:01  0:00:01 --:--:--    57\r",
      "100   848  100   778  100    70    584     52  0:00:01  0:00:01 --:--:--   639\r",
      "100   848  100   778  100    70    584     52  0:00:01  0:00:01 --:--:--   639\n",
      "  % Total    % Received % Xferd  Average Speed   Time    Time     Time  Current\n",
      "                                 Dload  Upload   Total   Spent    Left  Speed\n",
      "\r",
      "  0     0    0     0    0     0      0      0 --:--:-- --:--:-- --:--:--     0\r",
      "100  1539  100   761  100   778  32056  32773 --:--:-- --:--:-- --:--:--  150k\n",
      "  % Total    % Received % Xferd  Average Speed   Time    Time     Time  Current\n",
      "                                 Dload  Upload   Total   Spent    Left  Speed\n",
      "\r",
      "  0     0    0     0    0     0      0      0 --:--:-- --:--:-- --:--:--     0"
     ]
    },
    {
     "name": "stdout",
     "output_type": "stream",
     "text": [
      "Perfdrive: 202\n"
     ]
    },
    {
     "name": "stderr",
     "output_type": "stream",
     "text": [
      "100  1958  100  1907  100    51    691     18  0:00:02  0:00:02 --:--:--   712\n",
      "  % Total    % Received % Xferd  Average Speed   Time    Time     Time  Current\n",
      "                                 Dload  Upload   Total   Spent    Left  Speed\n",
      "100  3668  100  1761  100  1907   114k   124k --:--:-- --:--:-- --:--:-- 1194k\n",
      "  % Total    % Received % Xferd  Average Speed   Time    Time     Time  Current\n",
      "                                 Dload  Upload   Total   Spent    Left  Speed\n",
      "  0     0    0     0    0     0      0      0 --:--:-- --:--:-- --:--:--     0"
     ]
    },
    {
     "name": "stdout",
     "output_type": "stream",
     "text": [
      "203\n"
     ]
    },
    {
     "name": "stderr",
     "output_type": "stream",
     "text": [
      "100  2535  100  2476  100    59   1393     33  0:00:01  0:00:01 --:--:--  1431\n",
      "  % Total    % Received % Xferd  Average Speed   Time    Time     Time  Current\n",
      "                                 Dload  Upload   Total   Spent    Left  Speed\n",
      "100  4623  100  2147  100  2476   114k   131k --:--:-- --:--:-- --:--:--  644k\n",
      "  % Total    % Received % Xferd  Average Speed   Time    Time     Time  Current\n",
      "                                 Dload  Upload   Total   Spent    Left  Speed\n",
      "  0     0    0     0    0     0      0      0 --:--:-- --:--:-- --:--:--     0"
     ]
    },
    {
     "name": "stdout",
     "output_type": "stream",
     "text": [
      "204\n"
     ]
    },
    {
     "name": "stderr",
     "output_type": "stream",
     "text": [
      "100  3572  100  3523  100    49   3334     46  0:00:01  0:00:01 --:--:--  3405\n",
      "  % Total    % Received % Xferd  Average Speed   Time    Time     Time  Current\n",
      "                                 Dload  Upload   Total   Spent    Left  Speed\n",
      "100  6830  100  3307  100  3523   253k   269k --:--:-- --:--:-- --:--:-- 1667k\n",
      "  % Total    % Received % Xferd  Average Speed   Time    Time     Time  Current\n",
      "                                 Dload  Upload   Total   Spent    Left  Speed\n",
      "  0     0    0     0    0     0      0      0 --:--:-- --:--:-- --:--:--     0"
     ]
    },
    {
     "name": "stdout",
     "output_type": "stream",
     "text": [
      "205\n"
     ]
    },
    {
     "name": "stderr",
     "output_type": "stream",
     "text": [
      "100  3378  100  3319  100    59   2098     37  0:00:01  0:00:01 --:--:--  2142\n",
      "  % Total    % Received % Xferd  Average Speed   Time    Time     Time  Current\n",
      "                                 Dload  Upload   Total   Spent    Left  Speed\n",
      "100  6357  100  3038  100  3319   119k   130k --:--:-- --:--:-- --:--:--  477k\n",
      "  % Total    % Received % Xferd  Average Speed   Time    Time     Time  Current\n",
      "                                 Dload  Upload   Total   Spent    Left  Speed\n",
      "  0     0    0     0    0     0      0      0 --:--:-- --:--:-- --:--:--     0"
     ]
    },
    {
     "name": "stdout",
     "output_type": "stream",
     "text": [
      "206\n"
     ]
    },
    {
     "name": "stderr",
     "output_type": "stream",
     "text": [
      "\r",
      "100    67    0     0  100    67      0     55  0:00:01  0:00:01 --:--:--    55\r",
      "100  3175  100  3108  100    67   2534     54  0:00:01  0:00:01 --:--:--  2604\n",
      "  % Total    % Received % Xferd  Average Speed   Time    Time     Time  Current\n",
      "                                 Dload  Upload   Total   Spent    Left  Speed\n",
      "\r",
      "  0     0    0     0    0     0      0      0 --:--:-- --:--:-- --:--:--     0\r",
      "100  5850  100  2742  100  3108   104k   117k --:--:-- --:--:-- --:--:--  634k\n",
      "  % Total    % Received % Xferd  Average Speed   Time    Time     Time  Current\n",
      "                                 Dload  Upload   Total   Spent    Left  Speed\n",
      "\r",
      "  0     0    0     0    0     0      0      0 --:--:-- --:--:-- --:--:--     0"
     ]
    },
    {
     "name": "stdout",
     "output_type": "stream",
     "text": [
      "207\n"
     ]
    },
    {
     "name": "stderr",
     "output_type": "stream",
     "text": [
      "100  3038  100  2987  100    51   3445     58 --:--:-- --:--:-- --:--:--  3532\n",
      "  % Total    % Received % Xferd  Average Speed   Time    Time     Time  Current\n",
      "                                 Dload  Upload   Total   Spent    Left  Speed\n",
      "100  5768  100  2781  100  2987   137k   147k --:--:-- --:--:-- --:--:--  938k\n",
      "  % Total    % Received % Xferd  Average Speed   Time    Time     Time  Current\n",
      "                                 Dload  Upload   Total   Spent    Left  Speed\n",
      "  0     0    0     0    0     0      0      0 --:--:-- --:--:-- --:--:--     0"
     ]
    },
    {
     "name": "stdout",
     "output_type": "stream",
     "text": [
      "208\n"
     ]
    },
    {
     "name": "stderr",
     "output_type": "stream",
     "text": [
      "100  1155  100  1087  100    68   1479     92 --:--:-- --:--:-- --:--:--  1584\n",
      "  % Total    % Received % Xferd  Average Speed   Time    Time     Time  Current\n",
      "                                 Dload  Upload   Total   Spent    Left  Speed\n",
      "100  1762  100   675  100  1087  30621  49312 --:--:-- --:--:-- --:--:--  215k\n",
      "  % Total    % Received % Xferd  Average Speed   Time    Time     Time  Current\n",
      "                                 Dload  Upload   Total   Spent    Left  Speed\n",
      "  0     0    0     0    0     0      0      0 --:--:-- --:--:-- --:--:--     0"
     ]
    },
    {
     "name": "stdout",
     "output_type": "stream",
     "text": [
      "209\n"
     ]
    },
    {
     "name": "stderr",
     "output_type": "stream",
     "text": [
      "\r",
      "100    27    0     0  100    27      0     22  0:00:01  0:00:01 --:--:--    22\r",
      "100  2527  100  2500  100    27   1863     20  0:00:01  0:00:01 --:--:--  1892\n",
      "  % Total    % Received % Xferd  Average Speed   Time    Time     Time  Current\n",
      "                                 Dload  Upload   Total   Spent    Left  Speed\n",
      "\r",
      "  0     0    0     0    0     0      0      0 --:--:-- --:--:-- --:--:--     0\r",
      "100  4765  100  2265  100  2500   126k   139k --:--:-- --:--:-- --:--:--  581k\n"
     ]
    },
    {
     "name": "stdout",
     "output_type": "stream",
     "text": [
      "210\n"
     ]
    },
    {
     "name": "stderr",
     "output_type": "stream",
     "text": [
      "  % Total    % Received % Xferd  Average Speed   Time    Time     Time  Current\n",
      "                                 Dload  Upload   Total   Spent    Left  Speed\n",
      "100  2253  100  2193  100    60   1376     37  0:00:01  0:00:01 --:--:--  1418\n",
      "  % Total    % Received % Xferd  Average Speed   Time    Time     Time  Current\n",
      "                                 Dload  Upload   Total   Spent    Left  Speed\n",
      "100  4097  100  1904  100  2193  90326   101k --:--:-- --:--:-- --:--:--  363k\n",
      "  % Total    % Received % Xferd  Average Speed   Time    Time     Time  Current\n",
      "                                 Dload  Upload   Total   Spent    Left  Speed\n",
      "  0     0    0     0    0     0      0      0 --:--:-- --:--:-- --:--:--     0"
     ]
    },
    {
     "name": "stdout",
     "output_type": "stream",
     "text": [
      "211\n"
     ]
    },
    {
     "name": "stderr",
     "output_type": "stream",
     "text": [
      "100  1466  100  1420  100    46    745     24  0:00:01  0:00:01 --:--:--   771\n",
      "  % Total    % Received % Xferd  Average Speed   Time    Time     Time  Current\n",
      "                                 Dload  Upload   Total   Spent    Left  Speed\n",
      "100  2469  100  1049  100  1420  43911  59441 --:--:-- --:--:-- --:--:--  219k\n",
      "  % Total    % Received % Xferd  Average Speed   Time    Time     Time  Current\n",
      "                                 Dload  Upload   Total   Spent    Left  Speed\n",
      "  0     0    0     0    0     0      0      0 --:--:-- --:--:-- --:--:--     0"
     ]
    },
    {
     "name": "stdout",
     "output_type": "stream",
     "text": [
      "212\n"
     ]
    },
    {
     "name": "stderr",
     "output_type": "stream",
     "text": [
      "\r",
      "100  1148  100  1080  100    68   1179     74 --:--:-- --:--:-- --:--:--  1260\r",
      "100  1148  100  1080  100    68   1179     74 --:--:-- --:--:-- --:--:--  1260\n",
      "  % Total    % Received % Xferd  Average Speed   Time    Time     Time  Current\n",
      "                                 Dload  Upload   Total   Spent    Left  Speed\n",
      "\r",
      "  0     0    0     0    0     0      0      0 --:--:-- --:--:-- --:--:--     0\r",
      "100  1776  100   696  100  1080  42130  65375 --:--:-- --:--:-- --:--:--  346k\n",
      "  % Total    % Received % Xferd  Average Speed   Time    Time     Time  Current\n",
      "                                 Dload  Upload   Total   Spent    Left  Speed\n",
      "\r",
      "  0     0    0     0    0     0      0      0 --:--:-- --:--:-- --:--:--     0"
     ]
    },
    {
     "name": "stdout",
     "output_type": "stream",
     "text": [
      "213\n"
     ]
    },
    {
     "name": "stderr",
     "output_type": "stream",
     "text": [
      "\r",
      "100  2231  100  2182  100    49   3138     70 --:--:-- --:--:-- --:--:--  3233\r",
      "100  2231  100  2182  100    49   3137     70 --:--:-- --:--:-- --:--:--  3233\n",
      "  % Total    % Received % Xferd  Average Speed   Time    Time     Time  Current\n",
      "                                 Dload  Upload   Total   Spent    Left  Speed\n",
      "\r",
      "  0     0    0     0    0     0      0      0 --:--:-- --:--:-- --:--:--     0\r",
      "100  3914  100  1732  100  2182  75307  94873 --:--:-- --:--:-- --:--:--  347k\n",
      "  % Total    % Received % Xferd  Average Speed   Time    Time     Time  Current\n",
      "                                 Dload  Upload   Total   Spent    Left  Speed\n",
      "\r",
      "  0     0    0     0    0     0      0      0 --:--:-- --:--:-- --:--:--     0"
     ]
    },
    {
     "name": "stdout",
     "output_type": "stream",
     "text": [
      "214\n"
     ]
    },
    {
     "name": "stderr",
     "output_type": "stream",
     "text": [
      "\r",
      "100  1262  100  1194  100    68   1507     85 --:--:-- --:--:-- --:--:--  1601\r",
      "100  1262  100  1194  100    68   1507     85 --:--:-- --:--:-- --:--:--  1601\n",
      "  % Total    % Received % Xferd  Average Speed   Time    Time     Time  Current\n",
      "                                 Dload  Upload   Total   Spent    Left  Speed\n",
      "\r",
      "  0     0    0     0    0     0      0      0 --:--:-- --:--:-- --:--:--     0\r",
      "100  1859  100   665  100  1194  38260  68695 --:--:-- --:--:-- --:--:--  302k\n",
      "  % Total    % Received % Xferd  Average Speed   Time    Time     Time  Current\n",
      "                                 Dload  Upload   Total   Spent    Left  Speed\n",
      "\r",
      "  0     0    0     0    0     0      0      0 --:--:-- --:--:-- --:--:--     0"
     ]
    },
    {
     "name": "stdout",
     "output_type": "stream",
     "text": [
      "215\n"
     ]
    },
    {
     "name": "stderr",
     "output_type": "stream",
     "text": [
      "100  2055  100  1982  100    73    192      7  0:00:10  0:00:10 --:--:--   488\n",
      "  % Total    % Received % Xferd  Average Speed   Time    Time     Time  Current\n",
      "                                 Dload  Upload   Total   Spent    Left  Speed\n",
      "100  3769  100  1787  100  1982  99206   107k --:--:-- --:--:-- --:--:--  736k\n",
      "  % Total    % Received % Xferd  Average Speed   Time    Time     Time  Current\n",
      "                                 Dload  Upload   Total   Spent    Left  Speed\n",
      "  0     0    0     0    0     0      0      0 --:--:-- --:--:-- --:--:--     0"
     ]
    },
    {
     "name": "stdout",
     "output_type": "stream",
     "text": [
      "216\n"
     ]
    },
    {
     "name": "stderr",
     "output_type": "stream",
     "text": [
      "\r",
      "100  2641  100  2425  100   216   2812    250 --:--:-- --:--:-- --:--:--  3081\r",
      "100  2641  100  2425  100   216   2812    250 --:--:-- --:--:-- --:--:--  3081\n",
      "  % Total    % Received % Xferd  Average Speed   Time    Time     Time  Current\n",
      "                                 Dload  Upload   Total   Spent    Left  Speed\n",
      "\r",
      "  0     0    0     0    0     0      0      0 --:--:-- --:--:-- --:--:--     0\r",
      "100  4638  100  2215  100  2423  74376  81360 --:--:-- --:--:-- --:--:--  251k\n",
      "  % Total    % Received % Xferd  Average Speed   Time    Time     Time  Current\n",
      "                                 Dload  Upload   Total   Spent    Left  Speed\n",
      "\r",
      "  0     0    0     0    0     0      0      0 --:--:-- --:--:-- --:--:--     0"
     ]
    },
    {
     "name": "stdout",
     "output_type": "stream",
     "text": [
      "217\n"
     ]
    },
    {
     "name": "stderr",
     "output_type": "stream",
     "text": [
      "\r",
      "100  3500  100  3451  100    49   3309     46  0:00:01  0:00:01 --:--:--  3375\r",
      "100  3500  100  3451  100    49   3308     46  0:00:01  0:00:01 --:--:--  3375\n",
      "  % Total    % Received % Xferd  Average Speed   Time    Time     Time  Current\n",
      "                                 Dload  Upload   Total   Spent    Left  Speed\n",
      "\r",
      "  0     0    0     0    0     0      0      0 --:--:-- --:--:-- --:--:--     0\r",
      "100  6913  100  3462  100  3451   239k   238k --:--:-- --:--:-- --:--:-- 2250k\n",
      "  % Total    % Received % Xferd  Average Speed   Time    Time     Time  Current\n",
      "                                 Dload  Upload   Total   Spent    Left  Speed\n",
      "\r",
      "  0     0    0     0    0     0      0      0 --:--:-- --:--:-- --:--:--     0"
     ]
    },
    {
     "name": "stdout",
     "output_type": "stream",
     "text": [
      "218\n"
     ]
    },
    {
     "name": "stderr",
     "output_type": "stream",
     "text": [
      "100    95  100    21  100    74      1      4  0:00:21  0:00:15  0:00:06     5\n",
      "  % Total    % Received % Xferd  Average Speed   Time    Time     Time  Current\n",
      "                                 Dload  Upload   Total   Spent    Left  Speed\n",
      "100    32  100    11  100    21   1013   1934 --:--:-- --:--:-- --:--:-- 16000\n",
      "  % Total    % Received % Xferd  Average Speed   Time    Time     Time  Current\n",
      "                                 Dload  Upload   Total   Spent    Left  Speed\n",
      "  0     0    0     0    0     0      0      0 --:--:-- --:--:-- --:--:--     0"
     ]
    },
    {
     "name": "stdout",
     "output_type": "stream",
     "text": [
      "Failed: 219\n"
     ]
    },
    {
     "name": "stderr",
     "output_type": "stream",
     "text": [
      "100  3024  100  2957  100    67   2490     56  0:00:01  0:00:01 --:--:--  2560\n",
      "  % Total    % Received % Xferd  Average Speed   Time    Time     Time  Current\n",
      "                                 Dload  Upload   Total   Spent    Left  Speed\n",
      "100  5538  100  2581  100  2957   173k   198k --:--:-- --:--:-- --:--:-- 1081k\n",
      "  % Total    % Received % Xferd  Average Speed   Time    Time     Time  Current\n",
      "                                 Dload  Upload   Total   Spent    Left  Speed\n",
      "  0     0    0     0    0     0      0      0 --:--:-- --:--:-- --:--:--     0"
     ]
    },
    {
     "name": "stdout",
     "output_type": "stream",
     "text": [
      "220\n"
     ]
    },
    {
     "name": "stderr",
     "output_type": "stream",
     "text": [
      "\r",
      "100  2357  100  2290  100    67   2723     79 --:--:-- --:--:-- --:--:--  2819\n",
      "  % Total    % Received % Xferd  Average Speed   Time    Time     Time  Current\n",
      "                                 Dload  Upload   Total   Spent    Left  Speed\n",
      "\r",
      "  0     0    0     0    0     0      0      0 --:--:-- --:--:-- --:--:--     0\r",
      "100  4273  100  1983  100  2290  80773  93279 --:--:-- --:--:-- --:--:--  417k\n",
      "  % Total    % Received % Xferd  Average Speed   Time    Time     Time  Current\n",
      "                                 Dload  Upload   Total   Spent    Left  Speed\n",
      "\r",
      "  0     0    0     0    0     0      0      0 --:--:-- --:--:-- --:--:--     0"
     ]
    },
    {
     "name": "stdout",
     "output_type": "stream",
     "text": [
      "221\n"
     ]
    },
    {
     "name": "stderr",
     "output_type": "stream",
     "text": [
      "100  2679  100  2604  100    75    558     16  0:00:04  0:00:04 --:--:--   584\n",
      "  % Total    % Received % Xferd  Average Speed   Time    Time     Time  Current\n",
      "                                 Dload  Upload   Total   Spent    Left  Speed\n",
      "100  5063  100  2459  100  2604   140k   149k --:--:-- --:--:-- --:--:--  988k\n",
      "  % Total    % Received % Xferd  Average Speed   Time    Time     Time  Current\n",
      "                                 Dload  Upload   Total   Spent    Left  Speed\n",
      "  0     0    0     0    0     0      0      0 --:--:-- --:--:-- --:--:--     0"
     ]
    },
    {
     "name": "stdout",
     "output_type": "stream",
     "text": [
      "222\n"
     ]
    },
    {
     "name": "stderr",
     "output_type": "stream",
     "text": [
      "\r",
      "100    48    0     0  100    48      0     39  0:00:01  0:00:01 --:--:--    39\r",
      "100   298  100   250  100    48    197     37  0:00:01  0:00:01 --:--:--   236\n",
      "  % Total    % Received % Xferd  Average Speed   Time    Time     Time  Current\n",
      "                                 Dload  Upload   Total   Spent    Left  Speed\n",
      "\r",
      "  0     0    0     0    0     0      0      0 --:--:-- --:--:-- --:--:--     0\r",
      "100   486  100   236  100   250  15114  16011 --:--:-- --:--:-- --:--:-- 81000\r",
      "100   486  100   236  100   250  15028  15920 --:--:-- --:--:-- --:--:-- 81000\n",
      "  % Total    % Received % Xferd  Average Speed   Time    Time     Time  Current\n",
      "                                 Dload  Upload   Total   Spent    Left  Speed\n",
      "\r",
      "  0     0    0     0    0     0      0      0 --:--:-- --:--:-- --:--:--     0"
     ]
    },
    {
     "name": "stdout",
     "output_type": "stream",
     "text": [
      "223\n"
     ]
    },
    {
     "name": "stderr",
     "output_type": "stream",
     "text": [
      "\r",
      "100  1202  100  1134  100    68   1252     75 --:--:-- --:--:-- --:--:--  1334\n",
      "  % Total    % Received % Xferd  Average Speed   Time    Time     Time  Current\n",
      "                                 Dload  Upload   Total   Spent    Left  Speed\n",
      "\r",
      "  0     0    0     0    0     0      0      0 --:--:-- --:--:-- --:--:--     0\r",
      "100  1846  100   712  100  1134  25977  41374 --:--:-- --:--:-- --:--:--  138k\n",
      "  % Total    % Received % Xferd  Average Speed   Time    Time     Time  Current\n",
      "                                 Dload  Upload   Total   Spent    Left  Speed\n",
      "\r",
      "  0     0    0     0    0     0      0      0 --:--:-- --:--:-- --:--:--     0"
     ]
    },
    {
     "name": "stdout",
     "output_type": "stream",
     "text": [
      "224\n"
     ]
    },
    {
     "name": "stderr",
     "output_type": "stream",
     "text": [
      "100  2649  100  2485  100   164   1358     89  0:00:01  0:00:01 --:--:--  1453\n",
      "  % Total    % Received % Xferd  Average Speed   Time    Time     Time  Current\n",
      "                                 Dload  Upload   Total   Spent    Left  Speed\n",
      "100  4772  100  2287  100  2485   174k   189k --:--:-- --:--:-- --:--:-- 1553k\n",
      "  % Total    % Received % Xferd  Average Speed   Time    Time     Time  Current\n",
      "                                 Dload  Upload   Total   Spent    Left  Speed\n",
      "  0     0    0     0    0     0      0      0 --:--:-- --:--:-- --:--:--     0"
     ]
    },
    {
     "name": "stdout",
     "output_type": "stream",
     "text": [
      "225\n"
     ]
    },
    {
     "name": "stderr",
     "output_type": "stream",
     "text": [
      "100  2807  100  2740  100    67   3702     90 --:--:-- --:--:-- --:--:--  3813\n",
      "  % Total    % Received % Xferd  Average Speed   Time    Time     Time  Current\n",
      "                                 Dload  Upload   Total   Spent    Left  Speed\n",
      "100  5149  100  2409  100  2740   102k   116k --:--:-- --:--:-- --:--:--  558k\n",
      "  % Total    % Received % Xferd  Average Speed   Time    Time     Time  Current\n",
      "                                 Dload  Upload   Total   Spent    Left  Speed\n",
      "  0     0    0     0    0     0      0      0 --:--:-- --:--:-- --:--:--     0"
     ]
    },
    {
     "name": "stdout",
     "output_type": "stream",
     "text": [
      "226\n"
     ]
    },
    {
     "name": "stderr",
     "output_type": "stream",
     "text": [
      "100  4004  100  3955  100    49   2618     32  0:00:01  0:00:01 --:--:--  2660\n",
      "  % Total    % Received % Xferd  Average Speed   Time    Time     Time  Current\n",
      "                                 Dload  Upload   Total   Spent    Left  Speed\n",
      "100  7735  100  3780  100  3955   253k   265k --:--:-- --:--:-- --:--:-- 1510k\n",
      "  % Total    % Received % Xferd  Average Speed   Time    Time     Time  Current\n",
      "                                 Dload  Upload   Total   Spent    Left  Speed\n",
      "  0     0    0     0    0     0      0      0 --:--:-- --:--:-- --:--:--     0"
     ]
    },
    {
     "name": "stdout",
     "output_type": "stream",
     "text": [
      "227\n"
     ]
    },
    {
     "name": "stderr",
     "output_type": "stream",
     "text": [
      "100  2929  100  2830  100    99    691     24  0:00:04  0:00:04 --:--:--   716\n",
      "  % Total    % Received % Xferd  Average Speed   Time    Time     Time  Current\n",
      "                                 Dload  Upload   Total   Spent    Left  Speed\n",
      "100  5176  100  2346  100  2830  93095   109k --:--:-- --:--:-- --:--:--  361k\n",
      "  % Total    % Received % Xferd  Average Speed   Time    Time     Time  Current\n",
      "                                 Dload  Upload   Total   Spent    Left  Speed\n",
      "  0     0    0     0    0     0      0      0 --:--:-- --:--:-- --:--:--     0"
     ]
    },
    {
     "name": "stdout",
     "output_type": "stream",
     "text": [
      "228\n"
     ]
    },
    {
     "name": "stderr",
     "output_type": "stream",
     "text": [
      "100  3082  100  3028  100    54   1485     26  0:00:02  0:00:02 --:--:--  1516\n",
      "  % Total    % Received % Xferd  Average Speed   Time    Time     Time  Current\n",
      "                                 Dload  Upload   Total   Spent    Left  Speed\n",
      "100  5546  100  2518  100  3028  82779  99546 --:--:-- --:--:-- --:--:--  386k\n",
      "  % Total    % Received % Xferd  Average Speed   Time    Time     Time  Current\n",
      "                                 Dload  Upload   Total   Spent    Left  Speed\n",
      "  0     0    0     0    0     0      0      0 --:--:-- --:--:-- --:--:--     0"
     ]
    },
    {
     "name": "stdout",
     "output_type": "stream",
     "text": [
      "229\n"
     ]
    },
    {
     "name": "stderr",
     "output_type": "stream",
     "text": [
      "\r",
      "100    49    0     0  100    49      0     40  0:00:01  0:00:01 --:--:--    40\r",
      "100  2422  100  2373  100    49   1803     37  0:00:01  0:00:01 --:--:--  1847\n",
      "  % Total    % Received % Xferd  Average Speed   Time    Time     Time  Current\n",
      "                                 Dload  Upload   Total   Spent    Left  Speed\n",
      "\r",
      "  0     0    0     0    0     0      0      0 --:--:-- --:--:-- --:--:--     0\r",
      "100  4583  100  2210  100  2373   159k   171k --:--:-- --:--:-- --:--:-- 1491k\n",
      "  % Total    % Received % Xferd  Average Speed   Time    Time     Time  Current\n",
      "                                 Dload  Upload   Total   Spent    Left  Speed\n",
      "\r",
      "  0     0    0     0    0     0      0      0 --:--:-- --:--:-- --:--:--     0"
     ]
    },
    {
     "name": "stdout",
     "output_type": "stream",
     "text": [
      "230\n"
     ]
    },
    {
     "name": "stderr",
     "output_type": "stream",
     "text": [
      "100  2671  100  2612  100    59   1395     31  0:00:01  0:00:01 --:--:--  1429\n",
      "  % Total    % Received % Xferd  Average Speed   Time    Time     Time  Current\n",
      "                                 Dload  Upload   Total   Spent    Left  Speed\n",
      "100  4984  100  2372  100  2612   173k   191k --:--:-- --:--:-- --:--:--  973k\n",
      "  % Total    % Received % Xferd  Average Speed   Time    Time     Time  Current\n",
      "                                 Dload  Upload   Total   Spent    Left  Speed\n",
      "  0     0    0     0    0     0      0      0 --:--:-- --:--:-- --:--:--     0"
     ]
    },
    {
     "name": "stdout",
     "output_type": "stream",
     "text": [
      "231\n"
     ]
    },
    {
     "name": "stderr",
     "output_type": "stream",
     "text": [
      "100  3142  100  3075  100    67   2300     50  0:00:01  0:00:01 --:--:--  2360\n",
      "  % Total    % Received % Xferd  Average Speed   Time    Time     Time  Current\n",
      "                                 Dload  Upload   Total   Spent    Left  Speed\n",
      "100  5771  100  2696  100  3075   121k   138k --:--:-- --:--:-- --:--:--  626k\n"
     ]
    },
    {
     "name": "stdout",
     "output_type": "stream",
     "text": [
      "232\n"
     ]
    },
    {
     "name": "stderr",
     "output_type": "stream",
     "text": [
      "  % Total    % Received % Xferd  Average Speed   Time    Time     Time  Current\n",
      "                                 Dload  Upload   Total   Spent    Left  Speed\n",
      "100  2733  100  2633  100   100    783     29  0:00:03  0:00:03 --:--:--   814\n",
      "  % Total    % Received % Xferd  Average Speed   Time    Time     Time  Current\n",
      "                                 Dload  Upload   Total   Spent    Left  Speed\n",
      "100  5065  100  2432  100  2633   147k   159k --:--:-- --:--:-- --:--:--  989k\n",
      "  % Total    % Received % Xferd  Average Speed   Time    Time     Time  Current\n",
      "                                 Dload  Upload   Total   Spent    Left  Speed\n",
      "  0     0    0     0    0     0      0      0 --:--:-- --:--:-- --:--:--     0"
     ]
    },
    {
     "name": "stdout",
     "output_type": "stream",
     "text": [
      "233\n"
     ]
    },
    {
     "name": "stderr",
     "output_type": "stream",
     "text": [
      "\r",
      "100  1036  100   968  100    68   1174     82 --:--:-- --:--:-- --:--:--  1263\r",
      "100  1036  100   968  100    68   1174     82 --:--:-- --:--:-- --:--:--  1263\n",
      "  % Total    % Received % Xferd  Average Speed   Time    Time     Time  Current\n",
      "                                 Dload  Upload   Total   Spent    Left  Speed\n",
      "\r",
      "  0     0    0     0    0     0      0      0 --:--:-- --:--:-- --:--:--     0\r",
      "100  1671  100   703  100   968  35986  49552 --:--:-- --:--:-- --:--:--  326k\n",
      "  % Total    % Received % Xferd  Average Speed   Time    Time     Time  Current\n",
      "                                 Dload  Upload   Total   Spent    Left  Speed\n",
      "\r",
      "  0     0    0     0    0     0      0      0 --:--:-- --:--:-- --:--:--     0"
     ]
    },
    {
     "name": "stdout",
     "output_type": "stream",
     "text": [
      "234\n"
     ]
    },
    {
     "name": "stderr",
     "output_type": "stream",
     "text": [
      "100  2678  100  2628  100    50   1829     34  0:00:01  0:00:01 --:--:--  1871\n",
      "  % Total    % Received % Xferd  Average Speed   Time    Time     Time  Current\n",
      "                                 Dload  Upload   Total   Spent    Left  Speed\n",
      "100  5237  100  2609  100  2628   201k   203k --:--:-- --:--:-- --:--:-- 1704k\n",
      "  % Total    % Received % Xferd  Average Speed   Time    Time     Time  Current\n",
      "                                 Dload  Upload   Total   Spent    Left  Speed\n",
      "  0     0    0     0    0     0      0      0 --:--:-- --:--:-- --:--:--     0"
     ]
    },
    {
     "name": "stdout",
     "output_type": "stream",
     "text": [
      "235\n"
     ]
    },
    {
     "name": "stderr",
     "output_type": "stream",
     "text": [
      "100  2396  100  2323  100    73    715     22  0:00:03  0:00:03 --:--:--   739\n",
      "  % Total    % Received % Xferd  Average Speed   Time    Time     Time  Current\n",
      "                                 Dload  Upload   Total   Spent    Left  Speed\n",
      "100  4443  100  2120  100  2323   131k   143k --:--:-- --:--:-- --:--:--  867k\n",
      "  % Total    % Received % Xferd  Average Speed   Time    Time     Time  Current\n",
      "                                 Dload  Upload   Total   Spent    Left  Speed\n",
      "  0     0    0     0    0     0      0      0 --:--:-- --:--:-- --:--:--     0"
     ]
    },
    {
     "name": "stdout",
     "output_type": "stream",
     "text": [
      "236\n"
     ]
    },
    {
     "name": "stderr",
     "output_type": "stream",
     "text": [
      "\r",
      "100  4332  100  4265  100    67   4764     74 --:--:-- --:--:-- --:--:--  4861\r",
      "100  4332  100  4265  100    67   4764     74 --:--:-- --:--:-- --:--:--  4861\n",
      "  % Total    % Received % Xferd  Average Speed   Time    Time     Time  Current\n",
      "                                 Dload  Upload   Total   Spent    Left  Speed\n",
      "\r",
      "  0     0    0     0    0     0      0      0 --:--:-- --:--:-- --:--:--     0\r",
      "100  8153  100  3888  100  4265   204k   224k --:--:-- --:--:-- --:--:--  884k\n",
      "  % Total    % Received % Xferd  Average Speed   Time    Time     Time  Current\n",
      "                                 Dload  Upload   Total   Spent    Left  Speed\n",
      "\r",
      "  0     0    0     0    0     0      0      0 --:--:-- --:--:-- --:--:--     0"
     ]
    },
    {
     "name": "stdout",
     "output_type": "stream",
     "text": [
      "237\n"
     ]
    },
    {
     "name": "stderr",
     "output_type": "stream",
     "text": [
      "100  2317  100  2263  100    54    780     18  0:00:03  0:00:02  0:00:01   800\n",
      "  % Total    % Received % Xferd  Average Speed   Time    Time     Time  Current\n",
      "                                 Dload  Upload   Total   Spent    Left  Speed\n",
      "100  4331  100  2069  100  2262   164k   179k --:--:-- --:--:-- --:--:-- 1057k\n",
      "  % Total    % Received % Xferd  Average Speed   Time    Time     Time  Current\n",
      "                                 Dload  Upload   Total   Spent    Left  Speed\n",
      "  0     0    0     0    0     0      0      0 --:--:-- --:--:-- --:--:--     0"
     ]
    },
    {
     "name": "stdout",
     "output_type": "stream",
     "text": [
      "238\n"
     ]
    },
    {
     "name": "stderr",
     "output_type": "stream",
     "text": [
      "\r",
      "100   968  100   906  100    62   1244     85 --:--:-- --:--:-- --:--:--  1335\r",
      "100   968  100   906  100    62   1244     85 --:--:-- --:--:-- --:--:--  1335\n",
      "  % Total    % Received % Xferd  Average Speed   Time    Time     Time  Current\n",
      "                                 Dload  Upload   Total   Spent    Left  Speed\n",
      "\r",
      "  0     0    0     0    0     0      0      0 --:--:-- --:--:-- --:--:--     0\r",
      "100  1619  100   713  100   906  30147  38308 --:--:-- --:--:-- --:--:--  143k\n",
      "  % Total    % Received % Xferd  Average Speed   Time    Time     Time  Current\n",
      "                                 Dload  Upload   Total   Spent    Left  Speed\n",
      "\r",
      "  0     0    0     0    0     0      0      0 --:--:-- --:--:-- --:--:--     0"
     ]
    },
    {
     "name": "stdout",
     "output_type": "stream",
     "text": [
      "239\n"
     ]
    },
    {
     "name": "stderr",
     "output_type": "stream",
     "text": [
      "100  3145  100  3045  100   100    642     21  0:00:04  0:00:04 --:--:--   664\n",
      "  % Total    % Received % Xferd  Average Speed   Time    Time     Time  Current\n",
      "                                 Dload  Upload   Total   Spent    Left  Speed\n",
      "100  5541  100  2496  100  3045   115k   141k --:--:-- --:--:-- --:--:--  601k\n",
      "  % Total    % Received % Xferd  Average Speed   Time    Time     Time  Current\n",
      "                                 Dload  Upload   Total   Spent    Left  Speed\n",
      "  0     0    0     0    0     0      0      0 --:--:-- --:--:-- --:--:--     0"
     ]
    },
    {
     "name": "stdout",
     "output_type": "stream",
     "text": [
      "240\n"
     ]
    },
    {
     "name": "stderr",
     "output_type": "stream",
     "text": [
      "100   925  100   857  100    68    479     38  0:00:01  0:00:01 --:--:--   518\n",
      "  % Total    % Received % Xferd  Average Speed   Time    Time     Time  Current\n",
      "                                 Dload  Upload   Total   Spent    Left  Speed\n",
      "100  1416  100   559  100   857  25977  39825 --:--:-- --:--:-- --:--:--  153k\n",
      "  % Total    % Received % Xferd  Average Speed   Time    Time     Time  Current\n",
      "                                 Dload  Upload   Total   Spent    Left  Speed\n",
      "  0     0    0     0    0     0      0      0 --:--:-- --:--:-- --:--:--     0"
     ]
    },
    {
     "name": "stdout",
     "output_type": "stream",
     "text": [
      "241\n"
     ]
    },
    {
     "name": "stderr",
     "output_type": "stream",
     "text": [
      "100  1406  100  1338  100    68   1584     80 --:--:-- --:--:-- --:--:--  1675\n",
      "  % Total    % Received % Xferd  Average Speed   Time    Time     Time  Current\n",
      "                                 Dload  Upload   Total   Spent    Left  Speed\n",
      "100  2199  100   861  100  1338  44281  68813 --:--:-- --:--:-- --:--:--  214k\n",
      "  % Total    % Received % Xferd  Average Speed   Time    Time     Time  Current\n",
      "                                 Dload  Upload   Total   Spent    Left  Speed\n",
      "  0     0    0     0    0     0      0      0 --:--:-- --:--:-- --:--:--     0"
     ]
    },
    {
     "name": "stdout",
     "output_type": "stream",
     "text": [
      "242\n"
     ]
    },
    {
     "name": "stderr",
     "output_type": "stream",
     "text": [
      "\r",
      "100    67    0     0  100    67      0     55  0:00:01  0:00:01 --:--:--    55\r",
      "100  3669  100  3602  100    67   2831     52  0:00:01  0:00:01 --:--:--  2895\r",
      "100  3669  100  3602  100    67   2831     52  0:00:01  0:00:01 --:--:--  2895\n",
      "  % Total    % Received % Xferd  Average Speed   Time    Time     Time  Current\n",
      "                                 Dload  Upload   Total   Spent    Left  Speed\n",
      "\r",
      "  0     0    0     0    0     0      0      0 --:--:-- --:--:-- --:--:--     0\r",
      "100  6804  100  3202  100  3602   143k   160k --:--:-- --:--:-- --:--:--  738k\n",
      "  % Total    % Received % Xferd  Average Speed   Time    Time     Time  Current\n",
      "                                 Dload  Upload   Total   Spent    Left  Speed\n",
      "\r",
      "  0     0    0     0    0     0      0      0 --:--:-- --:--:-- --:--:--     0"
     ]
    },
    {
     "name": "stdout",
     "output_type": "stream",
     "text": [
      "243\n"
     ]
    },
    {
     "name": "stderr",
     "output_type": "stream",
     "text": [
      "100  2018  100  1943  100    75    354     13  0:00:05  0:00:05 --:--:--   455\n",
      "  % Total    % Received % Xferd  Average Speed   Time    Time     Time  Current\n",
      "                                 Dload  Upload   Total   Spent    Left  Speed\n",
      "100  3740  100  1797  100  1943  94103    99k --:--:-- --:--:-- --:--:--  608k\n",
      "  % Total    % Received % Xferd  Average Speed   Time    Time     Time  Current\n",
      "                                 Dload  Upload   Total   Spent    Left  Speed\n",
      "  0     0    0     0    0     0      0      0 --:--:-- --:--:-- --:--:--     0"
     ]
    },
    {
     "name": "stdout",
     "output_type": "stream",
     "text": [
      "244\n"
     ]
    },
    {
     "name": "stderr",
     "output_type": "stream",
     "text": [
      "100  2818  100  2773  100    45   1269     20  0:00:02  0:00:02 --:--:--  1293\n",
      "  % Total    % Received % Xferd  Average Speed   Time    Time     Time  Current\n",
      "                                 Dload  Upload   Total   Spent    Left  Speed\n",
      "100  5446  100  2673  100  2773   166k   172k --:--:-- --:--:-- --:--:-- 1063k\n",
      "  % Total    % Received % Xferd  Average Speed   Time    Time     Time  Current\n",
      "                                 Dload  Upload   Total   Spent    Left  Speed\n",
      "  0     0    0     0    0     0      0      0 --:--:-- --:--:-- --:--:--     0"
     ]
    },
    {
     "name": "stdout",
     "output_type": "stream",
     "text": [
      "245\n"
     ]
    },
    {
     "name": "stderr",
     "output_type": "stream",
     "text": [
      "100  2126  100  2084  100    42   2310     46 --:--:-- --:--:-- --:--:--  2370\n",
      "  % Total    % Received % Xferd  Average Speed   Time    Time     Time  Current\n",
      "                                 Dload  Upload   Total   Spent    Left  Speed\n",
      "100  4052  100  1968  100  2084   136k   144k --:--:-- --:--:-- --:--:--  989k\n",
      "  % Total    % Received % Xferd  Average Speed   Time    Time     Time  Current\n",
      "                                 Dload  Upload   Total   Spent    Left  Speed\n",
      "  0     0    0     0    0     0      0      0 --:--:-- --:--:-- --:--:--     0"
     ]
    },
    {
     "name": "stdout",
     "output_type": "stream",
     "text": [
      "246\n"
     ]
    },
    {
     "name": "stderr",
     "output_type": "stream",
     "text": [
      "100  3021  100  2958  100    63   1169     24  0:00:02  0:00:02 --:--:--  1196\n",
      "  % Total    % Received % Xferd  Average Speed   Time    Time     Time  Current\n",
      "                                 Dload  Upload   Total   Spent    Left  Speed\n",
      "100  5711  100  2753  100  2958   194k   209k --:--:-- --:--:-- --:--:-- 1859k\n",
      "  % Total    % Received % Xferd  Average Speed   Time    Time     Time  Current\n",
      "                                 Dload  Upload   Total   Spent    Left  Speed\n",
      "  0     0    0     0    0     0      0      0 --:--:-- --:--:-- --:--:--     0"
     ]
    },
    {
     "name": "stdout",
     "output_type": "stream",
     "text": [
      "247\n"
     ]
    },
    {
     "name": "stderr",
     "output_type": "stream",
     "text": [
      "\r",
      "100   921  100   853  100    68   1053     84 --:--:-- --:--:-- --:--:--  1144\r",
      "100   921  100   853  100    68   1053     84 --:--:-- --:--:-- --:--:--  1144\n",
      "  % Total    % Received % Xferd  Average Speed   Time    Time     Time  Current\n",
      "                                 Dload  Upload   Total   Spent    Left  Speed\n",
      "\r",
      "  0     0    0     0    0     0      0      0 --:--:-- --:--:-- --:--:--     0\r",
      "100  1364  100   511  100   853  23746  39639 --:--:-- --:--:-- --:--:--  190k\n",
      "  % Total    % Received % Xferd  Average Speed   Time    Time     Time  Current\n",
      "                                 Dload  Upload   Total   Spent    Left  Speed\n",
      "\r",
      "  0     0    0     0    0     0      0      0 --:--:-- --:--:-- --:--:--     0"
     ]
    },
    {
     "name": "stdout",
     "output_type": "stream",
     "text": [
      "248\n"
     ]
    },
    {
     "name": "stderr",
     "output_type": "stream",
     "text": [
      "100   832  100   747  100    85    362     41  0:00:02  0:00:02 --:--:--   405\n",
      "  % Total    % Received % Xferd  Average Speed   Time    Time     Time  Current\n",
      "                                 Dload  Upload   Total   Spent    Left  Speed\n",
      "100  1362  100   615  100   747  39372  47823 --:--:-- --:--:-- --:--:--  332k\n",
      "  % Total    % Received % Xferd  Average Speed   Time    Time     Time  Current\n",
      "                                 Dload  Upload   Total   Spent    Left  Speed\n",
      "  0     0    0     0    0     0      0      0 --:--:-- --:--:-- --:--:--     0"
     ]
    },
    {
     "name": "stdout",
     "output_type": "stream",
     "text": [
      "249\n"
     ]
    },
    {
     "name": "stderr",
     "output_type": "stream",
     "text": [
      "\r",
      "100  1105  100  1037  100    68   1333     87 --:--:-- --:--:-- --:--:--  1429\r",
      "100  1105  100  1037  100    68   1333     87 --:--:-- --:--:-- --:--:--  1427\n",
      "  % Total    % Received % Xferd  Average Speed   Time    Time     Time  Current\n",
      "                                 Dload  Upload   Total   Spent    Left  Speed\n",
      "\r",
      "  0     0    0     0    0     0      0      0 --:--:-- --:--:-- --:--:--     0\r",
      "100  1788  100   751  100  1037  50143  69239 --:--:-- --:--:-- --:--:--  349k\n",
      "  % Total    % Received % Xferd  Average Speed   Time    Time     Time  Current\n",
      "                                 Dload  Upload   Total   Spent    Left  Speed\n",
      "\r",
      "  0     0    0     0    0     0      0      0 --:--:-- --:--:-- --:--:--     0"
     ]
    },
    {
     "name": "stdout",
     "output_type": "stream",
     "text": [
      "250\n"
     ]
    },
    {
     "name": "stderr",
     "output_type": "stream",
     "text": [
      "100  3273  100  3206  100    67   2192     45  0:00:01  0:00:01 --:--:--  2249\n",
      "  % Total    % Received % Xferd  Average Speed   Time    Time     Time  Current\n",
      "                                 Dload  Upload   Total   Spent    Left  Speed\n",
      "100  5892  100  2686  100  3206   183k   218k --:--:-- --:--:-- --:--:-- 1438k\n",
      "  % Total    % Received % Xferd  Average Speed   Time    Time     Time  Current\n",
      "                                 Dload  Upload   Total   Spent    Left  Speed\n",
      "  0     0    0     0    0     0      0      0 --:--:-- --:--:-- --:--:--     0"
     ]
    },
    {
     "name": "stdout",
     "output_type": "stream",
     "text": [
      "251\n"
     ]
    },
    {
     "name": "stderr",
     "output_type": "stream",
     "text": [
      "100  6257  100  6204  100    53   5123     43  0:00:01  0:00:01 --:--:--  5188\n",
      "  % Total    % Received % Xferd  Average Speed   Time    Time     Time  Current\n",
      "                                 Dload  Upload   Total   Spent    Left  Speed\n",
      "100 12264  100  6075  100  6189   357k   364k --:--:-- --:--:-- --:--:-- 2395k\n",
      "  % Total    % Received % Xferd  Average Speed   Time    Time     Time  Current\n",
      "                                 Dload  Upload   Total   Spent    Left  Speed\n",
      "  0     0    0     0    0     0      0      0 --:--:-- --:--:-- --:--:--     0"
     ]
    },
    {
     "name": "stdout",
     "output_type": "stream",
     "text": [
      "doi from extra: False 10.15781/T2X05XJ15\n",
      "252\n"
     ]
    },
    {
     "name": "stderr",
     "output_type": "stream",
     "text": [
      "\r",
      "100   576  100   474  100   102    489    105 --:--:-- --:--:-- --:--:--   596\r",
      "100   576  100   474  100   102    489    105 --:--:-- --:--:-- --:--:--   596\n",
      "  % Total    % Received % Xferd  Average Speed   Time    Time     Time  Current\n",
      "                                 Dload  Upload   Total   Spent    Left  Speed\n",
      "\r",
      "  0     0    0     0    0     0      0      0 --:--:-- --:--:-- --:--:--     0\r",
      "100   918  100   444  100   474  31587  33722 --:--:-- --:--:-- --:--:--  224k\n",
      "  % Total    % Received % Xferd  Average Speed   Time    Time     Time  Current\n",
      "                                 Dload  Upload   Total   Spent    Left  Speed\n",
      "\r",
      "  0     0    0     0    0     0      0      0 --:--:-- --:--:-- --:--:--     0"
     ]
    },
    {
     "name": "stdout",
     "output_type": "stream",
     "text": [
      "Failed: 253\n"
     ]
    },
    {
     "name": "stderr",
     "output_type": "stream",
     "text": [
      "\r",
      "100    49    0     0  100    49      0     40  0:00:01  0:00:01 --:--:--    40\r",
      "100  3313  100  3264  100    49   2418     36  0:00:01  0:00:01 --:--:--  2465\n",
      "  % Total    % Received % Xferd  Average Speed   Time    Time     Time  Current\n",
      "                                 Dload  Upload   Total   Spent    Left  Speed\n",
      "\r",
      "  0     0    0     0    0     0      0      0 --:--:-- --:--:-- --:--:--     0\r",
      "100  6093  100  2829  100  3264   208k   240k --:--:-- --:--:-- --:--:-- 1487k\n"
     ]
    },
    {
     "name": "stdout",
     "output_type": "stream",
     "text": [
      "254\n"
     ]
    },
    {
     "name": "stderr",
     "output_type": "stream",
     "text": [
      "  % Total    % Received % Xferd  Average Speed   Time    Time     Time  Current\n",
      "                                 Dload  Upload   Total   Spent    Left  Speed\n",
      "100  2995  100  2946  100    49   2875     47  0:00:01  0:00:01 --:--:--  2936\n",
      "  % Total    % Received % Xferd  Average Speed   Time    Time     Time  Current\n",
      "                                 Dload  Upload   Total   Spent    Left  Speed\n",
      "100  5398  100  2452  100  2946   165k   198k --:--:-- --:--:-- --:--:-- 1757k\n",
      "  % Total    % Received % Xferd  Average Speed   Time    Time     Time  Current\n",
      "                                 Dload  Upload   Total   Spent    Left  Speed\n",
      "  0     0    0     0    0     0      0      0 --:--:-- --:--:-- --:--:--     0"
     ]
    },
    {
     "name": "stdout",
     "output_type": "stream",
     "text": [
      "255\n"
     ]
    },
    {
     "name": "stderr",
     "output_type": "stream",
     "text": [
      "\r",
      "100    27    0     0  100    27      0     22  0:00:01  0:00:01 --:--:--    22\r",
      "100  3800  100  3773  100    27   2843     20  0:00:01  0:00:01 --:--:--  2874\n",
      "  % Total    % Received % Xferd  Average Speed   Time    Time     Time  Current\n",
      "                                 Dload  Upload   Total   Spent    Left  Speed\n",
      "\r",
      "  0     0    0     0    0     0      0      0 --:--:-- --:--:-- --:--:--     0\r",
      "100  7154  100  3381  100  3773   170k   189k --:--:-- --:--:-- --:--:--  698k\n",
      "  % Total    % Received % Xferd  Average Speed   Time    Time     Time  Current\n",
      "                                 Dload  Upload   Total   Spent    Left  Speed\n",
      "\r",
      "  0     0    0     0    0     0      0      0 --:--:-- --:--:-- --:--:--     0"
     ]
    },
    {
     "name": "stdout",
     "output_type": "stream",
     "text": [
      "256\n"
     ]
    },
    {
     "name": "stderr",
     "output_type": "stream",
     "text": [
      "\r",
      "100  1062  100   994  100    68   1193     81 --:--:-- --:--:-- --:--:--  1284\n",
      "  % Total    % Received % Xferd  Average Speed   Time    Time     Time  Current\n",
      "                                 Dload  Upload   Total   Spent    Left  Speed\n",
      "\r",
      "  0     0    0     0    0     0      0      0 --:--:-- --:--:-- --:--:--     0\r",
      "100  1554  100   560  100   994  20800  36920 --:--:-- --:--:-- --:--:--  151k\n",
      "  % Total    % Received % Xferd  Average Speed   Time    Time     Time  Current\n",
      "                                 Dload  Upload   Total   Spent    Left  Speed\n",
      "\r",
      "  0     0    0     0    0     0      0      0 --:--:-- --:--:-- --:--:--     0"
     ]
    },
    {
     "name": "stdout",
     "output_type": "stream",
     "text": [
      "257\n"
     ]
    },
    {
     "name": "stderr",
     "output_type": "stream",
     "text": [
      "100  1995  100  1933  100    62   1086     34  0:00:01  0:00:01 --:--:--  1124\n",
      "  % Total    % Received % Xferd  Average Speed   Time    Time     Time  Current\n",
      "                                 Dload  Upload   Total   Spent    Left  Speed\n",
      "100  3704  100  1771  100  1933   108k   118k --:--:-- --:--:-- --:--:--  602k\n",
      "  % Total    % Received % Xferd  Average Speed   Time    Time     Time  Current\n",
      "                                 Dload  Upload   Total   Spent    Left  Speed\n",
      "  0     0    0     0    0     0      0      0 --:--:-- --:--:-- --:--:--     0"
     ]
    },
    {
     "name": "stdout",
     "output_type": "stream",
     "text": [
      "258\n"
     ]
    },
    {
     "name": "stderr",
     "output_type": "stream",
     "text": [
      "100  2452  100  2402  100    50   2359     49  0:00:01  0:00:01 --:--:--  2422\n",
      "  % Total    % Received % Xferd  Average Speed   Time    Time     Time  Current\n",
      "                                 Dload  Upload   Total   Spent    Left  Speed\n",
      "100  4600  100  2198  100  2402   138k   150k --:--:-- --:--:-- --:--:-- 1123k\n",
      "  % Total    % Received % Xferd  Average Speed   Time    Time     Time  Current\n",
      "                                 Dload  Upload   Total   Spent    Left  Speed\n",
      "  0     0    0     0    0     0      0      0 --:--:-- --:--:-- --:--:--     0"
     ]
    },
    {
     "name": "stdout",
     "output_type": "stream",
     "text": [
      "259\n"
     ]
    },
    {
     "name": "stderr",
     "output_type": "stream",
     "text": [
      "100  2649  100  2600  100    49   2632     49  0:00:01 --:--:--  0:00:01  2692\n",
      "  % Total    % Received % Xferd  Average Speed   Time    Time     Time  Current\n",
      "                                 Dload  Upload   Total   Spent    Left  Speed\n",
      "100  4787  100  2187  100  2600   145k   173k --:--:-- --:--:-- --:--:-- 1558k\n",
      "  % Total    % Received % Xferd  Average Speed   Time    Time     Time  Current\n",
      "                                 Dload  Upload   Total   Spent    Left  Speed\n",
      "  0     0    0     0    0     0      0      0 --:--:-- --:--:-- --:--:--     0"
     ]
    },
    {
     "name": "stdout",
     "output_type": "stream",
     "text": [
      "260\n"
     ]
    },
    {
     "name": "stderr",
     "output_type": "stream",
     "text": [
      "100  2691  100  2641  100    50   2796     52 --:--:-- --:--:-- --:--:--  2859\n",
      "  % Total    % Received % Xferd  Average Speed   Time    Time     Time  Current\n",
      "                                 Dload  Upload   Total   Spent    Left  Speed\n",
      "100  5069  100  2428  100  2641   126k   137k --:--:-- --:--:-- --:--:-- 1650k\n",
      "  % Total    % Received % Xferd  Average Speed   Time    Time     Time  Current\n",
      "                                 Dload  Upload   Total   Spent    Left  Speed\n",
      "  0     0    0     0    0     0      0      0 --:--:-- --:--:-- --:--:--     0"
     ]
    },
    {
     "name": "stdout",
     "output_type": "stream",
     "text": [
      "261\n"
     ]
    },
    {
     "name": "stderr",
     "output_type": "stream",
     "text": [
      "100  2197  100  2153  100    44   1431     29  0:00:01  0:00:01 --:--:--  1464\n",
      "  % Total    % Received % Xferd  Average Speed   Time    Time     Time  Current\n",
      "                                 Dload  Upload   Total   Spent    Left  Speed\n",
      "100  3956  100  1804  100  2152   114k   137k --:--:-- --:--:-- --:--:--  965k\n",
      "  % Total    % Received % Xferd  Average Speed   Time    Time     Time  Current\n",
      "                                 Dload  Upload   Total   Spent    Left  Speed\n",
      "  0     0    0     0    0     0      0      0 --:--:-- --:--:-- --:--:--     0"
     ]
    },
    {
     "name": "stdout",
     "output_type": "stream",
     "text": [
      "262\n"
     ]
    },
    {
     "name": "stderr",
     "output_type": "stream",
     "text": [
      "100  6085  100  6035  100    50   4291     35  0:00:01  0:00:01 --:--:--  4346\n",
      "  % Total    % Received % Xferd  Average Speed   Time    Time     Time  Current\n",
      "                                 Dload  Upload   Total   Spent    Left  Speed\n",
      "100 12980  100  6945  100  6035   502k   437k --:--:-- --:--:-- --:--:-- 4225k\n",
      "  % Total    % Received % Xferd  Average Speed   Time    Time     Time  Current\n",
      "                                 Dload  Upload   Total   Spent    Left  Speed\n",
      "  0     0    0     0    0     0      0      0 --:--:-- --:--:-- --:--:--     0"
     ]
    },
    {
     "name": "stdout",
     "output_type": "stream",
     "text": [
      "263\n"
     ]
    },
    {
     "name": "stderr",
     "output_type": "stream",
     "text": [
      "100  3019  100  2952  100    67   3509     79 --:--:-- --:--:-- --:--:--  3606\n",
      "  % Total    % Received % Xferd  Average Speed   Time    Time     Time  Current\n",
      "                                 Dload  Upload   Total   Spent    Left  Speed\n",
      "100  5463  100  2511  100  2952   105k   124k --:--:-- --:--:-- --:--:--  533k\n",
      "  % Total    % Received % Xferd  Average Speed   Time    Time     Time  Current\n",
      "                                 Dload  Upload   Total   Spent    Left  Speed\n",
      "  0     0    0     0    0     0      0      0 --:--:-- --:--:-- --:--:--     0"
     ]
    },
    {
     "name": "stdout",
     "output_type": "stream",
     "text": [
      "264\n"
     ]
    },
    {
     "name": "stderr",
     "output_type": "stream",
     "text": [
      "100  5350  100  5301  100    49   2585     23  0:00:02  0:00:02 --:--:--  2617\n",
      "  % Total    % Received % Xferd  Average Speed   Time    Time     Time  Current\n",
      "                                 Dload  Upload   Total   Spent    Left  Speed\n",
      "100 10078  100  4777  100  5301   292k   324k --:--:-- --:--:-- --:--:-- 1640k\n",
      "  % Total    % Received % Xferd  Average Speed   Time    Time     Time  Current\n",
      "                                 Dload  Upload   Total   Spent    Left  Speed\n",
      "  0     0    0     0    0     0      0      0 --:--:-- --:--:-- --:--:--     0"
     ]
    },
    {
     "name": "stdout",
     "output_type": "stream",
     "text": [
      "265\n"
     ]
    },
    {
     "name": "stderr",
     "output_type": "stream",
     "text": [
      "\r",
      "100  3143  100  3076  100    67   2616     57  0:00:01  0:00:01 --:--:--  2688\r",
      "100  3143  100  3076  100    67   2616     56  0:00:01  0:00:01 --:--:--  2688\n",
      "  % Total    % Received % Xferd  Average Speed   Time    Time     Time  Current\n",
      "                                 Dload  Upload   Total   Spent    Left  Speed\n",
      "\r",
      "  0     0    0     0    0     0      0      0 --:--:-- --:--:-- --:--:--     0\r",
      "100  5700  100  2624  100  3076   119k   139k --:--:-- --:--:-- --:--:--  618k\n",
      "  % Total    % Received % Xferd  Average Speed   Time    Time     Time  Current\n",
      "                                 Dload  Upload   Total   Spent    Left  Speed\n",
      "\r",
      "  0     0    0     0    0     0      0      0 --:--:-- --:--:-- --:--:--     0"
     ]
    },
    {
     "name": "stdout",
     "output_type": "stream",
     "text": [
      "266\n"
     ]
    },
    {
     "name": "stderr",
     "output_type": "stream",
     "text": [
      "\r",
      "100  4295  100  4245  100    50   3941     46  0:00:01  0:00:01 --:--:--  4010\r",
      "100  4295  100  4245  100    50   3940     46  0:00:01  0:00:01 --:--:--  4010\n",
      "  % Total    % Received % Xferd  Average Speed   Time    Time     Time  Current\n",
      "                                 Dload  Upload   Total   Spent    Left  Speed\n",
      "\r",
      "  0     0    0     0    0     0      0      0 --:--:-- --:--:-- --:--:--     0\r",
      "100  7841  100  3596  100  4245   220k   260k --:--:-- --:--:-- --:--:-- 1276k\n",
      "  % Total    % Received % Xferd  Average Speed   Time    Time     Time  Current\n",
      "                                 Dload  Upload   Total   Spent    Left  Speed\n",
      "\r",
      "  0     0    0     0    0     0      0      0 --:--:-- --:--:-- --:--:--     0"
     ]
    },
    {
     "name": "stdout",
     "output_type": "stream",
     "text": [
      "267\n"
     ]
    },
    {
     "name": "stderr",
     "output_type": "stream",
     "text": [
      "\r",
      "100  2926  100  2876  100    50   2718     47  0:00:01  0:00:01 --:--:--  2781\r",
      "100  2926  100  2876  100    50   2718     47  0:00:01  0:00:01 --:--:--  2781\n",
      "  % Total    % Received % Xferd  Average Speed   Time    Time     Time  Current\n",
      "                                 Dload  Upload   Total   Spent    Left  Speed\n",
      "\r",
      "  0     0    0     0    0     0      0      0 --:--:-- --:--:-- --:--:--     0\r",
      "100  5034  100  2158  100  2876   100k   134k --:--:-- --:--:-- --:--:--  446k\n",
      "  % Total    % Received % Xferd  Average Speed   Time    Time     Time  Current\n",
      "                                 Dload  Upload   Total   Spent    Left  Speed\n",
      "\r",
      "  0     0    0     0    0     0      0      0 --:--:-- --:--:-- --:--:--     0"
     ]
    },
    {
     "name": "stdout",
     "output_type": "stream",
     "text": [
      "268\n"
     ]
    },
    {
     "name": "stderr",
     "output_type": "stream",
     "text": [
      "\r",
      "100    49    0     0  100    49      0     40  0:00:01  0:00:01 --:--:--    40\r",
      "100  4683  100  4634  100    49   3417     36  0:00:01  0:00:01 --:--:--  3471\n",
      "  % Total    % Received % Xferd  Average Speed   Time    Time     Time  Current\n",
      "                                 Dload  Upload   Total   Spent    Left  Speed\n",
      "\r",
      "  0     0    0     0    0     0      0      0 --:--:-- --:--:-- --:--:--     0\r",
      "100  9016  100  4382  100  4634   246k   260k --:--:-- --:--:-- --:--:-- 1467k\n",
      "  % Total    % Received % Xferd  Average Speed   Time    Time     Time  Current\n",
      "                                 Dload  Upload   Total   Spent    Left  Speed\n",
      "\r",
      "  0     0    0     0    0     0      0      0 --:--:-- --:--:-- --:--:--     0"
     ]
    },
    {
     "name": "stdout",
     "output_type": "stream",
     "text": [
      "269\n"
     ]
    },
    {
     "name": "stderr",
     "output_type": "stream",
     "text": [
      "100  5134  100  5084  100    50   4365     42  0:00:01  0:00:01 --:--:--  4418\n",
      "  % Total    % Received % Xferd  Average Speed   Time    Time     Time  Current\n",
      "                                 Dload  Upload   Total   Spent    Left  Speed\n",
      "100 10583  100  5499  100  5084   284k   262k --:--:-- --:--:-- --:--:-- 2066k\n",
      "  % Total    % Received % Xferd  Average Speed   Time    Time     Time  Current\n",
      "                                 Dload  Upload   Total   Spent    Left  Speed\n",
      "  0     0    0     0    0     0      0      0 --:--:-- --:--:-- --:--:--     0"
     ]
    },
    {
     "name": "stdout",
     "output_type": "stream",
     "text": [
      "270\n"
     ]
    },
    {
     "name": "stderr",
     "output_type": "stream",
     "text": [
      "100  2918  100  2890  100    28   2029     19  0:00:01  0:00:01 --:--:--  2059\n",
      "  % Total    % Received % Xferd  Average Speed   Time    Time     Time  Current\n",
      "                                 Dload  Upload   Total   Spent    Left  Speed\n",
      "100  5210  100  2320  100  2890   147k   184k --:--:-- --:--:-- --:--:-- 1695k\n",
      "  % Total    % Received % Xferd  Average Speed   Time    Time     Time  Current\n",
      "                                 Dload  Upload   Total   Spent    Left  Speed\n",
      "  0     0    0     0    0     0      0      0 --:--:-- --:--:-- --:--:--     0"
     ]
    },
    {
     "name": "stdout",
     "output_type": "stream",
     "text": [
      "271\n"
     ]
    },
    {
     "name": "stderr",
     "output_type": "stream",
     "text": [
      "\r",
      "100    50    0     0  100    50      0     41  0:00:01  0:00:01 --:--:--    41\r",
      "100  3583  100  3533  100    50   2866     40  0:00:01  0:00:01 --:--:--  2917\n",
      "  % Total    % Received % Xferd  Average Speed   Time    Time     Time  Current\n",
      "                                 Dload  Upload   Total   Spent    Left  Speed\n",
      "\r",
      "  0     0    0     0    0     0      0      0 --:--:-- --:--:-- --:--:--     0\r",
      "100  7526  100  3993  100  3533   230k   203k --:--:-- --:--:-- --:--:-- 1224k\n",
      "  % Total    % Received % Xferd  Average Speed   Time    Time     Time  Current\n",
      "                                 Dload  Upload   Total   Spent    Left  Speed\n",
      "\r",
      "  0     0    0     0    0     0      0      0 --:--:-- --:--:-- --:--:--     0"
     ]
    },
    {
     "name": "stdout",
     "output_type": "stream",
     "text": [
      "272\n"
     ]
    },
    {
     "name": "stderr",
     "output_type": "stream",
     "text": [
      "100  3380  100  3332  100    48   3103     44  0:00:01  0:00:01 --:--:--  3158\n",
      "  % Total    % Received % Xferd  Average Speed   Time    Time     Time  Current\n",
      "                                 Dload  Upload   Total   Spent    Left  Speed\n",
      "100  6292  100  2960  100  3332   162k   182k --:--:-- --:--:-- --:--:-- 1228k\n",
      "  % Total    % Received % Xferd  Average Speed   Time    Time     Time  Current\n",
      "                                 Dload  Upload   Total   Spent    Left  Speed\n",
      "  0     0    0     0    0     0      0      0 --:--:-- --:--:-- --:--:--     0"
     ]
    },
    {
     "name": "stdout",
     "output_type": "stream",
     "text": [
      "273\n"
     ]
    },
    {
     "name": "stderr",
     "output_type": "stream",
     "text": [
      "\r",
      "100   451  100   417  100    34    550     44 --:--:-- --:--:-- --:--:--   600\n",
      "  % Total    % Received % Xferd  Average Speed   Time    Time     Time  Current\n",
      "                                 Dload  Upload   Total   Spent    Left  Speed\n",
      "\r",
      "  0     0    0     0    0     0      0      0 --:--:-- --:--:-- --:--:--     0\r",
      "100   768  100   351  100   417  14112  16766 --:--:-- --:--:-- --:--:--  250k\n",
      "  % Total    % Received % Xferd  Average Speed   Time    Time     Time  Current\n",
      "                                 Dload  Upload   Total   Spent    Left  Speed\n",
      "\r",
      "  0     0    0     0    0     0      0      0 --:--:-- --:--:-- --:--:--     0"
     ]
    },
    {
     "name": "stdout",
     "output_type": "stream",
     "text": [
      "274\n"
     ]
    },
    {
     "name": "stderr",
     "output_type": "stream",
     "text": [
      "100  3724  100  3657  100    67   3591     65  0:00:01  0:00:01 --:--:--  3676\n",
      "  % Total    % Received % Xferd  Average Speed   Time    Time     Time  Current\n",
      "                                 Dload  Upload   Total   Spent    Left  Speed\n",
      "100  7036  100  3379  100  3657   214k   232k --:--:-- --:--:-- --:--:-- 1145k\n",
      "  % Total    % Received % Xferd  Average Speed   Time    Time     Time  Current\n",
      "                                 Dload  Upload   Total   Spent    Left  Speed\n",
      "  0     0    0     0    0     0      0      0 --:--:-- --:--:-- --:--:--     0"
     ]
    },
    {
     "name": "stdout",
     "output_type": "stream",
     "text": [
      "275\n"
     ]
    },
    {
     "name": "stderr",
     "output_type": "stream",
     "text": [
      "100  3031  100  2982  100    49   2368     38  0:00:01  0:00:01 --:--:--  2418\n",
      "  % Total    % Received % Xferd  Average Speed   Time    Time     Time  Current\n",
      "                                 Dload  Upload   Total   Spent    Left  Speed\n",
      "100  5147  100  2165  100  2982   141k   194k --:--:-- --:--:-- --:--:-- 1256k\n",
      "  % Total    % Received % Xferd  Average Speed   Time    Time     Time  Current\n",
      "                                 Dload  Upload   Total   Spent    Left  Speed\n",
      "  0     0    0     0    0     0      0      0 --:--:-- --:--:-- --:--:--     0"
     ]
    },
    {
     "name": "stdout",
     "output_type": "stream",
     "text": [
      "276\n"
     ]
    },
    {
     "name": "stderr",
     "output_type": "stream",
     "text": [
      "\r",
      "100   276  100   220  100    56    236     60 --:--:-- --:--:-- --:--:--   298\r",
      "100   276  100   220  100    56    236     60 --:--:-- --:--:-- --:--:--   298\n",
      "  % Total    % Received % Xferd  Average Speed   Time    Time     Time  Current\n",
      "                                 Dload  Upload   Total   Spent    Left  Speed\n",
      "\r",
      "  0     0    0     0    0     0      0      0 --:--:-- --:--:-- --:--:--     0\r",
      "100   417  100   197  100   220  14844  16577 --:--:-- --:--:-- --:--:--  135k\n",
      "  % Total    % Received % Xferd  Average Speed   Time    Time     Time  Current\n",
      "                                 Dload  Upload   Total   Spent    Left  Speed\n",
      "\r",
      "  0     0    0     0    0     0      0      0 --:--:-- --:--:-- --:--:--     0"
     ]
    },
    {
     "name": "stdout",
     "output_type": "stream",
     "text": [
      "Failed: 277\n"
     ]
    },
    {
     "name": "stderr",
     "output_type": "stream",
     "text": [
      "\r",
      "100  2991  100  2941  100    50   2947     50  0:00:01 --:--:--  0:00:01  3006\r",
      "100  2991  100  2941  100    50   2946     50  0:00:01 --:--:--  0:00:01  3006\n",
      "  % Total    % Received % Xferd  Average Speed   Time    Time     Time  Current\n",
      "                                 Dload  Upload   Total   Spent    Left  Speed\n",
      "\r",
      "  0     0    0     0    0     0      0      0 --:--:-- --:--:-- --:--:--     0\r",
      "100  5630  100  2689  100  2941   177k   194k --:--:-- --:--:-- --:--:-- 1374k\n",
      "  % Total    % Received % Xferd  Average Speed   Time    Time     Time  Current\n",
      "                                 Dload  Upload   Total   Spent    Left  Speed\n",
      "\r",
      "  0     0    0     0    0     0      0      0 --:--:-- --:--:-- --:--:--     0"
     ]
    },
    {
     "name": "stdout",
     "output_type": "stream",
     "text": [
      "278\n"
     ]
    },
    {
     "name": "stderr",
     "output_type": "stream",
     "text": [
      "\r",
      "100  2328  100  2261  100    67   1990     58  0:00:01  0:00:01 --:--:--  2058\r",
      "100  2328  100  2261  100    67   1990     58  0:00:01  0:00:01 --:--:--  2058\n",
      "  % Total    % Received % Xferd  Average Speed   Time    Time     Time  Current\n",
      "                                 Dload  Upload   Total   Spent    Left  Speed\n",
      "\r",
      "  0     0    0     0    0     0      0      0 --:--:-- --:--:-- --:--:--     0\r",
      "100  4245  100  1984  100  2261    98k   112k --:--:-- --:--:-- --:--:--  592k\n",
      "  % Total    % Received % Xferd  Average Speed   Time    Time     Time  Current\n",
      "                                 Dload  Upload   Total   Spent    Left  Speed\n",
      "\r",
      "  0     0    0     0    0     0      0      0 --:--:-- --:--:-- --:--:--     0"
     ]
    },
    {
     "name": "stdout",
     "output_type": "stream",
     "text": [
      "279\n"
     ]
    },
    {
     "name": "stderr",
     "output_type": "stream",
     "text": [
      "\r",
      "100    48    0     0  100    48      0     39  0:00:01  0:00:01 --:--:--    39\r",
      "100  3418  100  3370  100    48   2649     37  0:00:01  0:00:01 --:--:--  2704\n",
      "  % Total    % Received % Xferd  Average Speed   Time    Time     Time  Current\n",
      "                                 Dload  Upload   Total   Spent    Left  Speed\n",
      "\r",
      "  0     0    0     0    0     0      0      0 --:--:-- --:--:-- --:--:--     0\r",
      "100  6456  100  3086  100  3370   210k   229k --:--:-- --:--:-- --:--:-- 1260k\n",
      "  % Total    % Received % Xferd  Average Speed   Time    Time     Time  Current\n",
      "                                 Dload  Upload   Total   Spent    Left  Speed\n",
      "\r",
      "  0     0    0     0    0     0      0      0 --:--:-- --:--:-- --:--:--     0"
     ]
    },
    {
     "name": "stdout",
     "output_type": "stream",
     "text": [
      "280\n"
     ]
    },
    {
     "name": "stderr",
     "output_type": "stream",
     "text": [
      "100  1683  100  1640  100    43   2350     61 --:--:-- --:--:-- --:--:--  2432\n",
      "  % Total    % Received % Xferd  Average Speed   Time    Time     Time  Current\n",
      "                                 Dload  Upload   Total   Spent    Left  Speed\n",
      "100  3167  100  1527  100  1640   100k   108k --:--:-- --:--:-- --:--:--  773k\n",
      "  % Total    % Received % Xferd  Average Speed   Time    Time     Time  Current\n",
      "                                 Dload  Upload   Total   Spent    Left  Speed\n",
      "  0     0    0     0    0     0      0      0 --:--:-- --:--:-- --:--:--     0"
     ]
    },
    {
     "name": "stdout",
     "output_type": "stream",
     "text": [
      "281\n"
     ]
    },
    {
     "name": "stderr",
     "output_type": "stream",
     "text": [
      "\r",
      "100    49    0     0  100    49      0     40  0:00:01  0:00:01 --:--:--    40\r",
      "100  2559  100  2510  100    49   1949     38  0:00:01  0:00:01 --:--:--  1999\n",
      "  % Total    % Received % Xferd  Average Speed   Time    Time     Time  Current\n",
      "                                 Dload  Upload   Total   Spent    Left  Speed\n",
      "\r",
      "  0     0    0     0    0     0      0      0 --:--:-- --:--:-- --:--:--     0\r",
      "100  4810  100  2300  100  2510   135k   148k --:--:-- --:--:-- --:--:--  939k\n",
      "  % Total    % Received % Xferd  Average Speed   Time    Time     Time  Current\n",
      "                                 Dload  Upload   Total   Spent    Left  Speed\n",
      "\r",
      "  0     0    0     0    0     0      0      0 --:--:-- --:--:-- --:--:--     0"
     ]
    },
    {
     "name": "stdout",
     "output_type": "stream",
     "text": [
      "282\n"
     ]
    },
    {
     "name": "stderr",
     "output_type": "stream",
     "text": [
      "100  1607  100  1545  100    62   1001     40  0:00:01  0:00:01 --:--:--  1044\n",
      "  % Total    % Received % Xferd  Average Speed   Time    Time     Time  Current\n",
      "                                 Dload  Upload   Total   Spent    Left  Speed\n",
      "100  2818  100  1273  100  1545  38290  46471 --:--:-- --:--:-- --:--:--  196k\n",
      "  % Total    % Received % Xferd  Average Speed   Time    Time     Time  Current\n",
      "                                 Dload  Upload   Total   Spent    Left  Speed\n",
      "  0     0    0     0    0     0      0      0 --:--:-- --:--:-- --:--:--     0"
     ]
    },
    {
     "name": "stdout",
     "output_type": "stream",
     "text": [
      "283\n"
     ]
    },
    {
     "name": "stderr",
     "output_type": "stream",
     "text": [
      "100  2461  100  2399  100    62   1693     43  0:00:01  0:00:01 --:--:--  1744\n",
      "  % Total    % Received % Xferd  Average Speed   Time    Time     Time  Current\n",
      "                                 Dload  Upload   Total   Spent    Left  Speed\n",
      "100  4441  100  2042  100  2399    99k   117k --:--:-- --:--:-- --:--:--  542k\n",
      "  % Total    % Received % Xferd  Average Speed   Time    Time     Time  Current\n",
      "                                 Dload  Upload   Total   Spent    Left  Speed\n",
      "  0     0    0     0    0     0      0      0 --:--:-- --:--:-- --:--:--     0"
     ]
    },
    {
     "name": "stdout",
     "output_type": "stream",
     "text": [
      "284\n"
     ]
    },
    {
     "name": "stderr",
     "output_type": "stream",
     "text": [
      "\r",
      "100    67    0     0  100    67      0     55  0:00:01  0:00:01 --:--:--    55\r",
      "100  3853  100  3786  100    67   2808     49  0:00:01  0:00:01 --:--:--  2871\n",
      "  % Total    % Received % Xferd  Average Speed   Time    Time     Time  Current\n",
      "                                 Dload  Upload   Total   Spent    Left  Speed\n",
      "\r",
      "  0     0    0     0    0     0      0      0 --:--:-- --:--:-- --:--:--     0\r",
      "100  7208  100  3422  100  3786   154k   171k --:--:-- --:--:-- --:--:--  879k\n"
     ]
    },
    {
     "name": "stdout",
     "output_type": "stream",
     "text": [
      "285\n"
     ]
    },
    {
     "name": "stderr",
     "output_type": "stream",
     "text": [
      "  % Total    % Received % Xferd  Average Speed   Time    Time     Time  Current\n",
      "                                 Dload  Upload   Total   Spent    Left  Speed\n",
      "100   725  100   616  100   109    155     27  0:00:04  0:00:03  0:00:01   183\n",
      "  % Total    % Received % Xferd  Average Speed   Time    Time     Time  Current\n",
      "                                 Dload  Upload   Total   Spent    Left  Speed\n",
      "100  1227  100   611  100   616  39317  39639 --:--:-- --:--:-- --:--:--  199k\n",
      "  % Total    % Received % Xferd  Average Speed   Time    Time     Time  Current\n",
      "                                 Dload  Upload   Total   Spent    Left  Speed\n",
      "  0     0    0     0    0     0      0      0 --:--:-- --:--:-- --:--:--     0"
     ]
    },
    {
     "name": "stdout",
     "output_type": "stream",
     "text": [
      "Failed: 286\n"
     ]
    },
    {
     "name": "stderr",
     "output_type": "stream",
     "text": [
      "\r",
      "100   575  100   473  100   102    506    109 --:--:-- --:--:-- --:--:--   619\r",
      "100   575  100   473  100   102    506    109 --:--:-- --:--:-- --:--:--   619\n",
      "  % Total    % Received % Xferd  Average Speed   Time    Time     Time  Current\n",
      "                                 Dload  Upload   Total   Spent    Left  Speed\n",
      "\r",
      "  0     0    0     0    0     0      0      0 --:--:-- --:--:-- --:--:--     0\r",
      "100   902  100   429  100   473  29826  32886 --:--:-- --:--:-- --:--:--  293k\n",
      "  % Total    % Received % Xferd  Average Speed   Time    Time     Time  Current\n",
      "                                 Dload  Upload   Total   Spent    Left  Speed\n",
      "\r",
      "  0     0    0     0    0     0      0      0 --:--:-- --:--:-- --:--:--     0"
     ]
    },
    {
     "name": "stdout",
     "output_type": "stream",
     "text": [
      "Failed: 287\n"
     ]
    },
    {
     "name": "stderr",
     "output_type": "stream",
     "text": [
      "\r",
      "100  2419  100  2352  100    67   2696     76 --:--:-- --:--:-- --:--:--  2790\r",
      "100  2419  100  2352  100    67   2696     76 --:--:-- --:--:-- --:--:--  2790\n",
      "  % Total    % Received % Xferd  Average Speed   Time    Time     Time  Current\n",
      "                                 Dload  Upload   Total   Spent    Left  Speed\n",
      "\r",
      "  0     0    0     0    0     0      0      0 --:--:-- --:--:-- --:--:--     0\r",
      "100  4409  100  2057  100  2352  90720   101k --:--:-- --:--:-- --:--:--  538k\n",
      "  % Total    % Received % Xferd  Average Speed   Time    Time     Time  Current\n",
      "                                 Dload  Upload   Total   Spent    Left  Speed\n",
      "\r",
      "  0     0    0     0    0     0      0      0 --:--:-- --:--:-- --:--:--     0"
     ]
    },
    {
     "name": "stdout",
     "output_type": "stream",
     "text": [
      "288\n"
     ]
    },
    {
     "name": "stderr",
     "output_type": "stream",
     "text": [
      "100  2916  100  2867  100    49   1700     29  0:00:01  0:00:01 --:--:--  1735\n",
      "  % Total    % Received % Xferd  Average Speed   Time    Time     Time  Current\n",
      "                                 Dload  Upload   Total   Spent    Left  Speed\n",
      "100  5433  100  2566  100  2867   121k   136k --:--:-- --:--:-- --:--:-- 1326k\n",
      "  % Total    % Received % Xferd  Average Speed   Time    Time     Time  Current\n",
      "                                 Dload  Upload   Total   Spent    Left  Speed\n",
      "  0     0    0     0    0     0      0      0 --:--:-- --:--:-- --:--:--     0"
     ]
    },
    {
     "name": "stdout",
     "output_type": "stream",
     "text": [
      "289\n"
     ]
    },
    {
     "name": "stderr",
     "output_type": "stream",
     "text": [
      "100  2083  100  2024  100    59    770     22  0:00:02  0:00:02 --:--:--   794\n",
      "  % Total    % Received % Xferd  Average Speed   Time    Time     Time  Current\n",
      "                                 Dload  Upload   Total   Spent    Left  Speed\n",
      "100  3780  100  1756  100  2024  92280   103k --:--:-- --:--:-- --:--:--  615k\n",
      "  % Total    % Received % Xferd  Average Speed   Time    Time     Time  Current\n",
      "                                 Dload  Upload   Total   Spent    Left  Speed\n",
      "  0     0    0     0    0     0      0      0 --:--:-- --:--:-- --:--:--     0"
     ]
    },
    {
     "name": "stdout",
     "output_type": "stream",
     "text": [
      "290\n"
     ]
    },
    {
     "name": "stderr",
     "output_type": "stream",
     "text": [
      "100  1884  100  1642  100   242   1698    250 --:--:-- --:--:-- --:--:--  1960\n",
      "  % Total    % Received % Xferd  Average Speed   Time    Time     Time  Current\n",
      "                                 Dload  Upload   Total   Spent    Left  Speed\n",
      "100  3155  100  1515  100  1640  59346  64243 --:--:-- --:--:-- --:--:--  237k\n",
      "  % Total    % Received % Xferd  Average Speed   Time    Time     Time  Current\n",
      "                                 Dload  Upload   Total   Spent    Left  Speed\n",
      "  0     0    0     0    0     0      0      0 --:--:-- --:--:-- --:--:--     0"
     ]
    },
    {
     "name": "stdout",
     "output_type": "stream",
     "text": [
      "291\n"
     ]
    },
    {
     "name": "stderr",
     "output_type": "stream",
     "text": [
      "\r",
      "100   816  100   748  100    68    769     69 --:--:-- --:--:-- --:--:--   845\r",
      "100   816  100   748  100    68    769     69 --:--:-- --:--:-- --:--:--   845\n",
      "  % Total    % Received % Xferd  Average Speed   Time    Time     Time  Current\n",
      "                                 Dload  Upload   Total   Spent    Left  Speed\n",
      "\r",
      "  0     0    0     0    0     0      0      0 --:--:-- --:--:-- --:--:--     0\r",
      "100  1276  100   528  100   748  24139  34197 --:--:-- --:--:-- --:--:--  113k\n",
      "  % Total    % Received % Xferd  Average Speed   Time    Time     Time  Current\n",
      "                                 Dload  Upload   Total   Spent    Left  Speed\n",
      "\r",
      "  0     0    0     0    0     0      0      0 --:--:-- --:--:-- --:--:--     0"
     ]
    },
    {
     "name": "stdout",
     "output_type": "stream",
     "text": [
      "292\n"
     ]
    },
    {
     "name": "stderr",
     "output_type": "stream",
     "text": [
      "100  2872  100  2813  100    59   1155     24  0:00:02  0:00:02 --:--:--  1183\n",
      "  % Total    % Received % Xferd  Average Speed   Time    Time     Time  Current\n",
      "                                 Dload  Upload   Total   Spent    Left  Speed\n",
      "100  5267  100  2454  100  2813   123k   141k --:--:-- --:--:-- --:--:--  642k\n",
      "  % Total    % Received % Xferd  Average Speed   Time    Time     Time  Current\n",
      "                                 Dload  Upload   Total   Spent    Left  Speed\n",
      "  0     0    0     0    0     0      0      0 --:--:-- --:--:-- --:--:--     0"
     ]
    },
    {
     "name": "stdout",
     "output_type": "stream",
     "text": [
      "293\n"
     ]
    },
    {
     "name": "stderr",
     "output_type": "stream",
     "text": [
      "100  2920  100  2860  100    60   1676     35  0:00:01  0:00:01 --:--:--  1718\n",
      "  % Total    % Received % Xferd  Average Speed   Time    Time     Time  Current\n",
      "                                 Dload  Upload   Total   Spent    Left  Speed\n",
      "100  5497  100  2637  100  2860   143k   155k --:--:-- --:--:-- --:--:--  766k\n",
      "  % Total    % Received % Xferd  Average Speed   Time    Time     Time  Current\n",
      "                                 Dload  Upload   Total   Spent    Left  Speed\n",
      "  0     0    0     0    0     0      0      0 --:--:-- --:--:-- --:--:--     0"
     ]
    },
    {
     "name": "stdout",
     "output_type": "stream",
     "text": [
      "294\n"
     ]
    },
    {
     "name": "stderr",
     "output_type": "stream",
     "text": [
      "\r",
      "100  2765  100  2698  100    67   3849     95 --:--:-- --:--:-- --:--:--  3972\r",
      "100  2765  100  2698  100    67   3848     95 --:--:-- --:--:-- --:--:--  3972\n",
      "  % Total    % Received % Xferd  Average Speed   Time    Time     Time  Current\n",
      "                                 Dload  Upload   Total   Spent    Left  Speed\n",
      "\r",
      "  0     0    0     0    0     0      0      0 --:--:-- --:--:-- --:--:--     0\r",
      "100  5001  100  2303  100  2698  88853   101k --:--:-- --:--:-- --:--:--  443k\n",
      "  % Total    % Received % Xferd  Average Speed   Time    Time     Time  Current\n",
      "                                 Dload  Upload   Total   Spent    Left  Speed\n",
      "\r",
      "  0     0    0     0    0     0      0      0 --:--:-- --:--:-- --:--:--     0"
     ]
    },
    {
     "name": "stdout",
     "output_type": "stream",
     "text": [
      "295\n"
     ]
    },
    {
     "name": "stderr",
     "output_type": "stream",
     "text": [
      "\r",
      "100  2364  100  2297  100    67   2705     78 --:--:-- --:--:-- --:--:--  2804\r",
      "100  2364  100  2297  100    67   2705     78 --:--:-- --:--:-- --:--:--  2804\n",
      "  % Total    % Received % Xferd  Average Speed   Time    Time     Time  Current\n",
      "                                 Dload  Upload   Total   Spent    Left  Speed\n",
      "\r",
      "  0     0    0     0    0     0      0      0 --:--:-- --:--:-- --:--:--     0\r",
      "100  4196  100  1899  100  2297  93372   110k --:--:-- --:--:-- --:--:--  409k\n",
      "  % Total    % Received % Xferd  Average Speed   Time    Time     Time  Current\n",
      "                                 Dload  Upload   Total   Spent    Left  Speed\n",
      "\r",
      "  0     0    0     0    0     0      0      0 --:--:-- --:--:-- --:--:--     0"
     ]
    },
    {
     "name": "stdout",
     "output_type": "stream",
     "text": [
      "296\n"
     ]
    },
    {
     "name": "stderr",
     "output_type": "stream",
     "text": [
      "\r",
      "100    27    0     0  100    27      0     22  0:00:01  0:00:01 --:--:--    22\r",
      "100  3104  100  3077  100    27   2358     20  0:00:01  0:00:01 --:--:--  2393\n",
      "  % Total    % Received % Xferd  Average Speed   Time    Time     Time  Current\n",
      "                                 Dload  Upload   Total   Spent    Left  Speed\n",
      "\r",
      "  0     0    0     0    0     0      0      0 --:--:-- --:--:-- --:--:--     0\r",
      "100  5804  100  2727  100  3077   176k   199k --:--:-- --:--:-- --:--:-- 1133k\n",
      "  % Total    % Received % Xferd  Average Speed   Time    Time     Time  Current\n",
      "                                 Dload  Upload   Total   Spent    Left  Speed\n",
      "\r",
      "  0     0    0     0    0     0      0      0 --:--:-- --:--:-- --:--:--     0"
     ]
    },
    {
     "name": "stdout",
     "output_type": "stream",
     "text": [
      "297\n"
     ]
    },
    {
     "name": "stderr",
     "output_type": "stream",
     "text": [
      "100  3451  100  3424  100    27   1605     12  0:00:02  0:00:02 --:--:--  1620\n",
      "  % Total    % Received % Xferd  Average Speed   Time    Time     Time  Current\n",
      "                                 Dload  Upload   Total   Spent    Left  Speed\n",
      "100  6505  100  3081  100  3424   183k   204k --:--:-- --:--:-- --:--:-- 1058k\n",
      "  % Total    % Received % Xferd  Average Speed   Time    Time     Time  Current\n",
      "                                 Dload  Upload   Total   Spent    Left  Speed\n",
      "  0     0    0     0    0     0      0      0 --:--:-- --:--:-- --:--:--     0"
     ]
    },
    {
     "name": "stdout",
     "output_type": "stream",
     "text": [
      "298\n"
     ]
    },
    {
     "name": "stderr",
     "output_type": "stream",
     "text": [
      "100  2876  100  2849  100    27   1581     14  0:00:01  0:00:01 --:--:--  1602\n",
      "  % Total    % Received % Xferd  Average Speed   Time    Time     Time  Current\n",
      "                                 Dload  Upload   Total   Spent    Left  Speed\n",
      "100  5199  100  2350  100  2849   142k   172k --:--:-- --:--:-- --:--:-- 1015k\n",
      "  % Total    % Received % Xferd  Average Speed   Time    Time     Time  Current\n",
      "                                 Dload  Upload   Total   Spent    Left  Speed\n",
      "  0     0    0     0    0     0      0      0 --:--:-- --:--:-- --:--:--     0"
     ]
    },
    {
     "name": "stdout",
     "output_type": "stream",
     "text": [
      "299\n"
     ]
    },
    {
     "name": "stderr",
     "output_type": "stream",
     "text": [
      "\r",
      "100  2394  100  2348  100    46   1971     38  0:00:01  0:00:01 --:--:--  2018\r",
      "100  2394  100  2348  100    46   1971     38  0:00:01  0:00:01 --:--:--  2018\n",
      "  % Total    % Received % Xferd  Average Speed   Time    Time     Time  Current\n",
      "                                 Dload  Upload   Total   Spent    Left  Speed\n",
      "\r",
      "  0     0    0     0    0     0      0      0 --:--:-- --:--:-- --:--:--     0\r",
      "100  4517  100  2169  100  2348  93725    99k --:--:-- --:--:-- --:--:--  735k\n",
      "  % Total    % Received % Xferd  Average Speed   Time    Time     Time  Current\n",
      "                                 Dload  Upload   Total   Spent    Left  Speed\n",
      "\r",
      "  0     0    0     0    0     0      0      0 --:--:-- --:--:-- --:--:--     0"
     ]
    },
    {
     "name": "stdout",
     "output_type": "stream",
     "text": [
      "300\n"
     ]
    },
    {
     "name": "stderr",
     "output_type": "stream",
     "text": [
      "\r",
      "100  2511  100  2299  100   212   2470    227 --:--:-- --:--:-- --:--:--  2708\r",
      "100  2511  100  2299  100   212   2470    227 --:--:-- --:--:-- --:--:--  2708\n",
      "  % Total    % Received % Xferd  Average Speed   Time    Time     Time  Current\n",
      "                                 Dload  Upload   Total   Spent    Left  Speed\n",
      "\r",
      "  0     0    0     0    0     0      0      0 --:--:-- --:--:-- --:--:--     0\r",
      "100  4428  100  2129  100  2299  66702  72028 --:--:-- --:--:-- --:--:--  227k\n",
      "  % Total    % Received % Xferd  Average Speed   Time    Time     Time  Current\n",
      "                                 Dload  Upload   Total   Spent    Left  Speed\n",
      "\r",
      "  0     0    0     0    0     0      0      0 --:--:-- --:--:-- --:--:--     0"
     ]
    },
    {
     "name": "stdout",
     "output_type": "stream",
     "text": [
      "301\n"
     ]
    },
    {
     "name": "stderr",
     "output_type": "stream",
     "text": [
      "100  3117  100  3090  100    27   2257     19  0:00:01  0:00:01 --:--:--  2288\n",
      "  % Total    % Received % Xferd  Average Speed   Time    Time     Time  Current\n",
      "                                 Dload  Upload   Total   Spent    Left  Speed\n",
      "100  5830  100  2740  100  3090   137k   155k --:--:-- --:--:-- --:--:--  813k\n"
     ]
    },
    {
     "name": "stdout",
     "output_type": "stream",
     "text": [
      "302\n"
     ]
    },
    {
     "name": "stderr",
     "output_type": "stream",
     "text": [
      "  % Total    % Received % Xferd  Average Speed   Time    Time     Time  Current\n",
      "                                 Dload  Upload   Total   Spent    Left  Speed\n",
      "100  3833  100  3806  100    27   2520     17  0:00:01  0:00:01 --:--:--  2548\n",
      "  % Total    % Received % Xferd  Average Speed   Time    Time     Time  Current\n",
      "                                 Dload  Upload   Total   Spent    Left  Speed\n",
      "100  7135  100  3329  100  3806   210k   240k --:--:-- --:--:-- --:--:-- 1741k\n",
      "  % Total    % Received % Xferd  Average Speed   Time    Time     Time  Current\n",
      "                                 Dload  Upload   Total   Spent    Left  Speed\n",
      "  0     0    0     0    0     0      0      0 --:--:-- --:--:-- --:--:--     0"
     ]
    },
    {
     "name": "stdout",
     "output_type": "stream",
     "text": [
      "303\n"
     ]
    },
    {
     "name": "stderr",
     "output_type": "stream",
     "text": [
      "100  3101  100  3034  100    67   3000     66  0:00:01  0:00:01 --:--:--  3085\n",
      "  % Total    % Received % Xferd  Average Speed   Time    Time     Time  Current\n",
      "                                 Dload  Upload   Total   Spent    Left  Speed\n",
      "100  5512  100  2478  100  3034   111k   136k --:--:-- --:--:-- --:--:--  598k\n",
      "  % Total    % Received % Xferd  Average Speed   Time    Time     Time  Current\n",
      "                                 Dload  Upload   Total   Spent    Left  Speed\n",
      "  0     0    0     0    0     0      0      0 --:--:-- --:--:-- --:--:--     0"
     ]
    },
    {
     "name": "stdout",
     "output_type": "stream",
     "text": [
      "304\n"
     ]
    },
    {
     "name": "stderr",
     "output_type": "stream",
     "text": [
      "100  3352  100  3324  100    28   2440     20  0:00:01  0:00:01 --:--:--  2471\n",
      "  % Total    % Received % Xferd  Average Speed   Time    Time     Time  Current\n",
      "                                 Dload  Upload   Total   Spent    Left  Speed\n",
      "100  6278  100  2954  100  3324   192k   216k --:--:-- --:--:-- --:--:--  875k\n"
     ]
    },
    {
     "name": "stdout",
     "output_type": "stream",
     "text": [
      "305\n"
     ]
    },
    {
     "name": "stderr",
     "output_type": "stream",
     "text": [
      "  % Total    % Received % Xferd  Average Speed   Time    Time     Time  Current\n",
      "                                 Dload  Upload   Total   Spent    Left  Speed\n",
      "100  3657  100  3590  100    67   3569     66  0:00:01  0:00:01 --:--:--  3653\n",
      "  % Total    % Received % Xferd  Average Speed   Time    Time     Time  Current\n",
      "                                 Dload  Upload   Total   Spent    Left  Speed\n",
      "100  6716  100  3126  100  3590   127k   146k --:--:-- --:--:-- --:--:--  655k\n",
      "  % Total    % Received % Xferd  Average Speed   Time    Time     Time  Current\n",
      "                                 Dload  Upload   Total   Spent    Left  Speed\n",
      "  0     0    0     0    0     0      0      0 --:--:-- --:--:-- --:--:--     0"
     ]
    },
    {
     "name": "stdout",
     "output_type": "stream",
     "text": [
      "306\n"
     ]
    },
    {
     "name": "stderr",
     "output_type": "stream",
     "text": [
      "\r",
      "100    27    0     0  100    27      0     22  0:00:01  0:00:01 --:--:--    22\r",
      "100  2502  100  2475  100    27   2006     21  0:00:01  0:00:01 --:--:--  2039\n",
      "  % Total    % Received % Xferd  Average Speed   Time    Time     Time  Current\n",
      "                                 Dload  Upload   Total   Spent    Left  Speed\n",
      "\r",
      "  0     0    0     0    0     0      0      0 --:--:-- --:--:-- --:--:--     0\r",
      "100  4498  100  2023  100  2475   157k   192k --:--:-- --:--:-- --:--:-- 1464k\n",
      "  % Total    % Received % Xferd  Average Speed   Time    Time     Time  Current\n",
      "                                 Dload  Upload   Total   Spent    Left  Speed\n",
      "\r",
      "  0     0    0     0    0     0      0      0 --:--:-- --:--:-- --:--:--     0"
     ]
    },
    {
     "name": "stdout",
     "output_type": "stream",
     "text": [
      "307\n"
     ]
    },
    {
     "name": "stderr",
     "output_type": "stream",
     "text": [
      "100   566  100   462  100   104    116     26  0:00:04  0:00:03  0:00:01   142\n",
      "  % Total    % Received % Xferd  Average Speed   Time    Time     Time  Current\n",
      "                                 Dload  Upload   Total   Spent    Left  Speed\n",
      "100   881  100   419  100   462  28395  31309 --:--:-- --:--:-- --:--:--  215k\n",
      "  % Total    % Received % Xferd  Average Speed   Time    Time     Time  Current\n",
      "                                 Dload  Upload   Total   Spent    Left  Speed\n",
      "  0     0    0     0    0     0      0      0 --:--:-- --:--:-- --:--:--     0"
     ]
    },
    {
     "name": "stdout",
     "output_type": "stream",
     "text": [
      "Failed: 308\n"
     ]
    },
    {
     "name": "stderr",
     "output_type": "stream",
     "text": [
      "\r",
      "100    27    0     0  100    27      0     22  0:00:01  0:00:01 --:--:--    22\r",
      "100  3492  100  3465  100    27   2614     20  0:00:01  0:00:01 --:--:--  2643\r",
      "100  3492  100  3465  100    27   2614     20  0:00:01  0:00:01 --:--:--  2643\n",
      "  % Total    % Received % Xferd  Average Speed   Time    Time     Time  Current\n",
      "                                 Dload  Upload   Total   Spent    Left  Speed\n",
      "\r",
      "  0     0    0     0    0     0      0      0 --:--:-- --:--:-- --:--:--     0\r",
      "100  6522  100  3057  100  3465   203k   230k --:--:-- --:--:-- --:--:-- 1061k\n",
      "  % Total    % Received % Xferd  Average Speed   Time    Time     Time  Current\n",
      "                                 Dload  Upload   Total   Spent    Left  Speed\n",
      "\r",
      "  0     0    0     0    0     0      0      0 --:--:-- --:--:-- --:--:--     0"
     ]
    },
    {
     "name": "stdout",
     "output_type": "stream",
     "text": [
      "309\n"
     ]
    },
    {
     "name": "stderr",
     "output_type": "stream",
     "text": [
      "100  2717  100  2657  100    60   1455     32  0:00:01  0:00:01 --:--:--  1492\n",
      "  % Total    % Received % Xferd  Average Speed   Time    Time     Time  Current\n",
      "                                 Dload  Upload   Total   Spent    Left  Speed\n",
      "100  5006  100  2349  100  2657   147k   167k --:--:-- --:--:-- --:--:--  977k\n",
      "  % Total    % Received % Xferd  Average Speed   Time    Time     Time  Current\n",
      "                                 Dload  Upload   Total   Spent    Left  Speed\n",
      "  0     0    0     0    0     0      0      0 --:--:-- --:--:-- --:--:--     0"
     ]
    },
    {
     "name": "stdout",
     "output_type": "stream",
     "text": [
      "310\n"
     ]
    },
    {
     "name": "stderr",
     "output_type": "stream",
     "text": [
      "100  2866  100  2799  100    67   1980     47  0:00:01  0:00:01 --:--:--  2036\n",
      "  % Total    % Received % Xferd  Average Speed   Time    Time     Time  Current\n",
      "                                 Dload  Upload   Total   Spent    Left  Speed\n",
      "100  5207  100  2408  100  2799  82400  95780 --:--:-- --:--:-- --:--:--  338k\n",
      "  % Total    % Received % Xferd  Average Speed   Time    Time     Time  Current\n",
      "                                 Dload  Upload   Total   Spent    Left  Speed\n",
      "  0     0    0     0    0     0      0      0 --:--:-- --:--:-- --:--:--     0"
     ]
    },
    {
     "name": "stdout",
     "output_type": "stream",
     "text": [
      "311\n"
     ]
    },
    {
     "name": "stderr",
     "output_type": "stream",
     "text": [
      "\r",
      "100   610  100   506  100   104    640    131 --:--:-- --:--:-- --:--:--   777\r",
      "100   610  100   506  100   104    640    131 --:--:-- --:--:-- --:--:--   777\n",
      "  % Total    % Received % Xferd  Average Speed   Time    Time     Time  Current\n",
      "                                 Dload  Upload   Total   Spent    Left  Speed\n",
      "\r",
      "  0     0    0     0    0     0      0      0 --:--:-- --:--:-- --:--:--     0\r",
      "100   987  100   481  100   506  27388  28812 --:--:-- --:--:-- --:--:--  321k\n",
      "  % Total    % Received % Xferd  Average Speed   Time    Time     Time  Current\n",
      "                                 Dload  Upload   Total   Spent    Left  Speed\n",
      "\r",
      "  0     0    0     0    0     0      0      0 --:--:-- --:--:-- --:--:--     0"
     ]
    },
    {
     "name": "stdout",
     "output_type": "stream",
     "text": [
      "Failed: 312\n"
     ]
    },
    {
     "name": "stderr",
     "output_type": "stream",
     "text": [
      "100  3099  100  3072  100    27   2135     18  0:00:01  0:00:01 --:--:--  2161\n",
      "  % Total    % Received % Xferd  Average Speed   Time    Time     Time  Current\n",
      "                                 Dload  Upload   Total   Spent    Left  Speed\n",
      "100  5838  100  2766  100  3072   150k   167k --:--:-- --:--:-- --:--:-- 1140k\n",
      "  % Total    % Received % Xferd  Average Speed   Time    Time     Time  Current\n",
      "                                 Dload  Upload   Total   Spent    Left  Speed\n",
      "  0     0    0     0    0     0      0      0 --:--:-- --:--:-- --:--:--     0"
     ]
    },
    {
     "name": "stdout",
     "output_type": "stream",
     "text": [
      "313\n"
     ]
    },
    {
     "name": "stderr",
     "output_type": "stream",
     "text": [
      "100    97  100    21  100    76      1      5  0:00:21  0:00:13  0:00:08     5\n",
      "  % Total    % Received % Xferd  Average Speed   Time    Time     Time  Current\n",
      "                                 Dload  Upload   Total   Spent    Left  Speed\n",
      "100    32  100    11  100    21    575   1099 --:--:-- --:--:-- --:--:--  5333\n",
      "  % Total    % Received % Xferd  Average Speed   Time    Time     Time  Current\n",
      "                                 Dload  Upload   Total   Spent    Left  Speed\n",
      "  0     0    0     0    0     0      0      0 --:--:-- --:--:-- --:--:--     0"
     ]
    },
    {
     "name": "stdout",
     "output_type": "stream",
     "text": [
      "Failed: 314\n"
     ]
    },
    {
     "name": "stderr",
     "output_type": "stream",
     "text": [
      "\r",
      "100    27    0     0  100    27      0     22  0:00:01  0:00:01 --:--:--    22\r",
      "100  2478  100  2451  100    27   1837     20  0:00:01  0:00:01 --:--:--  1873\n",
      "  % Total    % Received % Xferd  Average Speed   Time    Time     Time  Current\n",
      "                                 Dload  Upload   Total   Spent    Left  Speed\n",
      "\r",
      "  0     0    0     0    0     0      0      0 --:--:-- --:--:-- --:--:--     0\r",
      "100  4560  100  2109  100  2451   114k   132k --:--:-- --:--:-- --:--:--  742k\n",
      "  % Total    % Received % Xferd  Average Speed   Time    Time     Time  Current\n",
      "                                 Dload  Upload   Total   Spent    Left  Speed\n",
      "\r",
      "  0     0    0     0    0     0      0      0 --:--:-- --:--:-- --:--:--     0"
     ]
    },
    {
     "name": "stdout",
     "output_type": "stream",
     "text": [
      "315\n"
     ]
    },
    {
     "name": "stderr",
     "output_type": "stream",
     "text": [
      "100  2719  100  2667  100    52   1032     20  0:00:02  0:00:02 --:--:--  1054\n",
      "  % Total    % Received % Xferd  Average Speed   Time    Time     Time  Current\n",
      "                                 Dload  Upload   Total   Spent    Left  Speed\n",
      "100  5047  100  2380  100  2667   155k   174k --:--:-- --:--:-- --:--:--  985k\n",
      "  % Total    % Received % Xferd  Average Speed   Time    Time     Time  Current\n",
      "                                 Dload  Upload   Total   Spent    Left  Speed\n",
      "  0     0    0     0    0     0      0      0 --:--:-- --:--:-- --:--:--     0"
     ]
    },
    {
     "name": "stdout",
     "output_type": "stream",
     "text": [
      "316\n"
     ]
    },
    {
     "name": "stderr",
     "output_type": "stream",
     "text": [
      "100   251  100   152  100    99     69     45  0:00:02  0:00:02 --:--:--   115\n",
      "  % Total    % Received % Xferd  Average Speed   Time    Time     Time  Current\n",
      "                                 Dload  Upload   Total   Spent    Left  Speed\n",
      "100   265  100   113  100   152   7627  10259 --:--:-- --:--:-- --:--:-- 53000\n",
      "  % Total    % Received % Xferd  Average Speed   Time    Time     Time  Current\n",
      "                                 Dload  Upload   Total   Spent    Left  Speed\n",
      "  0     0    0     0    0     0      0      0 --:--:-- --:--:-- --:--:--     0"
     ]
    },
    {
     "name": "stdout",
     "output_type": "stream",
     "text": [
      "317\n"
     ]
    },
    {
     "name": "stderr",
     "output_type": "stream",
     "text": [
      "\r",
      "100   119    0     0  100   119      0     98  0:00:01  0:00:01 --:--:--    98\r",
      "100  1209  100  1090  100   119    857     93  0:00:01  0:00:01 --:--:--   957\n",
      "  % Total    % Received % Xferd  Average Speed   Time    Time     Time  Current\n",
      "                                 Dload  Upload   Total   Spent    Left  Speed\n",
      "\r",
      "  0     0    0     0    0     0      0      0 --:--:-- --:--:-- --:--:--     0\r",
      "100  1976  100   886  100  1090  60494  74423 --:--:-- --:--:-- --:--:--  482k\n",
      "  % Total    % Received % Xferd  Average Speed   Time    Time     Time  Current\n",
      "                                 Dload  Upload   Total   Spent    Left  Speed\n",
      "\r",
      "  0     0    0     0    0     0      0      0 --:--:-- --:--:-- --:--:--     0"
     ]
    },
    {
     "name": "stdout",
     "output_type": "stream",
     "text": [
      "318\n"
     ]
    },
    {
     "name": "stderr",
     "output_type": "stream",
     "text": [
      "100  3222  100  3150  100    72    844     19  0:00:03  0:00:03 --:--:--   864\n",
      "  % Total    % Received % Xferd  Average Speed   Time    Time     Time  Current\n",
      "                                 Dload  Upload   Total   Spent    Left  Speed\n",
      "100  5967  100  2817  100  3150   160k   178k --:--:-- --:--:-- --:--:--  971k\n",
      "  % Total    % Received % Xferd  Average Speed   Time    Time     Time  Current\n",
      "                                 Dload  Upload   Total   Spent    Left  Speed\n",
      "  0     0    0     0    0     0      0      0 --:--:-- --:--:-- --:--:--     0"
     ]
    },
    {
     "name": "stdout",
     "output_type": "stream",
     "text": [
      "319\n"
     ]
    },
    {
     "name": "stderr",
     "output_type": "stream",
     "text": [
      "\r",
      "100  2890  100  2842  100    48   2611     44  0:00:01  0:00:01 --:--:--  2668\r",
      "100  2890  100  2842  100    48   2611     44  0:00:01  0:00:01 --:--:--  2668\n",
      "  % Total    % Received % Xferd  Average Speed   Time    Time     Time  Current\n",
      "                                 Dload  Upload   Total   Spent    Left  Speed\n",
      "\r",
      "  0     0    0     0    0     0      0      0 --:--:-- --:--:-- --:--:--     0\r",
      "100  5292  100  2450  100  2842   172k   200k --:--:-- --:--:-- --:--:-- 1291k\n",
      "  % Total    % Received % Xferd  Average Speed   Time    Time     Time  Current\n",
      "                                 Dload  Upload   Total   Spent    Left  Speed\n",
      "\r",
      "  0     0    0     0    0     0      0      0 --:--:-- --:--:-- --:--:--     0"
     ]
    },
    {
     "name": "stdout",
     "output_type": "stream",
     "text": [
      "320\n"
     ]
    },
    {
     "name": "stderr",
     "output_type": "stream",
     "text": [
      "100  2953  100  2888  100    65   2449     55  0:00:01  0:00:01 --:--:--  2515\n",
      "  % Total    % Received % Xferd  Average Speed   Time    Time     Time  Current\n",
      "                                 Dload  Upload   Total   Spent    Left  Speed\n",
      "100  5429  100  2541  100  2888   103k   117k --:--:-- --:--:-- --:--:--  589k\n",
      "  % Total    % Received % Xferd  Average Speed   Time    Time     Time  Current\n",
      "                                 Dload  Upload   Total   Spent    Left  Speed\n",
      "  0     0    0     0    0     0      0      0 --:--:-- --:--:-- --:--:--     0"
     ]
    },
    {
     "name": "stdout",
     "output_type": "stream",
     "text": [
      "321\n"
     ]
    },
    {
     "name": "stderr",
     "output_type": "stream",
     "text": [
      "100  2585  100  2528  100    57    690     15  0:00:03  0:00:03 --:--:--   707\n",
      "  % Total    % Received % Xferd  Average Speed   Time    Time     Time  Current\n",
      "                                 Dload  Upload   Total   Spent    Left  Speed\n",
      "100  4633  100  2105  100  2528  92227   108k --:--:-- --:--:-- --:--:--  502k\n",
      "  % Total    % Received % Xferd  Average Speed   Time    Time     Time  Current\n",
      "                                 Dload  Upload   Total   Spent    Left  Speed\n",
      "  0     0    0     0    0     0      0      0 --:--:-- --:--:-- --:--:--     0"
     ]
    },
    {
     "name": "stdout",
     "output_type": "stream",
     "text": [
      "322\n"
     ]
    },
    {
     "name": "stderr",
     "output_type": "stream",
     "text": [
      "100   850  100   779  100    71    691     63  0:00:01  0:00:01 --:--:--   757\n",
      "  % Total    % Received % Xferd  Average Speed   Time    Time     Time  Current\n",
      "                                 Dload  Upload   Total   Spent    Left  Speed\n",
      "100  1541  100   762  100   779  45067  46072 --:--:-- --:--:-- --:--:--  250k\n",
      "  % Total    % Received % Xferd  Average Speed   Time    Time     Time  Current\n",
      "                                 Dload  Upload   Total   Spent    Left  Speed\n",
      "  0     0    0     0    0     0      0      0 --:--:-- --:--:-- --:--:--     0"
     ]
    },
    {
     "name": "stdout",
     "output_type": "stream",
     "text": [
      "Perfdrive: 323\n"
     ]
    },
    {
     "name": "stderr",
     "output_type": "stream",
     "text": [
      "\r",
      "100  1085  100  1033  100    52   1101     55 --:--:-- --:--:-- --:--:--  1166\r",
      "100  1085  100  1033  100    52   1101     55 --:--:-- --:--:-- --:--:--  1166\n",
      "  % Total    % Received % Xferd  Average Speed   Time    Time     Time  Current\n",
      "                                 Dload  Upload   Total   Spent    Left  Speed\n",
      "\r",
      "  0     0    0     0    0     0      0      0 --:--:-- --:--:-- --:--:--     0\r",
      "100  1707  100   674  100  1033  24254  37172 --:--:-- --:--:-- --:--:--  138k\n",
      "  % Total    % Received % Xferd  Average Speed   Time    Time     Time  Current\n",
      "                                 Dload  Upload   Total   Spent    Left  Speed\n",
      "\r",
      "  0     0    0     0    0     0      0      0 --:--:-- --:--:-- --:--:--     0"
     ]
    },
    {
     "name": "stdout",
     "output_type": "stream",
     "text": [
      "324\n"
     ]
    },
    {
     "name": "stderr",
     "output_type": "stream",
     "text": [
      "\r",
      "100  2405  100  2364  100    41   2647     45 --:--:-- --:--:-- --:--:--  2711\r",
      "100  2405  100  2364  100    41   2647     45 --:--:-- --:--:-- --:--:--  2711\n",
      "  % Total    % Received % Xferd  Average Speed   Time    Time     Time  Current\n",
      "                                 Dload  Upload   Total   Spent    Left  Speed\n",
      "\r",
      "  0     0    0     0    0     0      0      0 --:--:-- --:--:-- --:--:--     0\r",
      "100  4500  100  2136  100  2364  97645   105k --:--:-- --:--:-- --:--:--  732k\n",
      "  % Total    % Received % Xferd  Average Speed   Time    Time     Time  Current\n",
      "                                 Dload  Upload   Total   Spent    Left  Speed\n",
      "\r",
      "  0     0    0     0    0     0      0      0 --:--:-- --:--:-- --:--:--     0"
     ]
    },
    {
     "name": "stdout",
     "output_type": "stream",
     "text": [
      "325\n"
     ]
    },
    {
     "name": "stderr",
     "output_type": "stream",
     "text": [
      "\r",
      "100  2452  100  2382  100    70   2759     81 --:--:-- --:--:-- --:--:--  2857\n",
      "  % Total    % Received % Xferd  Average Speed   Time    Time     Time  Current\n",
      "                                 Dload  Upload   Total   Spent    Left  Speed\n",
      "\r",
      "  0     0    0     0    0     0      0      0 --:--:-- --:--:-- --:--:--     0\r",
      "  0     0    0     0    0     0      0      0 --:--:-- --:--:-- --:--:--     0\r",
      "100  4462  100  2080  100  2382  75868  86883 --:--:-- --:--:-- --:--:--  290k\n",
      "  % Total    % Received % Xferd  Average Speed   Time    Time     Time  Current\n",
      "                                 Dload  Upload   Total   Spent    Left  Speed\n",
      "\r",
      "  0     0    0     0    0     0      0      0 --:--:-- --:--:-- --:--:--     0"
     ]
    },
    {
     "name": "stdout",
     "output_type": "stream",
     "text": [
      "doi from extra: False 10.1016/B978-0-12-812782-7.00015-1\n",
      "326\n"
     ]
    },
    {
     "name": "stderr",
     "output_type": "stream",
     "text": [
      "100  2465  100  2336  100   129    601     33  0:00:03  0:00:03 --:--:--   635\n",
      "  % Total    % Received % Xferd  Average Speed   Time    Time     Time  Current\n",
      "                                 Dload  Upload   Total   Spent    Left  Speed\n",
      "100  4135  100  1799  100  2336   119k   155k --:--:-- --:--:-- --:--:-- 1009k\n",
      "  % Total    % Received % Xferd  Average Speed   Time    Time     Time  Current\n",
      "                                 Dload  Upload   Total   Spent    Left  Speed\n",
      "  0     0    0     0    0     0      0      0 --:--:-- --:--:-- --:--:--     0"
     ]
    },
    {
     "name": "stdout",
     "output_type": "stream",
     "text": [
      "327\n"
     ]
    },
    {
     "name": "stderr",
     "output_type": "stream",
     "text": [
      "100  3406  100  3339  100    67   1322     26  0:00:02  0:00:02 --:--:--  1352\n",
      "  % Total    % Received % Xferd  Average Speed   Time    Time     Time  Current\n",
      "                                 Dload  Upload   Total   Spent    Left  Speed\n",
      "100  6396  100  3057  100  3339   171k   187k --:--:-- --:--:-- --:--:--  780k\n",
      "  % Total    % Received % Xferd  Average Speed   Time    Time     Time  Current\n",
      "                                 Dload  Upload   Total   Spent    Left  Speed\n",
      "  0     0    0     0    0     0      0      0 --:--:-- --:--:-- --:--:--     0"
     ]
    },
    {
     "name": "stdout",
     "output_type": "stream",
     "text": [
      "328\n"
     ]
    },
    {
     "name": "stderr",
     "output_type": "stream",
     "text": [
      "\r",
      "100    27    0     0  100    27      0     22  0:00:01  0:00:01 --:--:--    22\r",
      "100  2415  100  2388  100    27   1884     21  0:00:01  0:00:01 --:--:--  1916\n",
      "  % Total    % Received % Xferd  Average Speed   Time    Time     Time  Current\n",
      "                                 Dload  Upload   Total   Spent    Left  Speed\n",
      "\r",
      "  0     0    0     0    0     0      0      0 --:--:-- --:--:-- --:--:--     0\r",
      "100  4545  100  2157  100  2388   140k   156k --:--:-- --:--:-- --:--:--  739k\n",
      "  % Total    % Received % Xferd  Average Speed   Time    Time     Time  Current\n",
      "                                 Dload  Upload   Total   Spent    Left  Speed\n",
      "\r",
      "  0     0    0     0    0     0      0      0 --:--:-- --:--:-- --:--:--     0"
     ]
    },
    {
     "name": "stdout",
     "output_type": "stream",
     "text": [
      "329\n"
     ]
    },
    {
     "name": "stderr",
     "output_type": "stream",
     "text": [
      "100  2874  100  2807  100    67   2243     53  0:00:01  0:00:01 --:--:--  2306\n",
      "  % Total    % Received % Xferd  Average Speed   Time    Time     Time  Current\n",
      "                                 Dload  Upload   Total   Spent    Left  Speed\n",
      "100  5249  100  2442  100  2807   150k   172k --:--:-- --:--:-- --:--:--  854k\n",
      "  % Total    % Received % Xferd  Average Speed   Time    Time     Time  Current\n",
      "                                 Dload  Upload   Total   Spent    Left  Speed\n",
      "  0     0    0     0    0     0      0      0 --:--:-- --:--:-- --:--:--     0"
     ]
    },
    {
     "name": "stdout",
     "output_type": "stream",
     "text": [
      "330\n"
     ]
    },
    {
     "name": "stderr",
     "output_type": "stream",
     "text": [
      "100  3068  100  3009  100    59   1706     33  0:00:01  0:00:01 --:--:--  1745\n",
      "  % Total    % Received % Xferd  Average Speed   Time    Time     Time  Current\n",
      "                                 Dload  Upload   Total   Spent    Left  Speed\n",
      "100  5546  100  2537  100  3009   133k   158k --:--:-- --:--:-- --:--:--  902k\n",
      "  % Total    % Received % Xferd  Average Speed   Time    Time     Time  Current\n",
      "                                 Dload  Upload   Total   Spent    Left  Speed\n",
      "  0     0    0     0    0     0      0      0 --:--:-- --:--:-- --:--:--     0"
     ]
    },
    {
     "name": "stdout",
     "output_type": "stream",
     "text": [
      "331\n"
     ]
    },
    {
     "name": "stderr",
     "output_type": "stream",
     "text": [
      "\r",
      "100   637  100   528  100   109    626    129 --:--:-- --:--:-- --:--:--   762\n",
      "  % Total    % Received % Xferd  Average Speed   Time    Time     Time  Current\n",
      "                                 Dload  Upload   Total   Spent    Left  Speed\n",
      "\r",
      "  0     0    0     0    0     0      0      0 --:--:-- --:--:-- --:--:--     0\r",
      "100  1032  100   504  100   528  40117  42028 --:--:-- --:--:-- --:--:--  251k\n",
      "  % Total    % Received % Xferd  Average Speed   Time    Time     Time  Current\n",
      "                                 Dload  Upload   Total   Spent    Left  Speed\n",
      "\r",
      "  0     0    0     0    0     0      0      0 --:--:-- --:--:-- --:--:--     0"
     ]
    },
    {
     "name": "stdout",
     "output_type": "stream",
     "text": [
      "Failed: 332\n"
     ]
    },
    {
     "name": "stderr",
     "output_type": "stream",
     "text": [
      "100  2032  100  1972  100    60    874     26  0:00:02  0:00:02 --:--:--   903\n",
      "  % Total    % Received % Xferd  Average Speed   Time    Time     Time  Current\n",
      "                                 Dload  Upload   Total   Spent    Left  Speed\n",
      "100  3663  100  1691  100  1972  76884  89660 --:--:-- --:--:-- --:--:--  447k\n",
      "  % Total    % Received % Xferd  Average Speed   Time    Time     Time  Current\n",
      "                                 Dload  Upload   Total   Spent    Left  Speed\n",
      "  0     0    0     0    0     0      0      0 --:--:-- --:--:-- --:--:--     0"
     ]
    },
    {
     "name": "stdout",
     "output_type": "stream",
     "text": [
      "333\n"
     ]
    },
    {
     "name": "stderr",
     "output_type": "stream",
     "text": [
      "100  2671  100  2611  100    60   1438     33  0:00:01  0:00:01 --:--:--  1477\n",
      "  % Total    % Received % Xferd  Average Speed   Time    Time     Time  Current\n",
      "                                 Dload  Upload   Total   Spent    Left  Speed\n",
      "100  4901  100  2290  100  2611   113k   129k --:--:-- --:--:-- --:--:--  531k\n",
      "  % Total    % Received % Xferd  Average Speed   Time    Time     Time  Current\n",
      "                                 Dload  Upload   Total   Spent    Left  Speed\n",
      "  0     0    0     0    0     0      0      0 --:--:-- --:--:-- --:--:--     0"
     ]
    },
    {
     "name": "stdout",
     "output_type": "stream",
     "text": [
      "334\n"
     ]
    },
    {
     "name": "stderr",
     "output_type": "stream",
     "text": [
      "100  2542  100  2467  100    75    797     24  0:00:03  0:00:03 --:--:--   823\n",
      "  % Total    % Received % Xferd  Average Speed   Time    Time     Time  Current\n",
      "                                 Dload  Upload   Total   Spent    Left  Speed\n",
      "100  4536  100  2069  100  2467  62858  74950 --:--:-- --:--:-- --:--:--  210k\n",
      "  % Total    % Received % Xferd  Average Speed   Time    Time     Time  Current\n",
      "                                 Dload  Upload   Total   Spent    Left  Speed\n",
      "  0     0    0     0    0     0      0      0 --:--:-- --:--:-- --:--:--     0"
     ]
    },
    {
     "name": "stdout",
     "output_type": "stream",
     "text": [
      "335\n"
     ]
    },
    {
     "name": "stderr",
     "output_type": "stream",
     "text": [
      "100  2933  100  2873  100    60   1573     32  0:00:01  0:00:01 --:--:--  1613\n",
      "  % Total    % Received % Xferd  Average Speed   Time    Time     Time  Current\n",
      "                                 Dload  Upload   Total   Spent    Left  Speed\n",
      "100  5332  100  2462  100  2870   123k   143k --:--:-- --:--:-- --:--:--  520k\n",
      "  % Total    % Received % Xferd  Average Speed   Time    Time     Time  Current\n",
      "                                 Dload  Upload   Total   Spent    Left  Speed\n",
      "  0     0    0     0    0     0      0      0 --:--:-- --:--:-- --:--:--     0"
     ]
    },
    {
     "name": "stdout",
     "output_type": "stream",
     "text": [
      "336\n"
     ]
    },
    {
     "name": "stderr",
     "output_type": "stream",
     "text": [
      "100  2933  100  2876  100    57   2003     39  0:00:01  0:00:01 --:--:--  2053\n",
      "  % Total    % Received % Xferd  Average Speed   Time    Time     Time  Current\n",
      "                                 Dload  Upload   Total   Spent    Left  Speed\n",
      "100  5556  100  2680  100  2876   183k   196k --:--:-- --:--:-- --:--:-- 1356k\n",
      "  % Total    % Received % Xferd  Average Speed   Time    Time     Time  Current\n",
      "                                 Dload  Upload   Total   Spent    Left  Speed\n",
      "  0     0    0     0    0     0      0      0 --:--:-- --:--:-- --:--:--     0"
     ]
    },
    {
     "name": "stdout",
     "output_type": "stream",
     "text": [
      "337\n"
     ]
    },
    {
     "name": "stderr",
     "output_type": "stream",
     "text": [
      "100  2748  100  2694  100    54   1459     29  0:00:01  0:00:01 --:--:--  1491\n",
      "  % Total    % Received % Xferd  Average Speed   Time    Time     Time  Current\n",
      "                                 Dload  Upload   Total   Spent    Left  Speed\n",
      "100  4931  100  2237  100  2694   140k   169k --:--:-- --:--:-- --:--:--  963k\n",
      "  % Total    % Received % Xferd  Average Speed   Time    Time     Time  Current\n",
      "                                 Dload  Upload   Total   Spent    Left  Speed\n",
      "  0     0    0     0    0     0      0      0 --:--:-- --:--:-- --:--:--     0"
     ]
    },
    {
     "name": "stdout",
     "output_type": "stream",
     "text": [
      "doi from extra: False 10.1007/698_2020_481\n",
      "338\n"
     ]
    },
    {
     "name": "stderr",
     "output_type": "stream",
     "text": [
      "\r",
      "100    28    0     0  100    28      0     23  0:00:01  0:00:01 --:--:--    23\r",
      "100  2357  100  2329  100    28   1727     20  0:00:01  0:00:01 --:--:--  1753\r",
      "100  2357  100  2329  100    28   1727     20  0:00:01  0:00:01 --:--:--  1753\n",
      "  % Total    % Received % Xferd  Average Speed   Time    Time     Time  Current\n",
      "                                 Dload  Upload   Total   Spent    Left  Speed\n",
      "\r",
      "  0     0    0     0    0     0      0      0 --:--:-- --:--:-- --:--:--     0\r",
      "100  4407  100  2078  100  2329   135k   151k --:--:-- --:--:-- --:--:-- 1075k\n"
     ]
    },
    {
     "name": "stdout",
     "output_type": "stream",
     "text": [
      "339\n"
     ]
    },
    {
     "name": "stderr",
     "output_type": "stream",
     "text": [
      "  % Total    % Received % Xferd  Average Speed   Time    Time     Time  Current\n",
      "                                 Dload  Upload   Total   Spent    Left  Speed\n",
      "100  2352  100  2324  100    28   1840     22  0:00:01  0:00:01 --:--:--  1871\n",
      "  % Total    % Received % Xferd  Average Speed   Time    Time     Time  Current\n",
      "                                 Dload  Upload   Total   Spent    Left  Speed\n",
      "100  4475  100  2151  100  2324   134k   145k --:--:-- --:--:-- --:--:-- 1456k\n",
      "  % Total    % Received % Xferd  Average Speed   Time    Time     Time  Current\n",
      "                                 Dload  Upload   Total   Spent    Left  Speed\n",
      "  0     0    0     0    0     0      0      0 --:--:-- --:--:-- --:--:--     0"
     ]
    },
    {
     "name": "stdout",
     "output_type": "stream",
     "text": [
      "340\n"
     ]
    },
    {
     "name": "stderr",
     "output_type": "stream",
     "text": [
      "\r",
      "100  3493  100  3434  100    59   4121     70 --:--:-- --:--:-- --:--:--  4218\r",
      "100  3493  100  3434  100    59   4120     70 --:--:-- --:--:-- --:--:--  4218\n",
      "  % Total    % Received % Xferd  Average Speed   Time    Time     Time  Current\n",
      "                                 Dload  Upload   Total   Spent    Left  Speed\n",
      "\r",
      "  0     0    0     0    0     0      0      0 --:--:-- --:--:-- --:--:--     0\r",
      "100  6517  100  3083  100  3434   238k   265k --:--:-- --:--:-- --:--:-- 1591k\n",
      "  % Total    % Received % Xferd  Average Speed   Time    Time     Time  Current\n",
      "                                 Dload  Upload   Total   Spent    Left  Speed\n",
      "\r",
      "  0     0    0     0    0     0      0      0 --:--:-- --:--:-- --:--:--     0"
     ]
    },
    {
     "name": "stdout",
     "output_type": "stream",
     "text": [
      "341\n"
     ]
    },
    {
     "name": "stderr",
     "output_type": "stream",
     "text": [
      "\r",
      "100  3023  100  2956  100    67   2784     63  0:00:01  0:00:01 --:--:--  2862\r",
      "100  3023  100  2956  100    67   2783     63  0:00:01  0:00:01 --:--:--  2862\n",
      "  % Total    % Received % Xferd  Average Speed   Time    Time     Time  Current\n",
      "                                 Dload  Upload   Total   Spent    Left  Speed\n",
      "\r",
      "  0     0    0     0    0     0      0      0 --:--:-- --:--:-- --:--:--     0\r",
      "100  5365  100  2409  100  2956   111k   136k --:--:-- --:--:-- --:--:--  582k\n",
      "  % Total    % Received % Xferd  Average Speed   Time    Time     Time  Current\n",
      "                                 Dload  Upload   Total   Spent    Left  Speed\n",
      "\r",
      "  0     0    0     0    0     0      0      0 --:--:-- --:--:-- --:--:--     0"
     ]
    },
    {
     "name": "stdout",
     "output_type": "stream",
     "text": [
      "342\n"
     ]
    },
    {
     "name": "stderr",
     "output_type": "stream",
     "text": [
      "\r",
      "100    28    0     0  100    28      0     23  0:00:01  0:00:01 --:--:--    23\r",
      "100  2983  100  2955  100    28   2158     20  0:00:01  0:00:01 --:--:--  2190\n",
      "  % Total    % Received % Xferd  Average Speed   Time    Time     Time  Current\n",
      "                                 Dload  Upload   Total   Spent    Left  Speed\n",
      "\r",
      "  0     0    0     0    0     0      0      0 --:--:-- --:--:-- --:--:--     0\r",
      "100  5300  100  2345  100  2955   135k   171k --:--:-- --:--:-- --:--:--  862k\n"
     ]
    },
    {
     "name": "stdout",
     "output_type": "stream",
     "text": [
      "343\n"
     ]
    },
    {
     "name": "stderr",
     "output_type": "stream",
     "text": [
      "  % Total    % Received % Xferd  Average Speed   Time    Time     Time  Current\n",
      "                                 Dload  Upload   Total   Spent    Left  Speed\n",
      "100  1121  100  1048  100    73   1201     83 --:--:-- --:--:-- --:--:--  1291\n",
      "  % Total    % Received % Xferd  Average Speed   Time    Time     Time  Current\n",
      "                                 Dload  Upload   Total   Spent    Left  Speed\n",
      "100  1680  100   632  100  1048  35179  58335 --:--:-- --:--:-- --:--:--  234k\n",
      "  % Total    % Received % Xferd  Average Speed   Time    Time     Time  Current\n",
      "                                 Dload  Upload   Total   Spent    Left  Speed\n",
      "  0     0    0     0    0     0      0      0 --:--:-- --:--:-- --:--:--     0"
     ]
    },
    {
     "name": "stdout",
     "output_type": "stream",
     "text": [
      "doi from extra: False 10.1002/9781119427339.ch1\n",
      "344\n"
     ]
    },
    {
     "name": "stderr",
     "output_type": "stream",
     "text": [
      "\r",
      "100    28    0     0  100    28      0     23  0:00:01  0:00:01 --:--:--    23\r",
      "100  2797  100  2769  100    28   2143     21  0:00:01  0:00:01 --:--:--  2174\r",
      "100  2797  100  2769  100    28   2143     21  0:00:01  0:00:01 --:--:--  2174\n",
      "  % Total    % Received % Xferd  Average Speed   Time    Time     Time  Current\n",
      "                                 Dload  Upload   Total   Spent    Left  Speed\n",
      "\r",
      "  0     0    0     0    0     0      0      0 --:--:-- --:--:-- --:--:--     0\r",
      "100  5144  100  2375  100  2769   145k   169k --:--:-- --:--:-- --:--:-- 1255k\n",
      "  % Total    % Received % Xferd  Average Speed   Time    Time     Time  Current\n",
      "                                 Dload  Upload   Total   Spent    Left  Speed\n",
      "\r",
      "  0     0    0     0    0     0      0      0 --:--:-- --:--:-- --:--:--     0"
     ]
    },
    {
     "name": "stdout",
     "output_type": "stream",
     "text": [
      "345\n"
     ]
    },
    {
     "name": "stderr",
     "output_type": "stream",
     "text": [
      "\r",
      "100   870  100   802  100    68   1119     94 --:--:-- --:--:-- --:--:--  1221\n",
      "  % Total    % Received % Xferd  Average Speed   Time    Time     Time  Current\n",
      "                                 Dload  Upload   Total   Spent    Left  Speed\n",
      "\r",
      "  0     0    0     0    0     0      0      0 --:--:-- --:--:-- --:--:--     0\r",
      "100  1341  100   539  100   802  24368  36258 --:--:-- --:--:-- --:--:--  145k\n",
      "  % Total    % Received % Xferd  Average Speed   Time    Time     Time  Current\n",
      "                                 Dload  Upload   Total   Spent    Left  Speed\n",
      "\r",
      "  0     0    0     0    0     0      0      0 --:--:-- --:--:-- --:--:--     0"
     ]
    },
    {
     "name": "stdout",
     "output_type": "stream",
     "text": [
      "346\n"
     ]
    },
    {
     "name": "stderr",
     "output_type": "stream",
     "text": [
      "100  2560  100  2519  100    41   2549     41  0:00:01 --:--:--  0:00:01  2604\n",
      "  % Total    % Received % Xferd  Average Speed   Time    Time     Time  Current\n",
      "                                 Dload  Upload   Total   Spent    Left  Speed\n",
      "100  4612  100  2093  100  2519   124k   150k --:--:-- --:--:-- --:--:--  750k\n",
      "  % Total    % Received % Xferd  Average Speed   Time    Time     Time  Current\n",
      "                                 Dload  Upload   Total   Spent    Left  Speed\n",
      "  0     0    0     0    0     0      0      0 --:--:-- --:--:-- --:--:--     0"
     ]
    },
    {
     "name": "stdout",
     "output_type": "stream",
     "text": [
      "347\n"
     ]
    },
    {
     "name": "stderr",
     "output_type": "stream",
     "text": [
      "100  2515  100  2442  100    73   1069     31  0:00:02  0:00:02 --:--:--  1104\n",
      "  % Total    % Received % Xferd  Average Speed   Time    Time     Time  Current\n",
      "                                 Dload  Upload   Total   Spent    Left  Speed\n",
      "100  4746  100  2304  100  2442   165k   175k --:--:-- --:--:-- --:--:-- 1158k\n",
      "  % Total    % Received % Xferd  Average Speed   Time    Time     Time  Current\n",
      "                                 Dload  Upload   Total   Spent    Left  Speed\n",
      "  0     0    0     0    0     0      0      0 --:--:-- --:--:-- --:--:--     0"
     ]
    },
    {
     "name": "stdout",
     "output_type": "stream",
     "text": [
      "348\n"
     ]
    },
    {
     "name": "stderr",
     "output_type": "stream",
     "text": [
      "100  3305  100  3278  100    27   1707     14  0:00:01  0:00:01 --:--:--  1724\n",
      "  % Total    % Received % Xferd  Average Speed   Time    Time     Time  Current\n",
      "                                 Dload  Upload   Total   Spent    Left  Speed\n",
      "100  6100  100  2822  100  3278   177k   206k --:--:-- --:--:-- --:--:-- 1985k\n",
      "  % Total    % Received % Xferd  Average Speed   Time    Time     Time  Current\n",
      "                                 Dload  Upload   Total   Spent    Left  Speed\n",
      "  0     0    0     0    0     0      0      0 --:--:-- --:--:-- --:--:--     0"
     ]
    },
    {
     "name": "stdout",
     "output_type": "stream",
     "text": [
      "349\n"
     ]
    },
    {
     "name": "stderr",
     "output_type": "stream",
     "text": [
      "\r",
      "100  2864  100  2797  100    67   2510     60  0:00:01  0:00:01 --:--:--  2591\r",
      "100  2864  100  2797  100    67   2510     60  0:00:01  0:00:01 --:--:--  2591\n",
      "  % Total    % Received % Xferd  Average Speed   Time    Time     Time  Current\n",
      "                                 Dload  Upload   Total   Spent    Left  Speed\n",
      "\r",
      "  0     0    0     0    0     0      0      0 --:--:-- --:--:-- --:--:--     0\r",
      "100  5063  100  2266  100  2797   140k   173k --:--:-- --:--:-- --:--:--  824k\n",
      "  % Total    % Received % Xferd  Average Speed   Time    Time     Time  Current\n",
      "                                 Dload  Upload   Total   Spent    Left  Speed\n",
      "\r",
      "  0     0    0     0    0     0      0      0 --:--:-- --:--:-- --:--:--     0"
     ]
    },
    {
     "name": "stdout",
     "output_type": "stream",
     "text": [
      "350\n"
     ]
    },
    {
     "name": "stderr",
     "output_type": "stream",
     "text": [
      "\r",
      "100  1008  100   946  100    62    891     58  0:00:01  0:00:01 --:--:--   954\r",
      "100  1008  100   946  100    62    891     58  0:00:01  0:00:01 --:--:--   954\n",
      "  % Total    % Received % Xferd  Average Speed   Time    Time     Time  Current\n",
      "                                 Dload  Upload   Total   Spent    Left  Speed\n",
      "\r",
      "  0     0    0     0    0     0      0      0 --:--:-- --:--:-- --:--:--     0\r",
      "100  1559  100   613  100   946  32312  49865 --:--:-- --:--:-- --:--:--  190k\n",
      "  % Total    % Received % Xferd  Average Speed   Time    Time     Time  Current\n",
      "                                 Dload  Upload   Total   Spent    Left  Speed\n",
      "\r",
      "  0     0    0     0    0     0      0      0 --:--:-- --:--:-- --:--:--     0"
     ]
    },
    {
     "name": "stdout",
     "output_type": "stream",
     "text": [
      "351\n"
     ]
    },
    {
     "name": "stderr",
     "output_type": "stream",
     "text": [
      "\r",
      "100  2541  100  2503  100    38   2716     41 --:--:-- --:--:-- --:--:--  2774\r",
      "100  2541  100  2503  100    38   2716     41 --:--:-- --:--:-- --:--:--  2774\n",
      "  % Total    % Received % Xferd  Average Speed   Time    Time     Time  Current\n",
      "                                 Dload  Upload   Total   Spent    Left  Speed\n",
      "\r",
      "  0     0    0     0    0     0      0      0 --:--:-- --:--:-- --:--:--     0\r",
      "100  4695  100  2192  100  2503   129k   147k --:--:-- --:--:-- --:--:--  916k\n",
      "  % Total    % Received % Xferd  Average Speed   Time    Time     Time  Current\n",
      "                                 Dload  Upload   Total   Spent    Left  Speed\n",
      "\r",
      "  0     0    0     0    0     0      0      0 --:--:-- --:--:-- --:--:--     0"
     ]
    },
    {
     "name": "stdout",
     "output_type": "stream",
     "text": [
      "352\n"
     ]
    },
    {
     "name": "stderr",
     "output_type": "stream",
     "text": [
      "\r",
      "100  3646  100  3605  100    41   3848     43 --:--:-- --:--:-- --:--:--  3907\r",
      "100  3646  100  3605  100    41   3848     43 --:--:-- --:--:-- --:--:--  3907\n",
      "  % Total    % Received % Xferd  Average Speed   Time    Time     Time  Current\n",
      "                                 Dload  Upload   Total   Spent    Left  Speed\n",
      "\r",
      "  0     0    0     0    0     0      0      0 --:--:-- --:--:-- --:--:--     0\r",
      "100  6912  100  3307  100  3605   190k   207k --:--:-- --:--:-- --:--:-- 1125k\n",
      "  % Total    % Received % Xferd  Average Speed   Time    Time     Time  Current\n",
      "                                 Dload  Upload   Total   Spent    Left  Speed\n",
      "\r",
      "  0     0    0     0    0     0      0      0 --:--:-- --:--:-- --:--:--     0"
     ]
    },
    {
     "name": "stdout",
     "output_type": "stream",
     "text": [
      "353\n"
     ]
    },
    {
     "name": "stderr",
     "output_type": "stream",
     "text": [
      "100  2735  100  2686  100    49   1067     19  0:00:02  0:00:02 --:--:--  1089\n",
      "  % Total    % Received % Xferd  Average Speed   Time    Time     Time  Current\n",
      "                                 Dload  Upload   Total   Spent    Left  Speed\n",
      "100  4826  100  2140  100  2686   103k   129k --:--:-- --:--:-- --:--:--  523k\n",
      "  % Total    % Received % Xferd  Average Speed   Time    Time     Time  Current\n",
      "                                 Dload  Upload   Total   Spent    Left  Speed\n",
      "  0     0    0     0    0     0      0      0 --:--:-- --:--:-- --:--:--     0"
     ]
    },
    {
     "name": "stdout",
     "output_type": "stream",
     "text": [
      "354\n"
     ]
    },
    {
     "name": "stderr",
     "output_type": "stream",
     "text": [
      "100   257  100   198  100    59     95     28  0:00:02  0:00:02 --:--:--   124\n",
      "  % Total    % Received % Xferd  Average Speed   Time    Time     Time  Current\n",
      "                                 Dload  Upload   Total   Spent    Left  Speed\n",
      "100   373  100   175  100   198   9545  10800 --:--:-- --:--:-- --:--:-- 53285\n",
      "  % Total    % Received % Xferd  Average Speed   Time    Time     Time  Current\n",
      "                                 Dload  Upload   Total   Spent    Left  Speed\n",
      "  0     0    0     0    0     0      0      0 --:--:-- --:--:-- --:--:--     0"
     ]
    },
    {
     "name": "stdout",
     "output_type": "stream",
     "text": [
      "355\n"
     ]
    },
    {
     "name": "stderr",
     "output_type": "stream",
     "text": [
      "\r",
      "100   963  100   895  100    68   1166     88 --:--:-- --:--:-- --:--:--  1265\r",
      "100   963  100   895  100    68   1166     88 --:--:-- --:--:-- --:--:--  1265\n",
      "  % Total    % Received % Xferd  Average Speed   Time    Time     Time  Current\n",
      "                                 Dload  Upload   Total   Spent    Left  Speed\n",
      "\r",
      "  0     0    0     0    0     0      0      0 --:--:-- --:--:-- --:--:--     0\r",
      "100  1456  100   561  100   895  49353  78736 --:--:-- --:--:-- --:--:--  236k\n",
      "  % Total    % Received % Xferd  Average Speed   Time    Time     Time  Current\n",
      "                                 Dload  Upload   Total   Spent    Left  Speed\n",
      "\r",
      "  0     0    0     0    0     0      0      0 --:--:-- --:--:-- --:--:--     0"
     ]
    },
    {
     "name": "stdout",
     "output_type": "stream",
     "text": [
      "356\n"
     ]
    },
    {
     "name": "stderr",
     "output_type": "stream",
     "text": [
      "100  3197  100  3027  100   170   1495     84  0:00:02  0:00:02 --:--:--  1584\n",
      "  % Total    % Received % Xferd  Average Speed   Time    Time     Time  Current\n",
      "                                 Dload  Upload   Total   Spent    Left  Speed\n",
      "100  5710  100  2683  100  3027   130k   147k --:--:-- --:--:-- --:--:-- 1394k\n",
      "  % Total    % Received % Xferd  Average Speed   Time    Time     Time  Current\n",
      "                                 Dload  Upload   Total   Spent    Left  Speed\n",
      "  0     0    0     0    0     0      0      0 --:--:-- --:--:-- --:--:--     0"
     ]
    },
    {
     "name": "stdout",
     "output_type": "stream",
     "text": [
      "357\n"
     ]
    },
    {
     "name": "stderr",
     "output_type": "stream",
     "text": [
      "\r",
      "100  1291  100  1223  100    68   1603     89 --:--:-- --:--:-- --:--:--  1700\r",
      "100  1291  100  1223  100    68   1603     89 --:--:-- --:--:-- --:--:--  1700\n",
      "  % Total    % Received % Xferd  Average Speed   Time    Time     Time  Current\n",
      "                                 Dload  Upload   Total   Spent    Left  Speed\n",
      "\r",
      "  0     0    0     0    0     0      0      0 --:--:-- --:--:-- --:--:--     0\r",
      "100  2109  100   886  100  1223  35331  48769 --:--:-- --:--:-- --:--:--  228k\n",
      "  % Total    % Received % Xferd  Average Speed   Time    Time     Time  Current\n",
      "                                 Dload  Upload   Total   Spent    Left  Speed\n",
      "\r",
      "  0     0    0     0    0     0      0      0 --:--:-- --:--:-- --:--:--     0"
     ]
    },
    {
     "name": "stdout",
     "output_type": "stream",
     "text": [
      "358\n"
     ]
    },
    {
     "name": "stderr",
     "output_type": "stream",
     "text": [
      "\r",
      "100  2219  100  2171  100    48   2377     52 --:--:-- --:--:-- --:--:--  2446\r",
      "100  2219  100  2171  100    48   2377     52 --:--:-- --:--:-- --:--:--  2446\n",
      "  % Total    % Received % Xferd  Average Speed   Time    Time     Time  Current\n",
      "                                 Dload  Upload   Total   Spent    Left  Speed\n",
      "\r",
      "  0     0    0     0    0     0      0      0 --:--:-- --:--:-- --:--:--     0\r",
      "100  4279  100  2108  100  2171   140k   145k --:--:-- --:--:-- --:--:-- 1044k\n",
      "  % Total    % Received % Xferd  Average Speed   Time    Time     Time  Current\n",
      "                                 Dload  Upload   Total   Spent    Left  Speed\n",
      "\r",
      "  0     0    0     0    0     0      0      0 --:--:-- --:--:-- --:--:--     0"
     ]
    },
    {
     "name": "stdout",
     "output_type": "stream",
     "text": [
      "359\n"
     ]
    },
    {
     "name": "stderr",
     "output_type": "stream",
     "text": [
      "\r",
      "100    26    0     0  100    26      0     21  0:00:01  0:00:01 --:--:--    21\r",
      "100  1822  100  1796  100    26   1331     19  0:00:01  0:00:01 --:--:--  1356\n",
      "  % Total    % Received % Xferd  Average Speed   Time    Time     Time  Current\n",
      "                                 Dload  Upload   Total   Spent    Left  Speed\n",
      "\r",
      "  0     0    0     0    0     0      0      0 --:--:-- --:--:-- --:--:--     0\r",
      "100  3172  100  1387  100  1785  86509   108k --:--:-- --:--:-- --:--:--  774k\n",
      "  % Total    % Received % Xferd  Average Speed   Time    Time     Time  Current\n",
      "                                 Dload  Upload   Total   Spent    Left  Speed\n",
      "\r",
      "  0     0    0     0    0     0      0      0 --:--:-- --:--:-- --:--:--     0"
     ]
    },
    {
     "name": "stdout",
     "output_type": "stream",
     "text": [
      "360\n"
     ]
    },
    {
     "name": "stderr",
     "output_type": "stream",
     "text": [
      "\r",
      "100  1361  100  1293  100    68   1424     74 --:--:-- --:--:-- --:--:--  1505\r",
      "100  1361  100  1293  100    68   1423     74 --:--:-- --:--:-- --:--:--  1505\n",
      "  % Total    % Received % Xferd  Average Speed   Time    Time     Time  Current\n",
      "                                 Dload  Upload   Total   Spent    Left  Speed\n",
      "\r",
      "  0     0    0     0    0     0      0      0 --:--:-- --:--:-- --:--:--     0\r",
      "100  2090  100   797  100  1293  33391  54172 --:--:-- --:--:-- --:--:--  226k\n",
      "  % Total    % Received % Xferd  Average Speed   Time    Time     Time  Current\n",
      "                                 Dload  Upload   Total   Spent    Left  Speed\n",
      "\r",
      "  0     0    0     0    0     0      0      0 --:--:-- --:--:-- --:--:--     0"
     ]
    },
    {
     "name": "stdout",
     "output_type": "stream",
     "text": [
      "361\n"
     ]
    },
    {
     "name": "stderr",
     "output_type": "stream",
     "text": [
      "\r",
      "100  1054  100   986  100    68   1199     82 --:--:-- --:--:-- --:--:--  1293\r",
      "100  1054  100   986  100    68   1199     82 --:--:-- --:--:-- --:--:--  1293\n",
      "  % Total    % Received % Xferd  Average Speed   Time    Time     Time  Current\n",
      "                                 Dload  Upload   Total   Spent    Left  Speed\n",
      "\r",
      "  0     0    0     0    0     0      0      0 --:--:-- --:--:-- --:--:--     0\r",
      "100  1703  100   717  100   986  43213  59426 --:--:-- --:--:-- --:--:--  332k\n",
      "  % Total    % Received % Xferd  Average Speed   Time    Time     Time  Current\n",
      "                                 Dload  Upload   Total   Spent    Left  Speed\n",
      "\r",
      "  0     0    0     0    0     0      0      0 --:--:-- --:--:-- --:--:--     0"
     ]
    },
    {
     "name": "stdout",
     "output_type": "stream",
     "text": [
      "362\n"
     ]
    },
    {
     "name": "stderr",
     "output_type": "stream",
     "text": [
      "100  2589  100  2433  100   156   1379     88  0:00:01  0:00:01 --:--:--  1472\n",
      "  % Total    % Received % Xferd  Average Speed   Time    Time     Time  Current\n",
      "                                 Dload  Upload   Total   Spent    Left  Speed\n",
      "100  4612  100  2179  100  2433   167k   186k --:--:-- --:--:-- --:--:-- 1501k\n",
      "  % Total    % Received % Xferd  Average Speed   Time    Time     Time  Current\n",
      "                                 Dload  Upload   Total   Spent    Left  Speed\n",
      "  0     0    0     0    0     0      0      0 --:--:-- --:--:-- --:--:--     0"
     ]
    },
    {
     "name": "stdout",
     "output_type": "stream",
     "text": [
      "363\n"
     ]
    },
    {
     "name": "stderr",
     "output_type": "stream",
     "text": [
      "100  2509  100  2444  100    65   1348     35  0:00:01  0:00:01 --:--:--  1390\n",
      "  % Total    % Received % Xferd  Average Speed   Time    Time     Time  Current\n",
      "                                 Dload  Upload   Total   Spent    Left  Speed\n",
      "100  4752  100  2308  100  2444  88799  94032 --:--:-- --:--:-- --:--:--  464k\n",
      "  % Total    % Received % Xferd  Average Speed   Time    Time     Time  Current\n",
      "                                 Dload  Upload   Total   Spent    Left  Speed\n",
      "  0     0    0     0    0     0      0      0 --:--:-- --:--:-- --:--:--     0"
     ]
    },
    {
     "name": "stdout",
     "output_type": "stream",
     "text": [
      "364\n"
     ]
    },
    {
     "name": "stderr",
     "output_type": "stream",
     "text": [
      "100  4923  100  4862  100    61   1471     18  0:00:03  0:00:03 --:--:--  1491\n",
      "  % Total    % Received % Xferd  Average Speed   Time    Time     Time  Current\n",
      "                                 Dload  Upload   Total   Spent    Left  Speed\n",
      "100  8989  100  4162  100  4827   257k   298k --:--:-- --:--:-- --:--:-- 2194k\n",
      "  % Total    % Received % Xferd  Average Speed   Time    Time     Time  Current\n",
      "                                 Dload  Upload   Total   Spent    Left  Speed\n",
      "  0     0    0     0    0     0      0      0 --:--:-- --:--:-- --:--:--     0"
     ]
    },
    {
     "name": "stdout",
     "output_type": "stream",
     "text": [
      "365\n"
     ]
    },
    {
     "name": "stderr",
     "output_type": "stream",
     "text": [
      "100  2612  100  2443  100   169   1345     93  0:00:01  0:00:01 --:--:--  1441\n",
      "  % Total    % Received % Xferd  Average Speed   Time    Time     Time  Current\n",
      "                                 Dload  Upload   Total   Spent    Left  Speed\n",
      "100  4721  100  2278  100  2443   123k   131k --:--:-- --:--:-- --:--:--  768k\n",
      "  % Total    % Received % Xferd  Average Speed   Time    Time     Time  Current\n",
      "                                 Dload  Upload   Total   Spent    Left  Speed\n",
      "  0     0    0     0    0     0      0      0 --:--:-- --:--:-- --:--:--     0"
     ]
    },
    {
     "name": "stdout",
     "output_type": "stream",
     "text": [
      "366\n"
     ]
    },
    {
     "name": "stderr",
     "output_type": "stream",
     "text": [
      "100  2723  100  2656  100    67   1564     39  0:00:01  0:00:01 --:--:--  1609\n",
      "  % Total    % Received % Xferd  Average Speed   Time    Time     Time  Current\n",
      "                                 Dload  Upload   Total   Spent    Left  Speed\n",
      "100  5006  100  2350  100  2656  96315   106k --:--:-- --:--:-- --:--:--  444k\n",
      "  % Total    % Received % Xferd  Average Speed   Time    Time     Time  Current\n",
      "                                 Dload  Upload   Total   Spent    Left  Speed\n",
      "  0     0    0     0    0     0      0      0 --:--:-- --:--:-- --:--:--     0"
     ]
    },
    {
     "name": "stdout",
     "output_type": "stream",
     "text": [
      "367\n"
     ]
    },
    {
     "name": "stderr",
     "output_type": "stream",
     "text": [
      "\r",
      "100    68    0     0  100    68      0     55  0:00:01  0:00:01 --:--:--    56\r",
      "100   895  100   827  100    68    680     55  0:00:01  0:00:01 --:--:--   740\n",
      "  % Total    % Received % Xferd  Average Speed   Time    Time     Time  Current\n",
      "                                 Dload  Upload   Total   Spent    Left  Speed\n",
      "\r",
      "  0     0    0     0    0     0      0      0 --:--:-- --:--:-- --:--:--     0\r",
      "100  1404  100   577  100   827  32059  45949 --:--:-- --:--:-- --:--:--  195k\n",
      "  % Total    % Received % Xferd  Average Speed   Time    Time     Time  Current\n",
      "                                 Dload  Upload   Total   Spent    Left  Speed\n",
      "\r",
      "  0     0    0     0    0     0      0      0 --:--:-- --:--:-- --:--:--     0"
     ]
    },
    {
     "name": "stdout",
     "output_type": "stream",
     "text": [
      "368\n"
     ]
    },
    {
     "name": "stderr",
     "output_type": "stream",
     "text": [
      "100  3093  100  3039  100    54   1610     28  0:00:01  0:00:01 --:--:--  1643\n",
      "  % Total    % Received % Xferd  Average Speed   Time    Time     Time  Current\n",
      "                                 Dload  Upload   Total   Spent    Left  Speed\n",
      "100  5468  100  2429  100  3039  98375   120k --:--:-- --:--:-- --:--:--  444k\n",
      "  % Total    % Received % Xferd  Average Speed   Time    Time     Time  Current\n",
      "                                 Dload  Upload   Total   Spent    Left  Speed\n",
      "  0     0    0     0    0     0      0      0 --:--:-- --:--:-- --:--:--     0"
     ]
    },
    {
     "name": "stdout",
     "output_type": "stream",
     "text": [
      "369\n"
     ]
    },
    {
     "name": "stderr",
     "output_type": "stream",
     "text": [
      "\r",
      "100  3281  100  3214  100    67   4331     90 --:--:-- --:--:-- --:--:--  4457\r",
      "100  3281  100  3214  100    67   4330     90 --:--:-- --:--:-- --:--:--  4451\n",
      "  % Total    % Received % Xferd  Average Speed   Time    Time     Time  Current\n",
      "                                 Dload  Upload   Total   Spent    Left  Speed\n",
      "\r",
      "  0     0    0     0    0     0      0      0 --:--:-- --:--:-- --:--:--     0\r",
      "100  6106  100  2892  100  3214   107k   119k --:--:-- --:--:-- --:--:--  542k\n",
      "  % Total    % Received % Xferd  Average Speed   Time    Time     Time  Current\n",
      "                                 Dload  Upload   Total   Spent    Left  Speed\n",
      "\r",
      "  0     0    0     0    0     0      0      0 --:--:-- --:--:-- --:--:--     0"
     ]
    },
    {
     "name": "stdout",
     "output_type": "stream",
     "text": [
      "370\n"
     ]
    },
    {
     "name": "stderr",
     "output_type": "stream",
     "text": [
      "\r",
      "100   831  100   763  100    68    973     86 --:--:-- --:--:-- --:--:--  1069\n",
      "  % Total    % Received % Xferd  Average Speed   Time    Time     Time  Current\n",
      "                                 Dload  Upload   Total   Spent    Left  Speed\n",
      "\r",
      "  0     0    0     0    0     0      0      0 --:--:-- --:--:-- --:--:--     0\r",
      "100  1282  100   519  100   763  20432  30038 --:--:-- --:--:-- --:--:--  113k\r",
      "100  1282  100   519  100   763  20328  29885 --:--:-- --:--:-- --:--:--  113k\n",
      "  % Total    % Received % Xferd  Average Speed   Time    Time     Time  Current\n",
      "                                 Dload  Upload   Total   Spent    Left  Speed\n",
      "\r",
      "  0     0    0     0    0     0      0      0 --:--:-- --:--:-- --:--:--     0"
     ]
    },
    {
     "name": "stdout",
     "output_type": "stream",
     "text": [
      "371\n"
     ]
    },
    {
     "name": "stderr",
     "output_type": "stream",
     "text": [
      "\r",
      "100  1056  100   988  100    68   1151     79 --:--:-- --:--:-- --:--:--  1242\n",
      "  % Total    % Received % Xferd  Average Speed   Time    Time     Time  Current\n",
      "                                 Dload  Upload   Total   Spent    Left  Speed\n",
      "\r",
      "  0     0    0     0    0     0      0      0 --:--:-- --:--:-- --:--:--     0\r",
      "100  1589  100   601  100   988  35824  58893 --:--:-- --:--:-- --:--:--  310k\n",
      "  % Total    % Received % Xferd  Average Speed   Time    Time     Time  Current\n",
      "                                 Dload  Upload   Total   Spent    Left  Speed\n",
      "\r",
      "  0     0    0     0    0     0      0      0 --:--:-- --:--:-- --:--:--     0"
     ]
    },
    {
     "name": "stdout",
     "output_type": "stream",
     "text": [
      "372\n"
     ]
    },
    {
     "name": "stderr",
     "output_type": "stream",
     "text": [
      "100  3056  100  3028  100    28   1289     11  0:00:02  0:00:02 --:--:--  1304\n",
      "  % Total    % Received % Xferd  Average Speed   Time    Time     Time  Current\n",
      "                                 Dload  Upload   Total   Spent    Left  Speed\n",
      "100  5492  100  2464  100  3028   131k   161k --:--:-- --:--:-- --:--:--  893k\n",
      "  % Total    % Received % Xferd  Average Speed   Time    Time     Time  Current\n",
      "                                 Dload  Upload   Total   Spent    Left  Speed\n",
      "  0     0    0     0    0     0      0      0 --:--:-- --:--:-- --:--:--     0"
     ]
    },
    {
     "name": "stdout",
     "output_type": "stream",
     "text": [
      "373\n"
     ]
    },
    {
     "name": "stderr",
     "output_type": "stream",
     "text": [
      "\r",
      "100    60    0     0  100    60      0     49  0:00:01  0:00:01 --:--:--    49\r",
      "100  2073  100  2013  100    60   1466     43  0:00:01  0:00:01 --:--:--  1517\n",
      "  % Total    % Received % Xferd  Average Speed   Time    Time     Time  Current\n",
      "                                 Dload  Upload   Total   Spent    Left  Speed\n",
      "\r",
      "  0     0    0     0    0     0      0      0 --:--:-- --:--:-- --:--:--     0\r",
      "100  3753  100  1740  100  2013  79177  91599 --:--:-- --:--:-- --:--:--  523k\n"
     ]
    },
    {
     "name": "stdout",
     "output_type": "stream",
     "text": [
      "374\n"
     ]
    },
    {
     "name": "stderr",
     "output_type": "stream",
     "text": [
      "  % Total    % Received % Xferd  Average Speed   Time    Time     Time  Current\n",
      "                                 Dload  Upload   Total   Spent    Left  Speed\n",
      "100   620  100   511  100   109    540    115 --:--:-- --:--:-- --:--:--   660\n",
      "  % Total    % Received % Xferd  Average Speed   Time    Time     Time  Current\n",
      "                                 Dload  Upload   Total   Spent    Left  Speed\n",
      "100   999  100   488  100   511  49558  51893 --:--:-- --:--:-- --:--:--  195k\n",
      "  % Total    % Received % Xferd  Average Speed   Time    Time     Time  Current\n",
      "                                 Dload  Upload   Total   Spent    Left  Speed\n",
      "  0     0    0     0    0     0      0      0 --:--:-- --:--:-- --:--:--     0"
     ]
    },
    {
     "name": "stdout",
     "output_type": "stream",
     "text": [
      "Failed: 375\n"
     ]
    },
    {
     "name": "stderr",
     "output_type": "stream",
     "text": [
      "100   587  100   485  100   102    119     25  0:00:04  0:00:04 --:--:--   145\n",
      "  % Total    % Received % Xferd  Average Speed   Time    Time     Time  Current\n",
      "                                 Dload  Upload   Total   Spent    Left  Speed\n",
      "100   929  100   444  100   485  31402  34302 --:--:-- --:--:-- --:--:--  181k\n",
      "  % Total    % Received % Xferd  Average Speed   Time    Time     Time  Current\n",
      "                                 Dload  Upload   Total   Spent    Left  Speed\n",
      "  0     0    0     0    0     0      0      0 --:--:-- --:--:-- --:--:--     0"
     ]
    },
    {
     "name": "stdout",
     "output_type": "stream",
     "text": [
      "Failed: 376\n"
     ]
    },
    {
     "name": "stderr",
     "output_type": "stream",
     "text": [
      "100   647  100   545  100   102    154     28  0:00:03  0:00:03 --:--:--   183\n",
      "  % Total    % Received % Xferd  Average Speed   Time    Time     Time  Current\n",
      "                                 Dload  Upload   Total   Spent    Left  Speed\n",
      "100  1050  100   505  100   545  30613  33038 --:--:-- --:--:-- --:--:--  205k\n",
      "  % Total    % Received % Xferd  Average Speed   Time    Time     Time  Current\n",
      "                                 Dload  Upload   Total   Spent    Left  Speed\n",
      "  0     0    0     0    0     0      0      0 --:--:-- --:--:-- --:--:--     0"
     ]
    },
    {
     "name": "stdout",
     "output_type": "stream",
     "text": [
      "Failed: 377\n"
     ]
    },
    {
     "name": "stderr",
     "output_type": "stream",
     "text": [
      "\r",
      "100  4471  100  4404  100    67   5525     84 --:--:-- --:--:-- --:--:--  5638\r",
      "100  4471  100  4404  100    67   5525     84 --:--:-- --:--:-- --:--:--  5638\n",
      "  % Total    % Received % Xferd  Average Speed   Time    Time     Time  Current\n",
      "                                 Dload  Upload   Total   Spent    Left  Speed\n",
      "\r",
      "  0     0    0     0    0     0      0      0 --:--:-- --:--:-- --:--:--     0\r",
      "100  8257  100  3853  100  4404   294k   336k --:--:-- --:--:-- --:--:-- 2015k\n",
      "  % Total    % Received % Xferd  Average Speed   Time    Time     Time  Current\n",
      "                                 Dload  Upload   Total   Spent    Left  Speed\n",
      "\r",
      "  0     0    0     0    0     0      0      0 --:--:-- --:--:-- --:--:--     0"
     ]
    },
    {
     "name": "stdout",
     "output_type": "stream",
     "text": [
      "378\n"
     ]
    },
    {
     "name": "stderr",
     "output_type": "stream",
     "text": [
      "100  4214  100  4140  100    74    741     13  0:00:05  0:00:05 --:--:--   947\n",
      "  % Total    % Received % Xferd  Average Speed   Time    Time     Time  Current\n",
      "                                 Dload  Upload   Total   Spent    Left  Speed\n",
      "100  6769  100  2629  100  4140   164k   259k --:--:-- --:--:-- --:--:-- 1101k\n",
      "  % Total    % Received % Xferd  Average Speed   Time    Time     Time  Current\n",
      "                                 Dload  Upload   Total   Spent    Left  Speed\n",
      "  0     0    0     0    0     0      0      0 --:--:-- --:--:-- --:--:--     0"
     ]
    },
    {
     "name": "stdout",
     "output_type": "stream",
     "text": [
      "379\n"
     ]
    },
    {
     "name": "stderr",
     "output_type": "stream",
     "text": [
      "100  2698  100  2624  100    74    698     19  0:00:03  0:00:03 --:--:--   718\n",
      "  % Total    % Received % Xferd  Average Speed   Time    Time     Time  Current\n",
      "                                 Dload  Upload   Total   Spent    Left  Speed\n",
      "100  5018  100  2394  100  2624   254k   278k --:--:-- --:--:-- --:--:--  980k\n",
      "  % Total    % Received % Xferd  Average Speed   Time    Time     Time  Current\n",
      "                                 Dload  Upload   Total   Spent    Left  Speed\n",
      "  0     0    0     0    0     0      0      0 --:--:-- --:--:-- --:--:--     0"
     ]
    },
    {
     "name": "stdout",
     "output_type": "stream",
     "text": [
      "380\n"
     ]
    },
    {
     "name": "stderr",
     "output_type": "stream",
     "text": [
      "100  2497  100  2424  100    73    764     23  0:00:03  0:00:03 --:--:--   789\n",
      "  % Total    % Received % Xferd  Average Speed   Time    Time     Time  Current\n",
      "                                 Dload  Upload   Total   Spent    Left  Speed\n",
      "100  4662  100  2238  100  2424   139k   151k --:--:-- --:--:-- --:--:--  758k\n",
      "  % Total    % Received % Xferd  Average Speed   Time    Time     Time  Current\n",
      "                                 Dload  Upload   Total   Spent    Left  Speed\n",
      "  0     0    0     0    0     0      0      0 --:--:-- --:--:-- --:--:--     0"
     ]
    },
    {
     "name": "stdout",
     "output_type": "stream",
     "text": [
      "381\n"
     ]
    },
    {
     "name": "stderr",
     "output_type": "stream",
     "text": [
      "100  3367  100  3268  100    99    613     18  0:00:05  0:00:05 --:--:--   793\n",
      "  % Total    % Received % Xferd  Average Speed   Time    Time     Time  Current\n",
      "                                 Dload  Upload   Total   Spent    Left  Speed\n",
      "100  5868  100  2600  100  3268   167k   210k --:--:-- --:--:-- --:--:-- 1146k\n",
      "  % Total    % Received % Xferd  Average Speed   Time    Time     Time  Current\n",
      "                                 Dload  Upload   Total   Spent    Left  Speed\n",
      "  0     0    0     0    0     0      0      0 --:--:-- --:--:-- --:--:--     0"
     ]
    },
    {
     "name": "stdout",
     "output_type": "stream",
     "text": [
      "382\n"
     ]
    },
    {
     "name": "stderr",
     "output_type": "stream",
     "text": [
      "100  2456  100  2295  100   161   1574    110  0:00:01  0:00:01 --:--:--  1691\n",
      "  % Total    % Received % Xferd  Average Speed   Time    Time     Time  Current\n",
      "                                 Dload  Upload   Total   Spent    Left  Speed\n",
      "100  4276  100  1981  100  2295   139k   161k --:--:-- --:--:-- --:--:-- 1043k\n",
      "  % Total    % Received % Xferd  Average Speed   Time    Time     Time  Current\n",
      "                                 Dload  Upload   Total   Spent    Left  Speed\n",
      "  0     0    0     0    0     0      0      0 --:--:-- --:--:-- --:--:--     0"
     ]
    },
    {
     "name": "stdout",
     "output_type": "stream",
     "text": [
      "383\n"
     ]
    },
    {
     "name": "stderr",
     "output_type": "stream",
     "text": [
      "100  2858  100  2810  100    48   2631     44  0:00:01  0:00:01 --:--:--  2688\n",
      "  % Total    % Received % Xferd  Average Speed   Time    Time     Time  Current\n",
      "                                 Dload  Upload   Total   Spent    Left  Speed\n",
      "100  5224  100  2414  100  2810   177k   206k --:--:-- --:--:-- --:--:-- 1700k\n",
      "  % Total    % Received % Xferd  Average Speed   Time    Time     Time  Current\n",
      "                                 Dload  Upload   Total   Spent    Left  Speed\n",
      "  0     0    0     0    0     0      0      0 --:--:-- --:--:-- --:--:--     0"
     ]
    },
    {
     "name": "stdout",
     "output_type": "stream",
     "text": [
      "384\n"
     ]
    },
    {
     "name": "stderr",
     "output_type": "stream",
     "text": [
      "100  2780  100  2706  100    74    784     21  0:00:03  0:00:03 --:--:--   807\n",
      "  % Total    % Received % Xferd  Average Speed   Time    Time     Time  Current\n",
      "                                 Dload  Upload   Total   Spent    Left  Speed\n",
      "100  5124  100  2418  100  2706   122k   137k --:--:-- --:--:-- --:--:--  833k\n",
      "  % Total    % Received % Xferd  Average Speed   Time    Time     Time  Current\n",
      "                                 Dload  Upload   Total   Spent    Left  Speed\n",
      "  0     0    0     0    0     0      0      0 --:--:-- --:--:-- --:--:--     0"
     ]
    },
    {
     "name": "stdout",
     "output_type": "stream",
     "text": [
      "385\n"
     ]
    },
    {
     "name": "stderr",
     "output_type": "stream",
     "text": [
      "100  3370  100  3316  100    54   2235     36  0:00:01  0:00:01 --:--:--  2281\n",
      "  % Total    % Received % Xferd  Average Speed   Time    Time     Time  Current\n",
      "                                 Dload  Upload   Total   Spent    Left  Speed\n",
      "100  6078  100  2762  100  3316  95564   112k --:--:-- --:--:-- --:--:--  423k\n",
      "  % Total    % Received % Xferd  Average Speed   Time    Time     Time  Current\n",
      "                                 Dload  Upload   Total   Spent    Left  Speed\n",
      "  0     0    0     0    0     0      0      0 --:--:-- --:--:-- --:--:--     0"
     ]
    },
    {
     "name": "stdout",
     "output_type": "stream",
     "text": [
      "386\n"
     ]
    },
    {
     "name": "stderr",
     "output_type": "stream",
     "text": [
      "\r",
      "100  3238  100  3190  100    48   2742     41  0:00:01  0:00:01 --:--:--  2798\r",
      "100  3238  100  3190  100    48   2742     41  0:00:01  0:00:01 --:--:--  2798\n",
      "  % Total    % Received % Xferd  Average Speed   Time    Time     Time  Current\n",
      "                                 Dload  Upload   Total   Spent    Left  Speed\n",
      "\r",
      "  0     0    0     0    0     0      0      0 --:--:-- --:--:-- --:--:--     0\r",
      "100  6358  100  3168  100  3190   184k   185k --:--:-- --:--:-- --:--:-- 1552k\n",
      "  % Total    % Received % Xferd  Average Speed   Time    Time     Time  Current\n",
      "                                 Dload  Upload   Total   Spent    Left  Speed\n",
      "\r",
      "  0     0    0     0    0     0      0      0 --:--:-- --:--:-- --:--:--     0"
     ]
    },
    {
     "name": "stdout",
     "output_type": "stream",
     "text": [
      "387\n"
     ]
    },
    {
     "name": "stderr",
     "output_type": "stream",
     "text": [
      "\r",
      "100  2800  100  2727  100    73   3074     82 --:--:-- --:--:-- --:--:--  3174\r",
      "100  2800  100  2727  100    73   3074     82 --:--:-- --:--:-- --:--:--  3174\n",
      "  % Total    % Received % Xferd  Average Speed   Time    Time     Time  Current\n",
      "                                 Dload  Upload   Total   Spent    Left  Speed\n",
      "\r",
      "  0     0    0     0    0     0      0      0 --:--:-- --:--:-- --:--:--     0\r",
      "100  5044  100  2317  100  2727   160k   188k --:--:-- --:--:-- --:--:-- 1231k\n",
      "  % Total    % Received % Xferd  Average Speed   Time    Time     Time  Current\n",
      "                                 Dload  Upload   Total   Spent    Left  Speed\n",
      "\r",
      "  0     0    0     0    0     0      0      0 --:--:-- --:--:-- --:--:--     0"
     ]
    },
    {
     "name": "stdout",
     "output_type": "stream",
     "text": [
      "388\n"
     ]
    },
    {
     "name": "stderr",
     "output_type": "stream",
     "text": [
      "100  2397  100  2347  100    50   1134     24  0:00:02  0:00:02 --:--:--  1161\n",
      "  % Total    % Received % Xferd  Average Speed   Time    Time     Time  Current\n",
      "                                 Dload  Upload   Total   Spent    Left  Speed\n",
      "100  4294  100  1947  100  2347  90339   106k --:--:-- --:--:-- --:--:--  524k\n",
      "  % Total    % Received % Xferd  Average Speed   Time    Time     Time  Current\n",
      "                                 Dload  Upload   Total   Spent    Left  Speed\n",
      "  0     0    0     0    0     0      0      0 --:--:-- --:--:-- --:--:--     0"
     ]
    },
    {
     "name": "stdout",
     "output_type": "stream",
     "text": [
      "389\n"
     ]
    },
    {
     "name": "stderr",
     "output_type": "stream",
     "text": [
      "100  2291  100  2241  100    50   1159     25  0:00:02  0:00:01  0:00:01  1188\n",
      "  % Total    % Received % Xferd  Average Speed   Time    Time     Time  Current\n",
      "                                 Dload  Upload   Total   Spent    Left  Speed\n",
      "100  4313  100  2072  100  2241   102k   110k --:--:-- --:--:-- --:--:--  526k\n",
      "  % Total    % Received % Xferd  Average Speed   Time    Time     Time  Current\n",
      "                                 Dload  Upload   Total   Spent    Left  Speed\n",
      "  0     0    0     0    0     0      0      0 --:--:-- --:--:-- --:--:--     0"
     ]
    },
    {
     "name": "stdout",
     "output_type": "stream",
     "text": [
      "390\n"
     ]
    },
    {
     "name": "stderr",
     "output_type": "stream",
     "text": [
      "100  2357  100  2294  100    63    546     14  0:00:04  0:00:04 --:--:--   562\n",
      "  % Total    % Received % Xferd  Average Speed   Time    Time     Time  Current\n",
      "                                 Dload  Upload   Total   Spent    Left  Speed\n",
      "100  4356  100  2062  100  2294   113k   126k --:--:-- --:--:-- --:--:--  531k\n",
      "  % Total    % Received % Xferd  Average Speed   Time    Time     Time  Current\n",
      "                                 Dload  Upload   Total   Spent    Left  Speed\n",
      "  0     0    0     0    0     0      0      0 --:--:-- --:--:-- --:--:--     0"
     ]
    },
    {
     "name": "stdout",
     "output_type": "stream",
     "text": [
      "391\n"
     ]
    },
    {
     "name": "stderr",
     "output_type": "stream",
     "text": [
      "100  3981  100  3931  100    50   2769     35  0:00:01  0:00:01 --:--:--  2813\n",
      "  % Total    % Received % Xferd  Average Speed   Time    Time     Time  Current\n",
      "                                 Dload  Upload   Total   Spent    Left  Speed\n",
      "100  7942  100  4011  100  3931  82108  80470 --:--:-- --:--:-- --:--:--  221k\n",
      "  % Total    % Received % Xferd  Average Speed   Time    Time     Time  Current\n",
      "                                 Dload  Upload   Total   Spent    Left  Speed\n",
      "  0     0    0     0    0     0      0      0 --:--:-- --:--:-- --:--:--     0"
     ]
    },
    {
     "name": "stdout",
     "output_type": "stream",
     "text": [
      "392\n"
     ]
    },
    {
     "name": "stderr",
     "output_type": "stream",
     "text": [
      "100  3060  100  3033  100    27   2176     19  0:00:01  0:00:01 --:--:--  2203\n",
      "  % Total    % Received % Xferd  Average Speed   Time    Time     Time  Current\n",
      "                                 Dload  Upload   Total   Spent    Left  Speed\n",
      "100  5642  100  2609  100  3033   162k   188k --:--:-- --:--:-- --:--:--  918k\n",
      "  % Total    % Received % Xferd  Average Speed   Time    Time     Time  Current\n",
      "                                 Dload  Upload   Total   Spent    Left  Speed\n",
      "  0     0    0     0    0     0      0      0 --:--:-- --:--:-- --:--:--     0"
     ]
    },
    {
     "name": "stdout",
     "output_type": "stream",
     "text": [
      "393\n"
     ]
    },
    {
     "name": "stderr",
     "output_type": "stream",
     "text": [
      "100  2653  100  2564  100    89    952     33  0:00:02  0:00:02 --:--:--   986\n",
      "  % Total    % Received % Xferd  Average Speed   Time    Time     Time  Current\n",
      "                                 Dload  Upload   Total   Spent    Left  Speed\n",
      "100  4783  100  2219  100  2564   151k   174k --:--:-- --:--:-- --:--:-- 1167k\n",
      "  % Total    % Received % Xferd  Average Speed   Time    Time     Time  Current\n",
      "                                 Dload  Upload   Total   Spent    Left  Speed\n",
      "  0     0    0     0    0     0      0      0 --:--:-- --:--:-- --:--:--     0"
     ]
    },
    {
     "name": "stdout",
     "output_type": "stream",
     "text": [
      "394\n"
     ]
    },
    {
     "name": "stderr",
     "output_type": "stream",
     "text": [
      "\r",
      "100  3284  100  3217  100    67   3735     77 --:--:-- --:--:-- --:--:--  3831\r",
      "100  3284  100  3217  100    67   3735     77 --:--:-- --:--:-- --:--:--  3831\n",
      "  % Total    % Received % Xferd  Average Speed   Time    Time     Time  Current\n",
      "                                 Dload  Upload   Total   Spent    Left  Speed\n",
      "\r",
      "  0     0    0     0    0     0      0      0 --:--:-- --:--:-- --:--:--     0\r",
      "100  5989  100  2772  100  3217  94899   107k --:--:-- --:--:-- --:--:--  531k\n",
      "  % Total    % Received % Xferd  Average Speed   Time    Time     Time  Current\n",
      "                                 Dload  Upload   Total   Spent    Left  Speed\n",
      "\r",
      "  0     0    0     0    0     0      0      0 --:--:-- --:--:-- --:--:--     0"
     ]
    },
    {
     "name": "stdout",
     "output_type": "stream",
     "text": [
      "395\n"
     ]
    },
    {
     "name": "stderr",
     "output_type": "stream",
     "text": [
      "\r",
      "100    49    0     0  100    49      0     40  0:00:01  0:00:01 --:--:--    40\r",
      "100  2366  100  2317  100    49   1857     39  0:00:01  0:00:01 --:--:--  1912\n",
      "  % Total    % Received % Xferd  Average Speed   Time    Time     Time  Current\n",
      "                                 Dload  Upload   Total   Spent    Left  Speed\n",
      "\r",
      "  0     0    0     0    0     0      0      0 --:--:-- --:--:-- --:--:--     0\r",
      "100  4559  100  2242  100  2317   127k   131k --:--:-- --:--:-- --:--:--  742k\n",
      "  % Total    % Received % Xferd  Average Speed   Time    Time     Time  Current\n",
      "                                 Dload  Upload   Total   Spent    Left  Speed\n",
      "\r",
      "  0     0    0     0    0     0      0      0 --:--:-- --:--:-- --:--:--     0"
     ]
    },
    {
     "name": "stdout",
     "output_type": "stream",
     "text": [
      "396\n"
     ]
    },
    {
     "name": "stderr",
     "output_type": "stream",
     "text": [
      "100  2760  100  2691  100    69    864     22  0:00:03  0:00:03 --:--:--   888\n",
      "  % Total    % Received % Xferd  Average Speed   Time    Time     Time  Current\n",
      "                                 Dload  Upload   Total   Spent    Left  Speed\n",
      "100  5169  100  2478  100  2691   161k   175k --:--:-- --:--:-- --:--:-- 1009k\n",
      "  % Total    % Received % Xferd  Average Speed   Time    Time     Time  Current\n",
      "                                 Dload  Upload   Total   Spent    Left  Speed\n",
      "  0     0    0     0    0     0      0      0 --:--:-- --:--:-- --:--:--     0"
     ]
    },
    {
     "name": "stdout",
     "output_type": "stream",
     "text": [
      "397\n"
     ]
    },
    {
     "name": "stderr",
     "output_type": "stream",
     "text": [
      "100  3066  100  3006  100    60   1620     32  0:00:01  0:00:01 --:--:--  1656\n",
      "  % Total    % Received % Xferd  Average Speed   Time    Time     Time  Current\n",
      "                                 Dload  Upload   Total   Spent    Left  Speed\n",
      "100  5732  100  2726  100  3006   169k   186k --:--:-- --:--:-- --:--:-- 1119k\n",
      "  % Total    % Received % Xferd  Average Speed   Time    Time     Time  Current\n",
      "                                 Dload  Upload   Total   Spent    Left  Speed\n",
      "  0     0    0     0    0     0      0      0 --:--:-- --:--:-- --:--:--     0"
     ]
    },
    {
     "name": "stdout",
     "output_type": "stream",
     "text": [
      "398\n"
     ]
    },
    {
     "name": "stderr",
     "output_type": "stream",
     "text": [
      "100   912  100   844  100    68   1000     80 --:--:-- --:--:-- --:--:--  1087\n",
      "  % Total    % Received % Xferd  Average Speed   Time    Time     Time  Current\n",
      "                                 Dload  Upload   Total   Spent    Left  Speed\n",
      "100  1558  100   714  100   844  32501  38419 --:--:-- --:--:-- --:--:--  190k\n",
      "  % Total    % Received % Xferd  Average Speed   Time    Time     Time  Current\n",
      "                                 Dload  Upload   Total   Spent    Left  Speed\n",
      "  0     0    0     0    0     0      0      0 --:--:-- --:--:-- --:--:--     0"
     ]
    },
    {
     "name": "stdout",
     "output_type": "stream",
     "text": [
      "399\n"
     ]
    },
    {
     "name": "stderr",
     "output_type": "stream",
     "text": [
      "100  2725  100  2658  100    67   1799     45  0:00:01  0:00:01 --:--:--  1851\n",
      "  % Total    % Received % Xferd  Average Speed   Time    Time     Time  Current\n",
      "                                 Dload  Upload   Total   Spent    Left  Speed\n",
      "100  4795  100  2137  100  2658  99817   121k --:--:-- --:--:-- --:--:--  585k\n",
      "  % Total    % Received % Xferd  Average Speed   Time    Time     Time  Current\n",
      "                                 Dload  Upload   Total   Spent    Left  Speed\n",
      "  0     0    0     0    0     0      0      0 --:--:-- --:--:-- --:--:--     0"
     ]
    },
    {
     "name": "stdout",
     "output_type": "stream",
     "text": [
      "400\n"
     ]
    },
    {
     "name": "stderr",
     "output_type": "stream",
     "text": [
      "\r",
      "100    67    0     0  100    67      0     55  0:00:01  0:00:01 --:--:--    55\r",
      "100  2887  100  2820  100    67   2077     49  0:00:01  0:00:01 --:--:--  2136\n",
      "  % Total    % Received % Xferd  Average Speed   Time    Time     Time  Current\n",
      "                                 Dload  Upload   Total   Spent    Left  Speed\n",
      "\r",
      "  0     0    0     0    0     0      0      0 --:--:-- --:--:-- --:--:--     0\r",
      "100  5324  100  2504  100  2820   123k   139k --:--:-- --:--:-- --:--:--  649k\n"
     ]
    },
    {
     "name": "stdout",
     "output_type": "stream",
     "text": [
      "401\n"
     ]
    },
    {
     "name": "stderr",
     "output_type": "stream",
     "text": [
      "  % Total    % Received % Xferd  Average Speed   Time    Time     Time  Current\n",
      "                                 Dload  Upload   Total   Spent    Left  Speed\n",
      "100  5003  100  4957  100    46   4554     42  0:00:01  0:00:01 --:--:--  4619\n",
      "  % Total    % Received % Xferd  Average Speed   Time    Time     Time  Current\n",
      "                                 Dload  Upload   Total   Spent    Left  Speed\n",
      "100  9794  100  4866  100  4928   303k   307k --:--:-- --:--:-- --:--:-- 1912k\n",
      "  % Total    % Received % Xferd  Average Speed   Time    Time     Time  Current\n",
      "                                 Dload  Upload   Total   Spent    Left  Speed\n",
      "  0     0    0     0    0     0      0      0 --:--:-- --:--:-- --:--:--     0"
     ]
    },
    {
     "name": "stdout",
     "output_type": "stream",
     "text": [
      "402\n"
     ]
    },
    {
     "name": "stderr",
     "output_type": "stream",
     "text": [
      "100  2827  100  2760  100    67   1759     42  0:00:01  0:00:01 --:--:--  1809\n",
      "  % Total    % Received % Xferd  Average Speed   Time    Time     Time  Current\n",
      "                                 Dload  Upload   Total   Spent    Left  Speed\n",
      "100  5236  100  2476  100  2760   140k   156k --:--:-- --:--:-- --:--:--  730k\n",
      "  % Total    % Received % Xferd  Average Speed   Time    Time     Time  Current\n",
      "                                 Dload  Upload   Total   Spent    Left  Speed\n",
      "  0     0    0     0    0     0      0      0 --:--:-- --:--:-- --:--:--     0"
     ]
    },
    {
     "name": "stdout",
     "output_type": "stream",
     "text": [
      "403\n"
     ]
    },
    {
     "name": "stderr",
     "output_type": "stream",
     "text": [
      "\r",
      "100    67    0     0  100    67      0     55  0:00:01  0:00:01 --:--:--    55\r",
      "100  2051  100  1984  100    67   1527     51  0:00:01  0:00:01 --:--:--  1586\n",
      "  % Total    % Received % Xferd  Average Speed   Time    Time     Time  Current\n",
      "                                 Dload  Upload   Total   Spent    Left  Speed\n",
      "\r",
      "  0     0    0     0    0     0      0      0 --:--:-- --:--:-- --:--:--     0\r",
      "100  3665  100  1681  100  1984  64676  76334 --:--:-- --:--:-- --:--:--  357k\n",
      "  % Total    % Received % Xferd  Average Speed   Time    Time     Time  Current\n",
      "                                 Dload  Upload   Total   Spent    Left  Speed\n",
      "\r",
      "  0     0    0     0    0     0      0      0 --:--:-- --:--:-- --:--:--     0"
     ]
    },
    {
     "name": "stdout",
     "output_type": "stream",
     "text": [
      "404\n"
     ]
    },
    {
     "name": "stderr",
     "output_type": "stream",
     "text": [
      "100  1211  100  1149  100    62   1039     56  0:00:01  0:00:01 --:--:--  1102\n",
      "  % Total    % Received % Xferd  Average Speed   Time    Time     Time  Current\n",
      "                                 Dload  Upload   Total   Spent    Left  Speed\n",
      "100  1874  100   725  100  1149  32421  51381 --:--:-- --:--:-- --:--:--  228k\n",
      "  % Total    % Received % Xferd  Average Speed   Time    Time     Time  Current\n",
      "                                 Dload  Upload   Total   Spent    Left  Speed\n",
      "  0     0    0     0    0     0      0      0 --:--:-- --:--:-- --:--:--     0"
     ]
    },
    {
     "name": "stdout",
     "output_type": "stream",
     "text": [
      "405\n"
     ]
    },
    {
     "name": "stderr",
     "output_type": "stream",
     "text": [
      "\r",
      "100  4601  100  4552  100    49   4937     53 --:--:-- --:--:-- --:--:--  5033\n",
      "  % Total    % Received % Xferd  Average Speed   Time    Time     Time  Current\n",
      "                                 Dload  Upload   Total   Spent    Left  Speed\n",
      "\r",
      "  0     0    0     0    0     0      0      0 --:--:-- --:--:-- --:--:--     0\r",
      "100  8380  100  3828  100  4552   307k   365k --:--:-- --:--:-- --:--:-- 2727k\n",
      "  % Total    % Received % Xferd  Average Speed   Time    Time     Time  Current\n",
      "                                 Dload  Upload   Total   Spent    Left  Speed\n",
      "\r",
      "  0     0    0     0    0     0      0      0 --:--:-- --:--:-- --:--:--     0"
     ]
    },
    {
     "name": "stdout",
     "output_type": "stream",
     "text": [
      "406\n"
     ]
    },
    {
     "name": "stderr",
     "output_type": "stream",
     "text": [
      "\r",
      "100  1955  100  1904  100    51   3774    101 --:--:-- --:--:-- --:--:--  3917\n",
      "  % Total    % Received % Xferd  Average Speed   Time    Time     Time  Current\n",
      "                                 Dload  Upload   Total   Spent    Left  Speed\n",
      "\r",
      "  0     0    0     0    0     0      0      0 --:--:-- --:--:-- --:--:--     0\r",
      "100  3613  100  1709  100  1904  41128  45820 --:--:-- --:--:-- --:--:--  117k\n",
      "  % Total    % Received % Xferd  Average Speed   Time    Time     Time  Current\n",
      "                                 Dload  Upload   Total   Spent    Left  Speed\n",
      "\r",
      "  0     0    0     0    0     0      0      0 --:--:-- --:--:-- --:--:--     0"
     ]
    },
    {
     "name": "stdout",
     "output_type": "stream",
     "text": [
      "407\n"
     ]
    },
    {
     "name": "stderr",
     "output_type": "stream",
     "text": [
      "\r",
      "100   955  100   887  100    68   1097     84 --:--:-- --:--:-- --:--:--  1187\r",
      "100   955  100   887  100    68   1097     84 --:--:-- --:--:-- --:--:--  1187\n",
      "  % Total    % Received % Xferd  Average Speed   Time    Time     Time  Current\n",
      "                                 Dload  Upload   Total   Spent    Left  Speed\n",
      "\r",
      "  0     0    0     0    0     0      0      0 --:--:-- --:--:-- --:--:--     0\r",
      "100  1500  100   613  100   887  31692  45858 --:--:-- --:--:-- --:--:--  183k\n",
      "  % Total    % Received % Xferd  Average Speed   Time    Time     Time  Current\n",
      "                                 Dload  Upload   Total   Spent    Left  Speed\n",
      "\r",
      "  0     0    0     0    0     0      0      0 --:--:-- --:--:-- --:--:--     0"
     ]
    },
    {
     "name": "stdout",
     "output_type": "stream",
     "text": [
      "408\n"
     ]
    },
    {
     "name": "stderr",
     "output_type": "stream",
     "text": [
      "100  2792  100  2765  100    27   1357     13  0:00:02  0:00:02 --:--:--  1375\n",
      "  % Total    % Received % Xferd  Average Speed   Time    Time     Time  Current\n",
      "                                 Dload  Upload   Total   Spent    Left  Speed\n",
      "100  5125  100  2360  100  2765   127k   149k --:--:-- --:--:-- --:--:--  834k\n",
      "  % Total    % Received % Xferd  Average Speed   Time    Time     Time  Current\n",
      "                                 Dload  Upload   Total   Spent    Left  Speed\n",
      "  0     0    0     0    0     0      0      0 --:--:-- --:--:-- --:--:--     0"
     ]
    },
    {
     "name": "stdout",
     "output_type": "stream",
     "text": [
      "409\n"
     ]
    },
    {
     "name": "stderr",
     "output_type": "stream",
     "text": [
      "\r",
      "100  2601  100  2534  100    67   2450     64  0:00:01  0:00:01 --:--:--  2527\r",
      "100  2601  100  2534  100    67   2450     64  0:00:01  0:00:01 --:--:--  2527\n",
      "  % Total    % Received % Xferd  Average Speed   Time    Time     Time  Current\n",
      "                                 Dload  Upload   Total   Spent    Left  Speed\n",
      "\r",
      "  0     0    0     0    0     0      0      0 --:--:-- --:--:-- --:--:--     0\r",
      "100  4607  100  2073  100  2534   138k   169k --:--:-- --:--:-- --:--:--  899k\n",
      "  % Total    % Received % Xferd  Average Speed   Time    Time     Time  Current\n",
      "                                 Dload  Upload   Total   Spent    Left  Speed\n",
      "\r",
      "  0     0    0     0    0     0      0      0 --:--:-- --:--:-- --:--:--     0"
     ]
    },
    {
     "name": "stdout",
     "output_type": "stream",
     "text": [
      "410\n"
     ]
    },
    {
     "name": "stderr",
     "output_type": "stream",
     "text": [
      "100  3424  100  3397  100    27   1402     11  0:00:02  0:00:02 --:--:--  1416\n",
      "  % Total    % Received % Xferd  Average Speed   Time    Time     Time  Current\n",
      "                                 Dload  Upload   Total   Spent    Left  Speed\n",
      "100  6545  100  3148  100  3397   159k   171k --:--:-- --:--:-- --:--:-- 1065k\n",
      "  % Total    % Received % Xferd  Average Speed   Time    Time     Time  Current\n",
      "                                 Dload  Upload   Total   Spent    Left  Speed\n",
      "  0     0    0     0    0     0      0      0 --:--:-- --:--:-- --:--:--     0"
     ]
    },
    {
     "name": "stdout",
     "output_type": "stream",
     "text": [
      "411\n"
     ]
    },
    {
     "name": "stderr",
     "output_type": "stream",
     "text": [
      "100  2175  100  2113  100    62   1088     31  0:00:02  0:00:01  0:00:01  1123\n",
      "  % Total    % Received % Xferd  Average Speed   Time    Time     Time  Current\n",
      "                                 Dload  Upload   Total   Spent    Left  Speed\n",
      "100  3833  100  1720  100  2113  76676  94195 --:--:-- --:--:-- --:--:--  467k\n",
      "  % Total    % Received % Xferd  Average Speed   Time    Time     Time  Current\n",
      "                                 Dload  Upload   Total   Spent    Left  Speed\n",
      "  0     0    0     0    0     0      0      0 --:--:-- --:--:-- --:--:--     0"
     ]
    },
    {
     "name": "stdout",
     "output_type": "stream",
     "text": [
      "412\n"
     ]
    },
    {
     "name": "stderr",
     "output_type": "stream",
     "text": [
      "100  2019  100  1828  100   191   1201    125  0:00:01  0:00:01 --:--:--  1333\n",
      "  % Total    % Received % Xferd  Average Speed   Time    Time     Time  Current\n",
      "                                 Dload  Upload   Total   Spent    Left  Speed\n",
      "100  3482  100  1654  100  1828   105k   116k --:--:-- --:--:-- --:--:-- 1133k\n",
      "  % Total    % Received % Xferd  Average Speed   Time    Time     Time  Current\n",
      "                                 Dload  Upload   Total   Spent    Left  Speed\n",
      "  0     0    0     0    0     0      0      0 --:--:-- --:--:-- --:--:--     0"
     ]
    },
    {
     "name": "stdout",
     "output_type": "stream",
     "text": [
      "413\n"
     ]
    },
    {
     "name": "stderr",
     "output_type": "stream",
     "text": [
      "100   932  100   864  100    68   1090     85 --:--:-- --:--:-- --:--:--  1184\n",
      "  % Total    % Received % Xferd  Average Speed   Time    Time     Time  Current\n",
      "                                 Dload  Upload   Total   Spent    Left  Speed\n",
      "100  1441  100   577  100   864  23029  34484 --:--:-- --:--:-- --:--:--  156k\n",
      "  % Total    % Received % Xferd  Average Speed   Time    Time     Time  Current\n",
      "                                 Dload  Upload   Total   Spent    Left  Speed\n",
      "  0     0    0     0    0     0      0      0 --:--:-- --:--:-- --:--:--     0"
     ]
    },
    {
     "name": "stdout",
     "output_type": "stream",
     "text": [
      "414\n"
     ]
    },
    {
     "name": "stderr",
     "output_type": "stream",
     "text": [
      "\r",
      "100  1164  100  1096  100    68   1435     89 --:--:-- --:--:-- --:--:--  1533\r",
      "100  1164  100  1096  100    68   1434     89 --:--:-- --:--:-- --:--:--  1533\n",
      "  % Total    % Received % Xferd  Average Speed   Time    Time     Time  Current\n",
      "                                 Dload  Upload   Total   Spent    Left  Speed\n",
      "\r",
      "  0     0    0     0    0     0      0      0 --:--:-- --:--:-- --:--:--     0\r",
      "100  1982  100   886  100  1096  51952  64266 --:--:-- --:--:-- --:--:--  322k\n",
      "  % Total    % Received % Xferd  Average Speed   Time    Time     Time  Current\n",
      "                                 Dload  Upload   Total   Spent    Left  Speed\n",
      "\r",
      "  0     0    0     0    0     0      0      0 --:--:-- --:--:-- --:--:--     0"
     ]
    },
    {
     "name": "stdout",
     "output_type": "stream",
     "text": [
      "415\n"
     ]
    },
    {
     "name": "stderr",
     "output_type": "stream",
     "text": [
      "100  1936  100  1836  100   100    755     41  0:00:02  0:00:02 --:--:--   798\n",
      "  % Total    % Received % Xferd  Average Speed   Time    Time     Time  Current\n",
      "                                 Dload  Upload   Total   Spent    Left  Speed\n",
      "100  3417  100  1581  100  1836   100k   116k --:--:-- --:--:-- --:--:--  667k\n",
      "  % Total    % Received % Xferd  Average Speed   Time    Time     Time  Current\n",
      "                                 Dload  Upload   Total   Spent    Left  Speed\n",
      "  0     0    0     0    0     0      0      0 --:--:-- --:--:-- --:--:--     0"
     ]
    },
    {
     "name": "stdout",
     "output_type": "stream",
     "text": [
      "416\n"
     ]
    },
    {
     "name": "stderr",
     "output_type": "stream",
     "text": [
      "\r",
      "100  2957  100  2890  100    67   2386     55  0:00:01  0:00:01 --:--:--  2451\r",
      "100  2957  100  2890  100    67   2385     55  0:00:01  0:00:01 --:--:--  2451\n",
      "  % Total    % Received % Xferd  Average Speed   Time    Time     Time  Current\n",
      "                                 Dload  Upload   Total   Spent    Left  Speed\n",
      "\r",
      "  0     0    0     0    0     0      0      0 --:--:-- --:--:-- --:--:--     0\r",
      "100  5394  100  2504  100  2890   132k   152k --:--:-- --:--:-- --:--:--  877k\n",
      "  % Total    % Received % Xferd  Average Speed   Time    Time     Time  Current\n",
      "                                 Dload  Upload   Total   Spent    Left  Speed\n",
      "\r",
      "  0     0    0     0    0     0      0      0 --:--:-- --:--:-- --:--:--     0"
     ]
    },
    {
     "name": "stdout",
     "output_type": "stream",
     "text": [
      "417\n"
     ]
    },
    {
     "name": "stderr",
     "output_type": "stream",
     "text": [
      "100  3240  100  3166  100    74    659     15  0:00:04  0:00:04 --:--:--   881\n",
      "  % Total    % Received % Xferd  Average Speed   Time    Time     Time  Current\n",
      "                                 Dload  Upload   Total   Spent    Left  Speed\n",
      "100  5732  100  2566  100  3166   122k   151k --:--:-- --:--:-- --:--:-- 1119k\n",
      "  % Total    % Received % Xferd  Average Speed   Time    Time     Time  Current\n",
      "                                 Dload  Upload   Total   Spent    Left  Speed\n",
      "  0     0    0     0    0     0      0      0 --:--:-- --:--:-- --:--:--     0"
     ]
    },
    {
     "name": "stdout",
     "output_type": "stream",
     "text": [
      "418\n"
     ]
    },
    {
     "name": "stderr",
     "output_type": "stream",
     "text": [
      "100  2650  100  2590  100    60   1661     38  0:00:01  0:00:01 --:--:--  1708\n",
      "  % Total    % Received % Xferd  Average Speed   Time    Time     Time  Current\n",
      "                                 Dload  Upload   Total   Spent    Left  Speed\n",
      "100  4786  100  2196  100  2590   106k   125k --:--:-- --:--:-- --:--:--  667k\n",
      "  % Total    % Received % Xferd  Average Speed   Time    Time     Time  Current\n",
      "                                 Dload  Upload   Total   Spent    Left  Speed\n",
      "  0     0    0     0    0     0      0      0 --:--:-- --:--:-- --:--:--     0"
     ]
    },
    {
     "name": "stdout",
     "output_type": "stream",
     "text": [
      "419\n"
     ]
    },
    {
     "name": "stderr",
     "output_type": "stream",
     "text": [
      "100  3017  100  2950  100    67   2996     68 --:--:-- --:--:-- --:--:--  3081\n",
      "  % Total    % Received % Xferd  Average Speed   Time    Time     Time  Current\n",
      "                                 Dload  Upload   Total   Spent    Left  Speed\n",
      "100  5149  100  2199  100  2950  85504   112k --:--:-- --:--:-- --:--:--  558k\n",
      "  % Total    % Received % Xferd  Average Speed   Time    Time     Time  Current\n",
      "                                 Dload  Upload   Total   Spent    Left  Speed\n",
      "  0     0    0     0    0     0      0      0 --:--:-- --:--:-- --:--:--     0"
     ]
    },
    {
     "name": "stdout",
     "output_type": "stream",
     "text": [
      "420\n"
     ]
    },
    {
     "name": "stderr",
     "output_type": "stream",
     "text": [
      "100   543  100   441  100   102    397     91  0:00:01  0:00:01 --:--:--   491\n",
      "  % Total    % Received % Xferd  Average Speed   Time    Time     Time  Current\n",
      "                                 Dload  Upload   Total   Spent    Left  Speed\n",
      "100   848  100   407  100   441  24776  26846 --:--:-- --:--:-- --:--:--  207k\n",
      "  % Total    % Received % Xferd  Average Speed   Time    Time     Time  Current\n",
      "                                 Dload  Upload   Total   Spent    Left  Speed\n",
      "  0     0    0     0    0     0      0      0 --:--:-- --:--:-- --:--:--     0"
     ]
    },
    {
     "name": "stdout",
     "output_type": "stream",
     "text": [
      "Failed: 421\n"
     ]
    },
    {
     "name": "stderr",
     "output_type": "stream",
     "text": [
      "100  3028  100  2966  100    62   1831     38  0:00:01  0:00:01 --:--:--  1876\n",
      "  % Total    % Received % Xferd  Average Speed   Time    Time     Time  Current\n",
      "                                 Dload  Upload   Total   Spent    Left  Speed\n",
      "100  5509  100  2543  100  2966  84451  98498 --:--:-- --:--:-- --:--:--  413k\n",
      "  % Total    % Received % Xferd  Average Speed   Time    Time     Time  Current\n",
      "                                 Dload  Upload   Total   Spent    Left  Speed\n",
      "  0     0    0     0    0     0      0      0 --:--:-- --:--:-- --:--:--     0"
     ]
    },
    {
     "name": "stdout",
     "output_type": "stream",
     "text": [
      "422\n"
     ]
    },
    {
     "name": "stderr",
     "output_type": "stream",
     "text": [
      "100  3053  100  2984  100    69    944     21  0:00:03  0:00:03 --:--:--   968\n",
      "  % Total    % Received % Xferd  Average Speed   Time    Time     Time  Current\n",
      "                                 Dload  Upload   Total   Spent    Left  Speed\n",
      "100  5663  100  2679  100  2984   140k   156k --:--:-- --:--:-- --:--:--  691k\n",
      "  % Total    % Received % Xferd  Average Speed   Time    Time     Time  Current\n",
      "                                 Dload  Upload   Total   Spent    Left  Speed\n",
      "  0     0    0     0    0     0      0      0 --:--:-- --:--:-- --:--:--     0"
     ]
    },
    {
     "name": "stdout",
     "output_type": "stream",
     "text": [
      "423\n"
     ]
    },
    {
     "name": "stderr",
     "output_type": "stream",
     "text": [
      "\r",
      "100  2214  100  2165  100    49   2028     45  0:00:01  0:00:01 --:--:--  2084\r",
      "100  2214  100  2165  100    49   2028     45  0:00:01  0:00:01 --:--:--  2084\n",
      "  % Total    % Received % Xferd  Average Speed   Time    Time     Time  Current\n",
      "                                 Dload  Upload   Total   Spent    Left  Speed\n",
      "\r",
      "  0     0    0     0    0     0      0      0 --:--:-- --:--:-- --:--:--     0\r",
      "100  4164  100  1999  100  2165  75337  81593 --:--:-- --:--:-- --:--:--  239k\n",
      "  % Total    % Received % Xferd  Average Speed   Time    Time     Time  Current\n",
      "                                 Dload  Upload   Total   Spent    Left  Speed\n",
      "\r",
      "  0     0    0     0    0     0      0      0 --:--:-- --:--:-- --:--:--     0"
     ]
    },
    {
     "name": "stdout",
     "output_type": "stream",
     "text": [
      "424\n"
     ]
    },
    {
     "name": "stderr",
     "output_type": "stream",
     "text": [
      "\r",
      "100  2373  100  2306  100    67   2341     68 --:--:-- --:--:-- --:--:--  2428\r",
      "100  2373  100  2306  100    67   2341     68 --:--:-- --:--:-- --:--:--  2428\n",
      "  % Total    % Received % Xferd  Average Speed   Time    Time     Time  Current\n",
      "                                 Dload  Upload   Total   Spent    Left  Speed\n",
      "\r",
      "  0     0    0     0    0     0      0      0 --:--:-- --:--:-- --:--:--     0\r",
      "100  4243  100  1937  100  2306  78564  93530 --:--:-- --:--:-- --:--:--  460k\n",
      "  % Total    % Received % Xferd  Average Speed   Time    Time     Time  Current\n",
      "                                 Dload  Upload   Total   Spent    Left  Speed\n",
      "\r",
      "  0     0    0     0    0     0      0      0 --:--:-- --:--:-- --:--:--     0"
     ]
    },
    {
     "name": "stdout",
     "output_type": "stream",
     "text": [
      "425\n"
     ]
    },
    {
     "name": "stderr",
     "output_type": "stream",
     "text": [
      "100  1725  100  1693  100    32    730     13  0:00:02  0:00:02 --:--:--   746\n",
      "  % Total    % Received % Xferd  Average Speed   Time    Time     Time  Current\n",
      "                                 Dload  Upload   Total   Spent    Left  Speed\n",
      "100  3140  100  1449  100  1691  92848   105k --:--:-- --:--:-- --:--:--  766k\n",
      "  % Total    % Received % Xferd  Average Speed   Time    Time     Time  Current\n",
      "                                 Dload  Upload   Total   Spent    Left  Speed\n",
      "  0     0    0     0    0     0      0      0 --:--:-- --:--:-- --:--:--     0"
     ]
    },
    {
     "name": "stdout",
     "output_type": "stream",
     "text": [
      "Failed: 426\n"
     ]
    },
    {
     "name": "stderr",
     "output_type": "stream",
     "text": [
      "\r",
      "100    49    0     0  100    49      0     40  0:00:01  0:00:01 --:--:--    40\r",
      "100  3960  100  3911  100    49   2970     37  0:00:01  0:00:01 --:--:--  3020\n",
      "  % Total    % Received % Xferd  Average Speed   Time    Time     Time  Current\n",
      "                                 Dload  Upload   Total   Spent    Left  Speed\n",
      "\r",
      "  0     0    0     0    0     0      0      0 --:--:-- --:--:-- --:--:--     0\r",
      "100  7391  100  3480  100  3911   282k   317k --:--:-- --:--:-- --:--:-- 1804k\n",
      "  % Total    % Received % Xferd  Average Speed   Time    Time     Time  Current\n",
      "                                 Dload  Upload   Total   Spent    Left  Speed\n",
      "\r",
      "  0     0    0     0    0     0      0      0 --:--:-- --:--:-- --:--:--     0"
     ]
    },
    {
     "name": "stdout",
     "output_type": "stream",
     "text": [
      "427\n"
     ]
    },
    {
     "name": "stderr",
     "output_type": "stream",
     "text": [
      "100  1119  100  1073  100    46   1459     62 --:--:-- --:--:-- --:--:--  1532\n",
      "  % Total    % Received % Xferd  Average Speed   Time    Time     Time  Current\n",
      "                                 Dload  Upload   Total   Spent    Left  Speed\n",
      "100  1785  100   712  100  1073  39439  59436 --:--:-- --:--:-- --:--:--  249k\n",
      "  % Total    % Received % Xferd  Average Speed   Time    Time     Time  Current\n",
      "                                 Dload  Upload   Total   Spent    Left  Speed\n",
      "  0     0    0     0    0     0      0      0 --:--:-- --:--:-- --:--:--     0"
     ]
    },
    {
     "name": "stdout",
     "output_type": "stream",
     "text": [
      "428\n"
     ]
    },
    {
     "name": "stderr",
     "output_type": "stream",
     "text": [
      "\r",
      "100  2004  100  1937  100    67   1634     56  0:00:01  0:00:01 --:--:--  1702\r",
      "100  2004  100  1937  100    67   1633     56  0:00:01  0:00:01 --:--:--  1702\n",
      "  % Total    % Received % Xferd  Average Speed   Time    Time     Time  Current\n",
      "                                 Dload  Upload   Total   Spent    Left  Speed\n",
      "\r",
      "  0     0    0     0    0     0      0      0 --:--:-- --:--:-- --:--:--     0\r",
      "100  3557  100  1620  100  1937  71077  84985 --:--:-- --:--:-- --:--:--  434k\n",
      "  % Total    % Received % Xferd  Average Speed   Time    Time     Time  Current\n",
      "                                 Dload  Upload   Total   Spent    Left  Speed\n",
      "\r",
      "  0     0    0     0    0     0      0      0 --:--:-- --:--:-- --:--:--     0"
     ]
    },
    {
     "name": "stdout",
     "output_type": "stream",
     "text": [
      "429\n"
     ]
    },
    {
     "name": "stderr",
     "output_type": "stream",
     "text": [
      "\r",
      "100    67    0     0  100    67      0     55  0:00:01  0:00:01 --:--:--    55\r",
      "100  2637  100  2570  100    67   1971     51  0:00:01  0:00:01 --:--:--  2034\n",
      "  % Total    % Received % Xferd  Average Speed   Time    Time     Time  Current\n",
      "                                 Dload  Upload   Total   Spent    Left  Speed\n",
      "\r",
      "  0     0    0     0    0     0      0      0 --:--:-- --:--:-- --:--:--     0\r",
      "100  4880  100  2310  100  2570   139k   155k --:--:-- --:--:-- --:--:--  680k\n",
      "  % Total    % Received % Xferd  Average Speed   Time    Time     Time  Current\n",
      "                                 Dload  Upload   Total   Spent    Left  Speed\n",
      "\r",
      "  0     0    0     0    0     0      0      0 --:--:-- --:--:-- --:--:--     0"
     ]
    },
    {
     "name": "stdout",
     "output_type": "stream",
     "text": [
      "430\n"
     ]
    },
    {
     "name": "stderr",
     "output_type": "stream",
     "text": [
      "\r",
      "100  1102  100  1046  100    56   1349     72 --:--:-- --:--:-- --:--:--  1433\r",
      "100  1102  100  1046  100    56   1349     72 --:--:-- --:--:-- --:--:--  1433\n",
      "  % Total    % Received % Xferd  Average Speed   Time    Time     Time  Current\n",
      "                                 Dload  Upload   Total   Spent    Left  Speed\n",
      "\r",
      "  0     0    0     0    0     0      0      0 --:--:-- --:--:-- --:--:--     0\r",
      "100  1726  100   680  100  1046  36326  55879 --:--:-- --:--:-- --:--:--  210k\n",
      "  % Total    % Received % Xferd  Average Speed   Time    Time     Time  Current\n",
      "                                 Dload  Upload   Total   Spent    Left  Speed\n",
      "\r",
      "  0     0    0     0    0     0      0      0 --:--:-- --:--:-- --:--:--     0"
     ]
    },
    {
     "name": "stdout",
     "output_type": "stream",
     "text": [
      "431\n"
     ]
    },
    {
     "name": "stderr",
     "output_type": "stream",
     "text": [
      "\r",
      "100  2474  100  2408  100    66   2009     55  0:00:01  0:00:01 --:--:--  2077\r",
      "100  2474  100  2408  100    66   2009     55  0:00:01  0:00:01 --:--:--  2077\n",
      "  % Total    % Received % Xferd  Average Speed   Time    Time     Time  Current\n",
      "                                 Dload  Upload   Total   Spent    Left  Speed\n",
      "\r",
      "  0     0    0     0    0     0      0      0 --:--:-- --:--:-- --:--:--     0\r",
      "100  4611  100  2203  100  2408   127k   139k --:--:-- --:--:-- --:--:--  643k\n",
      "  % Total    % Received % Xferd  Average Speed   Time    Time     Time  Current\n",
      "                                 Dload  Upload   Total   Spent    Left  Speed\n",
      "\r",
      "  0     0    0     0    0     0      0      0 --:--:-- --:--:-- --:--:--     0"
     ]
    },
    {
     "name": "stdout",
     "output_type": "stream",
     "text": [
      "432\n"
     ]
    },
    {
     "name": "stderr",
     "output_type": "stream",
     "text": [
      "100  2412  100  2247  100   165   1398    102  0:00:01  0:00:01 --:--:--  1505\n",
      "  % Total    % Received % Xferd  Average Speed   Time    Time     Time  Current\n",
      "                                 Dload  Upload   Total   Spent    Left  Speed\n",
      "100  4181  100  1934  100  2247  97440   110k --:--:-- --:--:-- --:--:--  680k\n",
      "  % Total    % Received % Xferd  Average Speed   Time    Time     Time  Current\n",
      "                                 Dload  Upload   Total   Spent    Left  Speed\n",
      "  0     0    0     0    0     0      0      0 --:--:-- --:--:-- --:--:--     0"
     ]
    },
    {
     "name": "stdout",
     "output_type": "stream",
     "text": [
      "433\n"
     ]
    },
    {
     "name": "stderr",
     "output_type": "stream",
     "text": [
      "100  2323  100  2151  100   172   1477    118  0:00:01  0:00:01 --:--:--  1602\n",
      "  % Total    % Received % Xferd  Average Speed   Time    Time     Time  Current\n",
      "                                 Dload  Upload   Total   Spent    Left  Speed\n",
      "100  4025  100  1874  100  2151   104k   119k --:--:-- --:--:-- --:--:--  786k\n",
      "  % Total    % Received % Xferd  Average Speed   Time    Time     Time  Current\n",
      "                                 Dload  Upload   Total   Spent    Left  Speed\n",
      "  0     0    0     0    0     0      0      0 --:--:-- --:--:-- --:--:--     0"
     ]
    },
    {
     "name": "stdout",
     "output_type": "stream",
     "text": [
      "434\n"
     ]
    },
    {
     "name": "stderr",
     "output_type": "stream",
     "text": [
      "\r",
      "100  1024  100   972  100    52   1096     58 --:--:-- --:--:-- --:--:--  1159\r",
      "100  1024  100   972  100    52   1096     58 --:--:-- --:--:-- --:--:--  1159\n",
      "  % Total    % Received % Xferd  Average Speed   Time    Time     Time  Current\n",
      "                                 Dload  Upload   Total   Spent    Left  Speed\n",
      "\r",
      "  0     0    0     0    0     0      0      0 --:--:-- --:--:-- --:--:--     0\r",
      "100  1564  100   592  100   972  32251  52952 --:--:-- --:--:-- --:--:--  218k\n",
      "  % Total    % Received % Xferd  Average Speed   Time    Time     Time  Current\n",
      "                                 Dload  Upload   Total   Spent    Left  Speed\n",
      "\r",
      "  0     0    0     0    0     0      0      0 --:--:-- --:--:-- --:--:--     0"
     ]
    },
    {
     "name": "stdout",
     "output_type": "stream",
     "text": [
      "435\n"
     ]
    },
    {
     "name": "stderr",
     "output_type": "stream",
     "text": [
      "100  2635  100  2464  100   171    936     65  0:00:02  0:00:02 --:--:--  1003\n",
      "  % Total    % Received % Xferd  Average Speed   Time    Time     Time  Current\n",
      "                                 Dload  Upload   Total   Spent    Left  Speed\n",
      "100  4540  100  2076  100  2464   118k   140k --:--:-- --:--:-- --:--:--  633k\n",
      "  % Total    % Received % Xferd  Average Speed   Time    Time     Time  Current\n",
      "                                 Dload  Upload   Total   Spent    Left  Speed\n",
      "  0     0    0     0    0     0      0      0 --:--:-- --:--:-- --:--:--     0"
     ]
    },
    {
     "name": "stdout",
     "output_type": "stream",
     "text": [
      "436\n"
     ]
    },
    {
     "name": "stderr",
     "output_type": "stream",
     "text": [
      "\r",
      "100  2873  100  2824  100    49   2628     45  0:00:01  0:00:01 --:--:--  2690\r",
      "100  2873  100  2824  100    49   2628     45  0:00:01  0:00:01 --:--:--  2690\n",
      "  % Total    % Received % Xferd  Average Speed   Time    Time     Time  Current\n",
      "                                 Dload  Upload   Total   Spent    Left  Speed\n",
      "\r",
      "  0     0    0     0    0     0      0      0 --:--:-- --:--:-- --:--:--     0\r",
      "100  5436  100  2612  100  2824   134k   145k --:--:-- --:--:-- --:--:--  884k\n",
      "  % Total    % Received % Xferd  Average Speed   Time    Time     Time  Current\n",
      "                                 Dload  Upload   Total   Spent    Left  Speed\n",
      "\r",
      "  0     0    0     0    0     0      0      0 --:--:-- --:--:-- --:--:--     0"
     ]
    },
    {
     "name": "stdout",
     "output_type": "stream",
     "text": [
      "437\n"
     ]
    },
    {
     "name": "stderr",
     "output_type": "stream",
     "text": [
      "\r",
      "100  3007  100  2940  100    67   2911     66  0:00:01  0:00:01 --:--:--  2992\r",
      "100  3007  100  2940  100    67   2911     66  0:00:01  0:00:01 --:--:--  2992\n",
      "  % Total    % Received % Xferd  Average Speed   Time    Time     Time  Current\n",
      "                                 Dload  Upload   Total   Spent    Left  Speed\n",
      "\r",
      "  0     0    0     0    0     0      0      0 --:--:-- --:--:-- --:--:--     0\r",
      "100  5622  100  2682  100  2940   119k   130k --:--:-- --:--:-- --:--:--  686k\n",
      "  % Total    % Received % Xferd  Average Speed   Time    Time     Time  Current\n",
      "                                 Dload  Upload   Total   Spent    Left  Speed\n",
      "\r",
      "  0     0    0     0    0     0      0      0 --:--:-- --:--:-- --:--:--     0"
     ]
    },
    {
     "name": "stdout",
     "output_type": "stream",
     "text": [
      "438\n"
     ]
    },
    {
     "name": "stderr",
     "output_type": "stream",
     "text": [
      "100  3075  100  3016  100    59   1721     33  0:00:01  0:00:01 --:--:--  1760\n",
      "  % Total    % Received % Xferd  Average Speed   Time    Time     Time  Current\n",
      "                                 Dload  Upload   Total   Spent    Left  Speed\n",
      "100  5586  100  2592  100  2994   132k   152k --:--:-- --:--:-- --:--:--  681k\n",
      "  % Total    % Received % Xferd  Average Speed   Time    Time     Time  Current\n",
      "                                 Dload  Upload   Total   Spent    Left  Speed\n",
      "  0     0    0     0    0     0      0      0 --:--:-- --:--:-- --:--:--     0"
     ]
    },
    {
     "name": "stdout",
     "output_type": "stream",
     "text": [
      "439\n"
     ]
    },
    {
     "name": "stderr",
     "output_type": "stream",
     "text": [
      "100  2985  100  2925  100    60   1611     33  0:00:01  0:00:01 --:--:--  1650\n",
      "  % Total    % Received % Xferd  Average Speed   Time    Time     Time  Current\n",
      "                                 Dload  Upload   Total   Spent    Left  Speed\n",
      "100  5653  100  2728  100  2925   144k   154k --:--:-- --:--:-- --:--:--  690k\n",
      "  % Total    % Received % Xferd  Average Speed   Time    Time     Time  Current\n",
      "                                 Dload  Upload   Total   Spent    Left  Speed\n",
      "  0     0    0     0    0     0      0      0 --:--:-- --:--:-- --:--:--     0"
     ]
    },
    {
     "name": "stdout",
     "output_type": "stream",
     "text": [
      "440\n"
     ]
    },
    {
     "name": "stderr",
     "output_type": "stream",
     "text": [
      "100  1476  100  1431  100    45    570     17  0:00:02  0:00:02 --:--:--   589\n",
      "  % Total    % Received % Xferd  Average Speed   Time    Time     Time  Current\n",
      "                                 Dload  Upload   Total   Spent    Left  Speed\n",
      "100  2617  100  1186  100  1431  73404  88568 --:--:-- --:--:-- --:--:--  511k\n",
      "  % Total    % Received % Xferd  Average Speed   Time    Time     Time  Current\n",
      "                                 Dload  Upload   Total   Spent    Left  Speed\n",
      "  0     0    0     0    0     0      0      0 --:--:-- --:--:-- --:--:--     0"
     ]
    },
    {
     "name": "stdout",
     "output_type": "stream",
     "text": [
      "441\n"
     ]
    },
    {
     "name": "stderr",
     "output_type": "stream",
     "text": [
      "100  2458  100  2391  100    67   2582     72 --:--:-- --:--:-- --:--:--  2665\n",
      "  % Total    % Received % Xferd  Average Speed   Time    Time     Time  Current\n",
      "                                 Dload  Upload   Total   Spent    Left  Speed\n",
      "100  4467  100  2076  100  2391  79528  91595 --:--:-- --:--:-- --:--:--  335k\n",
      "  % Total    % Received % Xferd  Average Speed   Time    Time     Time  Current\n",
      "                                 Dload  Upload   Total   Spent    Left  Speed\n",
      "  0     0    0     0    0     0      0      0 --:--:-- --:--:-- --:--:--     0"
     ]
    },
    {
     "name": "stdout",
     "output_type": "stream",
     "text": [
      "442\n"
     ]
    },
    {
     "name": "stderr",
     "output_type": "stream",
     "text": [
      "100  1549  100  1497  100    52   1915     66 --:--:-- --:--:-- --:--:--  1993\n",
      "  % Total    % Received % Xferd  Average Speed   Time    Time     Time  Current\n",
      "                                 Dload  Upload   Total   Spent    Left  Speed\n",
      "100  2297  100   800  100  1497  45677  85474 --:--:-- --:--:-- --:--:--  320k\n",
      "  % Total    % Received % Xferd  Average Speed   Time    Time     Time  Current\n",
      "                                 Dload  Upload   Total   Spent    Left  Speed\n",
      "  0     0    0     0    0     0      0      0 --:--:-- --:--:-- --:--:--     0"
     ]
    },
    {
     "name": "stdout",
     "output_type": "stream",
     "text": [
      "443\n"
     ]
    },
    {
     "name": "stderr",
     "output_type": "stream",
     "text": [
      "\r",
      "100    27    0     0  100    27      0     22  0:00:01  0:00:01 --:--:--    22\r",
      "100  3133  100  3106  100    27   2320     20  0:00:01  0:00:01 --:--:--  2348\r",
      "100  3133  100  3106  100    27   2320     20  0:00:01  0:00:01 --:--:--  2348\n",
      "  % Total    % Received % Xferd  Average Speed   Time    Time     Time  Current\n",
      "                                 Dload  Upload   Total   Spent    Left  Speed\n",
      "\r",
      "  0     0    0     0    0     0      0      0 --:--:-- --:--:-- --:--:--     0\r",
      "100  5756  100  2650  100  3106   160k   187k --:--:-- --:--:-- --:--:--  936k\n",
      "  % Total    % Received % Xferd  Average Speed   Time    Time     Time  Current\n",
      "                                 Dload  Upload   Total   Spent    Left  Speed\n",
      "\r",
      "  0     0    0     0    0     0      0      0 --:--:-- --:--:-- --:--:--     0"
     ]
    },
    {
     "name": "stdout",
     "output_type": "stream",
     "text": [
      "444\n"
     ]
    },
    {
     "name": "stderr",
     "output_type": "stream",
     "text": [
      "\r",
      "100    67    0     0  100    67      0     55  0:00:01  0:00:01 --:--:--    55\r",
      "100  2878  100  2811  100    67   2145     51  0:00:01  0:00:01 --:--:--  2205\n",
      "  % Total    % Received % Xferd  Average Speed   Time    Time     Time  Current\n",
      "                                 Dload  Upload   Total   Spent    Left  Speed\n",
      "\r",
      "  0     0    0     0    0     0      0      0 --:--:-- --:--:-- --:--:--     0\r",
      "100  5073  100  2262  100  2811   102k   127k --:--:-- --:--:-- --:--:--  619k\n",
      "  % Total    % Received % Xferd  Average Speed   Time    Time     Time  Current\n",
      "                                 Dload  Upload   Total   Spent    Left  Speed\n",
      "\r",
      "  0     0    0     0    0     0      0      0 --:--:-- --:--:-- --:--:--     0"
     ]
    },
    {
     "name": "stdout",
     "output_type": "stream",
     "text": [
      "445\n"
     ]
    },
    {
     "name": "stderr",
     "output_type": "stream",
     "text": [
      "\r",
      "100  2793  100  2749  100    44   2280     36  0:00:01  0:00:01 --:--:--  2325\r",
      "100  2793  100  2749  100    44   2280     36  0:00:01  0:00:01 --:--:--  2325\n",
      "  % Total    % Received % Xferd  Average Speed   Time    Time     Time  Current\n",
      "                                 Dload  Upload   Total   Spent    Left  Speed\n",
      "\r",
      "  0     0    0     0    0     0      0      0 --:--:-- --:--:-- --:--:--     0\r",
      "100  5119  100  2370  100  2749   128k   149k --:--:-- --:--:-- --:--:--  999k\n",
      "  % Total    % Received % Xferd  Average Speed   Time    Time     Time  Current\n",
      "                                 Dload  Upload   Total   Spent    Left  Speed\n",
      "\r",
      "  0     0    0     0    0     0      0      0 --:--:-- --:--:-- --:--:--     0"
     ]
    },
    {
     "name": "stdout",
     "output_type": "stream",
     "text": [
      "446\n"
     ]
    },
    {
     "name": "stderr",
     "output_type": "stream",
     "text": [
      "\r",
      "100    27    0     0  100    27      0     22  0:00:01  0:00:01 --:--:--    22\r",
      "100  2598  100  2571  100    27   2023     21  0:00:01  0:00:01 --:--:--  2052\r",
      "100  2598  100  2571  100    27   2023     21  0:00:01  0:00:01 --:--:--  2052\n",
      "  % Total    % Received % Xferd  Average Speed   Time    Time     Time  Current\n",
      "                                 Dload  Upload   Total   Spent    Left  Speed\n",
      "\r",
      "  0     0    0     0    0     0      0      0 --:--:-- --:--:-- --:--:--     0\r",
      "100  4742  100  2171  100  2571   157k   186k --:--:-- --:--:-- --:--:-- 1543k\n",
      "  % Total    % Received % Xferd  Average Speed   Time    Time     Time  Current\n",
      "                                 Dload  Upload   Total   Spent    Left  Speed\n",
      "\r",
      "  0     0    0     0    0     0      0      0 --:--:-- --:--:-- --:--:--     0"
     ]
    },
    {
     "name": "stdout",
     "output_type": "stream",
     "text": [
      "447\n"
     ]
    },
    {
     "name": "stderr",
     "output_type": "stream",
     "text": [
      "\r",
      "100   639  100   530  100   109    629    129 --:--:-- --:--:-- --:--:--   765\n",
      "  % Total    % Received % Xferd  Average Speed   Time    Time     Time  Current\n",
      "                                 Dload  Upload   Total   Spent    Left  Speed\n",
      "\r",
      "  0     0    0     0    0     0      0      0 --:--:-- --:--:-- --:--:--     0\r",
      "100  1030  100   500  100   530  28883  30616 --:--:-- --:--:-- --:--:--  251k\n",
      "  % Total    % Received % Xferd  Average Speed   Time    Time     Time  Current\n",
      "                                 Dload  Upload   Total   Spent    Left  Speed\n",
      "\r",
      "  0     0    0     0    0     0      0      0 --:--:-- --:--:-- --:--:--     0"
     ]
    },
    {
     "name": "stdout",
     "output_type": "stream",
     "text": [
      "Failed: 448\n"
     ]
    },
    {
     "name": "stderr",
     "output_type": "stream",
     "text": [
      "100   613  100   511  100   102    247     49  0:00:02  0:00:02 --:--:--   297\n",
      "  % Total    % Received % Xferd  Average Speed   Time    Time     Time  Current\n",
      "                                 Dload  Upload   Total   Spent    Left  Speed\n",
      "100   983  100   472  100   511  35074  37972 --:--:-- --:--:-- --:--:--  239k\n",
      "  % Total    % Received % Xferd  Average Speed   Time    Time     Time  Current\n",
      "                                 Dload  Upload   Total   Spent    Left  Speed\n",
      "  0     0    0     0    0     0      0      0 --:--:-- --:--:-- --:--:--     0"
     ]
    },
    {
     "name": "stdout",
     "output_type": "stream",
     "text": [
      "Failed: 449\n"
     ]
    },
    {
     "name": "stderr",
     "output_type": "stream",
     "text": [
      "\r",
      "100   579  100   475  100   104    620    135 --:--:-- --:--:-- --:--:--   762\n",
      "  % Total    % Received % Xferd  Average Speed   Time    Time     Time  Current\n",
      "                                 Dload  Upload   Total   Spent    Left  Speed\n",
      "\r",
      "  0     0    0     0    0     0      0      0 --:--:-- --:--:-- --:--:--     0\r",
      "100   914  100   439  100   475  29853  32301 --:--:-- --:--:-- --:--:--  178k\n",
      "  % Total    % Received % Xferd  Average Speed   Time    Time     Time  Current\n",
      "                                 Dload  Upload   Total   Spent    Left  Speed\n",
      "\r",
      "  0     0    0     0    0     0      0      0 --:--:-- --:--:-- --:--:--     0"
     ]
    },
    {
     "name": "stdout",
     "output_type": "stream",
     "text": [
      "Failed: 450\n"
     ]
    },
    {
     "name": "stderr",
     "output_type": "stream",
     "text": [
      "100   549  100   447  100   102    555    126 --:--:-- --:--:-- --:--:--   687\n",
      "  % Total    % Received % Xferd  Average Speed   Time    Time     Time  Current\n",
      "                                 Dload  Upload   Total   Spent    Left  Speed\n",
      "100   862  100   415  100   447  26762  28825 --:--:-- --:--:-- --:--:--  168k\n",
      "  % Total    % Received % Xferd  Average Speed   Time    Time     Time  Current\n",
      "                                 Dload  Upload   Total   Spent    Left  Speed\n",
      "  0     0    0     0    0     0      0      0 --:--:-- --:--:-- --:--:--     0"
     ]
    },
    {
     "name": "stdout",
     "output_type": "stream",
     "text": [
      "Failed: 451\n"
     ]
    },
    {
     "name": "stderr",
     "output_type": "stream",
     "text": [
      "100  1117  100  1064  100    53    404     20  0:00:02  0:00:02 --:--:--   425\n",
      "  % Total    % Received % Xferd  Average Speed   Time    Time     Time  Current\n",
      "                                 Dload  Upload   Total   Spent    Left  Speed\n",
      "100  1768  100   706  100  1062  24114  36274 --:--:-- --:--:-- --:--:--  132k\n",
      "  % Total    % Received % Xferd  Average Speed   Time    Time     Time  Current\n",
      "                                 Dload  Upload   Total   Spent    Left  Speed\n",
      "  0     0    0     0    0     0      0      0 --:--:-- --:--:-- --:--:--     0"
     ]
    },
    {
     "name": "stdout",
     "output_type": "stream",
     "text": [
      "452\n"
     ]
    },
    {
     "name": "stderr",
     "output_type": "stream",
     "text": [
      "\r",
      "100   914  100   852  100    62    942     68 --:--:-- --:--:-- --:--:--  1016\r",
      "100   914  100   852  100    62    942     68 --:--:-- --:--:-- --:--:--  1015\n",
      "  % Total    % Received % Xferd  Average Speed   Time    Time     Time  Current\n",
      "                                 Dload  Upload   Total   Spent    Left  Speed\n",
      "\r",
      "  0     0    0     0    0     0      0      0 --:--:-- --:--:-- --:--:--     0\r",
      "100  1463  100   611  100   852  35442  49422 --:--:-- --:--:-- --:--:--  178k\n",
      "  % Total    % Received % Xferd  Average Speed   Time    Time     Time  Current\n",
      "                                 Dload  Upload   Total   Spent    Left  Speed\n",
      "\r",
      "  0     0    0     0    0     0      0      0 --:--:-- --:--:-- --:--:--     0"
     ]
    },
    {
     "name": "stdout",
     "output_type": "stream",
     "text": [
      "453\n"
     ]
    },
    {
     "name": "stderr",
     "output_type": "stream",
     "text": [
      "\r",
      "100   811  100   743  100    68    858     78 --:--:-- --:--:-- --:--:--   945\r",
      "100   811  100   743  100    68    858     78 --:--:-- --:--:-- --:--:--   945\n",
      "  % Total    % Received % Xferd  Average Speed   Time    Time     Time  Current\n",
      "                                 Dload  Upload   Total   Spent    Left  Speed\n",
      "\r",
      "  0     0    0     0    0     0      0      0 --:--:-- --:--:-- --:--:--     0\r",
      "100  1286  100   543  100   743  20105  27511 --:--:-- --:--:-- --:--:--  114k\n",
      "  % Total    % Received % Xferd  Average Speed   Time    Time     Time  Current\n",
      "                                 Dload  Upload   Total   Spent    Left  Speed\n",
      "\r",
      "  0     0    0     0    0     0      0      0 --:--:-- --:--:-- --:--:--     0"
     ]
    },
    {
     "name": "stdout",
     "output_type": "stream",
     "text": [
      "454\n"
     ]
    },
    {
     "name": "stderr",
     "output_type": "stream",
     "text": [
      "\r",
      "100  1084  100  1018  100    66   1128     73 --:--:-- --:--:-- --:--:--  1207\r",
      "100  1084  100  1018  100    66   1127     73 --:--:-- --:--:-- --:--:--  1207\n",
      "  % Total    % Received % Xferd  Average Speed   Time    Time     Time  Current\n",
      "                                 Dload  Upload   Total   Spent    Left  Speed\n",
      "\r",
      "  0     0    0     0    0     0      0      0 --:--:-- --:--:-- --:--:--     0\r",
      "100  1627  100   609  100  1018  34182  57139 --:--:-- --:--:-- --:--:--  198k\n",
      "  % Total    % Received % Xferd  Average Speed   Time    Time     Time  Current\n",
      "                                 Dload  Upload   Total   Spent    Left  Speed\n",
      "\r",
      "  0     0    0     0    0     0      0      0 --:--:-- --:--:-- --:--:--     0"
     ]
    },
    {
     "name": "stdout",
     "output_type": "stream",
     "text": [
      "doi from extra: False 10.1002/9781119478911.ch11\n",
      "455\n"
     ]
    },
    {
     "name": "stderr",
     "output_type": "stream",
     "text": [
      "\r",
      "100  2913  100  2846  100    67   2960     69 --:--:-- --:--:-- --:--:--  3043\r",
      "100  2913  100  2846  100    67   2960     69 --:--:-- --:--:-- --:--:--  3043\n",
      "  % Total    % Received % Xferd  Average Speed   Time    Time     Time  Current\n",
      "                                 Dload  Upload   Total   Spent    Left  Speed\n",
      "\r",
      "  0     0    0     0    0     0      0      0 --:--:-- --:--:-- --:--:--     0\r",
      "100  5218  100  2372  100  2846   134k   161k --:--:-- --:--:-- --:--:--  727k\n",
      "  % Total    % Received % Xferd  Average Speed   Time    Time     Time  Current\n",
      "                                 Dload  Upload   Total   Spent    Left  Speed\n",
      "\r",
      "  0     0    0     0    0     0      0      0 --:--:-- --:--:-- --:--:--     0"
     ]
    },
    {
     "name": "stdout",
     "output_type": "stream",
     "text": [
      "456\n"
     ]
    },
    {
     "name": "stderr",
     "output_type": "stream",
     "text": [
      "100  3003  100  2976  100    27   2100     19  0:00:01  0:00:01 --:--:--  2128\n",
      "  % Total    % Received % Xferd  Average Speed   Time    Time     Time  Current\n",
      "                                 Dload  Upload   Total   Spent    Left  Speed\n",
      "100  5463  100  2487  100  2976   195k   234k --:--:-- --:--:-- --:--:-- 1778k\n",
      "  % Total    % Received % Xferd  Average Speed   Time    Time     Time  Current\n",
      "                                 Dload  Upload   Total   Spent    Left  Speed\n",
      "  0     0    0     0    0     0      0      0 --:--:-- --:--:-- --:--:--     0"
     ]
    },
    {
     "name": "stdout",
     "output_type": "stream",
     "text": [
      "457\n"
     ]
    },
    {
     "name": "stderr",
     "output_type": "stream",
     "text": [
      "100   684  100   582  100   102    728    127 --:--:-- --:--:-- --:--:--   861\n",
      "  % Total    % Received % Xferd  Average Speed   Time    Time     Time  Current\n",
      "                                 Dload  Upload   Total   Spent    Left  Speed\n",
      "100  1151  100   569  100   582  27660  28292 --:--:-- --:--:-- --:--:--  224k\n",
      "  % Total    % Received % Xferd  Average Speed   Time    Time     Time  Current\n",
      "                                 Dload  Upload   Total   Spent    Left  Speed\n",
      "  0     0    0     0    0     0      0      0 --:--:-- --:--:-- --:--:--     0"
     ]
    },
    {
     "name": "stdout",
     "output_type": "stream",
     "text": [
      "Failed: 458\n"
     ]
    },
    {
     "name": "stderr",
     "output_type": "stream",
     "text": [
      "100  2328  100  2301  100    27   1562     18  0:00:01  0:00:01 --:--:--  1585\n",
      "  % Total    % Received % Xferd  Average Speed   Time    Time     Time  Current\n",
      "                                 Dload  Upload   Total   Spent    Left  Speed\n",
      "100  4358  100  2057  100  2301   128k   143k --:--:-- --:--:-- --:--:--  851k\n",
      "  % Total    % Received % Xferd  Average Speed   Time    Time     Time  Current\n",
      "                                 Dload  Upload   Total   Spent    Left  Speed\n",
      "  0     0    0     0    0     0      0      0 --:--:-- --:--:-- --:--:--     0"
     ]
    },
    {
     "name": "stdout",
     "output_type": "stream",
     "text": [
      "459\n"
     ]
    },
    {
     "name": "stderr",
     "output_type": "stream",
     "text": [
      "\r",
      "100    49    0     0  100    49      0     40  0:00:01  0:00:01 --:--:--    40\r",
      "100  2727  100  2678  100    49   2176     39  0:00:01  0:00:01 --:--:--  2226\n",
      "  % Total    % Received % Xferd  Average Speed   Time    Time     Time  Current\n",
      "                                 Dload  Upload   Total   Spent    Left  Speed\n",
      "\r",
      "  0     0    0     0    0     0      0      0 --:--:-- --:--:-- --:--:--     0\r",
      "100  5288  100  2610  100  2678   178k   183k --:--:-- --:--:-- --:--:-- 1032k\n",
      "  % Total    % Received % Xferd  Average Speed   Time    Time     Time  Current\n",
      "                                 Dload  Upload   Total   Spent    Left  Speed\n",
      "\r",
      "  0     0    0     0    0     0      0      0 --:--:-- --:--:-- --:--:--     0"
     ]
    },
    {
     "name": "stdout",
     "output_type": "stream",
     "text": [
      "460\n"
     ]
    },
    {
     "name": "stderr",
     "output_type": "stream",
     "text": [
      "\r",
      "100  2862  100  2795  100    67   2660     63  0:00:01  0:00:01 --:--:--  2738\r",
      "100  2862  100  2795  100    67   2659     63  0:00:01  0:00:01 --:--:--  2738\n",
      "  % Total    % Received % Xferd  Average Speed   Time    Time     Time  Current\n",
      "                                 Dload  Upload   Total   Spent    Left  Speed\n",
      "\r",
      "  0     0    0     0    0     0      0      0 --:--:-- --:--:-- --:--:--     0\r",
      "100  5125  100  2330  100  2795   100k   121k --:--:-- --:--:-- --:--:--  556k\n",
      "  % Total    % Received % Xferd  Average Speed   Time    Time     Time  Current\n",
      "                                 Dload  Upload   Total   Spent    Left  Speed\n",
      "\r",
      "  0     0    0     0    0     0      0      0 --:--:-- --:--:-- --:--:--     0"
     ]
    },
    {
     "name": "stdout",
     "output_type": "stream",
     "text": [
      "461\n"
     ]
    },
    {
     "name": "stderr",
     "output_type": "stream",
     "text": [
      "\r",
      "100   785  100   723  100    62    887     76 --:--:-- --:--:-- --:--:--   969\r",
      "100   785  100   723  100    62    886     76 --:--:-- --:--:-- --:--:--   969\n",
      "  % Total    % Received % Xferd  Average Speed   Time    Time     Time  Current\n",
      "                                 Dload  Upload   Total   Spent    Left  Speed\n",
      "\r",
      "  0     0    0     0    0     0      0      0 --:--:-- --:--:-- --:--:--     0\r",
      "100  1238  100   515  100   723  24400  34255 --:--:-- --:--:-- --:--:--  134k\n",
      "  % Total    % Received % Xferd  Average Speed   Time    Time     Time  Current\n",
      "                                 Dload  Upload   Total   Spent    Left  Speed\n",
      "\r",
      "  0     0    0     0    0     0      0      0 --:--:-- --:--:-- --:--:--     0"
     ]
    },
    {
     "name": "stdout",
     "output_type": "stream",
     "text": [
      "462\n"
     ]
    },
    {
     "name": "stderr",
     "output_type": "stream",
     "text": [
      "\r",
      "100  2407  100  2359  100    48   2893     58 --:--:-- --:--:-- --:--:--  2967\r",
      "100  2407  100  2359  100    48   2893     58 --:--:-- --:--:-- --:--:--  2967\n",
      "  % Total    % Received % Xferd  Average Speed   Time    Time     Time  Current\n",
      "                                 Dload  Upload   Total   Spent    Left  Speed\n",
      "\r",
      "  0     0    0     0    0     0      0      0 --:--:-- --:--:-- --:--:--     0\r",
      "100  4540  100  2181  100  2359  96448   101k --:--:-- --:--:-- --:--:--  738k\n",
      "  % Total    % Received % Xferd  Average Speed   Time    Time     Time  Current\n",
      "                                 Dload  Upload   Total   Spent    Left  Speed\n",
      "\r",
      "  0     0    0     0    0     0      0      0 --:--:-- --:--:-- --:--:--     0"
     ]
    },
    {
     "name": "stdout",
     "output_type": "stream",
     "text": [
      "463\n"
     ]
    },
    {
     "name": "stderr",
     "output_type": "stream",
     "text": [
      "\r",
      "100  2079  100  2030  100    49   1922     46  0:00:01  0:00:01 --:--:--  1978\r",
      "100  2079  100  2030  100    49   1922     46  0:00:01  0:00:01 --:--:--  1978\n",
      "  % Total    % Received % Xferd  Average Speed   Time    Time     Time  Current\n",
      "                                 Dload  Upload   Total   Spent    Left  Speed\n",
      "\r",
      "  0     0    0     0    0     0      0      0 --:--:-- --:--:-- --:--:--     0\r",
      "100  3762  100  1732  100  2030   122k   143k --:--:-- --:--:-- --:--:--  918k\n",
      "  % Total    % Received % Xferd  Average Speed   Time    Time     Time  Current\n",
      "                                 Dload  Upload   Total   Spent    Left  Speed\n",
      "\r",
      "  0     0    0     0    0     0      0      0 --:--:-- --:--:-- --:--:--     0"
     ]
    },
    {
     "name": "stdout",
     "output_type": "stream",
     "text": [
      "464\n"
     ]
    },
    {
     "name": "stderr",
     "output_type": "stream",
     "text": [
      "100  3055  100  2974  100    81   1375     37  0:00:02  0:00:02 --:--:--  1417\n",
      "  % Total    % Received % Xferd  Average Speed   Time    Time     Time  Current\n",
      "                                 Dload  Upload   Total   Spent    Left  Speed\n",
      "100  5456  100  2482  100  2974   163k   195k --:--:-- --:--:-- --:--:-- 1332k\n",
      "  % Total    % Received % Xferd  Average Speed   Time    Time     Time  Current\n",
      "                                 Dload  Upload   Total   Spent    Left  Speed\n",
      "  0     0    0     0    0     0      0      0 --:--:-- --:--:-- --:--:--     0"
     ]
    },
    {
     "name": "stdout",
     "output_type": "stream",
     "text": [
      "465\n"
     ]
    },
    {
     "name": "stderr",
     "output_type": "stream",
     "text": [
      "100  3137  100  2974  100   163   3476    190 --:--:-- --:--:-- --:--:--  3686\n",
      "  % Total    % Received % Xferd  Average Speed   Time    Time     Time  Current\n",
      "                                 Dload  Upload   Total   Spent    Left  Speed\n",
      "100  5456  100  2482  100  2974   142k   170k --:--:-- --:--:-- --:--:--  761k\n"
     ]
    },
    {
     "name": "stdout",
     "output_type": "stream",
     "text": [
      "Failed: 466\n"
     ]
    },
    {
     "name": "stderr",
     "output_type": "stream",
     "text": [
      "  % Total    % Received % Xferd  Average Speed   Time    Time     Time  Current\n",
      "                                 Dload  Upload   Total   Spent    Left  Speed\n",
      "100  2399  100  2358  100    41   3439     59 --:--:-- --:--:-- --:--:--  3522\n",
      "  % Total    % Received % Xferd  Average Speed   Time    Time     Time  Current\n",
      "                                 Dload  Upload   Total   Spent    Left  Speed\n",
      "100  4612  100  2254  100  2358   102k   107k --:--:-- --:--:-- --:--:--  450k\n",
      "  % Total    % Received % Xferd  Average Speed   Time    Time     Time  Current\n",
      "                                 Dload  Upload   Total   Spent    Left  Speed\n",
      "  0     0    0     0    0     0      0      0 --:--:-- --:--:-- --:--:--     0"
     ]
    },
    {
     "name": "stdout",
     "output_type": "stream",
     "text": [
      "467\n"
     ]
    },
    {
     "name": "stderr",
     "output_type": "stream",
     "text": [
      "\r",
      "100    68    0     0  100    68      0    326 --:--:-- --:--:-- --:--:--   333"
     ]
    },
    {
     "ename": "KeyboardInterrupt",
     "evalue": "",
     "output_type": "error",
     "traceback": [
      "\u001b[0;31m---------------------------------------------------------------------------\u001b[0m",
      "\u001b[0;31mKeyboardInterrupt\u001b[0m                         Traceback (most recent call last)",
      "Input \u001b[0;32mIn [120]\u001b[0m, in \u001b[0;36m<module>\u001b[0;34m\u001b[0m\n\u001b[1;32m      6\u001b[0m failed, perffail \u001b[38;5;241m=\u001b[39m [], []\n\u001b[1;32m      7\u001b[0m \u001b[38;5;28;01mfor\u001b[39;00m url \u001b[38;5;129;01min\u001b[39;00m links_to_process:\n\u001b[1;32m      8\u001b[0m     \u001b[38;5;66;03m# if not running for first time\u001b[39;00m\n\u001b[1;32m      9\u001b[0m     \u001b[38;5;66;03m#if repeat_run:\u001b[39;00m\n\u001b[1;32m     10\u001b[0m         \n\u001b[1;32m     11\u001b[0m     \u001b[38;5;66;03m# call bash script\u001b[39;00m\n\u001b[0;32m---> 12\u001b[0m     rc \u001b[38;5;241m=\u001b[39m \u001b[43msubprocess\u001b[49m\u001b[38;5;241;43m.\u001b[39;49m\u001b[43mcall\u001b[49m\u001b[43m(\u001b[49m\u001b[38;5;124;43m\"\u001b[39;49m\u001b[38;5;124;43m./zot.sh \u001b[39;49m\u001b[38;5;124;43m'\u001b[39;49m\u001b[38;5;132;43;01m%s\u001b[39;49;00m\u001b[38;5;124;43m'\u001b[39;49m\u001b[38;5;124;43m\"\u001b[39;49m\u001b[43m \u001b[49m\u001b[38;5;241;43m%\u001b[39;49m\u001b[43m \u001b[49m\u001b[43m(\u001b[49m\u001b[43murl\u001b[49m\u001b[43m)\u001b[49m\u001b[43m,\u001b[49m\u001b[43m \u001b[49m\u001b[43mshell\u001b[49m\u001b[38;5;241;43m=\u001b[39;49m\u001b[38;5;28;43;01mTrue\u001b[39;49;00m\u001b[43m)\u001b[49m\n\u001b[1;32m     13\u001b[0m     \u001b[38;5;66;03m# create df for this url\u001b[39;00m\n\u001b[1;32m     15\u001b[0m     perf \u001b[38;5;241m=\u001b[39m \u001b[38;5;28;01mFalse\u001b[39;00m\n",
      "File \u001b[0;32m/Library/Frameworks/Python.framework/Versions/3.10/lib/python3.10/subprocess.py:347\u001b[0m, in \u001b[0;36mcall\u001b[0;34m(timeout, *popenargs, **kwargs)\u001b[0m\n\u001b[1;32m    345\u001b[0m \u001b[38;5;28;01mwith\u001b[39;00m Popen(\u001b[38;5;241m*\u001b[39mpopenargs, \u001b[38;5;241m*\u001b[39m\u001b[38;5;241m*\u001b[39mkwargs) \u001b[38;5;28;01mas\u001b[39;00m p:\n\u001b[1;32m    346\u001b[0m     \u001b[38;5;28;01mtry\u001b[39;00m:\n\u001b[0;32m--> 347\u001b[0m         \u001b[38;5;28;01mreturn\u001b[39;00m \u001b[43mp\u001b[49m\u001b[38;5;241;43m.\u001b[39;49m\u001b[43mwait\u001b[49m\u001b[43m(\u001b[49m\u001b[43mtimeout\u001b[49m\u001b[38;5;241;43m=\u001b[39;49m\u001b[43mtimeout\u001b[49m\u001b[43m)\u001b[49m\n\u001b[1;32m    348\u001b[0m     \u001b[38;5;28;01mexcept\u001b[39;00m:  \u001b[38;5;66;03m# Including KeyboardInterrupt, wait handled that.\u001b[39;00m\n\u001b[1;32m    349\u001b[0m         p\u001b[38;5;241m.\u001b[39mkill()\n",
      "File \u001b[0;32m/Library/Frameworks/Python.framework/Versions/3.10/lib/python3.10/subprocess.py:1204\u001b[0m, in \u001b[0;36mPopen.wait\u001b[0;34m(self, timeout)\u001b[0m\n\u001b[1;32m   1202\u001b[0m     endtime \u001b[38;5;241m=\u001b[39m _time() \u001b[38;5;241m+\u001b[39m timeout\n\u001b[1;32m   1203\u001b[0m \u001b[38;5;28;01mtry\u001b[39;00m:\n\u001b[0;32m-> 1204\u001b[0m     \u001b[38;5;28;01mreturn\u001b[39;00m \u001b[38;5;28;43mself\u001b[39;49m\u001b[38;5;241;43m.\u001b[39;49m\u001b[43m_wait\u001b[49m\u001b[43m(\u001b[49m\u001b[43mtimeout\u001b[49m\u001b[38;5;241;43m=\u001b[39;49m\u001b[43mtimeout\u001b[49m\u001b[43m)\u001b[49m\n\u001b[1;32m   1205\u001b[0m \u001b[38;5;28;01mexcept\u001b[39;00m \u001b[38;5;167;01mKeyboardInterrupt\u001b[39;00m:\n\u001b[1;32m   1206\u001b[0m     \u001b[38;5;66;03m# https://bugs.python.org/issue25942\u001b[39;00m\n\u001b[1;32m   1207\u001b[0m     \u001b[38;5;66;03m# The first keyboard interrupt waits briefly for the child to\u001b[39;00m\n\u001b[1;32m   1208\u001b[0m     \u001b[38;5;66;03m# exit under the common assumption that it also received the ^C\u001b[39;00m\n\u001b[1;32m   1209\u001b[0m     \u001b[38;5;66;03m# generated SIGINT and will exit rapidly.\u001b[39;00m\n\u001b[1;32m   1210\u001b[0m     \u001b[38;5;28;01mif\u001b[39;00m timeout \u001b[38;5;129;01mis\u001b[39;00m \u001b[38;5;129;01mnot\u001b[39;00m \u001b[38;5;28;01mNone\u001b[39;00m:\n",
      "File \u001b[0;32m/Library/Frameworks/Python.framework/Versions/3.10/lib/python3.10/subprocess.py:1938\u001b[0m, in \u001b[0;36mPopen._wait\u001b[0;34m(self, timeout)\u001b[0m\n\u001b[1;32m   1936\u001b[0m \u001b[38;5;28;01mif\u001b[39;00m \u001b[38;5;28mself\u001b[39m\u001b[38;5;241m.\u001b[39mreturncode \u001b[38;5;129;01mis\u001b[39;00m \u001b[38;5;129;01mnot\u001b[39;00m \u001b[38;5;28;01mNone\u001b[39;00m:\n\u001b[1;32m   1937\u001b[0m     \u001b[38;5;28;01mbreak\u001b[39;00m  \u001b[38;5;66;03m# Another thread waited.\u001b[39;00m\n\u001b[0;32m-> 1938\u001b[0m (pid, sts) \u001b[38;5;241m=\u001b[39m \u001b[38;5;28;43mself\u001b[39;49m\u001b[38;5;241;43m.\u001b[39;49m\u001b[43m_try_wait\u001b[49m\u001b[43m(\u001b[49m\u001b[38;5;241;43m0\u001b[39;49m\u001b[43m)\u001b[49m\n\u001b[1;32m   1939\u001b[0m \u001b[38;5;66;03m# Check the pid and loop as waitpid has been known to\u001b[39;00m\n\u001b[1;32m   1940\u001b[0m \u001b[38;5;66;03m# return 0 even without WNOHANG in odd situations.\u001b[39;00m\n\u001b[1;32m   1941\u001b[0m \u001b[38;5;66;03m# http://bugs.python.org/issue14396.\u001b[39;00m\n\u001b[1;32m   1942\u001b[0m \u001b[38;5;28;01mif\u001b[39;00m pid \u001b[38;5;241m==\u001b[39m \u001b[38;5;28mself\u001b[39m\u001b[38;5;241m.\u001b[39mpid:\n",
      "File \u001b[0;32m/Library/Frameworks/Python.framework/Versions/3.10/lib/python3.10/subprocess.py:1896\u001b[0m, in \u001b[0;36mPopen._try_wait\u001b[0;34m(self, wait_flags)\u001b[0m\n\u001b[1;32m   1894\u001b[0m \u001b[38;5;124;03m\"\"\"All callers to this function MUST hold self._waitpid_lock.\"\"\"\u001b[39;00m\n\u001b[1;32m   1895\u001b[0m \u001b[38;5;28;01mtry\u001b[39;00m:\n\u001b[0;32m-> 1896\u001b[0m     (pid, sts) \u001b[38;5;241m=\u001b[39m \u001b[43mos\u001b[49m\u001b[38;5;241;43m.\u001b[39;49m\u001b[43mwaitpid\u001b[49m\u001b[43m(\u001b[49m\u001b[38;5;28;43mself\u001b[39;49m\u001b[38;5;241;43m.\u001b[39;49m\u001b[43mpid\u001b[49m\u001b[43m,\u001b[49m\u001b[43m \u001b[49m\u001b[43mwait_flags\u001b[49m\u001b[43m)\u001b[49m\n\u001b[1;32m   1897\u001b[0m \u001b[38;5;28;01mexcept\u001b[39;00m \u001b[38;5;167;01mChildProcessError\u001b[39;00m:\n\u001b[1;32m   1898\u001b[0m     \u001b[38;5;66;03m# This happens if SIGCLD is set to be ignored or waiting\u001b[39;00m\n\u001b[1;32m   1899\u001b[0m     \u001b[38;5;66;03m# for child processes has otherwise been disabled for our\u001b[39;00m\n\u001b[1;32m   1900\u001b[0m     \u001b[38;5;66;03m# process.  This child is dead, we can't get the status.\u001b[39;00m\n\u001b[1;32m   1901\u001b[0m     pid \u001b[38;5;241m=\u001b[39m \u001b[38;5;28mself\u001b[39m\u001b[38;5;241m.\u001b[39mpid\n",
      "\u001b[0;31mKeyboardInterrupt\u001b[0m: "
     ]
    }
   ],
   "source": [
    "zjson_df, bib_df = pd.DataFrame(), pd.DataFrame()\n",
    "\n",
    "counter = 0\n",
    "repeat_run = True\n",
    "prev_url = \"\"\n",
    "failed, perffail = [], []\n",
    "for url in links_to_process:\n",
    "    # if not running for first time\n",
    "    #if repeat_run:\n",
    "        \n",
    "    # call bash script\n",
    "    rc = subprocess.call(\"./zot.sh '%s'\" % (url), shell=True)\n",
    "    # create df for this url\n",
    "    \n",
    "    perf = False\n",
    "    try:\n",
    "        while True:\n",
    "            temp1_df = pd.read_json('temp1.json', orient='records')\n",
    "            # manual error handling\n",
    "            if (\"url\" in temp1_df) and temp1_df[\"url\"].str.contains(\"validate.perfdrive\")[0]:\n",
    "                perf = True\n",
    "                break\n",
    "            url_exists = \"url\" in temp1_df\n",
    "            with open(\"temp2.json\") as f:\n",
    "                temp1_df[\"bib\"] = f.read()\n",
    "            if not url_exists:\n",
    "                break\n",
    "            if (temp1_df[\"url\"] != prev_url)[0]:\n",
    "                break\n",
    "        if not perf:\n",
    "            if url_exists:\n",
    "                prev_url = temp1_df[\"url\"]\n",
    "\n",
    "            temp1_df['tURL'] = url\n",
    "            temp1_df[\"index\"] = counter\n",
    "            temp1_df['fail'] = False\n",
    "            temp1_df['perf'] = False\n",
    "\n",
    "            if \"date\" in temp1_df:\n",
    "                temp1_df[\"year\"] = temp1_df['date'].astype(str).apply(lambda x: '(' + x[0:4] + ')' if x[0] != 'n' else x)\n",
    "            \n",
    "            if \"creators\" in temp1_df:\n",
    "                splitlist = str(temp1_df[\"creators\"][0]).split('\\'')\n",
    "                temp1_df[\"author\"] = splitlist[3][0] + ' ' + splitlist[7]\n",
    "            \n",
    "            if ('extra' in temp1_df):\n",
    "                extra_str = temp1_df[\"extra\"][0]\n",
    "                if (type(extra_str) == str) and extra_str[0:3] == 'DOI':\n",
    "                    print(\"doi from extra: \" + str('DOI' in temp1_df) + \" \" + extra_str[5:])\n",
    "                    temp1_df[\"DOI\"] = extra_str[5:]\n",
    "\n",
    "            zjson_df = pd.concat([zjson_df, temp1_df], sort=False)\n",
    "            print(counter)\n",
    "        else:\n",
    "            perffail.append(counter)\n",
    "            temp_df = pd.DataFrame({'fail': [True], 'tURL': [url], 'perf': [True], 'index': [counter]})\n",
    "            zjson_df = pd.concat([zjson_df, temp_df], sort=False)\n",
    "            print('Perfdrive: ' + str(counter))\n",
    "        \n",
    "    except:\n",
    "        failed.append(counter)\n",
    "        temp_df = pd.DataFrame({'fail': [True], 'tURL': [url], 'perf': [False], 'index': [counter]})\n",
    "        zjson_df = pd.concat([zjson_df, temp_df], sort=False)\n",
    "        print('Failed: ' + str(counter))\n",
    "    \n",
    "    counter += 1\n",
    "    \n",
    "    \n",
    "    \n",
    "    "
   ]
  },
  {
   "cell_type": "code",
   "execution_count": 99,
   "id": "459fd943",
   "metadata": {
    "scrolled": true
   },
   "outputs": [
    {
     "data": {
      "text/html": [
       "<div>\n",
       "<style scoped>\n",
       "    .dataframe tbody tr th:only-of-type {\n",
       "        vertical-align: middle;\n",
       "    }\n",
       "\n",
       "    .dataframe tbody tr th {\n",
       "        vertical-align: top;\n",
       "    }\n",
       "\n",
       "    .dataframe thead th {\n",
       "        text-align: right;\n",
       "    }\n",
       "</style>\n",
       "<table border=\"1\" class=\"dataframe\">\n",
       "  <thead>\n",
       "    <tr style=\"text-align: right;\">\n",
       "      <th></th>\n",
       "      <th>key</th>\n",
       "      <th>version</th>\n",
       "      <th>itemType</th>\n",
       "      <th>creators</th>\n",
       "      <th>tags</th>\n",
       "      <th>DOI</th>\n",
       "      <th>url</th>\n",
       "      <th>volume</th>\n",
       "      <th>pages</th>\n",
       "      <th>title</th>\n",
       "      <th>...</th>\n",
       "      <th>bookTitle</th>\n",
       "      <th>edition</th>\n",
       "      <th>institution</th>\n",
       "      <th>reportType</th>\n",
       "      <th>reportNumber</th>\n",
       "      <th>websiteType</th>\n",
       "      <th>websiteTitle</th>\n",
       "      <th>seriesNumber</th>\n",
       "      <th>archiveLocation</th>\n",
       "      <th>callNumber</th>\n",
       "    </tr>\n",
       "  </thead>\n",
       "  <tbody>\n",
       "    <tr>\n",
       "      <th>0</th>\n",
       "      <td>XZFWVNZT</td>\n",
       "      <td>0.0</td>\n",
       "      <td>journalArticle</td>\n",
       "      <td>[{'firstName': 'G.', 'lastName': 'Abdelaziz', ...</td>\n",
       "      <td>[]</td>\n",
       "      <td>10.1088/1742-6596/869/1/012070</td>\n",
       "      <td>https://doi.org/10.1088/1742-6596/869/1/012070</td>\n",
       "      <td>869.0</td>\n",
       "      <td>12070</td>\n",
       "      <td>Search for Best Astronomical Observatory Sites...</td>\n",
       "      <td>...</td>\n",
       "      <td>NaN</td>\n",
       "      <td>NaN</td>\n",
       "      <td>NaN</td>\n",
       "      <td>NaN</td>\n",
       "      <td>NaN</td>\n",
       "      <td>NaN</td>\n",
       "      <td>NaN</td>\n",
       "      <td>NaN</td>\n",
       "      <td>NaN</td>\n",
       "      <td>NaN</td>\n",
       "    </tr>\n",
       "    <tr>\n",
       "      <th>0</th>\n",
       "      <td>6EUEUZ3I</td>\n",
       "      <td>0.0</td>\n",
       "      <td>journalArticle</td>\n",
       "      <td>[{'firstName': 'Zhong', 'lastName': 'Liu', 'cr...</td>\n",
       "      <td>[{'tag': 'tropical meteorology and climatology...</td>\n",
       "      <td>10.3390/rs12172821</td>\n",
       "      <td>https://www.mdpi.com/2072-4292/12/17/2821</td>\n",
       "      <td>12.0</td>\n",
       "      <td>2821</td>\n",
       "      <td>NASA Global Satellite and Model Data Products ...</td>\n",
       "      <td>...</td>\n",
       "      <td>NaN</td>\n",
       "      <td>NaN</td>\n",
       "      <td>NaN</td>\n",
       "      <td>NaN</td>\n",
       "      <td>NaN</td>\n",
       "      <td>NaN</td>\n",
       "      <td>NaN</td>\n",
       "      <td>NaN</td>\n",
       "      <td>NaN</td>\n",
       "      <td>NaN</td>\n",
       "    </tr>\n",
       "    <tr>\n",
       "      <th>0</th>\n",
       "      <td>ZRGZ7FQD</td>\n",
       "      <td>0.0</td>\n",
       "      <td>journalArticle</td>\n",
       "      <td>[{'firstName': 'Abhay', 'lastName': 'Devasthal...</td>\n",
       "      <td>[]</td>\n",
       "      <td>NaN</td>\n",
       "      <td>https://www.jstor.org/stable/26243653</td>\n",
       "      <td>97.0</td>\n",
       "      <td>ES255-ES263</td>\n",
       "      <td>SUPPLEMENT: A DECADE OF SPACEBORNE OBSERVATION...</td>\n",
       "      <td>...</td>\n",
       "      <td>NaN</td>\n",
       "      <td>NaN</td>\n",
       "      <td>NaN</td>\n",
       "      <td>NaN</td>\n",
       "      <td>NaN</td>\n",
       "      <td>NaN</td>\n",
       "      <td>NaN</td>\n",
       "      <td>NaN</td>\n",
       "      <td>NaN</td>\n",
       "      <td>NaN</td>\n",
       "    </tr>\n",
       "    <tr>\n",
       "      <th>0</th>\n",
       "      <td>3HST9T9G</td>\n",
       "      <td>0.0</td>\n",
       "      <td>journalArticle</td>\n",
       "      <td>[{'firstName': 'Guanheng', 'lastName': 'Zheng'...</td>\n",
       "      <td>[{'tag': 'Satellite remote sensing', 'type': 1...</td>\n",
       "      <td>10.1016/j.rse.2019.111269</td>\n",
       "      <td>https://www.sciencedirect.com/science/article/...</td>\n",
       "      <td>231.0</td>\n",
       "      <td>111269</td>\n",
       "      <td>Satellite-based simulation of soil freezing/th...</td>\n",
       "      <td>...</td>\n",
       "      <td>NaN</td>\n",
       "      <td>NaN</td>\n",
       "      <td>NaN</td>\n",
       "      <td>NaN</td>\n",
       "      <td>NaN</td>\n",
       "      <td>NaN</td>\n",
       "      <td>NaN</td>\n",
       "      <td>NaN</td>\n",
       "      <td>NaN</td>\n",
       "      <td>NaN</td>\n",
       "    </tr>\n",
       "    <tr>\n",
       "      <th>0</th>\n",
       "      <td>E8NR9S8V</td>\n",
       "      <td>0.0</td>\n",
       "      <td>journalArticle</td>\n",
       "      <td>[{'firstName': 'Linette N.', 'lastName': 'Bois...</td>\n",
       "      <td>[]</td>\n",
       "      <td>10.1175/MWR-D-16-0234.1</td>\n",
       "      <td>https://journals.ametsoc.org/view/journals/mwr...</td>\n",
       "      <td>144.0</td>\n",
       "      <td>4279-4287</td>\n",
       "      <td>The Impact of the Extreme Winter 2015/16 Arcti...</td>\n",
       "      <td>...</td>\n",
       "      <td>NaN</td>\n",
       "      <td>NaN</td>\n",
       "      <td>NaN</td>\n",
       "      <td>NaN</td>\n",
       "      <td>NaN</td>\n",
       "      <td>NaN</td>\n",
       "      <td>NaN</td>\n",
       "      <td>NaN</td>\n",
       "      <td>NaN</td>\n",
       "      <td>NaN</td>\n",
       "    </tr>\n",
       "    <tr>\n",
       "      <th>...</th>\n",
       "      <td>...</td>\n",
       "      <td>...</td>\n",
       "      <td>...</td>\n",
       "      <td>...</td>\n",
       "      <td>...</td>\n",
       "      <td>...</td>\n",
       "      <td>...</td>\n",
       "      <td>...</td>\n",
       "      <td>...</td>\n",
       "      <td>...</td>\n",
       "      <td>...</td>\n",
       "      <td>...</td>\n",
       "      <td>...</td>\n",
       "      <td>...</td>\n",
       "      <td>...</td>\n",
       "      <td>...</td>\n",
       "      <td>...</td>\n",
       "      <td>...</td>\n",
       "      <td>...</td>\n",
       "      <td>...</td>\n",
       "      <td>...</td>\n",
       "    </tr>\n",
       "    <tr>\n",
       "      <th>0</th>\n",
       "      <td>PWEPTUQK</td>\n",
       "      <td>0.0</td>\n",
       "      <td>webpage</td>\n",
       "      <td>NaN</td>\n",
       "      <td>NaN</td>\n",
       "      <td>NaN</td>\n",
       "      <td>https://bia.unibz.it/esploro/outputs/doctoral/...</td>\n",
       "      <td>NaN</td>\n",
       "      <td>NaN</td>\n",
       "      <td></td>\n",
       "      <td>...</td>\n",
       "      <td>NaN</td>\n",
       "      <td>NaN</td>\n",
       "      <td>NaN</td>\n",
       "      <td>NaN</td>\n",
       "      <td>NaN</td>\n",
       "      <td>NaN</td>\n",
       "      <td>NaN</td>\n",
       "      <td>NaN</td>\n",
       "      <td>NaN</td>\n",
       "      <td>NaN</td>\n",
       "    </tr>\n",
       "    <tr>\n",
       "      <th>0</th>\n",
       "      <td>J3LZDR95</td>\n",
       "      <td>0.0</td>\n",
       "      <td>journalArticle</td>\n",
       "      <td>[{'firstName': 'Janek', 'lastName': 'Walk', 'c...</td>\n",
       "      <td>[{'tag': 'Alluvial fan', 'type': 1}, {'tag': '...</td>\n",
       "      <td>10.1016/j.gloplacha.2019.102994</td>\n",
       "      <td>https://www.sciencedirect.com/science/article/...</td>\n",
       "      <td>185</td>\n",
       "      <td>102994</td>\n",
       "      <td>Gradients in climate, geology, and topography ...</td>\n",
       "      <td>...</td>\n",
       "      <td>NaN</td>\n",
       "      <td>NaN</td>\n",
       "      <td>NaN</td>\n",
       "      <td>NaN</td>\n",
       "      <td>NaN</td>\n",
       "      <td>NaN</td>\n",
       "      <td>NaN</td>\n",
       "      <td>NaN</td>\n",
       "      <td>NaN</td>\n",
       "      <td>NaN</td>\n",
       "    </tr>\n",
       "    <tr>\n",
       "      <th>0</th>\n",
       "      <td>NaN</td>\n",
       "      <td>NaN</td>\n",
       "      <td>NaN</td>\n",
       "      <td>NaN</td>\n",
       "      <td>NaN</td>\n",
       "      <td>NaN</td>\n",
       "      <td>NaN</td>\n",
       "      <td>NaN</td>\n",
       "      <td>NaN</td>\n",
       "      <td>NaN</td>\n",
       "      <td>...</td>\n",
       "      <td>NaN</td>\n",
       "      <td>NaN</td>\n",
       "      <td>NaN</td>\n",
       "      <td>NaN</td>\n",
       "      <td>NaN</td>\n",
       "      <td>NaN</td>\n",
       "      <td>NaN</td>\n",
       "      <td>NaN</td>\n",
       "      <td>NaN</td>\n",
       "      <td>NaN</td>\n",
       "    </tr>\n",
       "    <tr>\n",
       "      <th>0</th>\n",
       "      <td>ZB8ZMSAQ</td>\n",
       "      <td>0.0</td>\n",
       "      <td>journalArticle</td>\n",
       "      <td>[{'firstName': 'Pedro', 'lastName': 'Val', 'cr...</td>\n",
       "      <td>[{'tag': 'erosion rate', 'type': 1}, {'tag': '...</td>\n",
       "      <td>10.1016/j.epsl.2017.11.004</td>\n",
       "      <td>https://www.sciencedirect.com/science/article/...</td>\n",
       "      <td>482</td>\n",
       "      <td>160-170</td>\n",
       "      <td>Tectonic control of erosion in the southern Ce...</td>\n",
       "      <td>...</td>\n",
       "      <td>NaN</td>\n",
       "      <td>NaN</td>\n",
       "      <td>NaN</td>\n",
       "      <td>NaN</td>\n",
       "      <td>NaN</td>\n",
       "      <td>NaN</td>\n",
       "      <td>NaN</td>\n",
       "      <td>NaN</td>\n",
       "      <td>NaN</td>\n",
       "      <td>NaN</td>\n",
       "    </tr>\n",
       "    <tr>\n",
       "      <th>0</th>\n",
       "      <td>NaN</td>\n",
       "      <td>NaN</td>\n",
       "      <td>NaN</td>\n",
       "      <td>NaN</td>\n",
       "      <td>NaN</td>\n",
       "      <td>NaN</td>\n",
       "      <td>NaN</td>\n",
       "      <td>NaN</td>\n",
       "      <td>NaN</td>\n",
       "      <td>NaN</td>\n",
       "      <td>...</td>\n",
       "      <td>NaN</td>\n",
       "      <td>NaN</td>\n",
       "      <td>NaN</td>\n",
       "      <td>NaN</td>\n",
       "      <td>NaN</td>\n",
       "      <td>NaN</td>\n",
       "      <td>NaN</td>\n",
       "      <td>NaN</td>\n",
       "      <td>NaN</td>\n",
       "      <td>NaN</td>\n",
       "    </tr>\n",
       "  </tbody>\n",
       "</table>\n",
       "<p>5367 rows × 48 columns</p>\n",
       "</div>"
      ],
      "text/plain": [
       "         key  version        itemType  \\\n",
       "0   XZFWVNZT      0.0  journalArticle   \n",
       "0   6EUEUZ3I      0.0  journalArticle   \n",
       "0   ZRGZ7FQD      0.0  journalArticle   \n",
       "0   3HST9T9G      0.0  journalArticle   \n",
       "0   E8NR9S8V      0.0  journalArticle   \n",
       "..       ...      ...             ...   \n",
       "0   PWEPTUQK      0.0         webpage   \n",
       "0   J3LZDR95      0.0  journalArticle   \n",
       "0        NaN      NaN             NaN   \n",
       "0   ZB8ZMSAQ      0.0  journalArticle   \n",
       "0        NaN      NaN             NaN   \n",
       "\n",
       "                                             creators  \\\n",
       "0   [{'firstName': 'G.', 'lastName': 'Abdelaziz', ...   \n",
       "0   [{'firstName': 'Zhong', 'lastName': 'Liu', 'cr...   \n",
       "0   [{'firstName': 'Abhay', 'lastName': 'Devasthal...   \n",
       "0   [{'firstName': 'Guanheng', 'lastName': 'Zheng'...   \n",
       "0   [{'firstName': 'Linette N.', 'lastName': 'Bois...   \n",
       "..                                                ...   \n",
       "0                                                 NaN   \n",
       "0   [{'firstName': 'Janek', 'lastName': 'Walk', 'c...   \n",
       "0                                                 NaN   \n",
       "0   [{'firstName': 'Pedro', 'lastName': 'Val', 'cr...   \n",
       "0                                                 NaN   \n",
       "\n",
       "                                                 tags  \\\n",
       "0                                                  []   \n",
       "0   [{'tag': 'tropical meteorology and climatology...   \n",
       "0                                                  []   \n",
       "0   [{'tag': 'Satellite remote sensing', 'type': 1...   \n",
       "0                                                  []   \n",
       "..                                                ...   \n",
       "0                                                 NaN   \n",
       "0   [{'tag': 'Alluvial fan', 'type': 1}, {'tag': '...   \n",
       "0                                                 NaN   \n",
       "0   [{'tag': 'erosion rate', 'type': 1}, {'tag': '...   \n",
       "0                                                 NaN   \n",
       "\n",
       "                                DOI  \\\n",
       "0    10.1088/1742-6596/869/1/012070   \n",
       "0                10.3390/rs12172821   \n",
       "0                               NaN   \n",
       "0         10.1016/j.rse.2019.111269   \n",
       "0           10.1175/MWR-D-16-0234.1   \n",
       "..                              ...   \n",
       "0                               NaN   \n",
       "0   10.1016/j.gloplacha.2019.102994   \n",
       "0                               NaN   \n",
       "0        10.1016/j.epsl.2017.11.004   \n",
       "0                               NaN   \n",
       "\n",
       "                                                  url volume        pages  \\\n",
       "0      https://doi.org/10.1088/1742-6596/869/1/012070  869.0        12070   \n",
       "0           https://www.mdpi.com/2072-4292/12/17/2821   12.0         2821   \n",
       "0               https://www.jstor.org/stable/26243653   97.0  ES255-ES263   \n",
       "0   https://www.sciencedirect.com/science/article/...  231.0       111269   \n",
       "0   https://journals.ametsoc.org/view/journals/mwr...  144.0    4279-4287   \n",
       "..                                                ...    ...          ...   \n",
       "0   https://bia.unibz.it/esploro/outputs/doctoral/...    NaN          NaN   \n",
       "0   https://www.sciencedirect.com/science/article/...    185       102994   \n",
       "0                                                 NaN    NaN          NaN   \n",
       "0   https://www.sciencedirect.com/science/article/...    482      160-170   \n",
       "0                                                 NaN    NaN          NaN   \n",
       "\n",
       "                                                title  ... bookTitle edition  \\\n",
       "0   Search for Best Astronomical Observatory Sites...  ...       NaN     NaN   \n",
       "0   NASA Global Satellite and Model Data Products ...  ...       NaN     NaN   \n",
       "0   SUPPLEMENT: A DECADE OF SPACEBORNE OBSERVATION...  ...       NaN     NaN   \n",
       "0   Satellite-based simulation of soil freezing/th...  ...       NaN     NaN   \n",
       "0   The Impact of the Extreme Winter 2015/16 Arcti...  ...       NaN     NaN   \n",
       "..                                                ...  ...       ...     ...   \n",
       "0                                                      ...       NaN     NaN   \n",
       "0   Gradients in climate, geology, and topography ...  ...       NaN     NaN   \n",
       "0                                                 NaN  ...       NaN     NaN   \n",
       "0   Tectonic control of erosion in the southern Ce...  ...       NaN     NaN   \n",
       "0                                                 NaN  ...       NaN     NaN   \n",
       "\n",
       "   institution reportType reportNumber websiteType websiteTitle seriesNumber  \\\n",
       "0          NaN        NaN          NaN         NaN          NaN          NaN   \n",
       "0          NaN        NaN          NaN         NaN          NaN          NaN   \n",
       "0          NaN        NaN          NaN         NaN          NaN          NaN   \n",
       "0          NaN        NaN          NaN         NaN          NaN          NaN   \n",
       "0          NaN        NaN          NaN         NaN          NaN          NaN   \n",
       "..         ...        ...          ...         ...          ...          ...   \n",
       "0          NaN        NaN          NaN         NaN          NaN          NaN   \n",
       "0          NaN        NaN          NaN         NaN          NaN          NaN   \n",
       "0          NaN        NaN          NaN         NaN          NaN          NaN   \n",
       "0          NaN        NaN          NaN         NaN          NaN          NaN   \n",
       "0          NaN        NaN          NaN         NaN          NaN          NaN   \n",
       "\n",
       "   archiveLocation  callNumber  \n",
       "0              NaN         NaN  \n",
       "0              NaN         NaN  \n",
       "0              NaN         NaN  \n",
       "0              NaN         NaN  \n",
       "0              NaN         NaN  \n",
       "..             ...         ...  \n",
       "0              NaN         NaN  \n",
       "0              NaN         NaN  \n",
       "0              NaN         NaN  \n",
       "0              NaN         NaN  \n",
       "0              NaN         NaN  \n",
       "\n",
       "[5367 rows x 48 columns]"
      ]
     },
     "execution_count": 99,
     "metadata": {},
     "output_type": "execute_result"
    }
   ],
   "source": [
    "zjson_df"
   ]
  },
  {
   "cell_type": "code",
   "execution_count": 100,
   "id": "f84465ed",
   "metadata": {},
   "outputs": [
    {
     "name": "stderr",
     "output_type": "stream",
     "text": [
      "/var/folders/pk/zld5ctsn7r9cvw4wpxfg6g8w0000gn/T/ipykernel_7821/370711879.py:2: SettingWithCopyWarning: \n",
      "A value is trying to be set on a copy of a slice from a DataFrame\n",
      "\n",
      "See the caveats in the documentation: https://pandas.pydata.org/pandas-docs/stable/user_guide/indexing.html#returning-a-view-versus-a-copy\n",
      "  zjson_df.DOI_null[zjson_df.DOI.isnull()] = 'Null'\n"
     ]
    }
   ],
   "source": [
    "zjson_df[\"DOI_null\"] = 0\n",
    "zjson_df.DOI_null[zjson_df.DOI.isnull()] = 'Null'\n",
    "zjson_df.DOI_null[~zjson_df.DOI.isnull()] = 'DOI'\n",
    "#zjson_df[\"DOI_null\"] = zjson_df[\"DOI\"].notnull().astype(int)"
   ]
  },
  {
   "cell_type": "code",
   "execution_count": 213,
   "id": "33747567",
   "metadata": {},
   "outputs": [
    {
     "data": {
      "text/plain": [
       "<AxesSubplot:xlabel='itemType', ylabel='Count'>"
      ]
     },
     "execution_count": 213,
     "metadata": {},
     "output_type": "execute_result"
    },
    {
     "data": {
      "image/png": "[encoded data removed]",
      "text/plain": [
       "<Figure size 432x288 with 1 Axes>"
      ]
     },
     "metadata": {
      "needs_background": "light"
     },
     "output_type": "display_data"
    }
   ],
   "source": [
    "sns.histplot(zjson_df[\"itemType\"])"
   ]
  },
  {
   "cell_type": "code",
   "execution_count": 101,
   "id": "33b0f85d",
   "metadata": {},
   "outputs": [
    {
     "data": {
      "text/plain": [
       "journalArticle     3759\n",
       "conferencePaper     184\n",
       "bookSection          68\n",
       "thesis               59\n",
       "book                 48\n",
       "webpage              30\n",
       "report               30\n",
       "Name: itemType, dtype: int64"
      ]
     },
     "execution_count": 101,
     "metadata": {},
     "output_type": "execute_result"
    }
   ],
   "source": [
    "zjson_df['itemType'].value_counts()"
   ]
  },
  {
   "cell_type": "code",
   "execution_count": 215,
   "id": "239466dc",
   "metadata": {},
   "outputs": [
    {
     "data": {
      "text/plain": [
       "<AxesSubplot:xlabel='DOI_null', ylabel='Count'>"
      ]
     },
     "execution_count": 215,
     "metadata": {},
     "output_type": "execute_result"
    },
    {
     "data": {
      "image/png": "[encoded data removed]",
      "text/plain": [
       "<Figure size 432x288 with 1 Axes>"
      ]
     },
     "metadata": {
      "needs_background": "light"
     },
     "output_type": "display_data"
    }
   ],
   "source": [
    "sns.histplot(zjson_df[\"DOI_null\"])"
   ]
  },
  {
   "cell_type": "code",
   "execution_count": 216,
   "id": "01da4120",
   "metadata": {},
   "outputs": [
    {
     "data": {
      "text/plain": [
       "DOI     4445\n",
       "Null     544\n",
       "Name: DOI_null, dtype: int64"
      ]
     },
     "execution_count": 216,
     "metadata": {},
     "output_type": "execute_result"
    }
   ],
   "source": [
    "zjson_df['DOI_null'].value_counts()"
   ]
  },
  {
   "cell_type": "code",
   "execution_count": 217,
   "id": "0195515f",
   "metadata": {},
   "outputs": [
    {
     "data": {
      "text/html": [
       "<div>\n",
       "<style scoped>\n",
       "    .dataframe tbody tr th:only-of-type {\n",
       "        vertical-align: middle;\n",
       "    }\n",
       "\n",
       "    .dataframe tbody tr th {\n",
       "        vertical-align: top;\n",
       "    }\n",
       "\n",
       "    .dataframe thead th {\n",
       "        text-align: right;\n",
       "    }\n",
       "</style>\n",
       "<table border=\"1\" class=\"dataframe\">\n",
       "  <thead>\n",
       "    <tr style=\"text-align: right;\">\n",
       "      <th>DOI_null</th>\n",
       "      <th>DOI</th>\n",
       "      <th>Null</th>\n",
       "    </tr>\n",
       "    <tr>\n",
       "      <th>itemType</th>\n",
       "      <th></th>\n",
       "      <th></th>\n",
       "    </tr>\n",
       "  </thead>\n",
       "  <tbody>\n",
       "    <tr>\n",
       "      <th>book</th>\n",
       "      <td>3</td>\n",
       "      <td>48</td>\n",
       "    </tr>\n",
       "    <tr>\n",
       "      <th>bookSection</th>\n",
       "      <td>79</td>\n",
       "      <td>0</td>\n",
       "    </tr>\n",
       "    <tr>\n",
       "      <th>conferencePaper</th>\n",
       "      <td>211</td>\n",
       "      <td>5</td>\n",
       "    </tr>\n",
       "    <tr>\n",
       "      <th>journalArticle</th>\n",
       "      <td>4128</td>\n",
       "      <td>366</td>\n",
       "    </tr>\n",
       "    <tr>\n",
       "      <th>report</th>\n",
       "      <td>6</td>\n",
       "      <td>35</td>\n",
       "    </tr>\n",
       "    <tr>\n",
       "      <th>thesis</th>\n",
       "      <td>11</td>\n",
       "      <td>60</td>\n",
       "    </tr>\n",
       "    <tr>\n",
       "      <th>webpage</th>\n",
       "      <td>7</td>\n",
       "      <td>30</td>\n",
       "    </tr>\n",
       "  </tbody>\n",
       "</table>\n",
       "</div>"
      ],
      "text/plain": [
       "DOI_null          DOI  Null\n",
       "itemType                   \n",
       "book                3    48\n",
       "bookSection        79     0\n",
       "conferencePaper   211     5\n",
       "journalArticle   4128   366\n",
       "report              6    35\n",
       "thesis             11    60\n",
       "webpage             7    30"
      ]
     },
     "execution_count": 217,
     "metadata": {},
     "output_type": "execute_result"
    }
   ],
   "source": [
    "pd.crosstab(zjson_df.itemType, zjson_df.DOI_null)"
   ]
  },
  {
   "cell_type": "code",
   "execution_count": 218,
   "id": "67c55827",
   "metadata": {
    "scrolled": true
   },
   "outputs": [
    {
     "data": {
      "text/html": [
       "<div>\n",
       "<style scoped>\n",
       "    .dataframe tbody tr th:only-of-type {\n",
       "        vertical-align: middle;\n",
       "    }\n",
       "\n",
       "    .dataframe tbody tr th {\n",
       "        vertical-align: top;\n",
       "    }\n",
       "\n",
       "    .dataframe thead th {\n",
       "        text-align: right;\n",
       "    }\n",
       "</style>\n",
       "<table border=\"1\" class=\"dataframe\">\n",
       "  <thead>\n",
       "    <tr style=\"text-align: right;\">\n",
       "      <th>DOI_null</th>\n",
       "      <th>DOI</th>\n",
       "      <th>Null</th>\n",
       "    </tr>\n",
       "    <tr>\n",
       "      <th>itemType</th>\n",
       "      <th></th>\n",
       "      <th></th>\n",
       "    </tr>\n",
       "  </thead>\n",
       "  <tbody>\n",
       "    <tr>\n",
       "      <th>book</th>\n",
       "      <td>0.058824</td>\n",
       "      <td>0.941176</td>\n",
       "    </tr>\n",
       "    <tr>\n",
       "      <th>bookSection</th>\n",
       "      <td>1.000000</td>\n",
       "      <td>0.000000</td>\n",
       "    </tr>\n",
       "    <tr>\n",
       "      <th>conferencePaper</th>\n",
       "      <td>0.976852</td>\n",
       "      <td>0.023148</td>\n",
       "    </tr>\n",
       "    <tr>\n",
       "      <th>journalArticle</th>\n",
       "      <td>0.918558</td>\n",
       "      <td>0.081442</td>\n",
       "    </tr>\n",
       "    <tr>\n",
       "      <th>report</th>\n",
       "      <td>0.146341</td>\n",
       "      <td>0.853659</td>\n",
       "    </tr>\n",
       "    <tr>\n",
       "      <th>thesis</th>\n",
       "      <td>0.154930</td>\n",
       "      <td>0.845070</td>\n",
       "    </tr>\n",
       "    <tr>\n",
       "      <th>webpage</th>\n",
       "      <td>0.189189</td>\n",
       "      <td>0.810811</td>\n",
       "    </tr>\n",
       "  </tbody>\n",
       "</table>\n",
       "</div>"
      ],
      "text/plain": [
       "DOI_null              DOI      Null\n",
       "itemType                           \n",
       "book             0.058824  0.941176\n",
       "bookSection      1.000000  0.000000\n",
       "conferencePaper  0.976852  0.023148\n",
       "journalArticle   0.918558  0.081442\n",
       "report           0.146341  0.853659\n",
       "thesis           0.154930  0.845070\n",
       "webpage          0.189189  0.810811"
      ]
     },
     "execution_count": 218,
     "metadata": {},
     "output_type": "execute_result"
    }
   ],
   "source": [
    "pd.crosstab(zjson_df.itemType, zjson_df.DOI_null,normalize='index')"
   ]
  },
  {
   "cell_type": "code",
   "execution_count": 102,
   "id": "6c490d54",
   "metadata": {},
   "outputs": [
    {
     "data": {
      "text/plain": [
       "key                    0.778461\n",
       "version                0.778461\n",
       "itemType               0.778461\n",
       "creators               0.775293\n",
       "tags                   0.775293\n",
       "DOI                    0.691820\n",
       "url                    0.729458\n",
       "volume                 0.680455\n",
       "pages                  0.692938\n",
       "title                  0.778461\n",
       "publicationTitle       0.650456\n",
       "abstractNote           0.649898\n",
       "date                   0.774362\n",
       "ISSN                   0.637600\n",
       "language               0.637786\n",
       "journalAbbreviation    0.331284\n",
       "libraryCatalog         0.770076\n",
       "accessDate             0.726663\n",
       "bib                    0.778461\n",
       "index                  0.778461\n",
       "tURL                   1.000000\n",
       "fail                   1.000000\n",
       "perf                   1.000000\n",
       "year                   0.774362\n",
       "author                 0.775293\n",
       "rights                 0.116452\n",
       "issue                  0.509968\n",
       "shortTitle             0.169741\n",
       "numPages               0.008012\n",
       "extra                  0.072666\n",
       "ISBN                   0.024036\n",
       "publisher              0.035588\n",
       "proceedingsTitle       0.032607\n",
       "conferenceName         0.030930\n",
       "series                 0.015465\n",
       "place                  0.017328\n",
       "university             0.008012\n",
       "thesisType             0.009689\n",
       "bookTitle              0.012670\n",
       "edition                0.001304\n",
       "institution            0.005217\n",
       "reportType             0.003354\n",
       "reportNumber           0.003726\n",
       "websiteType            0.001304\n",
       "websiteTitle           0.001118\n",
       "seriesNumber           0.000186\n",
       "archiveLocation        0.000745\n",
       "callNumber             0.000373\n",
       "DOI_null               1.000000\n",
       "dtype: float64"
      ]
     },
     "execution_count": 102,
     "metadata": {},
     "output_type": "execute_result"
    }
   ],
   "source": [
    "1 - zjson_df.isna().sum() / len(zjson_df)"
   ]
  },
  {
   "cell_type": "code",
   "execution_count": 190,
   "id": "9c565e93",
   "metadata": {},
   "outputs": [],
   "source": [
    "type1 = zjson_df[zjson_df['itemType'] == 'webpage'][['itemType', 'url']]\n",
    "type2 = zjson_df[zjson_df['itemType'] == 'note'][['itemType', 'url']]\n",
    "type3 = zjson_df[zjson_df['itemType'] == 'report'][['itemType', 'url']]\n",
    "type4 = zjson_df[zjson_df['itemType'] == 'thesis'][['itemType', 'url']]\n",
    "type5 = zjson_df[zjson_df['itemType'] == 'book'][['itemType', 'url']]\n",
    "typetab = pd.concat([type1, type2, type3, type4, type5], sort=False)\n",
    "typetab.to_csv('type_tables.csv')"
   ]
  },
  {
   "cell_type": "code",
   "execution_count": 200,
   "id": "cfd8cdb9",
   "metadata": {},
   "outputs": [
    {
     "name": "stdout",
     "output_type": "stream",
     "text": [
      "83\n",
      "84\n",
      "124\n",
      "252\n",
      "253\n",
      "326\n",
      "338\n",
      "344\n"
     ]
    }
   ],
   "source": [
    "for index, row in zjson_df.iterrows():\n",
    "    if (type(row[\"extra\"]) == str) and row[\"extra\"][0:3] == 'DOI':\n",
    "        print(row[\"index\"])\n",
    "        row[\"DOI\"] = row[\"extra\"][5:]      "
   ]
  },
  {
   "cell_type": "code",
   "execution_count": 226,
   "id": "2e9ee28b",
   "metadata": {},
   "outputs": [
    {
     "name": "stdout",
     "output_type": "stream",
     "text": [
      "https://www.koreascience.or.kr/article/JAKO201514861263804.page\n",
      "https://search.proquest.com/openview/a719d0ff4565c6533e48f44c618b721d/1?pq-origsite=gscholar&cbl=18750\n",
      "https://search.proquest.com/openview/d6aa7c858827c98f64a2deae641325b5/1?pq-origsite=gscholar&cbl=18750\n",
      "https://search.proquest.com/openview/901f1d92aceb7751be73fdb5c63de7a4/1?pq-origsite=gscholar&cbl=18750\n",
      "https://search.proquest.com/openview/832ba73d31b6bf3a7ad179bd4640d12e/1?pq-origsite=gscholar&cbl=105742\n",
      "http://ch.whu.edu.cn/en/article/doi/10.13203/j.whugis20180273?viewType=SUP\n",
      "https://search.proquest.com/openview/9c55083a6244a504bd1c9f92e50bf829/1?pq-origsite=gscholar&cbl=18750&diss=y\n",
      "https://search.proquest.com/openview/a1d85f2ee63aa3e3134d1e556d24ecff/1?pq-origsite=gscholar&cbl=18750\n",
      "https://arxiv.org/abs/2110.10849\n",
      "https://mausamjournal.imd.gov.in/index.php/MAUSAM/article/view/145\n",
      "https://search.proquest.com/openview/d3accaf31876df4d1d5cea83a09cc97d/1?pq-origsite=gscholar&cbl=18750\n",
      "https://search.proquest.com/openview/df783921fad52c3160b905994f1f8091/1?pq-origsite=gscholar&cbl=18750\n",
      "https://cdr.lib.unc.edu/concern/masters_papers/47429b882\n",
      "https://search.proquest.com/openview/c7bfb4b770bb6ffe7c228933f6dd045e/1?pq-origsite=gscholar&cbl=18750&diss=y\n",
      "https://search.proquest.com/openview/710e83ac97571b750bb4c68fa890027a/1?pq-origsite=gscholar&cbl=18750\n",
      "https://search.proquest.com/openview/866b5ba0eb9d4d08c328472581556f7e/1?pq-origsite=gscholar&cbl=4882998\n",
      "https://search.proquest.com/openview/0634cb64cc1b58d7338258e4f0d3d49d/1?pq-origsite=gscholar&cbl=2032318\n",
      "https://search.proquest.com/openview/6656c8859138225baf4fd5ffd96b9f77/1?pq-origsite=gscholar&cbl=18750&diss=y\n",
      "https://search.proquest.com/openview/af371a71cb5bb94b9f800f043fa8fccc/1?pq-origsite=gscholar&cbl=18750&diss=y\n",
      "https://search.proquest.com/openview/448a1c74b7ab223434be29be8518b26a/1?pq-origsite=gscholar&cbl=18750\n",
      "https://search.proquest.com/openview/525a277d0876388117f9f3e67df3bebf/1?pq-origsite=gscholar&cbl=18750\n",
      "https://journals.ametsoc.org/view/journals/clim/31/2/jcli-d-17-0121.1.xml\n",
      "https://search.proquest.com/openview/da62a119163cda173814073c75d3bc4e/1?pq-origsite=gscholar&cbl=18750\n",
      "https://arxiv.org/abs/2112.03895\n",
      "https://helda.helsinki.fi/handle/10138/224308\n",
      "https://search.proquest.com/openview/e9eb3be27052804b51b95c50ee5f642f/1?pq-origsite=gscholar&cbl=18750&diss=y\n",
      "https://search.proquest.com/openview/605f66881ee28abc3c0b7cac01c7140c/1?pq-origsite=gscholar&cbl=18750\n",
      "https://search.proquest.com/openview/4a51fe3997ce559262a4dafed0317536/1?pq-origsite=gscholar&cbl=4882998\n",
      "https://search.proquest.com/openview/f327f1a9b4bca32594716d23fc86f0a8/1?pq-origsite=gscholar&cbl=44156\n",
      "https://search.proquest.com/openview/8b29ea8a3da2c95315e0908a3c088e28/1?pq-origsite=gscholar&cbl=18750\n",
      "https://www.spiedigitallibrary.org/conference-proceedings-of-spie/6296/62960S/Data-processing-and-in-flight-calibration-systems-for-OMI-EOS/10.1117/12.680537.short\n",
      "https://ieeexplore.ieee.org/abstract/document/6607159/\n",
      "https://search.proquest.com/openview/334496477fe7f1edd35fde2173240bc0/1?pq-origsite=gscholar&cbl=18750\n",
      "https://search.proquest.com/openview/ba96d79117216c0a055cfb2e7c1b2d70/1?pq-origsite=gscholar&cbl=18750&diss=y\n",
      "https://search.proquest.com/openview/72dc1af555958fc715f213259791dd87/1?pq-origsite=gscholar&cbl=18750\n",
      "https://link.springer.com/chapter/10.1007/978-3-030-60551-3_8\n",
      "https://search.proquest.com/openview/deb70e710bbed48146f93b09c06e066a/1?pq-origsite=gscholar&cbl=51922&diss=y\n",
      "https://www.koreascience.or.kr/article/JAKO201513251334730.page\n",
      "https://search.proquest.com/openview/5c3c99bd6cf89983069cc61eac9202fc/1?pq-origsite=gscholar&cbl=2026366&diss=y\n",
      "https://search.proquest.com/openview/217ff831d95fcd6702c20545f1b9679b/1?pq-origsite=gscholar&cbl=18750\n",
      "https://search.proquest.com/openview/d269cc5fb5dd585218adabd654fbb963/1?pq-origsite=gscholar&cbl=2032338\n",
      "https://www.pnas.org/content/107/45/19171.short\n",
      "https://search.proquest.com/openview/6f1e9d1688d1f165ef2880b97265c5da/1?pq-origsite=gscholar&cbl=396471\n",
      "https://search.proquest.com/openview/49cc5b08905ef0e40486dd055daa970d/1?pq-origsite=gscholar&cbl=51922\n",
      "https://search.proquest.com/openview/25a10d68f07307b22218cb725fce0114/1?pq-origsite=gscholar&cbl=18750\n",
      "https://search.proquest.com/openview/36d4cfc5509769bbbaafb90de9ac4206/1?pq-origsite=gscholar&cbl=18750&diss=y\n",
      "https://www.koreascience.or.kr/article/JAKO201925258774733.page\n",
      "https://www.koreascience.or.kr/article/JAKO201504255079264.page\n",
      "https://www.koreascience.or.kr/article/JAKO201607564006726.page\n",
      "https://search.proquest.com/openview/1b18c268fe44701bea391291a94252b3/1?pq-origsite=gscholar&cbl=18750&diss=y\n",
      "https://search.proquest.com/openview/83d891acbc9ad32d7b856eb0d4eed6f3/1?pq-origsite=gscholar&cbl=18750\n",
      "https://search.proquest.com/openview/a3454be39defb9f0b203a8adcc0a30c9/1?pq-origsite=gscholar&cbl=51922&diss=y\n",
      "https://search.proquest.com/openview/9dd6693e205b6dd93dd45621e944d284/1?pq-origsite=gscholar&cbl=18750&diss=y\n",
      "https://search.proquest.com/openview/4deb6392489f58cdf6550f3bf8dc4c62/1?pq-origsite=gscholar&cbl=18750&diss=y\n",
      "https://search.proquest.com/openview/8e2059cfe63ac7f4042f95a4352afaea/1?pq-origsite=gscholar&cbl=18750&diss=y\n",
      "http://ch.whu.edu.cn/en/article/doi/10.13203/j.whugis20150390\n",
      "https://www.koreascience.or.kr/article/JAKO201314358626316.page\n",
      "https://search.proquest.com/openview/2fd68005028c52ca74bc70b36b71e4e7/1?pq-origsite=gscholar&cbl=396471\n",
      "https://arxiv.org/abs/1709.04757\n",
      "https://www.osapublishing.org/abstract.cfm?uri=ao-60-24-7186\n",
      "https://search.proquest.com/openview/b5d73fcfd75ceffbed4e2f619ba3c287/1?pq-origsite=gscholar&cbl=18750\n",
      "https://search.proquest.com/openview/a67b3f4aac3106fb1c9c89c2335c6c60/1?pq-origsite=gscholar&cbl=18750&diss=y\n",
      "https://arxiv.org/abs/1604.05119\n",
      "https://arxiv.org/abs/1907.04357\n",
      "https://search.proquest.com/openview/5db12ee2a81a3135a9b83872ba0a31ef/1?pq-origsite=gscholar&cbl=44156\n",
      "https://search.proquest.com/openview/f773f30cf7788b9c5b9b0ec29dc0054a/1?pq-origsite=gscholar&cbl=18750\n",
      "https://search.proquest.com/openview/350aa24b8fa3920e2a6a5d209198123b/1?pq-origsite=gscholar&cbl=18750&diss=y\n",
      "https://search.proquest.com/openview/31631818671c9d9f88c5bc8326e8a04a/1?pq-origsite=gscholar&cbl=18750\n",
      "https://search.proquest.com/openview/76767f8c6220fd47b07500dea2e58e53/1?pq-origsite=gscholar&cbl=2037674\n",
      "https://search.proquest.com/openview/86e4b532f40cbda240c2608aa540191a/1?pq-origsite=gscholar&cbl=18750\n",
      "https://ieeexplore.ieee.org/abstract/document/1526111/\n",
      "https://ieeexplore.ieee.org/abstract/document/7331927/\n",
      "https://ieeexplore.ieee.org/abstract/document/1368556/\n",
      "https://search.proquest.com/openview/86760d64172c3a38f05949417d351155/1?pq-origsite=gscholar&cbl=18750&diss=y\n",
      "https://search.proquest.com/openview/495871514d4f4c0edee279e568c3d28f/1?pq-origsite=gscholar&cbl=18750\n",
      "https://search.proquest.com/openview/22815f804fe2ce4d9d757e400e4bbac3/1?pq-origsite=gscholar&cbl=18750\n",
      "https://search.proquest.com/openview/119e3b7d868955efb8b8782eaf03aa32/1?pq-origsite=gscholar&cbl=18750\n",
      "https://openscholar.dut.ac.za/handle/10321/3249\n",
      "https://search.proquest.com/openview/ecf1eeccc57dc7b40c0dd3b6cdaef365/1?pq-origsite=gscholar&cbl=18750\n",
      "https://search.proquest.com/openview/2639d68379104847d35d62e0a245cbfa/1?pq-origsite=gscholar&cbl=18750\n",
      "https://search.proquest.com/openview/648e8e15bc8df19f3b05ced3b4cd0913/1?pq-origsite=gscholar&cbl=18750\n",
      "https://search.proquest.com/openview/45bc822ac777d1c53bc3dace3504a3e5/1?pq-origsite=gscholar&cbl=18750&diss=y\n",
      "https://search.proquest.com/openview/c976e921d8175ea00d34ade50499a40b/1?pq-origsite=gscholar&cbl=18750&diss=y\n",
      "https://search.proquest.com/openview/e6b0e024095a705245c0cf87221c4b3e/1?pq-origsite=gscholar&cbl=18750&diss=y\n",
      "https://iwrr.sinaweb.net/article_76526.html?lang=en\n",
      "https://civense.ub.ac.id/index.php/civense/article/view/48\n",
      "https://www.scirp.org/html/9-2800129_22908.htm\n",
      "https://search.proquest.com/openview/c7361ca5a815b0d854505d3c3425af9d/1?pq-origsite=gscholar&cbl=18750\n",
      "https://search.proquest.com/openview/e72d6bf7bf2fdad9b9e2ad5bedbef43b/1?pq-origsite=gscholar&cbl=18750\n",
      "https://search.proquest.com/openview/e8dc3371f384378daefd3d625d10f103/1?pq-origsite=gscholar&cbl=18750\n",
      "https://search.proquest.com/openview/a8cd0e3b5469d3423744d0827b58360c/1?pq-origsite=gscholar&cbl=18750&diss=y\n",
      "https://search.proquest.com/openview/a62e7b454a9f495060e62b97aff9e082/1?pq-origsite=gscholar&cbl=18750&diss=y\n",
      "https://search.proquest.com/openview/a9db0494e8c0a3c095a5c187f9d4bbe6/1?pq-origsite=gscholar&cbl=18750\n",
      "https://search.proquest.com/openview/0316e96c09ca6c93f1029fc49934191b/1?pq-origsite=gscholar&cbl=18750&diss=y\n",
      "https://search.proquest.com/openview/939cf266db882560e84d40571afe4ce7/1?pq-origsite=gscholar&cbl=18750\n",
      "https://bioone.org/journals/mountain-research-and-development/volume-35/issue-2/MRD-JOURNAL-D-14-00119.1/Spatial-Downscaling-of-Monthly-TRMM-Precipitation-Based-on-EVI-and/10.1659/MRD-JOURNAL-D-14-00119.1.short\n",
      "https://minerva-access.unimelb.edu.au/handle/11343/217355\n",
      "https://www.scirp.org/html/1-1630033_26894.htm\n",
      "https://bioone.org/journals/Journal-of-Resources-and-Ecology/volume-3/issue-4/j.issn.1674-764x.2012.04.009/Evaluation-of-TRMM-3B42-Precipitation-Product-using-Rain-Gauge-Data/10.5814/j.issn.1674-764x.2012.04.009.short\n",
      "https://search.proquest.com/openview/f63595429ffd0d617709ce310e6823dd/1?pq-origsite=gscholar&cbl=18750\n",
      "https://search.proquest.com/openview/1b71256c2a53c266caff52381bd19f6e/1?pq-origsite=gscholar&cbl=18750\n",
      "https://search.proquest.com/openview/d68c18f85256dcc2f7643b4c0bcfa937/1?pq-origsite=gscholar&cbl=18750\n",
      "https://search.proquest.com/openview/28c89872a708dd2a31c6c1a493c30c2c/1?pq-origsite=gscholar&cbl=18750\n",
      "https://search.proquest.com/openview/5bb96a0b2504f32283ce81994fda0d32/1?pq-origsite=gscholar&cbl=18750\n",
      "https://search.proquest.com/openview/cf1bd15a2355d78035a6408763afc21a/1?pq-origsite=gscholar&cbl=105744\n",
      "https://www.pnas.org/content/114/32/8481.short\n",
      "https://search.proquest.com/openview/1a2f74368118c1773b19489cba90870f/1?pq-origsite=gscholar&cbl=18750\n",
      "https://www.scirp.org/html/15-4700403_58307.htm\n",
      "https://www.scirp.org/journal/paperinformation.aspx?paperid=65431\n",
      "https://search.proquest.com/openview/bbbc0c8c46df243c6e5e16d4f3d99b72/1?pq-origsite=gscholar&cbl=18750&diss=y\n",
      "https://search.proquest.com/openview/9dc178ed8a6f58391eadbad256754a3a/1?pq-origsite=gscholar&cbl=18750\n",
      "https://search.proquest.com/openview/c04fb059dd3e466fffd568f882b0940b/1?pq-origsite=gscholar&cbl=18750\n",
      "https://elibrary.asabe.org/abstract.asp?aid=52899\n",
      "http://ea.donntu.edu.ua/handle/123456789/19731\n",
      "https://search.proquest.com/openview/8de4582156b3e907f1099cb5cbafcb39/1?pq-origsite=gscholar&cbl=18750&diss=y\n",
      "https://search.proquest.com/openview/37f1ff3bb62a9da3207da62c6363709a/1?pq-origsite=gscholar&cbl=18750&diss=y\n",
      "https://search.proquest.com/openview/d4d26fafe8130eec331742b5aa593fbe/1?pq-origsite=gscholar&cbl=18750\n",
      "https://www.pnas.org/content/113/33/9204.short\n",
      "https://search.proquest.com/openview/dcbf8b3ed050ba874d9b2f2cbff7affa/1?pq-origsite=gscholar&cbl=18750\n",
      "https://search.proquest.com/openview/029410adb3e0d21e3af63d37078e0de7/1?pq-origsite=gscholar&cbl=18750&diss=y\n",
      "https://www.scielo.br/scielo.php?pid=S0102-77862020000501005&script=sci_arttext\n",
      "https://search.proquest.com/openview/e59114ba51f0784f419814a00ac4712a/1?pq-origsite=gscholar&cbl=18750\n",
      "https://arxiv.org/abs/1812.00760\n",
      "https://search.proquest.com/openview/795d7e3a23695ccfe1326e73dc6440c0/1?pq-origsite=gscholar&cbl=18750\n",
      "https://search.proquest.com/openview/e9f1b55e6fa74eb9b51fb1d214bce213/1?pq-origsite=gscholar&cbl=18750\n",
      "https://search.proquest.com/openview/de72897dec17d0f382031ff9ed67f8d5/1?pq-origsite=gscholar&cbl=18750\n",
      "https://search.proquest.com/openview/6197613898c51c2afd7ed48bc6c2fe45/1?pq-origsite=gscholar&cbl=18750\n",
      "https://search.proquest.com/openview/1be2dddae7bbea8669da13e6e5c1bf8d/1?pq-origsite=gscholar&cbl=18750\n",
      "https://search.proquest.com/openview/484f6af8092c27996564fb266defd5b5/1?pq-origsite=gscholar&cbl=18750\n",
      "https://search.proquest.com/openview/ee3f644a08d1bf53581abe839e755292/1?pq-origsite=gscholar&cbl=18750\n",
      "https://search.proquest.com/openview/56bd3d4496bb9a991d9d06e2b2746088/1?pq-origsite=gscholar&cbl=18750\n",
      "https://search.proquest.com/openview/c2ed03c2262eec0b6876c5e8004c9676/1?pq-origsite=gscholar&cbl=18750&diss=y\n",
      "https://jte.hcmute.edu.vn/index.php/jte/article/view/1093\n",
      "https://search.proquest.com/openview/e259c02e84f71e78fd8c306e58b8bf8e/1?pq-origsite=gscholar&cbl=18750\n",
      "https://search.proquest.com/openview/041e5696faa4a8ebbdc79ef824d87043/1?pq-origsite=gscholar&cbl=18750\n",
      "https://search.proquest.com/openview/10cae17b56fdcf34b64b05465a66fa77/1?pq-origsite=gscholar&cbl=18750&diss=y\n",
      "https://search.proquest.com/openview/9b963a756e1cf95c6b791c16f43320d9/1?pq-origsite=gscholar&cbl=18750\n",
      "https://search.proquest.com/openview/cf678543c4384ef3fb642a117d6a2aa2/1?pq-origsite=gscholar&cbl=18750\n",
      "https://www.nature.com/articles/s41598-021-92927-0\n",
      "https://go.gale.com/ps/i.do?id=GALE%7CA651251273&sid=googleScholar&v=2.1&it=r&linkaccess=abs&issn=13438832&p=AONE&sw=w\n",
      "https://earth-planets-space.springeropen.com/articles/10.1186/s40623-021-01360-0\n",
      "https://search.proquest.com/openview/acd942b5f4c91d267048331332ab143d/1?pq-origsite=gscholar&cbl=2034776\n",
      "https://search.proquest.com/openview/0d155aab4b72b1afcd002b23b4b55890/1?pq-origsite=gscholar&cbl=18750\n",
      "https://ieeexplore.ieee.org/abstract/document/9554371/\n",
      "https://search.proquest.com/openview/9efda279e3407c09fc685dd0d858e160/1?pq-origsite=gscholar&cbl=18750&diss=y\n",
      "https://link.springer.com/article/10.1007/s12040-019-1117-6\n",
      "https://search.proquest.com/openview/4fb0efa09a1da819d9f8846c9961b650/1?pq-origsite=gscholar&cbl=18750\n",
      "https://mausamjournal.imd.gov.in/index.php/MAUSAM/article/view/49\n",
      "https://search.proquest.com/openview/025c4d693ad9e58bd68721016883e4ce/1?pq-origsite=gscholar&cbl=4882998\n",
      "https://academic.oup.com/pasj/advance-article-abstract/doi/10.1093/pasj/psab126/6527740\n",
      "https://search.proquest.com/openview/1f0fe8cf58d3df40b8495df3c95c8167/1?pq-origsite=gscholar&cbl=18750\n",
      "https://search.proquest.com/openview/3da6d52b7a0297babd0749bd96b5cd11/1?pq-origsite=gscholar&cbl=18750&diss=y\n",
      "https://search.proquest.com/openview/735c125792278ebb8c3569d4cf23a7d9/1?pq-origsite=gscholar&cbl=18750&diss=y\n",
      "https://search.proquest.com/openview/8df62625f345ab5848818034738b5085/1?pq-origsite=gscholar&cbl=18750\n",
      "https://search.proquest.com/openview/8136b2c512cbcdf99900447682c7e791/1?pq-origsite=gscholar&cbl=18750&diss=y\n",
      "https://search.proquest.com/openview/752b8498bf06b8bc9f7a44cabe9bd9c1/1?pq-origsite=gscholar&cbl=18750&diss=y\n",
      "https://search.proquest.com/openview/66afab6a74c90ee6aa1d29d05c6b89f3/1?pq-origsite=gscholar&cbl=18750\n",
      "https://search.proquest.com/openview/a3a5f37555763a19d9a35b164dc736e8/1?pq-origsite=gscholar&cbl=18750\n",
      "https://search.proquest.com/openview/7942e9d73551e60f4b6bb89af8c6785a/1?pq-origsite=gscholar&cbl=18750&diss=y\n",
      "https://www.scirp.org/html/2-4700632_81546.htm\n",
      "https://scirp.org/journal/paperinformation.aspx?paperid=114416\n",
      "https://arxiv.org/abs/1609.00426\n",
      "https://search.proquest.com/openview/c0cb150dce06fe6202417bb2cd870db4/1?pq-origsite=gscholar&cbl=18750&diss=y\n",
      "https://search.proquest.com/openview/01748451739e4c9c2dd5b046b95280b5/1?pq-origsite=gscholar&cbl=18750&diss=y\n",
      "https://search.proquest.com/openview/ad304e96fee9d8a1838ce4050239e02b/1?pq-origsite=gscholar&cbl=18750\n",
      "https://search.proquest.com/openview/472c5fcdfb68b137347a5281d5c45790/1?pq-origsite=gscholar&cbl=18750&diss=y\n",
      "https://search.proquest.com/openview/f3ebcd2ded8dd9582c0df80b91c018db/1?pq-origsite=gscholar&cbl=18750\n",
      "https://search.proquest.com/openview/c29c6b41c3b03a5dbd94f22bc3e3d618/1?pq-origsite=gscholar&cbl=18750\n",
      "https://search.proquest.com/openview/9906246cdcad9e8426a30a6c0c9e2adb/1?pq-origsite=gscholar&cbl=18750&diss=y\n",
      "https://search.proquest.com/openview/1f43b99948c11cbf3cd6c5b3e84b8b77/1?pq-origsite=gscholar&cbl=18750&diss=y\n",
      "https://search.proquest.com/openview/4f0ebc1fea9d8ad9584ef576e03cc7a1/1?pq-origsite=gscholar&cbl=18750&diss=y\n",
      "https://search.proquest.com/openview/ae109f1698dcf0e93907d462e16ae337/1?pq-origsite=gscholar&cbl=18750\n",
      "https://search.proquest.com/openview/3f3076cc0ed01a65c04ea115390546ae/1?pq-origsite=gscholar&cbl=18750&diss=y\n",
      "https://www.scirp.org/journal/paperinformation.aspx?paperid=110233\n",
      "http://zgnyqx.ieda.org.cn/EN/abstract/abstract3897.shtml\n",
      "https://www.scirp.org/html/5-1770363_78496.htm?pagespeed=noscript\n",
      "http://www.scielo.org.co/scielo.php?script=sci_arttext&pid=S0304-28472017000308251\n",
      "https://www.scirp.org/journal/paperinformation.aspx?paperid=114172\n",
      "https://search.proquest.com/openview/ec219c0cd2f57364fd787aad5e0fc1f6/1?pq-origsite=gscholar&cbl=2032318\n",
      "http://zgnyqx.ieda.org.cn/EN/abstract/abstract3952.shtml\n",
      "https://search.proquest.com/openview/a2c0258fc6baaa759b7424003af3a330/1?pq-origsite=gscholar&cbl=1486350\n",
      "https://geomatejournal.com/geomate/article/view/366\n",
      "http://ojsunito.cineca.it/index.php/junco/article/view/497\n",
      "https://www.scirp.org/html/2-2170932_90467.htm\n",
      "http://www.desert.ac.cn/EN/abstract/abstract2822.shtml\n",
      "https://www.scirp.org/html/1-1630202_87407.htm?pagespeed=noscript\n",
      "https://cjes.guilan.ac.ir/m/article_5395.html\n",
      "https://search.proquest.com/openview/c869d3dca4bde657f24c2a0fc5b5928c/1?pq-origsite=gscholar&cbl=18750&diss=y\n",
      "https://www.researching.cn/articles/OJc0937463e2564f1/abstract\n",
      "https://jhe.usb.ac.ir/article_4414.html\n",
      "https://link.springer.com/article/10.1007/s00382-017-3745-3\n",
      "http://www.scielo.org.co/scielo.php?pid=S0012-73532019000100297&script=sci_arttext&tlng=en\n",
      "https://search.proquest.com/openview/ad9224c4c053d94eca12743aa2de4422/1?pq-origsite=gscholar&cbl=18750&diss=y\n",
      "https://repositorio.ikiam.edu.ec:8443/jspui/handle/RD_IKIAM/479\n",
      "https://eartharxiv.org/cyq3e\n",
      "https://www.pnas.org/content/115/3/549.short\n",
      "https://search.proquest.com/openview/dffbf0454b86214077691546846ddbbf/1?pq-origsite=gscholar&cbl=18750&diss=y\n",
      "https://search.proquest.com/openview/3e786c88d59955e58777ee526404512b/1?pq-origsite=gscholar&cbl=18750\n",
      "https://search.proquest.com/openview/729e27f8c2c4367f4fb9b25637118258/1?pq-origsite=gscholar&cbl=18750\n",
      "https://search.proquest.com/openview/f1f77c4d6f97c4602091e64cfa110a01/1?pq-origsite=gscholar&cbl=18750\n",
      "https://search.proquest.com/openview/b411f4c3c48ce507da36bd18bea21e35/1?pq-origsite=gscholar&cbl=18750&diss=y\n",
      "https://search.proquest.com/openview/189b878dffe5451705131abf160388cd/1?pq-origsite=gscholar&cbl=2032338\n",
      "https://search.proquest.com/openview/ac36264c1a5b90eed07f7c37e38362d9/1?pq-origsite=gscholar&cbl=18750&diss=y\n",
      "https://search.proquest.com/openview/ece28a83c95aad646ab4a512aa0a39a3/1?pq-origsite=gscholar&cbl=18750\n",
      "https://search.proquest.com/openview/d30f3cf5e2de8ffddc784d9a9c2dcbf8/1?pq-origsite=gscholar&cbl=18750\n",
      "https://search.proquest.com/openview/70a4a82f2dd1ffdd13b1ce354a3a66a9/1?pq-origsite=gscholar&cbl=18750&diss=y\n",
      "https://search.proquest.com/openview/d06c8edfc0f44e11f79ddbbb8ce8367e/1?pq-origsite=gscholar&cbl=18750\n",
      "https://jneh.usb.ac.ir/article_4697_en.html\n",
      "https://search.proquest.com/openview/25bc3fde70cd3389f8ef0f52d15fe61d/1?pq-origsite=gscholar&cbl=18750&diss=y\n",
      "https://search.proquest.com/openview/6e1feae4606b872aab8b2d527987a557/1?pq-origsite=gscholar&cbl=18750\n",
      "https://search.proquest.com/openview/7795bd3dae217bd8ace22e6a4215fdb0/1?pq-origsite=gscholar&cbl=18750\n",
      "https://search.proquest.com/openview/2da09e2c3db2d1e78109c83ebd7b37f7/1?pq-origsite=gscholar&cbl=18750\n",
      "https://search.proquest.com/openview/1067d9c87acde80de3ca4f053977754c/1?pq-origsite=gscholar&cbl=18750\n",
      "https://search.proquest.com/openview/67f9da7023cf734fa2be23883694ac41/1?pq-origsite=gscholar&cbl=18750\n",
      "https://search.proquest.com/openview/d8da78d3eadc234f3bf0dd81c0f88dc0/1?pq-origsite=gscholar&cbl=18750\n",
      "https://search.proquest.com/openview/e59d8a9172a812abffdab2acb050f5bd/1?pq-origsite=gscholar&cbl=18750\n",
      "https://search.proquest.com/openview/44270c66ce6bb9270868206bbb1a6b5b/1?pq-origsite=gscholar&cbl=18750\n",
      "https://repository.library.noaa.gov/view/noaa/17465\n",
      "https://search.proquest.com/openview/7cd58914bc3f7ce1644af3e02d3df347/1?pq-origsite=gscholar&cbl=18750&diss=y\n",
      "https://search.proquest.com/openview/4e192594ef24b65f4ae1821f48223e0b/1?pq-origsite=gscholar&cbl=18750\n",
      "https://www.witpress.com/elibrary/wit-transactions-on-the-built-environment/168/34805\n",
      "https://search.proquest.com/openview/3abd85a86a99068a5b2ed65b7ec141dc/1?pq-origsite=gscholar&cbl=18750\n",
      "https://search.proquest.com/openview/75f4cd11d216ecffcf5f550264fd1d0c/1?pq-origsite=gscholar&cbl=18750\n",
      "https://search.proquest.com/openview/c741e6588c022355a0882fe91e5f866e/1?pq-origsite=gscholar&cbl=1536338\n",
      "https://search.proquest.com/openview/071aeede0cd5e4a7433981f4fc57448b/1?pq-origsite=gscholar&cbl=18750\n",
      "https://papers.ssrn.com/sol3/papers.cfm?abstract_id=3963306\n",
      "https://search.proquest.com/openview/1db051e0fb66859ea3c3eab487790e57/1?pq-origsite=gscholar&cbl=51922&diss=y\n",
      "https://search.proquest.com/openview/0f5a7702c2151b05e48940fcb1dc9a94/1?pq-origsite=gscholar&cbl=18750\n",
      "https://www.researchgate.net/profile/Jasim-Rajab/publication/251231657_Satellite_observed_distribution_of_atmospheric_Ozone_O3_over_Peninsular_Malaysia_from_the_Atmospheric_Infrared_Sounder_AIRS/links/0c96051ef024577839000000/Satellite-observed-distribution-of-atmospheric-Ozone-O3-over-Peninsular-Malaysia-from-the-Atmospheric-Infrared-Sounder-AIRS\n",
      "https://search.proquest.com/openview/8433af7b7e0e47e837a2d59f3c13438c/1?pq-origsite=gscholar&cbl=18750\n",
      "https://search.proquest.com/openview/95975f2d2177b2ad0b9f1f9c2449e15c/1?pq-origsite=gscholar&cbl=18750\n",
      "https://search.proquest.com/openview/1074544efd1d476ea06b158256f1e9ab/1?pq-origsite=gscholar&cbl=18750\n",
      "https://search.proquest.com/openview/57542c792495489add7a75f3be2ed292/1?pq-origsite=gscholar&cbl=18750\n",
      "https://link.springer.com/article/10.1007/s40899-020-00469-6\n",
      "https://search.proquest.com/openview/3467f0fe6ff5de3fdb57eb7b7254fc8b/1?pq-origsite=gscholar&cbl=18750&diss=y\n",
      "https://search.proquest.com/openview/28e1aeaa1fe76a4bec7e9998aa5c93ad/1?pq-origsite=gscholar&cbl=18750&diss=y\n",
      "https://search.proquest.com/openview/3d00cd06cd3329cfc8e0e760d312a59d/1?pq-origsite=gscholar&cbl=18750\n",
      "https://search.proquest.com/openview/1dd7d4ec12a3995b8f7748fa90deb389/1?pq-origsite=gscholar&cbl=18750\n",
      "https://search.proquest.com/openview/25ddb22b7a939960eb45ea4003eff562/1?pq-origsite=gscholar&cbl=18750\n",
      "https://search.proquest.com/openview/64236e61f65e78a686fee878ee72b752/1?pq-origsite=gscholar&cbl=18750\n",
      "https://search.proquest.com/openview/093678b58cf03c25b655d5a9ac6834f4/1?pq-origsite=gscholar&cbl=18750\n",
      "https://search.proquest.com/openview/07d575515568893f9854e369530e8070/1?pq-origsite=gscholar&cbl=18750\n",
      "https://search.proquest.com/openview/4277c3f65074c26f8614371df8e82b1b/1?pq-origsite=gscholar&cbl=18750\n",
      "https://search.proquest.com/openview/8dc49d15c7f5f4ca12455d5e25fd046d/1?pq-origsite=gscholar&cbl=2026366\n",
      "https://search.proquest.com/openview/46f6ea446c531fb8b82d7133e6a65ea6/1?pq-origsite=gscholar&cbl=18750&diss=y\n",
      "https://www.koreascience.or.kr/article/JAKO201404065096814.page\n",
      "https://arxiv.org/abs/1704.00140\n",
      "https://ieeexplore.ieee.org/abstract/document/9232415/\n",
      "https://search.proquest.com/openview/6c9dbf5725c4e6324af7864826934b25/1?pq-origsite=gscholar&cbl=18750&diss=y\n",
      "https://arxiv.org/abs/1007.4694\n",
      "https://arxiv.org/abs/1204.1902\n",
      "https://search.proquest.com/openview/64db7fadeafe1413c0793eab07492dae/1?pq-origsite=gscholar&cbl=18750&diss=y\n",
      "https://search.proquest.com/openview/44458c1ccd4dd198e9d286bc2e3c362b/1?pq-origsite=gscholar&cbl=18750\n",
      "https://search.proquest.com/openview/39bfb8dbbda63e94a112ba55dced2b71/1?pq-origsite=gscholar&cbl=18750\n",
      "https://search.proquest.com/openview/d5b47aeeade2616a876259033091db8e/1?pq-origsite=gscholar&cbl=18750&diss=y\n",
      "https://search.proquest.com/openview/ff36f52155eebd0dc89c16cdbed380e5/1?pq-origsite=gscholar&cbl=2034776\n",
      "https://203.250.179.53/handle/201206/7209\n",
      "https://search.proquest.com/openview/da84fb23eaa91ec1d48c5589f9c3d74b/1?pq-origsite=gscholar&cbl=18750&diss=y\n",
      "https://projecteuclid.org/journals/annals-of-applied-statistics/volume-7/issue-2/Stochastic-approximation-of-score-functions-for-Gaussian-processes/10.1214/13-AOAS627.short\n",
      "https://helda.helsinki.fi/handle/10138/308930\n",
      "https://ams.confex.com/ams/17Air17Sat9Coas/techprogram/paper_174182.htm\n",
      "https://www.researchgate.net/profile/Long_Chiu/amp\n",
      "https://search.proquest.com/openview/d35b001242a584a16f5b8027034130d1/1?pq-origsite=gscholar&cbl=18750\n",
      "https://search.proquest.com/openview/259dab23049f1435b4d7b73c0c9df10f/1?pq-origsite=gscholar&cbl=18750\n",
      "https://search.proquest.com/openview/f2eaef8977aa2dd5181a269d629e7d8f/1?pq-origsite=gscholar&cbl=18750&diss=y\n",
      "https://books.google.com/books?hl=en&lr=lang_en&id=iKWev0ffcBEC&oi=fnd&pg=PR1&dq=%22GSSTF%22+(+%22DMSP%22+%7C+%22SSM/I%22+%7C+%22MEaSUREs%22+)+%22NASA%22&ots=o4b4Mj1zBY&sig=J7ECB0Mt8tf4af0ydPz9mxjHBJQ\n",
      "https://search.proquest.com/openview/0a0cd7c9c0ad3ab462b774ddcab2924d/1?pq-origsite=gscholar&cbl=18750\n",
      "https://search.proquest.com/openview/35d6544ee9906c4c4237dfa515c599d0/1?pq-origsite=gscholar&cbl=18750\n",
      "https://search.proquest.com/openview/bfec4f897b3cd5f657014cb6fb596708/1?pq-origsite=gscholar&cbl=18750\n",
      "https://www.collectionscanada.gc.ca/obj/thesescanada/vol2/002/MR56332.PDF?is_thesis=1&oclc_number=748081556\n",
      "https://search.proquest.com/openview/10467113773b6361fe6ca36ccd5f8ee6/1?pq-origsite=gscholar&cbl=18750\n",
      "https://search.proquest.com/openview/06d1b7bec55dd08472e7192699ad344a/1?pq-origsite=gscholar&cbl=51922&diss=y\n",
      "https://books.google.com/books?hl=en&lr=lang_en&id=rEcbAQAAIAAJ&oi=fnd&pg=PA10&dq=%22HIRDLS2%22+(+%22Aura%22+%7C+%22HIRDLS%22+%7C+%22Aura%22+)+%22NASA%22&ots=VW4X8diUJU&sig=-3099mcLAnvTQzjnsFAlAM92VaM\n",
      "https://search.proquest.com/openview/6088f5bc99a970fe3ce27aec577cc86e/1?pq-origsite=gscholar&cbl=18750&diss=y\n",
      "https://search.proquest.com/openview/26f3b9a00db9c1930c84a4d143ea6260/1?pq-origsite=gscholar&cbl=18750&diss=y\n",
      "https://search.proquest.com/openview/01c4f917e617f2553e73ec10e6605e82/1?pq-origsite=gscholar&cbl=18750&diss=y\n",
      "https://search.proquest.com/openview/8163024b453832d51671bcbcfae30879/1?pq-origsite=gscholar&cbl=18750&diss=y\n",
      "https://search.proquest.com/openview/d2e413dcc3874cb33e6cf164f8682d5b/1?pq-origsite=gscholar&cbl=18750&diss=y\n",
      "https://ieeexplore.ieee.org/abstract/document/7593262/\n",
      "https://link.springer.com/article/10.1007/s00382-021-06008-z\n",
      "https://search.proquest.com/openview/d466399ee94fd4788add45ba6c6e7141/1?pq-origsite=gscholar&cbl=4882998\n",
      "https://search.proquest.com/openview/0fb04a8929837fd9cfabca2dda03e47e/1?pq-origsite=gscholar&cbl=18750&diss=y\n",
      "https://www.coris.noaa.gov/metadata/records/html/metadata_OA_rev2.html\n",
      "https://link.springer.com/article/10.1007/s12040-018-0928-1\n",
      "https://ir.mu.ac.ke/xmlui/handle/123456789/3575\n",
      "https://ams.confex.com/ams/Annual2006/techprogram/paper_104650.htm\n",
      "http://ajwater.org/article/369/10.11648.j.ajwse.20190504.14\n",
      "https://link.springer.com/article/10.1007/s00382-015-2601-6\n",
      "https://link.springer.com/article/10.1007/s42452-018-0154-0\n",
      "https://search.proquest.com/openview/fc2280db6e1dfe2f9288c604d8be97d4/1?pq-origsite=gscholar&cbl=18750\n",
      "https://pubs.usgs.gov/ds/832/\n",
      "https://search.proquest.com/openview/a201fa7e61a00efe189ab77885795aeb/1?pq-origsite=gscholar&cbl=2026366&diss=y\n",
      "https://www.scirp.org/html/76276_76276.htm\n",
      "https://www.scirp.org/html/2-2171209_99468.htm\n",
      "https://search.proquest.com/openview/fbf65cf76d1b4065ab41cd51dddaab4e/1?pq-origsite=gscholar&cbl=18750&diss=y\n",
      "https://search.proquest.com/openview/6e5688328fe41bc233f7e69ff1d4a05c/1?pq-origsite=gscholar&cbl=18750\n",
      "https://search.proquest.com/openview/ee32f9def09e14dac776bc0cf8247f6d/1?pq-origsite=gscholar&cbl=18750\n",
      "https://search.proquest.com/openview/29caf59a2c4f01585d860eadc09ebc20/1?pq-origsite=gscholar&cbl=105742\n",
      "https://www.scirp.org/journal/paperinformation.aspx?paperid=67432\n",
      "https://link.springer.com/article/10.1007/s12040-019-1108-7\n",
      "https://search.proquest.com/openview/8f09acd463ed230c3ed6dab80a264d3d/1?pq-origsite=gscholar&cbl=44156\n",
      "https://search.proquest.com/openview/6080c0114b4f65b03f69088798d47e22/1?pq-origsite=gscholar&cbl=18750&diss=y\n",
      "https://re.public.polimi.it/handle/11311/979545\n",
      "https://search.proquest.com/openview/d6dcd3f254fc7036d53abbba9e6f3be8/1?pq-origsite=gscholar&cbl=18750\n",
      "https://search.proquest.com/openview/716048d1dffc95ac14df4271fd7c57f4/1?pq-origsite=gscholar&cbl=18750&diss=y\n"
     ]
    }
   ],
   "source": [
    "for i in failed:\n",
    "    print(links_to_process[i])"
   ]
  },
  {
   "cell_type": "code",
   "execution_count": 227,
   "id": "f40f464e",
   "metadata": {},
   "outputs": [
    {
     "name": "stdout",
     "output_type": "stream",
     "text": [
      "https://iopscience.iop.org/article/10.1088/1755-1315/149/1/012009/meta\n",
      "https://iopscience.iop.org/article/10.1088/1742-6596/1524/1/012005/meta\n",
      "https://iopscience.iop.org/article/10.1088/1748-9326/abc6d1/meta\n",
      "https://iopscience.iop.org/article/10.1088/1748-9326/aadbb9/meta\n",
      "https://iopscience.iop.org/article/10.1088/1748-9326/ab93fc/meta\n",
      "https://iopscience.iop.org/article/10.1088/1748-9326/2/4/045009/meta\n",
      "https://iopscience.iop.org/article/10.1088/1748-9326/11/9/095005/meta\n",
      "https://iopscience.iop.org/article/10.1088/1748-9326/9/8/084005/meta\n",
      "https://iopscience.iop.org/article/10.1088/1757-899X/640/1/012087/meta\n",
      "https://iopscience.iop.org/article/10.1088/1742-6596/749/1/012004/meta\n",
      "https://iopscience.iop.org/article/10.3847/1538-4357/aa8b74/meta\n",
      "https://iopscience.iop.org/article/10.1088/1748-9326/aaf935/meta\n",
      "https://iopscience.iop.org/article/10.1088/1755-1315/279/1/012050/meta\n",
      "https://iopscience.iop.org/article/10.1088/2515-7620/ab2bc2/meta\n",
      "https://iopscience.iop.org/article/10.1088/1755-1315/166/1/012031/meta\n",
      "https://iopscience.iop.org/article/10.1088/1755-1315/98/1/012019/meta\n",
      "https://iopscience.iop.org/article/10.1088/1742-6596/1719/1/012024/meta\n",
      "https://iopscience.iop.org/article/10.1088/1742-6596/1796/1/012053/meta\n",
      "https://iopscience.iop.org/article/10.1088/1755-1315/930/1/012087/meta\n",
      "https://iopscience.iop.org/article/10.1088/1755-1315/832/1/012046/meta\n",
      "https://iopscience.iop.org/article/10.1088/1755-1315/169/1/012112/meta\n",
      "https://iopscience.iop.org/article/10.1088/1755-1315/81/1/012076/meta\n",
      "https://iopscience.iop.org/article/10.1088/1755-1315/169/1/012080/meta\n",
      "https://iopscience.iop.org/article/10.1088/1748-9326/9/10/104014/meta\n",
      "https://iopscience.iop.org/article/10.1088/1755-1315/214/1/012038/meta\n",
      "https://iopscience.iop.org/article/10.1088/1742-6596/1660/1/012049/meta\n",
      "https://iopscience.iop.org/article/10.1088/1748-9326/10/6/065004/meta\n",
      "https://iopscience.iop.org/article/10.1088/1755-1315/491/1/012005/meta\n",
      "https://iopscience.iop.org/article/10.1088/1755-1315/37/1/012077/meta\n",
      "https://iopscience.iop.org/article/10.1088/1748-9326/ab6b36/meta\n",
      "https://iopscience.iop.org/article/10.1088/1748-9326/aba3a5/meta\n",
      "https://iopscience.iop.org/article/10.1088/1748-9326/abb733/meta\n",
      "https://iopscience.iop.org/article/10.1088/1748-9326/abc846/meta\n",
      "https://iopscience.iop.org/article/10.1088/1748-9326/aa926c/meta\n",
      "https://iopscience.iop.org/article/10.1088/1755-1315/17/1/012093/meta\n",
      "https://iopscience.iop.org/article/10.1088/1757-899X/794/1/012007/meta\n",
      "https://iopscience.iop.org/article/10.1088/1755-1315/799/1/012035/meta\n",
      "https://iopscience.iop.org/article/10.1088/1755-1315/299/1/012048/meta\n",
      "https://iopscience.iop.org/article/10.1088/1755-1315/18/1/012191/meta\n",
      "https://iopscience.iop.org/article/10.1088/1755-1315/54/1/012038/meta\n",
      "https://iopscience.iop.org/article/10.1088/2515-7620/ab9991/meta\n",
      "https://iopscience.iop.org/article/10.1088/1748-9326/11/10/105008/meta\n",
      "https://iopscience.iop.org/article/10.1088/1748-9326/6/4/044023/meta\n",
      "https://iopscience.iop.org/article/10.1088/1755-1315/18/1/012001/meta\n",
      "https://iopscience.iop.org/article/10.1088/1748-9326/11/5/054003/meta\n",
      "https://iopscience.iop.org/article/10.1088/1748-9326/aba033/meta\n",
      "https://iopscience.iop.org/article/10.1088/1742-6596/1282/1/012021/meta\n",
      "https://iopscience.iop.org/article/10.1088/1748-9326/9/12/124021/meta\n",
      "https://iopscience.iop.org/article/10.1088/1748-9326/abfb2e/meta\n",
      "https://iopscience.iop.org/article/10.1088/1748-9326/7/2/024018/meta\n",
      "https://iopscience.iop.org/article/10.1088/1748-9326/aab0b1/meta\n",
      "https://iopscience.iop.org/article/10.1088/1748-9326/abee4d/meta\n",
      "https://iopscience.iop.org/article/10.1088/1748-9326/10/8/085003/meta\n",
      "https://iopscience.iop.org/article/10.1088/1755-1315/615/1/012123/meta\n",
      "https://iopscience.iop.org/article/10.1088/1748-9326/aafd4e/meta\n",
      "https://iopscience.iop.org/article/10.1088/1755-1315/842/1/012039/meta\n",
      "https://iopscience.iop.org/article/10.1088/1748-9326/ac5691/meta\n",
      "https://iopscience.iop.org/article/10.1088/1748-9326/abcbbb/meta\n",
      "https://iopscience.iop.org/article/10.1088/1755-1315/17/1/012027/meta\n",
      "https://iopscience.iop.org/article/10.1088/1748-9326/ac3695/meta\n",
      "https://iopscience.iop.org/article/10.1088/1748-9326/10/10/105003/meta\n",
      "https://iopscience.iop.org/article/10.1088/1748-9326/abb731/meta\n",
      "https://iopscience.iop.org/article/10.1088/1748-9326/ab92c1/meta\n",
      "https://iopscience.iop.org/article/10.1088/1748-9326/aab375/meta\n",
      "https://iopscience.iop.org/article/10.1088/1748-9326/aabe9f/meta\n",
      "https://iopscience.iop.org/article/10.1088/1748-9326/aa869e/meta\n",
      "https://iopscience.iop.org/article/10.1088/1755-1315/871/1/012031/meta\n",
      "https://iopscience.iop.org/article/10.1088/1755-1315/165/1/012009/meta\n",
      "https://iopscience.iop.org/article/10.1088/0004-6256/142/2/35/meta\n",
      "https://iopscience.iop.org/article/10.1088/1742-6596/1234/1/012009/meta\n",
      "https://iopscience.iop.org/article/10.1088/1757-899X/454/1/012030/meta\n",
      "https://iopscience.iop.org/article/10.1088/1742-6596/2152/1/012001/meta\n"
     ]
    }
   ],
   "source": [
    "for i in perffail:\n",
    "    print(links_to_process[i])"
   ]
  },
  {
   "cell_type": "code",
   "execution_count": 229,
   "id": "5e8130a5",
   "metadata": {},
   "outputs": [
    {
     "data": {
      "text/plain": [
       "72"
      ]
     },
     "execution_count": 229,
     "metadata": {},
     "output_type": "execute_result"
    }
   ],
   "source": [
    "len(perffail)"
   ]
  },
  {
   "cell_type": "code",
   "execution_count": 232,
   "id": "d7cbc474",
   "metadata": {},
   "outputs": [
    {
     "data": {
      "text/plain": [
       "array([nan, 'Google-Books-ID: QdCPDwAAQBAJ', 'ISSN: 2153-7003',\n",
       "       'ISSN: 1558-2809', 'ISSN: 2165-431X',\n",
       "       'Google-Books-ID: B7wkBQAAQBAJ',\n",
       "       'DOI: 10.6092/unibo/amsdottorato/8012',\n",
       "       'DOI: 10.1002/9781119720553.ch4',\n",
       "       'DOI: 10.1007/978-3-319-67047-8_4',\n",
       "       'Google-Books-ID: zEKBDQAAQBAJ', 'DOI: 10.15781/T2X05XJ15',\n",
       "       'ADS Bibcode: 2017EGUGA..19.8371S',\n",
       "       'ADS Bibcode: 2021EGUGA..23.8521T',\n",
       "       'ADS Bibcode: 2018AGUFM.A33J3292A',\n",
       "       'DOI: 10.1016/B978-0-12-812782-7.00015-1',\n",
       "       'DOI: 10.1007/698_2020_481', 'DOI: 10.1002/9781119427339.ch1',\n",
       "       'ADS Bibcode: 2018AGUFM.A31I2962A',\n",
       "       'PMID: null\\nPMCID: PMC7300216', 'DOI: 10.1002/9781119478911.ch11',\n",
       "       'DOI: 10.15781/T27940V02', 'DOI: 10.15781/T2086358F',\n",
       "       'DOI: 10.1007/978-3-030-60869-9_19',\n",
       "       'DOI: 10.1007/978-3-030-64202-0_22',\n",
       "       'DOI: 10.1142/9789814472616_0003',\n",
       "       'ADS Bibcode: 2016AMT.....9.6035P',\n",
       "       'ADS Bibcode: 2012AGUFM.A33H0238F',\n",
       "       'ADS Bibcode: 2015AGUFM.A33E0218W',\n",
       "       'ADS Bibcode: 2009AGUFM.A11C0117A',\n",
       "       'ADS Bibcode: 2021EGUGA..23.9662R',\n",
       "       'Google-Books-ID: I6b61z7UswsC', 'DOI: 10.48683/1926.00103902',\n",
       "       'ADS Bibcode: 2009EGUGA..11.9632S',\n",
       "       'ADS Bibcode: 2009AGUFM.A51B0114S',\n",
       "       'ADS Bibcode: 2009EGUGA..11.2990V',\n",
       "       'ADS Bibcode: 2011AGUFM.A52D..05R',\n",
       "       'DOI: 10.1016/B978-0-08-100405-0.00018-5',\n",
       "       'DOI: 10.1016/B978-0-12-810437-8.00003-7',\n",
       "       'DOI: 10.1007/978-3-642-17725-5_8',\n",
       "       'Google-Books-ID: KTk_AAAAQBAJ',\n",
       "       'DOI: 10.1007/978-3-642-14791-3_6',\n",
       "       'Google-Books-ID: bCYVFxDYi44C', 'DOI: 10.12681/eadd/44828',\n",
       "       'PMID: 33125305', 'DOI: 10.1007/978-3-030-33424-6_8',\n",
       "       'Google-Books-ID: qwV_DwAAQBAJ', 'Google-Books-ID: QPliDwAAQBAJ',\n",
       "       'PMID: 27332675', 'Google-Books-ID: 2hNsJTfUsmMC',\n",
       "       'DOI: 10.25394/PGS.16785961.v1', 'Google-Books-ID: K8tFEAAAQBAJ',\n",
       "       'ADS Bibcode: 2014AGUFM.A33I3316W',\n",
       "       'ADS Bibcode: 2013AGUFMIN31C1516W',\n",
       "       'DOI: 10/cxc-using-satellite-data-to-help-quantify-scottish-ghg-emissions-december-2020.pdf',\n",
       "       'DOI: 10.1007/978-3-319-69844-1_19',\n",
       "       'DOI: 10.1016/B978-0-12-809248-4.00001-7',\n",
       "       'DOI: 10.1007/978-3-658-33330-0_3',\n",
       "       'ADS Bibcode: 2013AGUFM.A31F0152T', 'ISSN: 2326-9448',\n",
       "       'ADS Bibcode: 2003EAEJA....13410J',\n",
       "       'ADS Bibcode: 2003AGUFMSH12A1163L',\n",
       "       'DOI: 10.1002/essoar.81ea1b43594141c6.558e238c20a84445.1',\n",
       "       'DOI: 10.1007/978-3-030-66238-7_20',\n",
       "       'DOI: 10.1007/978-90-481-2915-7_11',\n",
       "       'ADS Bibcode: 2011AGUFMNH31B1539D',\n",
       "       'ADS Bibcode: 2014EGUGA..16.3575B',\n",
       "       'ADS Bibcode: 2017AGUFM.H52G..05V',\n",
       "       'ADS Bibcode: 2020EGUGA..2212736A',\n",
       "       'ADS Bibcode: 2016AGUFM.H23F1648K',\n",
       "       'ADS Bibcode: 2011AGUFM.H21F1203R',\n",
       "       'ADS Bibcode: 2016EGUGA..1812471J',\n",
       "       'ADS Bibcode: 2017EGUGA..19.5324R',\n",
       "       'ADS Bibcode: 2012AGUFM.A13A0204L',\n",
       "       'ADS Bibcode: 2011AGUFM.H41L..03A',\n",
       "       'ADS Bibcode: 2016AGUFMGC44A..06D',\n",
       "       'DOI: 10.1109/OCEANS.2005.1639783', 'ISSN: 0197-7385',\n",
       "       'ADS Bibcode: 2018cosp...42E2786R',\n",
       "       'ADS Bibcode: 2012EGUGA..1413650D',\n",
       "       'ADS Bibcode: 2018AGUFM.H33I2211R',\n",
       "       'ADS Bibcode: 2018EGUGA..2015413C',\n",
       "       'DOI: 10.1007/978-90-481-9085-0_16',\n",
       "       'DOI: 10.1007/978-3-030-47786-8_11',\n",
       "       'Google-Books-ID: jyINDgAAQBAJ',\n",
       "       'DOI: 10.1007/978-3-319-10217-7_13',\n",
       "       'DOI: 10.1007/978-3-319-08518-0_7',\n",
       "       'DOI: 10.1016/B978-0-12-801884-2.00015-3',\n",
       "       'DOI: 10.1007/978-3-030-41952-3_8',\n",
       "       'ADS Bibcode: 2017EGUGA..19..884F',\n",
       "       'ADS Bibcode: 2015EGUGA..17.3334D', 'ISSN: 2473-3504',\n",
       "       'ADS Bibcode: 2018AGUFM.A41M3168M',\n",
       "       'ADS Bibcode: 2002AGUSM.H22A..04N',\n",
       "       'DOI: 10.1007/978-3-319-49520-0_22', 'DOI: 10.14288/1.0166309',\n",
       "       'DOI: 10.1016/B978-0-12-814820-4.00010-9',\n",
       "       'DOI: 10.1007/978-981-16-6966-8_22',\n",
       "       'DOI: 10.1142/9789814343411_0027',\n",
       "       'arXiv:2105.01322 [stat]\\ntype: article',\n",
       "       'DOI: 10.1007/978-3-030-37375-7_12',\n",
       "       'DOI: 10.1007/978-3-030-37375-7_7', 'Type: article',\n",
       "       'DOI: 10.2172/1562406', 'PMID: 32601523\\nPMCID: PMC7323735',\n",
       "       'DOI: 10.14288/1.0363029', 'ADS Bibcode: 2011AGUFM.A53C0360J',\n",
       "       'ADS Bibcode: 2020EGUGA..22..706G',\n",
       "       'ADS Bibcode: 2011AGUFM.A52D..03T',\n",
       "       'ADS Bibcode: 2020EGUGA..2220288H',\n",
       "       'ADS Bibcode: 2014AGUFM.A21E3090G',\n",
       "       'ADS Bibcode: 2010cosp...38..183B',\n",
       "       'ADS Bibcode: 2014AGUFM.A33J3325A',\n",
       "       'ADS Bibcode: 2009AGUFM.A11C0101G',\n",
       "       'ADS Bibcode: 2006AGUFM.A43B0142A',\n",
       "       'ADS Bibcode: 2020AGUFMA219.0008W',\n",
       "       'ADS Bibcode: 2018EGUGA..2010204A',\n",
       "       'ADS Bibcode: 2011AGUFM.A53C0375A',\n",
       "       'ADS Bibcode: 2020EGUGA..2218209D',\n",
       "       'ADS Bibcode: 2012AGUFM.A13J0307G',\n",
       "       'ADS Bibcode: 2020AGUFMA091.0010G',\n",
       "       'ADS Bibcode: 2021EGUGA..23.8949G',\n",
       "       'DOI: 10.1007/978-3-319-67474-2_17', 'DOI: 10.2172/1471231',\n",
       "       'DOI: 10.2172/1336076', 'Google-Books-ID: diONDwAAQBAJ',\n",
       "       'DOI: 10.1007/978-3-030-13405-1_4',\n",
       "       'DOI: 10.1007/978-981-13-0280-0_2',\n",
       "       'ADS Bibcode: 2014AGUFM.H13B1075L', 'PMID: 32269084',\n",
       "       'DOI: 10.14288/1.0374222', 'DOI: 10.1007/978-3-319-67474-2_13',\n",
       "       'DOI: 10.1007/978-3-319-67474-2_24',\n",
       "       'ADS Bibcode: 2018cosp...42E.436B',\n",
       "       'DOI: 10.1002/essoar.10501034.1',\n",
       "       'ADS Bibcode: 2017AGUFM.H33J..05T',\n",
       "       'PMID: 34658922\\nPMCID: PMC8517108', 'DOI: 10.1787/56119490-en',\n",
       "       'ADS Bibcode: 2007AGUFM.A52B..01Z',\n",
       "       'arXiv:1902.09578 [physics, stat]', 'ISSN: 2334-3125',\n",
       "       'ADS Bibcode: 2015AGUFMIN21A1684F',\n",
       "       'ADS Bibcode: 2015AGUFMIN21A1685C',\n",
       "       'ADS Bibcode: 2014EGUGA..16.6694M',\n",
       "       'ADS Bibcode: 2014EGUGA..1613310D',\n",
       "       'DOI: 10.1007/1-4020-3297-8_13',\n",
       "       'ADS Bibcode: 2013EGUGA..15.3610D',\n",
       "       'ADS Bibcode: 2010AGUFM.H23K..03P',\n",
       "       'ADS Bibcode: 2008AGUSM.H23A..07P',\n",
       "       'ADS Bibcode: 2010EGUGA..12..282J',\n",
       "       'ADS Bibcode: 2017EGUGA..1916752K',\n",
       "       'ADS Bibcode: 2016AGUFM.A23F0286P',\n",
       "       'DOI: 10.1142/9789812791139_0023',\n",
       "       'ADS Bibcode: 2015EGUGA..17.8398H',\n",
       "       'ADS Bibcode: 2009ems..confE.188P',\n",
       "       'ADS Bibcode: 2019AGUFM.A41G..08N',\n",
       "       'DOI: 10.1007/978-3-030-35798-6_7', 'DOI: 10.1201/b17921',\n",
       "       'DOI: 10.1007/978-3-319-72583-3_7',\n",
       "       'DOI: 10.1007/978-3-030-35798-6_2',\n",
       "       'DOI: 10.1016/B978-0-12-822699-5.00007-0',\n",
       "       'DOI: 10.1016/B978-0-12-822544-8.00005-6',\n",
       "       'DOI: 10.11606/T.11.2021.tde-07042021-153935',\n",
       "       'DOI: 10.1007/978-3-030-71198-6_6', 'ISSN: 2161-0258',\n",
       "       'ADS Bibcode: 2019AGUFM.H53K1926Z',\n",
       "       'ADS Bibcode: 2018AGUFM.H41I2176M',\n",
       "       'ADS Bibcode: 2020AGUFMH200.0028V', 'ISSN: 2161-1351',\n",
       "       'ADS Bibcode: 2014EGUGA..16.7856D',\n",
       "       'ADS Bibcode: 2017EGUGA..19.8745S',\n",
       "       'ADS Bibcode: 2014AGUFMGC23B0628A',\n",
       "       'ADS Bibcode: 2011AGUFM.H33C1331K',\n",
       "       'DOI: 10.1016/B978-0-12-822973-6.00017-2',\n",
       "       'DOI: 10.1002/9781119657002.ch7',\n",
       "       'DOI: 10.1007/978-3-030-64756-8_6',\n",
       "       'Google-Books-ID: cqrpDwAAQBAJ',\n",
       "       'DOI: 10.1007/978-90-481-2915-7_1',\n",
       "       'DOI: 10.1007/978-3-030-90479-1_29', 'ISSN: 1934-1768',\n",
       "       'DOI: 10.1007/978-3-030-21344-2_8',\n",
       "       'DOI: 10.1007/978-3-030-60551-3_11',\n",
       "       'DOI: 10.1007/978-3-030-37375-7_11',\n",
       "       'ADS Bibcode: 2020EGUGA..22.7339Z',\n",
       "       'Google-Books-ID: 4nqQDwAAQBAJ',\n",
       "       'DOI: 10.1007/978-3-030-35798-6_28',\n",
       "       'Google-Books-ID: XV_BDwAAQBAJ',\n",
       "       'ADS Bibcode: 2004AGUFM.B43A0140K', 'ISSN: 2474-2333',\n",
       "       'DOI: 10.1002/9781119657002.ch3', 'Google-Books-ID: lzj8DwAAQBAJ',\n",
       "       'PMID: 32130323\\nPMCID: PMC7094047',\n",
       "       'DOI: 10.1007/978-3-030-21344-2_12',\n",
       "       'DOI: 10.1007/978-3-030-91002-0_12',\n",
       "       'DOI: 10.1007/978-981-15-7973-8_4',\n",
       "       'Google-Books-ID: fT1yan1j4RUC',\n",
       "       'DOI: 10.1007/978-3-030-91002-0_6',\n",
       "       'DOI: 10.1007/978-3-030-64756-8_5',\n",
       "       'DOI: 10.1007/978-3-030-24568-9_22',\n",
       "       'DOI: 10.1007/978-3-030-29684-1_8',\n",
       "       'Google-Books-ID: AzX3DwAAQBAJ',\n",
       "       'DOI: 10.1007/978-3-540-71056-1_23', 'ISSN: 1095-323X',\n",
       "       'DOI: 10.1016/B978-0-12-822973-6.00008-1',\n",
       "       'DOI: 10.1016/B978-0-12-822973-6.00001-9',\n",
       "       'ADS Bibcode: 2010AGUFM.A31D0077Z',\n",
       "       'ADS Bibcode: 2016EGUGA..18.9606C',\n",
       "       'ADS Bibcode: 2010AGUFM.A53D0273B',\n",
       "       'ADS Bibcode: 2013AGUFM.A33G0306H',\n",
       "       'ADS Bibcode: 2012AGUFM.A12B..01L', 'DOI: 10.7939/R3BR8MH93',\n",
       "       'ADS Bibcode: 2015AGUFMIN21A1683L',\n",
       "       'ADS Bibcode: 2006AGUFM.V53A1737Y',\n",
       "       'ADS Bibcode: 2006AGUFM.A42A..06K',\n",
       "       'ADS Bibcode: 2005AGUSM.A42A..06K',\n",
       "       'DOI: 10.1002/essoar.10501543.1',\n",
       "       'DOI: 10.1007/978-3-319-43415-5_20', 'ISSN: 2642-4339',\n",
       "       'ISSN: 2334-0932', 'DOI: 10.1002/essoar.10502317.1',\n",
       "       'Google-Books-ID: fJOqDAAAQBAJ',\n",
       "       'DOI: 10.1007/978-981-13-8514-8_14',\n",
       "       'Google-Books-ID: 4DK0DwAAQBAJ',\n",
       "       'ADS Bibcode: 2018AGUFM.A51L2331B',\n",
       "       'ADS Bibcode: 2007AGUSM.H53B..09J',\n",
       "       'ADS Bibcode: 2004AGUSM.H31A..18D',\n",
       "       'ADS Bibcode: 2006AGUSM.H23C..07D',\n",
       "       'ADS Bibcode: 2014AGUFM.A51I3153G',\n",
       "       'ADS Bibcode: 2015EGUGA..17.7585F',\n",
       "       'ADS Bibcode: 2018EGUGA..20.5873B',\n",
       "       'ADS Bibcode: 2003EAEJA....14206A',\n",
       "       'ADS Bibcode: 2013AGUFMOS41A1803I',\n",
       "       'Google-Books-ID: LfOwLo3DmJcC', 'DOI: 10.1109/IGARSS.2006.1058',\n",
       "       'DOI: 10.1007/978-3-540-77843-1_2',\n",
       "       'DOI: 10.1007/978-94-007-6016-5_3',\n",
       "       'DOI: 10.1093/acrefore/9780190228620.013.778',\n",
       "       'DOI: 10.1007/978-3-319-03768-4_3',\n",
       "       'DOI: 10.1007/978-3-540-88264-0_3',\n",
       "       'ADS Bibcode: 2019AGUFM.A53L3080W',\n",
       "       'ADS Bibcode: 2019AGUFM.A51I2702K',\n",
       "       'DOI: 10.1007/978-3-030-47998-5_4',\n",
       "       'ADS Bibcode: 2019AGUFM.A13J2937B',\n",
       "       'ADS Bibcode: 2015AGUFM.A21I..07L',\n",
       "       'ADS Bibcode: 2011AGUFMIN21A1417S',\n",
       "       'ADS Bibcode: 2012AGUFMIN14A..08S',\n",
       "       'ADS Bibcode: 2008AGUFMIN53B..04S',\n",
       "       'ADS Bibcode: 2009AGUFMIN42A..01S',\n",
       "       'ADS Bibcode: 2004AGUFMOS21C1246F',\n",
       "       'ADS Bibcode: 2010AGUFM.H31H1113S',\n",
       "       'ADS Bibcode: 2009AGUFMIN41B..07G',\n",
       "       'ADS Bibcode: 2003EAEJA.....1458L',\n",
       "       'DOI: 10.1007/978-94-007-5872-8_11',\n",
       "       'PMID: 31708979\\nPMCID: PMC6839702',\n",
       "       'ADS Bibcode: 2006AGUFMOS41A0584B',\n",
       "       'ADS Bibcode: 2007AGUSM.H53F..02F',\n",
       "       'DOI: 10.1007/978-94-007-5872-8_15',\n",
       "       'Google-Books-ID: uks14jNh8bwC',\n",
       "       'DOI: 10.1016/B978-0-12-391851-2.00005-2',\n",
       "       'Google-Books-ID: xAx1DAAAQBAJ', 'Google-Books-ID: hS4a2OcpQuYC',\n",
       "       'DOI: 10.1002/essoar.10501352.1', 'DOI: 10.3386/w24686',\n",
       "       'ADS Bibcode: 2009EGUGA..11.2034V',\n",
       "       'ADS Bibcode: 2020AdSpR..66.2094K',\n",
       "       'ADS Bibcode: 2016EGUGA..18.9685A',\n",
       "       'ADS Bibcode: 2019AGUFM.H33K2089S',\n",
       "       'ADS Bibcode: 2016AGUFM.H23F1638K',\n",
       "       'ADS Bibcode: 2009AGUFM.H11E0856S',\n",
       "       'ADS Bibcode: 2012EGUGA..1411965S',\n",
       "       'ADS Bibcode: 2012AGUFM.A13L0344C',\n",
       "       'ADS Bibcode: 2013AGUFM.H51I1311L',\n",
       "       'ADS Bibcode: 2012AGUFM.H24A..02T',\n",
       "       'ADS Bibcode: 2016EGUGA..1810065M',\n",
       "       'ADS Bibcode: 2015AGUFM.H13H1644Y',\n",
       "       'ADS Bibcode: 2015EGUGA..17.9860A',\n",
       "       'ADS Bibcode: 2008AGUSM.H43B..07T',\n",
       "       'ADS Bibcode: 2014AGUFM.H24C..05M',\n",
       "       'ADS Bibcode: 2012AGUFM.A33F0218E',\n",
       "       'ADS Bibcode: 2012AGUFM.H51D1385P',\n",
       "       'ADS Bibcode: 2009EGUGA..11.8587J',\n",
       "       'ADS Bibcode: 2019AGUFM.H31P1994X',\n",
       "       'ADS Bibcode: 2005AGUSM.H23A..10C',\n",
       "       'Google-Books-ID: tM2wDwAAQBAJ',\n",
       "       'ADS Bibcode: 2012EGUGA..14.4866T',\n",
       "       'ADS Bibcode: 2018AGUFM.H33I2197Z',\n",
       "       'ADS Bibcode: 2007AGUSM.H53B..10T',\n",
       "       'ADS Bibcode: 2010AGUFM.H21E1103H',\n",
       "       'ADS Bibcode: 2020EGUGA..2211515R',\n",
       "       'ADS Bibcode: 2019AGUFM.H41P1946J',\n",
       "       'ADS Bibcode: 2015AGUFM.H13H1633U',\n",
       "       'ADS Bibcode: 2014AGUFM.H24C..08B',\n",
       "       'ADS Bibcode: 2017EGUGA..19.6250L',\n",
       "       'ADS Bibcode: 2008AGUFM.A31C0117R',\n",
       "       'ADS Bibcode: 2011AGUFM.H14C..03T',\n",
       "       'ADS Bibcode: 2012EGUGA..14.4204R',\n",
       "       'ADS Bibcode: 2017EGUGA..19.2868P',\n",
       "       'ADS Bibcode: 2010AGUFM.H11L..02Z',\n",
       "       'ADS Bibcode: 2010AGUFM.A21G0184G',\n",
       "       'ADS Bibcode: 2012EGUGA..1411517H',\n",
       "       'ADS Bibcode: 2021EGUGA..2314175C',\n",
       "       'ADS Bibcode: 2017AGUFM.H21Q..02L',\n",
       "       'ADS Bibcode: 2015EGUGA..17.3664S',\n",
       "       'ADS Bibcode: 2016EGUGA..18.1467K',\n",
       "       'ADS Bibcode: 2011AGUFM.H41G1141H',\n",
       "       'ADS Bibcode: 2020EGUGA..2210138B',\n",
       "       'ADS Bibcode: 2015AGUFM.H13H1648W',\n",
       "       'ADS Bibcode: 2012cosp...39..267U',\n",
       "       'ADS Bibcode: 2014EGUGA..1610800D',\n",
       "       'ADS Bibcode: 2015EGUGA..17.3739L',\n",
       "       'ADS Bibcode: 2013AGUFM.A13M..09J',\n",
       "       'ADS Bibcode: 2013EGUGA..15.2329L',\n",
       "       'ADS Bibcode: 2015EGUGA..17.7829P',\n",
       "       'ADS Bibcode: 2016AGUFM.A43I0370G',\n",
       "       'ADS Bibcode: 2007AGUFM.H23F1682V',\n",
       "       'ADS Bibcode: 2013EGUGA..15.4463H',\n",
       "       'ADS Bibcode: 2012AGUFM.A53G0215C',\n",
       "       'ADS Bibcode: 2016AGUFM.A31H0152J',\n",
       "       'ADS Bibcode: 2013AGUFM.H33E1420S',\n",
       "       'ADS Bibcode: 2014AGUFM.A53P..01M',\n",
       "       'ADS Bibcode: 2008AGUSM.H41D..06T',\n",
       "       'ADS Bibcode: 2012EGUGA..14.9745R',\n",
       "       'ADS Bibcode: 2007AGUFM.H21J..03G',\n",
       "       'ADS Bibcode: 2010EGUGA..1214915T',\n",
       "       'ADS Bibcode: 2015AGUFMED33D0954R',\n",
       "       'ADS Bibcode: 2010AGUFM.A11D0071R',\n",
       "       'ADS Bibcode: 2015EGUGA..17.5667B',\n",
       "       'ADS Bibcode: 2011AGUFMOS21A1604W',\n",
       "       'ADS Bibcode: 2018AGUFM.H43F2498L',\n",
       "       'DOI: 10.1007/978-3-030-29684-1_1',\n",
       "       'ADS Bibcode: 2018AGUFMGC31K1387L',\n",
       "       'ADS Bibcode: 2013EGUGA..15.2810S',\n",
       "       'ADS Bibcode: 2017EGUGA..1911283S',\n",
       "       'ADS Bibcode: 2019AGUFM.A23V3002K',\n",
       "       'ADS Bibcode: 2012AGUFM.H31H1221R',\n",
       "       'ADS Bibcode: 2012EGUGA..1412508T',\n",
       "       'ADS Bibcode: 2012EGUGA..14.1896L',\n",
       "       'ADS Bibcode: 2012AGUFM.H33C1330T',\n",
       "       'ADS Bibcode: 2015AGUFM.A51O0299Y',\n",
       "       'ADS Bibcode: 2015EGUGA..17.7759Z',\n",
       "       'DOI: 10.1007/978-981-13-2128-3_8',\n",
       "       'ADS Bibcode: 2020EGUGA..2213718C',\n",
       "       'ADS Bibcode: 2016AGUFM.A31H0149Z',\n",
       "       'ADS Bibcode: 2019AGUFM.H13P1973H', 'ISSN: 2164-3342',\n",
       "       'ADS Bibcode: 2012EGUGA..14..961C',\n",
       "       'ADS Bibcode: 2012AGUFM.A33J0281T',\n",
       "       'ADS Bibcode: 2014EGUGA..1614414R',\n",
       "       'ADS Bibcode: 2013AGUFM.H43G1538S',\n",
       "       'ADS Bibcode: 2014AGUFMNS41A3823L',\n",
       "       'ADS Bibcode: 2014EGUGA..1611608M',\n",
       "       'ADS Bibcode: 2014EGUGA..16.2772R',\n",
       "       'ADS Bibcode: 2008AGUFM.A53C0281Z',\n",
       "       'ADS Bibcode: 2017EGUGA..1911983E',\n",
       "       'DOI: 10.1007/978-3-030-24974-8_1',\n",
       "       'ADS Bibcode: 2021EGUGA..2314650B',\n",
       "       'ADS Bibcode: 2014EGUGA..1614502V',\n",
       "       'ADS Bibcode: 2013EGUGA..15..855T',\n",
       "       'ADS Bibcode: 2020AGUFMGC1040002M',\n",
       "       'ADS Bibcode: 2020EGUGA..2219432S',\n",
       "       'ADS Bibcode: 2019AGUFMGC21G1346Z',\n",
       "       'ADS Bibcode: 2018AGUFM.H41H..16Y',\n",
       "       'ADS Bibcode: 2019EGUGA..2114980P',\n",
       "       'ADS Bibcode: 2017AGUFM.H52B..08A',\n",
       "       'ADS Bibcode: 2018AGUFM.A14E..03I',\n",
       "       'ADS Bibcode: 2017AGUFM.A31E2236A',\n",
       "       'ADS Bibcode: 2018EGUGA..2019057V',\n",
       "       'ADS Bibcode: 2017AGUFM.H33G1776L',\n",
       "       'ADS Bibcode: 2017AGUFM.A14F..08A',\n",
       "       'ADS Bibcode: 2016AGUFM.A31H0137B',\n",
       "       'ADS Bibcode: 2016EGUGA..1816191B',\n",
       "       'ADS Bibcode: 2009AGUFM.A51F0173C',\n",
       "       'ADS Bibcode: 2006AGUSM.H23C..30N',\n",
       "       'ADS Bibcode: 2009AGUFM.H53E0990S',\n",
       "       'ADS Bibcode: 2013AGUFM.H41J1367W',\n",
       "       'ADS Bibcode: 2014AGUFM.A53F3275C',\n",
       "       'ADS Bibcode: 2014EGUGA..16.6796Y',\n",
       "       'ADS Bibcode: 2013EGUGA..1512688M',\n",
       "       'ADS Bibcode: 2015AGUFMNH52A..02Z',\n",
       "       'ADS Bibcode: 2011AGUFM.A11G0174R',\n",
       "       'ADS Bibcode: 2013EGUGA..15...80S',\n",
       "       'ADS Bibcode: 2008AGUFM.H31I..05G',\n",
       "       'ADS Bibcode: 2016AGUFM.H21E1468K',\n",
       "       'ADS Bibcode: 2015AGUFM.A31A0002T',\n",
       "       'ADS Bibcode: 2014AGUFMNG21A3774J',\n",
       "       'ADS Bibcode: 2010AGUFM.A54C..02L',\n",
       "       'ADS Bibcode: 2007AGUFM.H31A0135D',\n",
       "       'ADS Bibcode: 2011AGUFM.H41G1143C',\n",
       "       'ADS Bibcode: 2017EGUGA..1911091W',\n",
       "       'ADS Bibcode: 2010AGUFM.H12C..08A',\n",
       "       'ADS Bibcode: 2020EGUGA..2215217B',\n",
       "       'arXiv:1907.03095 [physics]\\ntype: article',\n",
       "       'arXiv:1808.05729 [physics]\\ntype: article',\n",
       "       'Google-Books-ID: XzE4AwAAQBAJ', 'Google-Books-ID: jHdvGYYliS4C',\n",
       "       'ADS Bibcode: 2019AGUFM.A43J2954G',\n",
       "       'arXiv:1810.02109 [econ, q-fin]\\ntype: article',\n",
       "       'DOI: 10.1002/9781119625865.ch18',\n",
       "       'ADS Bibcode: 2009EGUGA..11..887T',\n",
       "       'ADS Bibcode: 2011AGUFMEP23C0779T',\n",
       "       'ADS Bibcode: 2017AGUFM.C33A1164K',\n",
       "       'DOI: 10.1007/978-3-319-21650-8_11'], dtype=object)"
      ]
     },
     "execution_count": 232,
     "metadata": {},
     "output_type": "execute_result"
    }
   ],
   "source": [
    "zjson_df['extra'].unique()"
   ]
  },
  {
   "cell_type": "code",
   "execution_count": 112,
   "id": "d8b23176",
   "metadata": {},
   "outputs": [],
   "source": [
    "#zjson_df.to_json(\"zot.csv\")"
   ]
  },
  {
   "cell_type": "code",
   "execution_count": null,
   "id": "910b9a61",
   "metadata": {},
   "outputs": [],
   "source": []
  }
 ],
 "metadata": {
  "kernelspec": {
   "display_name": "Python 3 (ipykernel)",
   "language": "python",
   "name": "python3"
  },
  "language_info": {
   "codemirror_mode": {
    "name": "ipython",
    "version": 3
   },
   "file_extension": ".py",
   "mimetype": "text/x-python",
   "name": "python",
   "nbconvert_exporter": "python",
   "pygments_lexer": "ipython3",
   "version": "3.10.2"
  }
 },
 "nbformat": 4,
 "nbformat_minor": 5
}
