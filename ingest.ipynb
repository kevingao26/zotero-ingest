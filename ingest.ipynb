{
 "cells": [
  {
   "cell_type": "code",
   "execution_count": 1,
   "id": "8634ca5d",
   "metadata": {},
   "outputs": [],
   "source": [
    "import pandas as pd\n",
    "import json\n",
    "import ast\n",
    "import numpy as np"
   ]
  },
  {
   "cell_type": "code",
   "execution_count": 89,
   "id": "3ba54eb1",
   "metadata": {},
   "outputs": [],
   "source": [
    "from pyzotero import zotero\n",
    "zot = zotero.Zotero(1234567, 'user', 'asdfasdfasdfasdfasdfasdf')\n",
    "items = zot.top(limit=5)\n",
    "# we've retrieved the latest five top-level items in our library\n",
    "# we can print each item's item type and ID\n",
    "for item in items:\n",
    "    print('Item Type: %s | Key: %s' % (item['data']['itemType'], item['data']['key']))"
   ]
  },
  {
   "cell_type": "code",
   "execution_count": 90,
   "id": "6d70faa4",
   "metadata": {
    "scrolled": true
   },
   "outputs": [
    {
     "ename": "IndexError",
     "evalue": "list index out of range",
     "output_type": "error",
     "traceback": [
      "\u001b[0;31m---------------------------------------------------------------------------\u001b[0m",
      "\u001b[0;31mIndexError\u001b[0m                                Traceback (most recent call last)",
      "Input \u001b[0;32mIn [90]\u001b[0m, in \u001b[0;36m<module>\u001b[0;34m\u001b[0m\n\u001b[0;32m----> 1\u001b[0m \u001b[43mitems\u001b[49m\u001b[43m[\u001b[49m\u001b[38;5;241;43m0\u001b[39;49m\u001b[43m]\u001b[49m[\u001b[38;5;124m'\u001b[39m\u001b[38;5;124mdata\u001b[39m\u001b[38;5;124m'\u001b[39m]\u001b[38;5;241m.\u001b[39mkeys()\n",
      "\u001b[0;31mIndexError\u001b[0m: list index out of range"
     ]
    }
   ],
   "source": [
    "items[0]['data'].keys()"
   ]
  },
  {
   "cell_type": "code",
   "execution_count": 91,
   "id": "e1d2304b",
   "metadata": {},
   "outputs": [
    {
     "data": {
      "text/plain": [
       "0                        [AIRX3STD, MAT1NXSLV, MAT1NXFLX]\n",
       "1       [AIRX3STD, OMAEROe, NLDAS_NOAH0125_H, OMDOAO3e...\n",
       "2                                              [AIRX3STD]\n",
       "3                                              [AIRX3STD]\n",
       "4                                              [AIRX3STD]\n",
       "                              ...                        \n",
       "4670                                          [TRMM_2B31]\n",
       "4671                                          [TRMM_2B31]\n",
       "4672                                          [TRMM_2B31]\n",
       "4673                                          [TRMM_2B31]\n",
       "4674                                          [TRMM_2B31]\n",
       "Name: ShortNames, Length: 4675, dtype: object"
      ]
     },
     "execution_count": 91,
     "metadata": {},
     "output_type": "execute_result"
    }
   ],
   "source": [
    "pd.read_json('zot_crossref_processed.json')['ShortNames']"
   ]
  },
  {
   "cell_type": "code",
   "execution_count": 92,
   "id": "4dc7d3a4",
   "metadata": {},
   "outputs": [
    {
     "data": {
      "text/plain": [
       "'\\nidf = pd.read_csv(\"zot2.csv\")\\n\\nitem_type = []\\ngood_index_list = []\\nfor index, row in idf.iterrows():\\n    if type(row[\\'itemType\\']) == float:\\n        if type(row[\\'item_type\\']) != float and row[\\'item_type\\'] != \\'None\\':\\n            good_index_list.append(index)\\n            item_type.append(row[\\'item_type\\'])\\n\\ndf = idf.iloc[good_index_list]\\ndf[\\'itemType\\'] = item_type\\ndf.columns\\n'"
      ]
     },
     "execution_count": 92,
     "metadata": {},
     "output_type": "execute_result"
    }
   ],
   "source": [
    "'''\n",
    "idf = pd.read_csv(\"zot2.csv\")\n",
    "\n",
    "item_type = []\n",
    "good_index_list = []\n",
    "for index, row in idf.iterrows():\n",
    "    if type(row['itemType']) == float:\n",
    "        if type(row['item_type']) != float and row['item_type'] != 'None':\n",
    "            good_index_list.append(index)\n",
    "            item_type.append(row['item_type'])\n",
    "\n",
    "df = idf.iloc[good_index_list]\n",
    "df['itemType'] = item_type\n",
    "df.columns\n",
    "'''"
   ]
  },
  {
   "cell_type": "code",
   "execution_count": 93,
   "id": "7d604b34",
   "metadata": {},
   "outputs": [],
   "source": [
    "df = pd.read_csv(\"zot2.csv\")\n",
    "\n",
    "item_type = []\n",
    "dois = []\n",
    "extras = []\n",
    "for index, row in df.iterrows():\n",
    "    if type(row['itemType']) == float:\n",
    "        item_type.append('journalArticle')\n",
    "    else:\n",
    "        item_type.append(row['itemType'])\n",
    "    \n",
    "    if row['itemType'] != 'journalArticle' or row['itemType'] != 'conferencePaper':\n",
    "        dois.append('')\n",
    "        extras.append('DOI: ' + str(row['DOI']))\n",
    "    else:\n",
    "        dois.append(row['DOI'])\n",
    "        extras.append(row['extra'])\n",
    "\n",
    "df['itemType'] = item_type\n",
    "df['DOI'] = dois\n",
    "df['extra'] = extras\n",
    "df['ShortNames'] = df['ShortNames'].apply(lambda x: [] if type(x) == float else ast.literal_eval(x))"
   ]
  },
  {
   "cell_type": "code",
   "execution_count": 94,
   "id": "adf2c60a",
   "metadata": {
    "scrolled": true
   },
   "outputs": [
    {
     "name": "stderr",
     "output_type": "stream",
     "text": [
      "/var/folders/pk/zld5ctsn7r9cvw4wpxfg6g8w0000gn/T/ipykernel_44891/2255984763.py:7: SettingWithCopyWarning: \n",
      "A value is trying to be set on a copy of a slice from a DataFrame.\n",
      "Try using .loc[row_indexer,col_indexer] = value instead\n",
      "\n",
      "See the caveats in the documentation: https://pandas.pydata.org/pandas-docs/stable/user_guide/indexing.html#returning-a-view-versus-a-copy\n",
      "  zdf['creators'] = zdf['creators'].apply(lambda x: [] if type(x) == float else ast.literal_eval(x))\n",
      "/var/folders/pk/zld5ctsn7r9cvw4wpxfg6g8w0000gn/T/ipykernel_44891/2255984763.py:8: SettingWithCopyWarning: \n",
      "A value is trying to be set on a copy of a slice from a DataFrame.\n",
      "Try using .loc[row_indexer,col_indexer] = value instead\n",
      "\n",
      "See the caveats in the documentation: https://pandas.pydata.org/pandas-docs/stable/user_guide/indexing.html#returning-a-view-versus-a-copy\n",
      "  zdf['tags'] = zdf['tags'].apply(lambda x: [] if type(x) == float else ast.literal_eval(x))\n"
     ]
    }
   ],
   "source": [
    "zdf = df[['key', 'version', 'itemType', 'title', 'creators', 'abstractNote', 'publicationTitle', 'volume', \n",
    "          'issue', 'pages', 'date', 'series', 'journalAbbreviation', 'language', 'DOI', 'ISSN', 'shortTitle', \n",
    "          'url', 'accessDate', 'archiveLocation', 'libraryCatalog', 'callNumber', 'rights', 'extra', 'tags']]\n",
    "        \n",
    "#zdf = df[['key', 'version', 'itemType', 'title', 'creators', 'abstractNote', 'publicationTitle']]\n",
    "        \n",
    "zdf['creators'] = zdf['creators'].apply(lambda x: [] if type(x) == float else ast.literal_eval(x))\n",
    "zdf['tags'] = zdf['tags'].apply(lambda x: [] if type(x) == float else ast.literal_eval(x))\n",
    "zdf = zdf.replace(np.nan, '', regex=True)\n",
    "#zdf['creators'] = zdf['creators'].apply(lambda x: ast.literal_eval(x) if type(x) != float else x)\n",
    "#zdf['tags'] = zdf['tags'].apply(lambda x: ast.literal_eval(x) if type(x) != float else x)"
   ]
  },
  {
   "cell_type": "code",
   "execution_count": 95,
   "id": "b2d23a9b",
   "metadata": {},
   "outputs": [],
   "source": [
    "for index, row in zdf.iterrows():\n",
    "    for tag in df['ShortNames'][index]:\n",
    "        zdf['tags'][index].append({'tag': tag, 'type': 2})"
   ]
  },
  {
   "cell_type": "code",
   "execution_count": 87,
   "id": "0ba58c34",
   "metadata": {
    "scrolled": false
   },
   "outputs": [
    {
     "name": "stdout",
     "output_type": "stream",
     "text": [
      "Index: 0\n"
     ]
    }
   ],
   "source": [
    "for index, row in zdf.iloc[0:3].iterrows():\n",
    "    if index % 100 == 0:\n",
    "        print(\"Index: \" + str(index))\n",
    "        \n",
    "    asd = zot.create_items([row.to_dict()])\n",
    "    \n",
    "    if asd['failed']:\n",
    "        print(index)"
   ]
  },
  {
   "cell_type": "code",
   "execution_count": 102,
   "id": "52ebea32",
   "metadata": {},
   "outputs": [
    {
     "name": "stdout",
     "output_type": "stream",
     "text": [
      "Index: 0\n",
      "Index: 100\n",
      "Index: 200\n",
      "Index: 300\n",
      "Index: 400\n",
      "Index: 500\n",
      "Index: 600\n",
      "Index: 700\n",
      "Index: 800\n",
      "Index: 900\n",
      "Index: 1000\n",
      "Index: 1100\n",
      "Index: 1200\n",
      "Index: 1300\n",
      "Index: 1400\n",
      "Index: 1500\n",
      "Index: 1600\n",
      "Index: 1700\n",
      "Index: 1800\n",
      "Index: 1900\n",
      "Index: 2000\n",
      "Index: 2100\n",
      "Index: 2200\n",
      "Index: 2300\n",
      "Index: 2400\n",
      "Index: 2500\n",
      "Index: 2600\n",
      "Index: 2700\n",
      "Index: 2800\n",
      "Index: 2900\n",
      "Index: 3000\n",
      "Index: 3100\n",
      "Index: 3200\n",
      "Index: 3300\n",
      "Index: 3400\n",
      "Index: 3500\n",
      "Index: 3600\n",
      "Index: 3700\n",
      "3763\n",
      "Index: 3800\n",
      "Index: 3900\n",
      "3933\n",
      "Index: 4000\n",
      "4085\n",
      "Index: 4100\n",
      "4102\n",
      "4140\n",
      "4171\n",
      "4183\n",
      "Index: 4200\n",
      "4229\n",
      "4252\n",
      "4268\n",
      "4270\n",
      "4282\n"
     ]
    }
   ],
   "source": [
    "start = -1\n",
    "\n",
    "if start == -1:\n",
    "    start = 0\n",
    "    endzone = len(zdf)\n",
    "else:\n",
    "    endzone = start + 1\n",
    "    \n",
    "for index, row in zdf.iloc[start:endzone].iterrows():\n",
    "    if index % 100 == 0:\n",
    "        print(\"Index: \" + str(index))\n",
    "    asd = zot.create_items([row.to_dict()])\n",
    "    if asd['failed']:\n",
    "        print(index)"
   ]
  },
  {
   "cell_type": "code",
   "execution_count": 103,
   "id": "a12fd9c7",
   "metadata": {},
   "outputs": [
    {
     "data": {
      "text/plain": [
       "{'successful': {'0': {'key': 'NJHTQBAQ',\n",
       "   'version': 4286,\n",
       "   'library': {'type': 'group',\n",
       "    'id': 4736929,\n",
       "    'name': 'tagged_zot',\n",
       "    'links': {'alternate': {'href': 'https://www.zotero.org/groups/4736929',\n",
       "      'type': 'text/html'}}},\n",
       "   'links': {'self': {'href': 'https://api.zotero.org/groups/4736929/items/NJHTQBAQ',\n",
       "     'type': 'application/json'},\n",
       "    'alternate': {'href': 'https://www.zotero.org/groups/4736929/items/NJHTQBAQ',\n",
       "     'type': 'text/html'}},\n",
       "   'meta': {'createdByUser': {'id': 9632937,\n",
       "     'username': 'kevingao26',\n",
       "     'name': '',\n",
       "     'links': {'alternate': {'href': 'https://www.zotero.org/kevingao26',\n",
       "       'type': 'text/html'}}},\n",
       "    'creatorSummary': 'Li',\n",
       "    'parsedDate': '2022-01-01',\n",
       "    'numChildren': 0},\n",
       "   'data': {'key': 'NJHTQBAQ',\n",
       "    'version': 4286,\n",
       "    'itemType': 'journalArticle',\n",
       "    'title': 'Long-term Variation of Absorption and Total Aerosol Optical Properties over Typical Provinces of China from Satellite Observations',\n",
       "    'creators': [{'creatorType': 'author',\n",
       "      'firstName': 'Heng',\n",
       "      'lastName': 'Li'}],\n",
       "    'abstractNote': 'Abstract \\n Increase of atmospheric aerosols has a profound impact on the Earth’s climate. It’s also one of the crucial factors that cuasesd more fequent air pollution events in China. Monthly average Aerosol Optical Depth (AOD) from MODIS and UltraViolet Absorbing aerosol Index (UVAI) from OMI during 2011 to 2019 are used to analyse the trend of absorption and total aerosol optical properties over three typical provinces of China, namely Shandong, Gansu and Guangdong provinces. The results show the average annual AOD of the three provinces are all decreasing while UVAI rises during this period. In addition, the monthly variation of AOD and UVAI are also obviously different over these provinces. In particular, the peak value of AOD appeared in July and the trough appeared in December over Shandong Province. And the peak appeared in April over Gansu Province, but AOD decrease slower then over Shandong Province. And there were two peaks in April and August over Guangdong Province. For UVAI, the peaks over Shandong and Gansu provinces both occur in January, while that over Guangdong Province appears in March. Above mentioned differences in the long-term trend and monthly variation of AOD and UVAI might be closely related to the meteorological conditions and aerosol emission of these three provinces.',\n",
       "    'publicationTitle': 'Journal of Physics: Conference Series',\n",
       "    'volume': '2152.0',\n",
       "    'issue': '1',\n",
       "    'pages': '12001',\n",
       "    'date': '2022-01-01 00:00:00',\n",
       "    'series': '',\n",
       "    'seriesTitle': '',\n",
       "    'seriesText': '',\n",
       "    'journalAbbreviation': 'J. Phys.: Conf. Ser.',\n",
       "    'language': '',\n",
       "    'DOI': '',\n",
       "    'ISSN': '1742-6588, 1742-6596',\n",
       "    'shortTitle': '',\n",
       "    'url': 'https://iopscience.iop.org/article/10.1088/1742-6596/2152/1/012001',\n",
       "    'accessDate': '2022-07-01T23:05:23Z',\n",
       "    'archive': '',\n",
       "    'archiveLocation': '',\n",
       "    'libraryCatalog': 'DOI.org (Crossref)',\n",
       "    'callNumber': '',\n",
       "    'rights': '',\n",
       "    'extra': 'DOI: 10.1088/1742-6596/2152/1/012001',\n",
       "    'tags': [{'tag': 'OMAERUVd', 'type': 2}],\n",
       "    'collections': [],\n",
       "    'relations': {},\n",
       "    'dateAdded': '2022-07-18T04:36:19Z',\n",
       "    'dateModified': '2022-07-18T04:36:19Z'}}},\n",
       " 'success': {'0': 'NJHTQBAQ'},\n",
       " 'unchanged': {},\n",
       " 'failed': {}}"
      ]
     },
     "execution_count": 103,
     "metadata": {},
     "output_type": "execute_result"
    }
   ],
   "source": [
    "asd"
   ]
  },
  {
   "cell_type": "code",
   "execution_count": 10,
   "id": "dce98c14",
   "metadata": {},
   "outputs": [],
   "source": [
    "template = zot.item_template('book')\n",
    "template['creators'][0]['firstName'] = 'Monty'\n",
    "template['creators'][0]['lastName'] = 'Cantsin'\n",
    "template['title'] = 'Maris Kundzins: A Life'\n",
    "resp = zot.create_items([template])"
   ]
  },
  {
   "cell_type": "code",
   "execution_count": null,
   "id": "ad539d63",
   "metadata": {},
   "outputs": [],
   "source": []
  }
 ],
 "metadata": {
  "kernelspec": {
   "display_name": "Python 3 (ipykernel)",
   "language": "python",
   "name": "python3"
  },
  "language_info": {
   "codemirror_mode": {
    "name": "ipython",
    "version": 3
   },
   "file_extension": ".py",
   "mimetype": "text/x-python",
   "name": "python",
   "nbconvert_exporter": "python",
   "pygments_lexer": "ipython3",
   "version": "3.10.2"
  }
 },
 "nbformat": 4,
 "nbformat_minor": 5
}
